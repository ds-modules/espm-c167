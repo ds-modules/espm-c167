{
 "cells": [
  {
   "cell_type": "markdown",
   "metadata": {},
   "source": [
    "# [ESPM-C167/PH160] Income and Health Indicators \n",
    "\n",
    "### Professor Rachel Morello-Frosch\n",
    "\n",
    "_Estimated Time: XX minutes_\n",
    "\n",
    "---"
   ]
  },
  {
   "cell_type": "markdown",
   "metadata": {},
   "source": [
    "## Table of Contents\n",
    "\n",
    "\n",
    "*Click the links below to navigate to a specific section of the notebook*\n",
    "1. <a href='#section 0'>Welcome to Jupyter Notebooks!</a>\n",
    "\n",
    "    a. <a href=\"#subsection 0a\">Saving and Loading</a>\n",
    "    \n",
    "    b. <a href=\"#subsection 0b\">Additional Help/Resources</a>\n",
    "<br>\n",
    "\n",
    "2.  <a href='#section 1'>The Python Programming Language</a>\n",
    "\n",
    "    a. <a href='#subsection 1a'>Data</a> and <a href='#subsection error'>Errors</a>\n",
    "    \n",
    "    b. <a href='#subsection 1b'>Expressions</a>\n",
    "    \n",
    "    c. <a href='#subsection 1c'>Names</a>\n",
    "    \n",
    "    d. <a href='#subsection 1d'>Functions</a>\n",
    "<br>\n",
    "\n",
    "3. <a href='#section 2'>Introduction to Tables</a>\n",
    "<br>\n",
    "\n",
    "4.  <a href='#section 3'>Correlation and Causation</a>\n",
    "<br>\n",
    "\n",
    "5.  <a href='#section 4'>Real World Analysis</a>\n",
    "    \n",
    "    a. <a href='#section 4a'>Measures of Income</a>\n",
    "    \n",
    "    b. <a href='#section 4b'>GDP per capita vs. Health Outcomes</a>\n",
    "        \n",
    "    c. <a href='#section 4c'>Exercise 1</a>\n",
    "    \n",
    "    d. <a href='#section 4d'>Exercise 2</a>\n",
    "    \n",
    "    e. <a href='#section 4e'>Exercise 3</a>\n",
    "    \n",
    "    f. <a href='#section 4f'>Exercise 4</a>\n",
    "    \n",
    "    g. <a href='#section 4g'>Exercise 5</a>"
   ]
  },
  {
   "cell_type": "markdown",
   "metadata": {},
   "source": [
    "## I. The Jupyter  Notebook <a id='section 0'></a>\n",
    "\n",
    "Welcome to the Jupyter Notebook! **Notebooks** are documents that can contain text, code, visualizations, and more. \n",
    "\n",
    "A notebook is composed of rectangular sections called **cells**. There are 2 kinds of cells: markdown and code. A **markdown cell**, such as this one, contains text. A **code cell** contains code in Python, a programming language that we will be using for the remainder of this module. You can select any cell by clicking it once. After a cell is selected, you can navigate the notebook using the up and down arrow keys.\n",
    "\n",
    "To run a code cell once it's been selected, \n",
    "1. press *Shift+Enter*, **or**\n",
    "2. click the Run button in the toolbar at the top of the screen. \n",
    "\n",
    "If a code cell is running, you will see an asterisk (\\*) appear in the square brackets to the left of the cell. Once the cell has finished running, a number will replace the asterisk and any output from the code will appear under the cell."
   ]
  },
  {
   "cell_type": "code",
   "execution_count": null,
   "metadata": {},
   "outputs": [],
   "source": [
    "# run this cell\n",
    "print(\"Hello World!\")"
   ]
  },
  {
   "cell_type": "markdown",
   "metadata": {},
   "source": [
    "You'll notice that many code cells contain lines of blue text that start with a `#`. These are *comments*. Comments often contain helpful information about what the code does or what you are supposed to do in the cell. The leading `#` tells the computer to ignore them."
   ]
  },
  {
   "cell_type": "markdown",
   "metadata": {},
   "source": [
    "#### Editing\n",
    "\n",
    "You can edit a Markdown cell by clicking it twice. Text in Markdown cells is written in [**Markdown**](https://daringfireball.net/projects/markdown/), a formatting syntax for plain text, so you may see some funky symbols when you edit a text cell. \n",
    "\n",
    "Once you've made your changes, you can exit text editing mode by running the cell. To test this, edit the next cell to fix the misspelling."
   ]
  },
  {
   "cell_type": "markdown",
   "metadata": {},
   "source": [
    "Go bers!"
   ]
  },
  {
   "cell_type": "markdown",
   "metadata": {},
   "source": [
    "Code cells can be edited any time after they are highlighted. Try editing the next code cell to print your name."
   ]
  },
  {
   "cell_type": "code",
   "execution_count": null,
   "metadata": {},
   "outputs": [],
   "source": [
    "# edit the code to print your name\n",
    "print(\"Hello: my name is [NAME]\")"
   ]
  },
  {
   "cell_type": "markdown",
   "metadata": {},
   "source": [
    "#### Saving and Loading <a id='subsection 0a'></a>\n",
    "\n",
    "Your notebook can record all of your text and code edits, as well as any graphs you generate or calculations you make. You can save the notebook in its current state by...\n",
    "\n",
    "1. Clicking Control-S\n",
    "2. Clicking the floppy disc icon in the toolbar at the top of the page, **or** \n",
    "3. By going to the File menu and selecting \"Save and Checkpoint\".\n",
    "\n",
    "Once saved, the notebook will look the same as when you last saved it the next time you open it.\n",
    "\n",
    "**Note:** *After loading a notebook you will see all the outputs (graphs, computations, etc) from your last session, but you won't be able to use any variables you assigned or functions you defined. You can get the functions and variables back by re-running the cells where they were defined- the easiest way is to highlight the cell where you left off work, then go to the Cell menu at the top of the screen and click \"Run all above\". You can also use this menu to run all cells in the notebook by clicking \"Run all\".*"
   ]
  },
  {
   "cell_type": "markdown",
   "metadata": {},
   "source": [
    "#### Completing the Notebooks\n",
    "\n",
    "As you navigate the notebooks, you'll see cells with bold, all-capitalized headings that need to be filled in to complete the notebook. There are two types:\n",
    "<div class=\"alert alert-warning\">\n",
    "<b>EXERCISE</b> cells require you to write code to solve a problem, or write short responses related to analyzing a graph or the result of a computation\n",
    "</div>\n",
    "\n",
    "<div class=\"alert alert-info\">\n",
    "<b>PRACTICE</b> cells provide spaces to try out new coding skills at your own pace, unrelated to the case study. Since each coding skill taught in these notebooks is necessary for analyzing the cases, practice cells are a good way to get comfortable before applying those skills to real data.\n",
    "</div>"
   ]
  },
  {
   "cell_type": "markdown",
   "metadata": {},
   "source": [
    "#### Common Errors \n",
    "\n",
    "1. Sometimes, errors may arise if we try to reference something that hasn't yet been created. For example, we cannot add two variables `x + y` until there has been code earlier that declares x = 2 and y = 3 (though both can take on any values). This error will return a `name 'x' is not defined` error. To fix this, make sure x (or the appropriate variable) is declared. \n",
    "\n",
    "\n",
    "2. If a cell seems to be running forever or a code cell continues to run without giving an output, you can go to the kernel tab above and press the interrupt button. This is will kill any processes running on the notebook. \n",
    "\n",
    "\n",
    "3. For any reason, to restart the kernel and run all cells in order click `Restart + Run All` under the *Kernel* tab above.\n",
    "\n",
    "*One final tip: you should run all the cells in order! You might get some nasty looking errors when you run some cells if you don't run them in order*"
   ]
  },
  {
   "cell_type": "markdown",
   "metadata": {},
   "source": [
    "#### Additional Help <a id='subsection 0b'></a>\n",
    "Go to the peer consultants with any and all data science related questions. An updated calendar for drop-in office hours, which run online Mon-Fri 11AM - 4PM, can be found [here](https://data.berkeley.edu/ds-peer-consulting). Note that appointments can also be made at the same website."
   ]
  },
  {
   "cell_type": "markdown",
   "metadata": {},
   "source": [
    "Before we begin, we'll need a few extra tools to conduct our analysis. Run the next cell to load some code packages that we'll use later. \n",
    "\n",
    "***Note: this cell MUST be run in order for most of the rest of the notebook to work.***"
   ]
  },
  {
   "cell_type": "code",
   "execution_count": null,
   "metadata": {},
   "outputs": [],
   "source": [
    "# THIS CELL MUST BE RUN\n",
    "from datascience import *\n",
    "import numpy as np\n",
    "import math\n",
    "import pandas as pd\n",
    "import matplotlib.pyplot as plt\n",
    "plt.style.use('fivethirtyeight')\n",
    "\n",
    "import seaborn as sns\n",
    "from IPython.display import Image\n",
    "import ipywidgets as widgets\n",
    "\n",
    "%matplotlib inline\n",
    "\n",
    "#how to fill NA with average, can delete\n",
    "\n",
    "#dataframe = pd.read_csv(\"data/life_expectancy_years.csv\")\n",
    "#indicies_with_null = dataframe[[len(dataframe.iloc[i].isnull().unique()) > 1 for i in np.arange(0, len(dataframe))]].index\n",
    "#for i in indicies_with_null:\n",
    "#    avg = dataframe.iloc[i].drop(labels=\"country\").mean()\n",
    "#    dataframe.iloc[i] = dataframe.iloc[i].fillna(avg)\n",
    "#dataframe\n",
    "\n",
    "#should I clean data permanently? the numbers with otld values are extremely off\n",
    "life_exp = pd.read_csv(\"data/life_expectancy_years.csv\").fillna(0)\n",
    "boolean_null_rows = [0 in np.array(life_exp.iloc[i].drop(labels=\"country\")) for i in np.arange(0, len(life_exp))]\n",
    "null_row_indicies = life_exp[boolean_null_rows].index\n",
    "life_exp = life_exp.drop(null_row_indicies).reset_index(drop=True)\n",
    "\n",
    "gini = pd.read_csv(\"data/gini.csv\")\n",
    "gini = gini.drop(null_row_indicies).reset_index(drop=True)\n",
    "cmortality = pd.read_csv(\"data/child_mortality_0_5_year_olds_dying_per_1000_born.csv\")\n",
    "gdppc = pd.read_csv(\"data/income_per_person_gdppercapita_ppp_inflation_adjusted.csv\")"
   ]
  },
  {
   "cell_type": "code",
   "execution_count": null,
   "metadata": {},
   "outputs": [],
   "source": [
    "pd.read_csv(\"data/life_expectancy_years.csv\") #keep values"
   ]
  },
  {
   "cell_type": "markdown",
   "metadata": {},
   "source": [
    "# II. Introduction to Python <a id='section 1'></a>\n",
    "\n",
    "**Python** is  programming language- a way for us to communicate with the computer and give it instructions. \n",
    "\n",
    "Just like any language, Python has a *vocabulary* made up of words it can understand, and a *syntax* giving the rules for how to structure communication."
   ]
  },
  {
   "cell_type": "markdown",
   "metadata": {},
   "source": [
    "#### Clarifying Expectations <a id=\"subsection error\"></a>\n",
    "\n",
    "This is not a coding class - nearly all the code has been written out for you. However, knowing the basics of Python is useful to help you understand what's going on in future notebooks. "
   ]
  },
  {
   "cell_type": "markdown",
   "metadata": {},
   "source": [
    "#### Errors <a id=\"subsection error\"></a>\n",
    "\n",
    "Python is a language, and like natural human languages, it has rules.  It differs from natural language in two important ways:\n",
    "1. The rules are *simple*.  You can learn most of them in a few weeks and gain reasonable proficiency with the language in a semester.\n",
    "2. The rules are *rigid*.  If you're proficient in a natural language, you can understand a non-proficient speaker, glossing over small mistakes.  A computer running Python code is not smart enough to do that.\n",
    "\n",
    "Whenever you write code, you will often accientally break some of these rules. When you run a code cell that doesn't follow every rule exactly, Python will produce an **error message**.\n",
    "\n",
    "Errors are *normal*; experienced programmers make many errors every day. Errors are also *not dangerous*; you will not break your computer by making an error (in fact, errors are a big part of how you learn a coding language). An error is nothing more than a message from the computer saying it doesn't understand you and asking you to rewrite your command.\n",
    "\n",
    "We have made an error in the next cell.  Run it and see what happens."
   ]
  },
  {
   "cell_type": "code",
   "execution_count": null,
   "metadata": {},
   "outputs": [],
   "source": [
    "print(\"This line is missing something.\""
   ]
  },
  {
   "cell_type": "markdown",
   "metadata": {},
   "source": [
    "You should see an error similar to: `SyntaxError: unexpected EOF while parsing`\n",
    "\n",
    "Overall, the last line of an error output attempts to tell you what went wrong.  The *syntax* of a language is its structure, and this `SyntaxError` tells you that you have created an illegal structure.  \"`EOF`\" means \"end of file,\" so the message is saying Python expected you to write something more (in this case, a right parenthesis) before finishing the cell.\n",
    "\n",
    "There's a lot of terminology in programming languages, but you don't need to know it all in order to program effectively. If you see a cryptic message like this, you can often get by without deciphering it.  (Of course, if you're frustrated, you can usually find out by searching for the error message online or posting on the Piazza.)\n"
   ]
  },
  {
   "cell_type": "markdown",
   "metadata": {},
   "source": [
    "\n",
    "### A. Data <a id='subsection 1a'></a>\n",
    "**Data** is information- the \"stuff\" we manipulate to make and test hypotheses. \n",
    "\n",
    "Almost all data you will work with broadly falls into two types: numbers and text. \n",
    "\n",
    "*Numerical data* shows up green in code cells and can be positive, negative, or include a decimal."
   ]
  },
  {
   "cell_type": "code",
   "execution_count": null,
   "metadata": {},
   "outputs": [],
   "source": [
    "# Numerical data\n",
    "\n",
    "4\n",
    "\n",
    "87623000983\n",
    "\n",
    "-667\n",
    "\n",
    "3.14159"
   ]
  },
  {
   "cell_type": "markdown",
   "metadata": {},
   "source": [
    "Text data (also called *strings*) shows up red in code cells. Strings are anything enclosed in double or single quotes. Note that numbers can appear in strings."
   ]
  },
  {
   "cell_type": "code",
   "execution_count": null,
   "metadata": {},
   "outputs": [],
   "source": [
    "# Strings\n",
    "\"a\"\n",
    "\n",
    "\"Hi there!\"\n",
    "\n",
    "\"We hold these truths to be self-evident that all men are created equal.\"\n",
    "\n",
    "# this is a string, NOT numerical data\n",
    "\"3.14159\""
   ]
  },
  {
   "cell_type": "markdown",
   "metadata": {},
   "source": [
    "### B.  Expressions <a id='subsection 1b'></a>\n",
    "\n",
    "A bit of communication in Python is called an **expression**. It tells the computer what to do with the data we give it.\n",
    "\n",
    "Here's an example of an expression."
   ]
  },
  {
   "cell_type": "code",
   "execution_count": null,
   "metadata": {},
   "outputs": [],
   "source": [
    "# an expression\n",
    "14 + 20"
   ]
  },
  {
   "cell_type": "markdown",
   "metadata": {},
   "source": [
    "\n",
    "When you run the cell, the computer **evaluates** the expression and prints the result. Note that only the last line in a code cell will be printed, unless you explicitly tell the computer you want to print the result."
   ]
  },
  {
   "cell_type": "code",
   "execution_count": null,
   "metadata": {},
   "outputs": [],
   "source": [
    "# more expressions. What gets printed and what doesn't?\n",
    "100 / 10\n",
    "\n",
    "print(4.3 + 10.98)\n",
    "\n",
    "33 - 9 * (40000 + 1)\n",
    "\n",
    "884"
   ]
  },
  {
   "cell_type": "markdown",
   "metadata": {},
   "source": [
    "Many basic arithmetic operations are built in to Python, like `*` (multiplication), `+` (addition), `-` (subtraction), and `/` (division). There are many others, which you can find information about [here](http://www.inferentialthinking.com/chapters/03/1/expressions.html). \n",
    "\n",
    "The computer evaluates arithmetic according to the PEMDAS order of operations (just like you probably learned in middle school): anything in parentheses is done first, followed by exponents, then multiplication and division, and finally addition and subtraction."
   ]
  },
  {
   "cell_type": "code",
   "execution_count": null,
   "metadata": {},
   "outputs": [],
   "source": [
    "# before you run this cell, can you say what it should print?\n",
    "4 - 2 * (1 + 6 / 3)"
   ]
  },
  {
   "cell_type": "markdown",
   "metadata": {},
   "source": [
    "### C. Names <a id='subsection 1c'></a>\n",
    "Sometimes, the values you work with can get cumbersome- maybe the expression that gives the value is very complicated, or maybe the value itself is long. In these cases it's useful to give the value a **name**.\n",
    "\n",
    "We can name values using what's called an *assignment* statement."
   ]
  },
  {
   "cell_type": "code",
   "execution_count": null,
   "metadata": {},
   "outputs": [],
   "source": [
    "# assigns 442 to x\n",
    "x = 442"
   ]
  },
  {
   "cell_type": "markdown",
   "metadata": {},
   "source": [
    "The assignment statement has three parts. On the left is the *name* (`x`). On the right is the *value* (442). The *equals sign* in the middle tells the computer to assign the value to the name.\n",
    "\n",
    "You'll notice that when you run the cell with the assignment, it doesn't print anything. But, if we try to access `x` again in the future, it will have the value we assigned it."
   ]
  },
  {
   "cell_type": "code",
   "execution_count": null,
   "metadata": {},
   "outputs": [],
   "source": [
    "# print the value of x\n",
    "x"
   ]
  },
  {
   "cell_type": "markdown",
   "metadata": {},
   "source": [
    "You can also assign names to expressions. The computer will compute the expression and assign the name to the result of the computation."
   ]
  },
  {
   "cell_type": "code",
   "execution_count": null,
   "metadata": {},
   "outputs": [],
   "source": [
    "y = 50 * 2 + 1\n",
    "y"
   ]
  },
  {
   "cell_type": "markdown",
   "metadata": {},
   "source": [
    "We can then use these name as if they were numbers."
   ]
  },
  {
   "cell_type": "code",
   "execution_count": null,
   "metadata": {},
   "outputs": [],
   "source": [
    "x - 42"
   ]
  },
  {
   "cell_type": "code",
   "execution_count": null,
   "metadata": {},
   "outputs": [],
   "source": [
    "x + y"
   ]
  },
  {
   "cell_type": "markdown",
   "metadata": {},
   "source": [
    "### D. Functions <a id='subsection 1d'></a>\n",
    "We've seen that values can have names (often called **variables**), but operations may also have names. A named operation is called a **function**. Python has some functions built into it."
   ]
  },
  {
   "cell_type": "code",
   "execution_count": null,
   "metadata": {},
   "outputs": [],
   "source": [
    "# a built-in function \n",
    "round"
   ]
  },
  {
   "cell_type": "markdown",
   "metadata": {},
   "source": [
    "Functions get used in *call expressions*, where a function is named and given values to operate on inside a set of parentheses. The `round` function returns the number it was given, rounded to the nearest whole number."
   ]
  },
  {
   "cell_type": "code",
   "execution_count": null,
   "metadata": {},
   "outputs": [],
   "source": [
    "# a call expression using round\n",
    "round(1988.74699)"
   ]
  },
  {
   "cell_type": "markdown",
   "metadata": {},
   "source": [
    "A function may also be called on more than one value (called *arguments*). For instance, the `min` function takes however many arguments you'd like and returns the smallest. Multiple arguments are separated by commas."
   ]
  },
  {
   "cell_type": "code",
   "execution_count": null,
   "metadata": {},
   "outputs": [],
   "source": [
    "min(9, -34, 0, 99)"
   ]
  },
  {
   "cell_type": "markdown",
   "metadata": {},
   "source": [
    "#### Dot Notation\n",
    "Python has a lot of [built-in functions](https://docs.python.org/3/library/functions.html) (that is, functions that are already named and defined in Python), but even more functions are stored in collections called *modules*. Earlier, we imported the `math` module so we could use it later. Once a module is imported, you can use its functions by typing the name of the module, then the name of the function you want from it, separated with a `.`."
   ]
  },
  {
   "cell_type": "code",
   "execution_count": null,
   "metadata": {},
   "outputs": [],
   "source": [
    "# a call expression with the factorial function from the math module\n",
    "math.factorial(5)"
   ]
  },
  {
   "cell_type": "markdown",
   "metadata": {},
   "source": [
    "## III. Introduction to Tables <a id=\"section 2\"></a>\n",
    "\n",
    "If we have datasets there are multiple ways to represent it in the computer, notably the method we will be using is tables. A table in python works a lot like how a table would work in another program such as excel. In particular, you can think about a table in two ways: \n",
    "- a sequence of named columns that each describe a single attribute of all entries in a data set\n",
    "- a sequence of rows that each contain all information about a single individual in a data set\n",
    "\n",
    "Let's look at an example!"
   ]
  },
  {
   "cell_type": "code",
   "execution_count": null,
   "metadata": {},
   "outputs": [],
   "source": [
    "life_expectancy = Table.from_df(life_exp)\n",
    "life_expectancy"
   ]
  },
  {
   "cell_type": "markdown",
   "metadata": {},
   "source": [
    "This table has a lot of rows (187!), and each row represents a country. This can be identifiable in the column titled country. Sometimes tables will have this information in the ***index*** of the table, which in this case is the numbering for each country (Afghanistan as 0 onwards). We can see in this case that this table in particular will probably match our second interpretation, so each row has all the information for that specific country. \n",
    "\n",
    "In essence, [todo: look up the actual meaning of this table lmao]\n",
    "\n",
    "*But what can we do with tables?* \n",
    "\n",
    "There are some functions we might find helpful in looking through some data. (You can find some more at  http://data8.org/datascience/tables.html#tables-overview)"
   ]
  },
  {
   "cell_type": "markdown",
   "metadata": {},
   "source": [
    "First is the \"where\" table function, which allows us to select certain rows to look at. It works a little like this!"
   ]
  },
  {
   "cell_type": "code",
   "execution_count": null,
   "metadata": {},
   "outputs": [],
   "source": [
    "life_expectancy.where(\"country\", \"Algeria\")"
   ]
  },
  {
   "cell_type": "markdown",
   "metadata": {},
   "source": [
    "There are other things we can do with our data, so let's take a look at some other tables we will be looking at in this notebook. The following is a couple rows of the gini coefficients for several countries through the years. "
   ]
  },
  {
   "cell_type": "code",
   "execution_count": null,
   "metadata": {},
   "outputs": [],
   "source": [
    "gini = Table.from_df(gini)\n",
    "gini"
   ]
  },
  {
   "cell_type": "markdown",
   "metadata": {},
   "source": [
    "If you're confused about what this table means or what the Gini coefficient is, then don't worry we'll be going over a little more in depth later on. However, broadly this table has each column as a year (which might be very similar to the life expectancy we just saw), and a value for each year. If we look at the data at hand, we might be able to see some trends if we look year to year. There are more useful methods of looking at this data though, through things like graphs and other visualizations. "
   ]
  },
  {
   "cell_type": "markdown",
   "metadata": {},
   "source": [
    "## IV. A (Brief) Overview: Correlation <a id=\"section 3\"></a>\n",
    "\n",
    "A correlation is a way to see how \"related\" two variables might be. We can test the relationships of both categorical and quantitative data, to see if they have an association. \n",
    "\n",
    "Some examples of things that might have a high correlation: \n",
    "\n",
    "    1. Number of toilet paper rolls used vs. amount of people living in an apartment\n",
    "    2. Number of eye bags vs. number of hours of sleep received\n",
    "    \n",
    "    \n",
    "Some examples of things that might have a lower correlation:\n",
    "\n",
    "    Eye color vs sexuality\n",
    "\n",
    "\n",
    "The **correlation coefficient (r)** measures the strength of the relationship between two variables. Graphically, it measures how clustered the scatter diagram is around a straight line. \n",
    "\n",
    "When  $𝑟=1$  the scatter plot is perfectly linear and slopes upward. When  $𝑟=−1$, the scatter plot is perfectly linear and slopes downward. When  $𝑟=0$, the scatter plot is a formless cloud around the horizontal axis, and the variables are said to be uncorrelated.\n",
    "\n",
    "The following graphic demonstrates different $r$ values.\n",
    "\n",
    "<img src=\"./images/correlation.png\" width=\"600px\" height=\"500px\"/> *Credit: Statistics Guru Online*"
   ]
  },
  {
   "cell_type": "markdown",
   "metadata": {},
   "source": [
    "### An Even Brief(er) Note: Correlation does not equal causation! \n",
    "We can have a positive association, but do not be fooled by nice looking $r$ values. For example, the number of firefighters on sight at a fire is correlated with the size of the fire however the firefighters themselves do not cause the fire itself. \n",
    "\n",
    "*Did you catch that?* Often, even though two variables may be correlated to each other, this correlation is not enough to conclude that one variable causes the other to occur."
   ]
  },
  {
   "cell_type": "markdown",
   "metadata": {},
   "source": [
    "## V. The Problem <a id='section 4'></a>\n",
    "\n",
    "As income and health outcomes differ around the world, we will be exploring the relationship between the two - comparing measures of income against measures of health. \n"
   ]
  },
  {
   "cell_type": "markdown",
   "metadata": {},
   "source": [
    "### A. Measures of Income <a id='section 4a'></a>\n",
    "\n",
    "The following are widely used measures of income for review: \n"
   ]
  },
  {
   "cell_type": "markdown",
   "metadata": {},
   "source": [
    "<img src=\"./images/gini.png\" width=\"850px\" height=\"835px\"/> *Credit: 2017 Gini Coefficient via Wikipedia*"
   ]
  },
  {
   "cell_type": "markdown",
   "metadata": {},
   "source": [
    "### Terminology"
   ]
  },
  {
   "cell_type": "markdown",
   "metadata": {},
   "source": [
    "**GDP per capita** is a measure of a country's economic output **(total income)** that accounts for its number of people. It divides the country's gross domestic product by its total population, making it a good measurement of a country's standard of living. \n"
   ]
  },
  {
   "cell_type": "markdown",
   "metadata": {},
   "source": [
    "**Gini Coefficient** is the most commonly used measure of a country's **income inequality**, intended to represent the income or wealth distribution of a nation's residents.\n",
    "For more information: https://en.wikipedia.org/wiki/Gini_coefficient "
   ]
  },
  {
   "cell_type": "markdown",
   "metadata": {},
   "source": [
    "## Exercise 1 <a id=\"section 4c\"></a>\n",
    "\n",
    "What prior expectations do you have for how income might correlate with different health outcomes over time, or how the correlations may or may not differ for different countries? What are these expectations based on?\n"
   ]
  },
  {
   "cell_type": "markdown",
   "metadata": {},
   "source": [
    "*** Write your answer here, replacing this text ***"
   ]
  },
  {
   "cell_type": "markdown",
   "metadata": {},
   "source": [
    "### B. Relationship between GDP per capita and Health Outcomes\n",
    " <a id='section 4b'></a>\n",
    "\n",
    "In the following exercise, we will explore if and how GDP per capita correlates with health outcomes, such as child mortality or life expectancy."
   ]
  },
  {
   "cell_type": "markdown",
   "metadata": {},
   "source": [
    "##### GDP per capita vs Child Mortality\n",
    " <a id='section 1'></a>\n",
    "\n",
    "To start, we will explore the relationship between GDP per capita and child mortality rates in a single year by generating a **scatter plot**. For example, we will focus on comparing the two measures in the year 2000. "
   ]
  },
  {
   "cell_type": "code",
   "execution_count": null,
   "metadata": {},
   "outputs": [],
   "source": [
    "#Recall our GDP per capita table\n",
    "gdppc = Table.from_df(gdppc)\n",
    "gdppc"
   ]
  },
  {
   "cell_type": "code",
   "execution_count": null,
   "metadata": {},
   "outputs": [],
   "source": [
    "#GDP per capita in the year 2000\n",
    "gdppc.select([\"country\", \"2000\"])"
   ]
  },
  {
   "cell_type": "code",
   "execution_count": null,
   "metadata": {
    "scrolled": true
   },
   "outputs": [],
   "source": [
    "#Child mortality rate in the year 2000\n",
    "cmortality = Table.from_df(cmortality)\n",
    "cmortality.select([\"country\", \"2000\"])"
   ]
  },
  {
   "cell_type": "code",
   "execution_count": null,
   "metadata": {},
   "outputs": [],
   "source": [
    "def scatter_plot(x_data, y_data, year, x_label, y_label):\n",
    "    x = x_data.column(year)\n",
    "    y = y_data.column(year)\n",
    "    plt.scatter(x, y)\n",
    "    plt.xlabel(x_label)\n",
    "    plt.ylabel(y_label)"
   ]
  },
  {
   "cell_type": "code",
   "execution_count": null,
   "metadata": {},
   "outputs": [],
   "source": [
    "#Generating a scatter plot, comparing GDP per capita in the x-axis and child mortality in the y-axis for the year 2000\n",
    "\n",
    "scatter_plot(gdppc, cmortality, \"2000\", 'GDP per capita - 2000', 'Child Mortality - 2000')"
   ]
  },
  {
   "cell_type": "markdown",
   "metadata": {},
   "source": [
    "## Exercise 2 <a id='section 4d'></a>\n",
    "\n",
    "What kind of correlation do you see in the plot? Is it linear/non-linear? Positive/negative? What can or can’t you say about the relationship between per capita GDP and life expectancy?"
   ]
  },
  {
   "cell_type": "markdown",
   "metadata": {},
   "source": [
    "*** Write your answer here, replacing this text ***"
   ]
  },
  {
   "cell_type": "markdown",
   "metadata": {},
   "source": [
    "## Exercise 3 <a id='section 4e'></a>\n",
    "\n",
    "Recreate the scatter plot above, this time plotting **life expectancy** against GDP per capita.\n"
   ]
  },
  {
   "cell_type": "markdown",
   "metadata": {},
   "source": [
    "*** Write your answer here, replacing this text ***"
   ]
  },
  {
   "cell_type": "code",
   "execution_count": null,
   "metadata": {},
   "outputs": [],
   "source": [
    "#Fill in the blanks to create a scatter plot comparing GDP per capita in the x-axis \n",
    "#and life expectancy in the y-axis for the year 2000 \n",
    "\n",
    "scatter_plot(gdppc, ..., ..., ..., ...)"
   ]
  },
  {
   "cell_type": "markdown",
   "metadata": {},
   "source": [
    "## Exercise 4 <a id=\"section 4f\"></a>\n",
    "\n",
    "What kind of correlation do you see in the plot? What can or can’t you say about the relationship between the two variables? Compare it to what you saw for the earlier plot using life expectancy.\n"
   ]
  },
  {
   "cell_type": "markdown",
   "metadata": {},
   "source": [
    "*** Write your answer here, replacing this text ***"
   ]
  },
  {
   "cell_type": "markdown",
   "metadata": {},
   "source": [
    "## Exercise 5 <a id=\"section 4g\"></a>"
   ]
  },
  {
   "cell_type": "markdown",
   "metadata": {},
   "source": [
    "Similar to the last section, let's look instead at some associations between the gini coefficient and the life expectancy for a specific country during the past decade \n",
    "\n",
    "**Note**: The years 2008-2018 are used due to data availability constraints on the most recent years."
   ]
  },
  {
   "cell_type": "code",
   "execution_count": null,
   "metadata": {},
   "outputs": [],
   "source": [
    "def gini_expectancy_scatter(country):\n",
    "    gini_df = gini.to_df()\n",
    "    life_expectancy_df = life_expectancy.to_df()\n",
    "    years = [\"2008\", \"2009\", \"2010\", \"2011\", \"2012\", \"2013\", \"2014\", \"2015\", \"2016\", \"2017\", \"2018\"]\n",
    "    cols = [\"country\", \"2008\", \"2009\", \"2010\", \"2011\", \"2012\", \"2013\", \"2014\", \"2015\", \"2016\", \"2017\", \"2018\"]\n",
    "    xdata = gini_df[cols]\n",
    "    xindex = xdata[xdata[\"country\"] == country].index[0]\n",
    "    xdata = xdata.drop(\"country\", 1)\n",
    "    x = xdata.iloc[xindex].array\n",
    "    ydata = life_expectancy_df[cols]\n",
    "    yindex = ydata[ydata[\"country\"] == country].index[0]\n",
    "    ydata = ydata.drop(\"country\", 1)\n",
    "    y = ydata.iloc[yindex].array\n",
    "    \n",
    "    plt.scatter(x, y)\n",
    "    plt.xlabel(\"gini index for \" + country)\n",
    "    plt.ylabel(\"life expectancy for \" + country)\n",
    "    "
   ]
  },
  {
   "cell_type": "markdown",
   "metadata": {},
   "source": [
    "Let's use the above function to find the scatter plot for a country with a high gini index according to the map supplied earlier: `South Africa`."
   ]
  },
  {
   "cell_type": "code",
   "execution_count": null,
   "metadata": {},
   "outputs": [],
   "source": [
    "gini_expectancy_scatter(\"South Africa\")"
   ]
  },
  {
   "cell_type": "markdown",
   "metadata": {},
   "source": [
    "#### Exploration\n",
    "Try out the function above using other countries. To do this, edit the `FIXME` below with a country in quotations (i.e. \"Albania\"). See if you can find something interesting! "
   ]
  },
  {
   "cell_type": "code",
   "execution_count": null,
   "metadata": {},
   "outputs": [],
   "source": [
    "country = #FIXME\n",
    "gini_expectancy_scatter(country)"
   ]
  },
  {
   "cell_type": "markdown",
   "metadata": {},
   "source": [
    "##### Thoughts?\n",
    "\n",
    "What kind of correlation(s) do you see here? Are there any similarities to what we saw previously? Can you say anything about the gini coefficient vs the life expectancy of a country? "
   ]
  },
  {
   "cell_type": "markdown",
   "metadata": {},
   "source": [
    "*** Write your answer here, replacing this text ***"
   ]
  },
  {
   "cell_type": "markdown",
   "metadata": {},
   "source": [
    "### Congratulations, you're done with lab 1!  Be sure to:\n",
    "- **Save and Checkpoint** from the `File` menu,\n",
    "- **Run all cells and resolve any/all errors**"
   ]
  },
  {
   "cell_type": "code",
   "execution_count": null,
   "metadata": {},
   "outputs": [],
   "source": []
  }
 ],
 "metadata": {
  "kernelspec": {
   "display_name": "Python 3",
   "language": "python",
   "name": "python3"
  },
  "language_info": {
   "codemirror_mode": {
    "name": "ipython",
    "version": 3
   },
   "file_extension": ".py",
   "mimetype": "text/x-python",
   "name": "python",
   "nbconvert_exporter": "python",
   "pygments_lexer": "ipython3",
   "version": "3.8.8"
  }
 },
 "nbformat": 4,
 "nbformat_minor": 4
}
