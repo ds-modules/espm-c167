{
 "cells": [
  {
   "cell_type": "markdown",
   "metadata": {},
   "source": [
    "# [ESPM-C167/PH160] Income and Health Indicators \n",
    "\n",
    "### Professor Rachel Morello-Frosch\n",
    "\n",
    "_Estimated Time: XX minutes_\n",
    "\n",
    "---"
   ]
  },
  {
   "cell_type": "markdown",
   "metadata": {},
   "source": [
    "## Table of Contents\n",
    "\n",
    "TO DO LIST OF CHANGES\n",
    "\n",
    "1. ASSIGN LIST OF LOCATIONS BELOW USING HTML\n",
    "2. CLEAN UP TEXT BLOCKS NEAR CODE CHANGES (to patch up colloquial stuff)\n",
    "3. FIGURE OUT GRAPHS AND CONVERT FROM SNS/PANDAS TO MATPLOTLIB, ETC. \n",
    "4. FINAL READ THRU\n",
    "\n",
    "*Click the links below to navigate to a specific section of the notebook*\n",
    "1. <a href='#section 0'>Welcome to Jupyter Notebooks!</a>\n",
    "\n",
    "    a. <a href=\"#subsection 0a\">Saving and Loading</a>\n",
    "    \n",
    "    b. <a href=\"#subsection 0b\">Additional Help/Resources</a>\n",
    "<br>\n",
    "\n",
    "add id to each located section with....<a id=\"subsection error\"></a> #unhide\n",
    "\n",
    "2.  <a href='#section 1'>The Python Programming Language</a>\n",
    "\n",
    "    a. <a href='#subsection 1a'>Data</a> and <a href='#subsection error'>Errors</a>\n",
    "    \n",
    "    b. <a href='#subsection 1b'>Expressions</a>\n",
    "    \n",
    "    c. <a href='#subsection 1c'>Names</a>\n",
    "    \n",
    "    d. <a href='#subsection 1d'>Functions</a>\n",
    "<br>\n",
    "\n",
    "3. Introduction to Tables<br>\n",
    "\n",
    "    a. Introduction to Tables<br>\n",
    "    \n",
    "    b. Defining the Problem<br>\n",
    "    \n",
    "    c. Gapminder Data<br>\n",
    "    \n",
    "    \n",
    "4. Correlation and Causation<br>\n",
    "\n",
    "\n",
    "5. Real World Analysis<br>\n",
    "    \n",
    "    a. Measures of Income<br>\n",
    "    \n",
    "    b. GDP per capita vs. Health Outcomes<br>\n",
    "    \n",
    "    c. Your Turn!\n"
   ]
  },
  {
   "cell_type": "markdown",
   "metadata": {},
   "source": [
    "## I. The Jupyter  Notebook <a id='section 0'></a>\n",
    "\n",
    "Welcome to the Jupyter Notebook! **Notebooks** are documents that can contain text, code, visualizations, and more. \n",
    "\n",
    "A notebook is composed of rectangular sections called **cells**. There are 2 kinds of cells: markdown and code. A **markdown cell**, such as this one, contains text. A **code cell** contains code in Python, a programming language that we will be using for the remainder of this module. You can select any cell by clicking it once. After a cell is selected, you can navigate the notebook using the up and down arrow keys.\n",
    "\n",
    "To run a code cell once it's been selected, \n",
    "1. press *Shift+Enter*, **or**\n",
    "2. click the Run button in the toolbar at the top of the screen. \n",
    "\n",
    "If a code cell is running, you will see an asterisk (\\*) appear in the square brackets to the left of the cell. Once the cell has finished running, a number will replace the asterisk and any output from the code will appear under the cell."
   ]
  },
  {
   "cell_type": "code",
   "execution_count": 10,
   "metadata": {},
   "outputs": [
    {
     "name": "stdout",
     "output_type": "stream",
     "text": [
      "Hello World!\n"
     ]
    }
   ],
   "source": [
    "# run this cell\n",
    "print(\"Hello World!\")"
   ]
  },
  {
   "cell_type": "markdown",
   "metadata": {},
   "source": [
    "You'll notice that many code cells contain lines of blue text that start with a `#`. These are *comments*. Comments often contain helpful information about what the code does or what you are supposed to do in the cell. The leading `#` tells the computer to ignore them."
   ]
  },
  {
   "cell_type": "markdown",
   "metadata": {},
   "source": [
    "#### Editing\n",
    "\n",
    "You can edit a Markdown cell by clicking it twice. Text in Markdown cells is written in [**Markdown**](https://daringfireball.net/projects/markdown/), a formatting syntax for plain text, so you may see some funky symbols when you edit a text cell. \n",
    "\n",
    "Once you've made your changes, you can exit text editing mode by running the cell. To test this, edit the next cell to fix the misspelling."
   ]
  },
  {
   "cell_type": "markdown",
   "metadata": {},
   "source": [
    "Go bers!"
   ]
  },
  {
   "cell_type": "markdown",
   "metadata": {},
   "source": [
    "Code cells can be edited any time after they are highlighted. Try editing the next code cell to print your name."
   ]
  },
  {
   "cell_type": "code",
   "execution_count": 11,
   "metadata": {},
   "outputs": [
    {
     "name": "stdout",
     "output_type": "stream",
     "text": [
      "Hello: my name is [NAME]\n"
     ]
    }
   ],
   "source": [
    "# edit the code to print your name\n",
    "print(\"Hello: my name is [NAME]\")"
   ]
  },
  {
   "cell_type": "markdown",
   "metadata": {},
   "source": [
    "#### Saving and Loading <a id='subsection 0a'></a>\n",
    "\n",
    "Your notebook can record all of your text and code edits, as well as any graphs you generate or calculations you make. You can save the notebook in its current state by...\n",
    "\n",
    "1. Clicking Control-S\n",
    "2. Clicking the floppy disc icon in the toolbar at the top of the page, **or** \n",
    "3. By going to the File menu and selecting \"Save and Checkpoint\".\n",
    "\n",
    "Once saved, the notebook will look the same as when you last saved it the next time you open it.\n",
    "\n",
    "**Note:** *After loading a notebook you will see all the outputs (graphs, computations, etc) from your last session, but you won't be able to use any variables you assigned or functions you defined. You can get the functions and variables back by re-running the cells where they were defined- the easiest way is to highlight the cell where you left off work, then go to the Cell menu at the top of the screen and click \"Run all above\". You can also use this menu to run all cells in the notebook by clicking \"Run all\".*"
   ]
  },
  {
   "cell_type": "markdown",
   "metadata": {},
   "source": [
    "#### Completing the Notebooks\n",
    "\n",
    "As you navigate the notebooks, you'll see cells with bold, all-capitalized headings that need to be filled in to complete the notebook. There are two types:\n",
    "<div class=\"alert alert-warning\">\n",
    "<b>EXERCISE</b> cells require you to write code to solve a problem, or write short responses related to analyzing a graph or the result of a computation\n",
    "</div>\n",
    "\n",
    "<div class=\"alert alert-info\">\n",
    "<b>PRACTICE</b> cells provide spaces to try out new coding skills at your own pace, unrelated to the case study. Since each coding skill taught in these notebooks is necessary for analyzing the cases, practice cells are a good way to get comfortable before applying those skills to real data.\n",
    "</div>"
   ]
  },
  {
   "cell_type": "markdown",
   "metadata": {},
   "source": [
    "#### Common Errors \n",
    "\n",
    "1. Sometimes, errors may arise if we try to reference something that hasn't yet been created. For example, we cannot add two variables `x + y` until there has been code earlier that declares x = 2 and y = 3 (though both can take on any values). This error will return a `name 'x' is not defined` error. To fix this, make sure x (or the appropriate variable) is declared. \n",
    "\n",
    "\n",
    "2. If a cell seems to be running forever or a code cell continues to run without giving an output, you can go to the kernel tab above and press the interrupt button. This is will kill any processes running on the notebook. \n",
    "\n",
    "\n",
    "3. For any reason, to restart the kernel and run all cells in order click `Restart + Run All` under the *Kernel* tab above.\n",
    "\n",
    "*One final tip: you should run all the cells in order! You might get some nasty looking errors when you run some cells if you don't run them in order*"
   ]
  },
  {
   "cell_type": "markdown",
   "metadata": {},
   "source": [
    "#### Additional Help <a id='subsection 0b'></a>\n",
    "Go to the peer consultants with any and all data science related questions. An updated calendar for drop-in office hours, which run online Mon-Fri 11AM - 4PM, can be found [here](https://data.berkeley.edu/ds-peer-consulting). Note that appointments can also be made at the same website."
   ]
  },
  {
   "cell_type": "markdown",
   "metadata": {},
   "source": [
    "Before we begin, we'll need a few extra tools to conduct our analysis. Run the next cell to load some code packages that we'll use later. \n",
    "\n",
    "***Note: this cell MUST be run in order for most of the rest of the notebook to work.***"
   ]
  },
  {
   "cell_type": "code",
   "execution_count": 4,
   "metadata": {},
   "outputs": [],
   "source": [
    "# THIS CELL MUST BE RUN\n",
    "from datascience import *\n",
    "import numpy as np\n",
    "import math\n",
    "import pandas as pd\n",
    "import matplotlib.pyplot as plt\n",
    "plt.style.use('fivethirtyeight')\n",
    "\n",
    "import seaborn as sns\n",
    "from IPython.display import Image\n",
    "import ipywidgets as widgets\n",
    "\n",
    "%matplotlib inline\n",
    "\n",
    "#how to fill NA with average, can delete\n",
    "\n",
    "#dataframe = pd.read_csv(\"data/life_expectancy_years.csv\")\n",
    "#indicies_with_null = dataframe[[len(dataframe.iloc[i].isnull().unique()) > 1 for i in np.arange(0, len(dataframe))]].index\n",
    "#for i in indicies_with_null:\n",
    "#    avg = dataframe.iloc[i].drop(labels=\"country\").mean()\n",
    "#    dataframe.iloc[i] = dataframe.iloc[i].fillna(avg)\n",
    "#dataframe\n",
    "\n",
    "#should I clean data permanently? the numbers with otld values are extremely off\n",
    "life_exp = pd.read_csv(\"data/life_expectancy_years.csv\").fillna(0)\n",
    "boolean_null_rows = [0 in np.array(life_exp.iloc[i].drop(labels=\"country\")) for i in np.arange(0, len(life_exp))]\n",
    "null_row_indicies = life_exp[boolean_null_rows].index\n",
    "life_exp = life_exp.drop(null_row_indicies).reset_index(drop=True)\n",
    "\n",
    "gini = pd.read_csv(\"data/gini.csv\")\n",
    "cmortality = pd.read_csv(\"data/child_mortality_0_5_year_olds_dying_per_1000_born.csv\")\n",
    "gdppc = pd.read_csv(\"data/income_per_person_gdppercapita_ppp_inflation_adjusted.csv\")"
   ]
  },
  {
   "cell_type": "code",
   "execution_count": 3,
   "metadata": {},
   "outputs": [
    {
     "data": {
      "text/html": [
       "<div>\n",
       "<style scoped>\n",
       "    .dataframe tbody tr th:only-of-type {\n",
       "        vertical-align: middle;\n",
       "    }\n",
       "\n",
       "    .dataframe tbody tr th {\n",
       "        vertical-align: top;\n",
       "    }\n",
       "\n",
       "    .dataframe thead th {\n",
       "        text-align: right;\n",
       "    }\n",
       "</style>\n",
       "<table border=\"1\" class=\"dataframe\">\n",
       "  <thead>\n",
       "    <tr style=\"text-align: right;\">\n",
       "      <th></th>\n",
       "      <th>country</th>\n",
       "      <th>1800</th>\n",
       "      <th>1801</th>\n",
       "      <th>1802</th>\n",
       "      <th>1803</th>\n",
       "      <th>1804</th>\n",
       "      <th>1805</th>\n",
       "      <th>1806</th>\n",
       "      <th>1807</th>\n",
       "      <th>1808</th>\n",
       "      <th>...</th>\n",
       "      <th>2009</th>\n",
       "      <th>2010</th>\n",
       "      <th>2011</th>\n",
       "      <th>2012</th>\n",
       "      <th>2013</th>\n",
       "      <th>2014</th>\n",
       "      <th>2015</th>\n",
       "      <th>2016</th>\n",
       "      <th>2017</th>\n",
       "      <th>2018</th>\n",
       "    </tr>\n",
       "  </thead>\n",
       "  <tbody>\n",
       "    <tr>\n",
       "      <td>0</td>\n",
       "      <td>Afghanistan</td>\n",
       "      <td>28.2</td>\n",
       "      <td>28.2</td>\n",
       "      <td>28.2</td>\n",
       "      <td>28.2</td>\n",
       "      <td>28.2</td>\n",
       "      <td>28.2</td>\n",
       "      <td>28.1</td>\n",
       "      <td>28.1</td>\n",
       "      <td>28.1</td>\n",
       "      <td>...</td>\n",
       "      <td>55.7</td>\n",
       "      <td>56.2</td>\n",
       "      <td>56.7</td>\n",
       "      <td>57.2</td>\n",
       "      <td>57.7</td>\n",
       "      <td>57.8</td>\n",
       "      <td>57.9</td>\n",
       "      <td>58.0</td>\n",
       "      <td>58.4</td>\n",
       "      <td>58.7</td>\n",
       "    </tr>\n",
       "    <tr>\n",
       "      <td>1</td>\n",
       "      <td>Albania</td>\n",
       "      <td>35.4</td>\n",
       "      <td>35.4</td>\n",
       "      <td>35.4</td>\n",
       "      <td>35.4</td>\n",
       "      <td>35.4</td>\n",
       "      <td>35.4</td>\n",
       "      <td>35.4</td>\n",
       "      <td>35.4</td>\n",
       "      <td>35.4</td>\n",
       "      <td>...</td>\n",
       "      <td>75.9</td>\n",
       "      <td>76.3</td>\n",
       "      <td>76.7</td>\n",
       "      <td>77.0</td>\n",
       "      <td>77.2</td>\n",
       "      <td>77.4</td>\n",
       "      <td>77.6</td>\n",
       "      <td>77.7</td>\n",
       "      <td>77.9</td>\n",
       "      <td>78.0</td>\n",
       "    </tr>\n",
       "    <tr>\n",
       "      <td>2</td>\n",
       "      <td>Algeria</td>\n",
       "      <td>28.8</td>\n",
       "      <td>28.8</td>\n",
       "      <td>28.8</td>\n",
       "      <td>28.8</td>\n",
       "      <td>28.8</td>\n",
       "      <td>28.8</td>\n",
       "      <td>28.8</td>\n",
       "      <td>28.8</td>\n",
       "      <td>28.8</td>\n",
       "      <td>...</td>\n",
       "      <td>76.3</td>\n",
       "      <td>76.5</td>\n",
       "      <td>76.7</td>\n",
       "      <td>76.8</td>\n",
       "      <td>77.0</td>\n",
       "      <td>77.1</td>\n",
       "      <td>77.3</td>\n",
       "      <td>77.4</td>\n",
       "      <td>77.6</td>\n",
       "      <td>77.9</td>\n",
       "    </tr>\n",
       "    <tr>\n",
       "      <td>3</td>\n",
       "      <td>Andorra</td>\n",
       "      <td>NaN</td>\n",
       "      <td>NaN</td>\n",
       "      <td>NaN</td>\n",
       "      <td>NaN</td>\n",
       "      <td>NaN</td>\n",
       "      <td>NaN</td>\n",
       "      <td>NaN</td>\n",
       "      <td>NaN</td>\n",
       "      <td>NaN</td>\n",
       "      <td>...</td>\n",
       "      <td>82.7</td>\n",
       "      <td>82.7</td>\n",
       "      <td>82.6</td>\n",
       "      <td>82.6</td>\n",
       "      <td>82.6</td>\n",
       "      <td>82.6</td>\n",
       "      <td>82.5</td>\n",
       "      <td>82.5</td>\n",
       "      <td>NaN</td>\n",
       "      <td>NaN</td>\n",
       "    </tr>\n",
       "    <tr>\n",
       "      <td>4</td>\n",
       "      <td>Angola</td>\n",
       "      <td>27.0</td>\n",
       "      <td>27.0</td>\n",
       "      <td>27.0</td>\n",
       "      <td>27.0</td>\n",
       "      <td>27.0</td>\n",
       "      <td>27.0</td>\n",
       "      <td>27.0</td>\n",
       "      <td>27.0</td>\n",
       "      <td>27.0</td>\n",
       "      <td>...</td>\n",
       "      <td>59.3</td>\n",
       "      <td>60.1</td>\n",
       "      <td>60.9</td>\n",
       "      <td>61.7</td>\n",
       "      <td>62.5</td>\n",
       "      <td>63.3</td>\n",
       "      <td>64.0</td>\n",
       "      <td>64.7</td>\n",
       "      <td>64.9</td>\n",
       "      <td>65.2</td>\n",
       "    </tr>\n",
       "    <tr>\n",
       "      <td>...</td>\n",
       "      <td>...</td>\n",
       "      <td>...</td>\n",
       "      <td>...</td>\n",
       "      <td>...</td>\n",
       "      <td>...</td>\n",
       "      <td>...</td>\n",
       "      <td>...</td>\n",
       "      <td>...</td>\n",
       "      <td>...</td>\n",
       "      <td>...</td>\n",
       "      <td>...</td>\n",
       "      <td>...</td>\n",
       "      <td>...</td>\n",
       "      <td>...</td>\n",
       "      <td>...</td>\n",
       "      <td>...</td>\n",
       "      <td>...</td>\n",
       "      <td>...</td>\n",
       "      <td>...</td>\n",
       "      <td>...</td>\n",
       "      <td>...</td>\n",
       "    </tr>\n",
       "    <tr>\n",
       "      <td>182</td>\n",
       "      <td>Venezuela</td>\n",
       "      <td>32.2</td>\n",
       "      <td>32.2</td>\n",
       "      <td>32.2</td>\n",
       "      <td>32.2</td>\n",
       "      <td>32.2</td>\n",
       "      <td>32.2</td>\n",
       "      <td>32.2</td>\n",
       "      <td>32.2</td>\n",
       "      <td>32.2</td>\n",
       "      <td>...</td>\n",
       "      <td>75.0</td>\n",
       "      <td>75.4</td>\n",
       "      <td>75.4</td>\n",
       "      <td>75.3</td>\n",
       "      <td>75.4</td>\n",
       "      <td>75.5</td>\n",
       "      <td>75.5</td>\n",
       "      <td>75.5</td>\n",
       "      <td>75.7</td>\n",
       "      <td>75.9</td>\n",
       "    </tr>\n",
       "    <tr>\n",
       "      <td>183</td>\n",
       "      <td>Vietnam</td>\n",
       "      <td>32.0</td>\n",
       "      <td>32.0</td>\n",
       "      <td>32.0</td>\n",
       "      <td>32.0</td>\n",
       "      <td>32.0</td>\n",
       "      <td>32.0</td>\n",
       "      <td>32.0</td>\n",
       "      <td>32.0</td>\n",
       "      <td>32.0</td>\n",
       "      <td>...</td>\n",
       "      <td>72.8</td>\n",
       "      <td>73.1</td>\n",
       "      <td>73.3</td>\n",
       "      <td>73.6</td>\n",
       "      <td>73.8</td>\n",
       "      <td>74.1</td>\n",
       "      <td>74.3</td>\n",
       "      <td>74.5</td>\n",
       "      <td>74.7</td>\n",
       "      <td>74.9</td>\n",
       "    </tr>\n",
       "    <tr>\n",
       "      <td>184</td>\n",
       "      <td>Yemen</td>\n",
       "      <td>23.4</td>\n",
       "      <td>23.4</td>\n",
       "      <td>23.4</td>\n",
       "      <td>23.4</td>\n",
       "      <td>23.4</td>\n",
       "      <td>23.4</td>\n",
       "      <td>23.4</td>\n",
       "      <td>23.4</td>\n",
       "      <td>23.4</td>\n",
       "      <td>...</td>\n",
       "      <td>67.0</td>\n",
       "      <td>67.5</td>\n",
       "      <td>67.7</td>\n",
       "      <td>67.9</td>\n",
       "      <td>68.4</td>\n",
       "      <td>68.4</td>\n",
       "      <td>67.2</td>\n",
       "      <td>66.7</td>\n",
       "      <td>66.9</td>\n",
       "      <td>67.1</td>\n",
       "    </tr>\n",
       "    <tr>\n",
       "      <td>185</td>\n",
       "      <td>Zambia</td>\n",
       "      <td>32.6</td>\n",
       "      <td>32.6</td>\n",
       "      <td>32.6</td>\n",
       "      <td>32.6</td>\n",
       "      <td>32.6</td>\n",
       "      <td>32.6</td>\n",
       "      <td>32.6</td>\n",
       "      <td>32.6</td>\n",
       "      <td>32.6</td>\n",
       "      <td>...</td>\n",
       "      <td>50.7</td>\n",
       "      <td>52.0</td>\n",
       "      <td>53.2</td>\n",
       "      <td>54.5</td>\n",
       "      <td>55.7</td>\n",
       "      <td>57.0</td>\n",
       "      <td>58.1</td>\n",
       "      <td>58.8</td>\n",
       "      <td>59.1</td>\n",
       "      <td>59.5</td>\n",
       "    </tr>\n",
       "    <tr>\n",
       "      <td>186</td>\n",
       "      <td>Zimbabwe</td>\n",
       "      <td>33.7</td>\n",
       "      <td>33.7</td>\n",
       "      <td>33.7</td>\n",
       "      <td>33.7</td>\n",
       "      <td>33.7</td>\n",
       "      <td>33.7</td>\n",
       "      <td>33.7</td>\n",
       "      <td>33.7</td>\n",
       "      <td>33.7</td>\n",
       "      <td>...</td>\n",
       "      <td>47.5</td>\n",
       "      <td>49.6</td>\n",
       "      <td>51.9</td>\n",
       "      <td>54.1</td>\n",
       "      <td>55.6</td>\n",
       "      <td>57.0</td>\n",
       "      <td>58.3</td>\n",
       "      <td>59.3</td>\n",
       "      <td>59.8</td>\n",
       "      <td>60.2</td>\n",
       "    </tr>\n",
       "  </tbody>\n",
       "</table>\n",
       "<p>187 rows × 220 columns</p>\n",
       "</div>"
      ],
      "text/plain": [
       "         country  1800  1801  1802  1803  1804  1805  1806  1807  1808  ...  \\\n",
       "0    Afghanistan  28.2  28.2  28.2  28.2  28.2  28.2  28.1  28.1  28.1  ...   \n",
       "1        Albania  35.4  35.4  35.4  35.4  35.4  35.4  35.4  35.4  35.4  ...   \n",
       "2        Algeria  28.8  28.8  28.8  28.8  28.8  28.8  28.8  28.8  28.8  ...   \n",
       "3        Andorra   NaN   NaN   NaN   NaN   NaN   NaN   NaN   NaN   NaN  ...   \n",
       "4         Angola  27.0  27.0  27.0  27.0  27.0  27.0  27.0  27.0  27.0  ...   \n",
       "..           ...   ...   ...   ...   ...   ...   ...   ...   ...   ...  ...   \n",
       "182    Venezuela  32.2  32.2  32.2  32.2  32.2  32.2  32.2  32.2  32.2  ...   \n",
       "183      Vietnam  32.0  32.0  32.0  32.0  32.0  32.0  32.0  32.0  32.0  ...   \n",
       "184        Yemen  23.4  23.4  23.4  23.4  23.4  23.4  23.4  23.4  23.4  ...   \n",
       "185       Zambia  32.6  32.6  32.6  32.6  32.6  32.6  32.6  32.6  32.6  ...   \n",
       "186     Zimbabwe  33.7  33.7  33.7  33.7  33.7  33.7  33.7  33.7  33.7  ...   \n",
       "\n",
       "     2009  2010  2011  2012  2013  2014  2015  2016  2017  2018  \n",
       "0    55.7  56.2  56.7  57.2  57.7  57.8  57.9  58.0  58.4  58.7  \n",
       "1    75.9  76.3  76.7  77.0  77.2  77.4  77.6  77.7  77.9  78.0  \n",
       "2    76.3  76.5  76.7  76.8  77.0  77.1  77.3  77.4  77.6  77.9  \n",
       "3    82.7  82.7  82.6  82.6  82.6  82.6  82.5  82.5   NaN   NaN  \n",
       "4    59.3  60.1  60.9  61.7  62.5  63.3  64.0  64.7  64.9  65.2  \n",
       "..    ...   ...   ...   ...   ...   ...   ...   ...   ...   ...  \n",
       "182  75.0  75.4  75.4  75.3  75.4  75.5  75.5  75.5  75.7  75.9  \n",
       "183  72.8  73.1  73.3  73.6  73.8  74.1  74.3  74.5  74.7  74.9  \n",
       "184  67.0  67.5  67.7  67.9  68.4  68.4  67.2  66.7  66.9  67.1  \n",
       "185  50.7  52.0  53.2  54.5  55.7  57.0  58.1  58.8  59.1  59.5  \n",
       "186  47.5  49.6  51.9  54.1  55.6  57.0  58.3  59.3  59.8  60.2  \n",
       "\n",
       "[187 rows x 220 columns]"
      ]
     },
     "execution_count": 3,
     "metadata": {},
     "output_type": "execute_result"
    }
   ],
   "source": [
    "pd.read_csv(\"data/life_expectancy_years.csv\") #keep values"
   ]
  },
  {
   "cell_type": "markdown",
   "metadata": {},
   "source": [
    "# II. Introduction to Python <a id='section 1'></a>\n",
    "\n",
    "**Python** is  programming language- a way for us to communicate with the computer and give it instructions. \n",
    "\n",
    "Just like any language, Python has a *vocabulary* made up of words it can understand, and a *syntax* giving the rules for how to structure communication."
   ]
  },
  {
   "cell_type": "markdown",
   "metadata": {},
   "source": [
    "#### Clarifying Expectations <a id=\"subsection error\"></a>\n",
    "\n",
    "This is not a coding class - nearly all the code has been written out for you. However, knowing the basics of Python is useful to help you understand what's going on in future notebooks. "
   ]
  },
  {
   "cell_type": "markdown",
   "metadata": {},
   "source": [
    "#### Errors <a id=\"subsection error\"></a>\n",
    "\n",
    "Python is a language, and like natural human languages, it has rules.  It differs from natural language in two important ways:\n",
    "1. The rules are *simple*.  You can learn most of them in a few weeks and gain reasonable proficiency with the language in a semester.\n",
    "2. The rules are *rigid*.  If you're proficient in a natural language, you can understand a non-proficient speaker, glossing over small mistakes.  A computer running Python code is not smart enough to do that.\n",
    "\n",
    "Whenever you write code, you will often accientally break some of these rules. When you run a code cell that doesn't follow every rule exactly, Python will produce an **error message**.\n",
    "\n",
    "Errors are *normal*; experienced programmers make many errors every day. Errors are also *not dangerous*; you will not break your computer by making an error (in fact, errors are a big part of how you learn a coding language). An error is nothing more than a message from the computer saying it doesn't understand you and asking you to rewrite your command.\n",
    "\n",
    "We have made an error in the next cell.  Run it and see what happens."
   ]
  },
  {
   "cell_type": "code",
   "execution_count": 2,
   "metadata": {},
   "outputs": [
    {
     "ename": "SyntaxError",
     "evalue": "unexpected EOF while parsing (<ipython-input-2-c7b7223ecd08>, line 1)",
     "output_type": "error",
     "traceback": [
      "\u001b[0;36m  File \u001b[0;32m\"<ipython-input-2-c7b7223ecd08>\"\u001b[0;36m, line \u001b[0;32m1\u001b[0m\n\u001b[0;31m    print(\"This line is missing something.\"\u001b[0m\n\u001b[0m                                           ^\u001b[0m\n\u001b[0;31mSyntaxError\u001b[0m\u001b[0;31m:\u001b[0m unexpected EOF while parsing\n"
     ]
    }
   ],
   "source": [
    "print(\"This line is missing something.\""
   ]
  },
  {
   "cell_type": "markdown",
   "metadata": {},
   "source": [
    "You should see an error similar to: `SyntaxError: unexpected EOF while parsing`\n",
    "\n",
    "Overall, the last line of an error output attempts to tell you what went wrong.  The *syntax* of a language is its structure, and this `SyntaxError` tells you that you have created an illegal structure.  \"`EOF`\" means \"end of file,\" so the message is saying Python expected you to write something more (in this case, a right parenthesis) before finishing the cell.\n",
    "\n",
    "There's a lot of terminology in programming languages, but you don't need to know it all in order to program effectively. If you see a cryptic message like this, you can often get by without deciphering it.  (Of course, if you're frustrated, you can usually find out by searching for the error message online or posting on the Piazza.)\n"
   ]
  },
  {
   "cell_type": "markdown",
   "metadata": {},
   "source": [
    "\n",
    "### A. Data <a id='subsection 1a'></a>\n",
    "**Data** is information- the \"stuff\" we manipulate to make and test hypotheses. \n",
    "\n",
    "Almost all data you will work with broadly falls into two types: numbers and text. \n",
    "\n",
    "*Numerical data* shows up green in code cells and can be positive, negative, or include a decimal."
   ]
  },
  {
   "cell_type": "code",
   "execution_count": 3,
   "metadata": {},
   "outputs": [
    {
     "data": {
      "text/plain": [
       "3.14159"
      ]
     },
     "execution_count": 3,
     "metadata": {},
     "output_type": "execute_result"
    }
   ],
   "source": [
    "# Numerical data\n",
    "\n",
    "4\n",
    "\n",
    "87623000983\n",
    "\n",
    "-667\n",
    "\n",
    "3.14159"
   ]
  },
  {
   "cell_type": "markdown",
   "metadata": {},
   "source": [
    "Text data (also called *strings*) shows up red in code cells. Strings are anything enclosed in double or single quotes. Note that numbers can appear in strings."
   ]
  },
  {
   "cell_type": "code",
   "execution_count": 4,
   "metadata": {},
   "outputs": [
    {
     "data": {
      "text/plain": [
       "'3.14159'"
      ]
     },
     "execution_count": 4,
     "metadata": {},
     "output_type": "execute_result"
    }
   ],
   "source": [
    "# Strings\n",
    "\"a\"\n",
    "\n",
    "\"Hi there!\"\n",
    "\n",
    "\"We hold these truths to be self-evident that all men are created equal.\"\n",
    "\n",
    "# this is a string, NOT numerical data\n",
    "\"3.14159\""
   ]
  },
  {
   "cell_type": "markdown",
   "metadata": {},
   "source": [
    "### B.  Expressions <a id='subsection 1b'></a>\n",
    "\n",
    "A bit of communication in Python is called an **expression**. It tells the computer what to do with the data we give it.\n",
    "\n",
    "Here's an example of an expression."
   ]
  },
  {
   "cell_type": "code",
   "execution_count": 5,
   "metadata": {},
   "outputs": [
    {
     "data": {
      "text/plain": [
       "34"
      ]
     },
     "execution_count": 5,
     "metadata": {},
     "output_type": "execute_result"
    }
   ],
   "source": [
    "# an expression\n",
    "14 + 20"
   ]
  },
  {
   "cell_type": "markdown",
   "metadata": {},
   "source": [
    "\n",
    "When you run the cell, the computer **evaluates** the expression and prints the result. Note that only the last line in a code cell will be printed, unless you explicitly tell the computer you want to print the result."
   ]
  },
  {
   "cell_type": "code",
   "execution_count": 6,
   "metadata": {},
   "outputs": [
    {
     "name": "stdout",
     "output_type": "stream",
     "text": [
      "15.280000000000001\n"
     ]
    },
    {
     "data": {
      "text/plain": [
       "884"
      ]
     },
     "execution_count": 6,
     "metadata": {},
     "output_type": "execute_result"
    }
   ],
   "source": [
    "# more expressions. What gets printed and what doesn't?\n",
    "100 / 10\n",
    "\n",
    "print(4.3 + 10.98)\n",
    "\n",
    "33 - 9 * (40000 + 1)\n",
    "\n",
    "884"
   ]
  },
  {
   "cell_type": "markdown",
   "metadata": {},
   "source": [
    "Many basic arithmetic operations are built in to Python, like `*` (multiplication), `+` (addition), `-` (subtraction), and `/` (division). There are many others, which you can find information about [here](http://www.inferentialthinking.com/chapters/03/1/expressions.html). \n",
    "\n",
    "The computer evaluates arithmetic according to the PEMDAS order of operations (just like you probably learned in middle school): anything in parentheses is done first, followed by exponents, then multiplication and division, and finally addition and subtraction."
   ]
  },
  {
   "cell_type": "code",
   "execution_count": null,
   "metadata": {},
   "outputs": [],
   "source": [
    "# before you run this cell, can you say what it should print?\n",
    "4 - 2 * (1 + 6 / 3)"
   ]
  },
  {
   "cell_type": "markdown",
   "metadata": {},
   "source": [
    "### C. Names <a id='subsection 1c'></a>\n",
    "Sometimes, the values you work with can get cumbersome- maybe the expression that gives the value is very complicated, or maybe the value itself is long. In these cases it's useful to give the value a **name**.\n",
    "\n",
    "We can name values using what's called an *assignment* statement."
   ]
  },
  {
   "cell_type": "code",
   "execution_count": 7,
   "metadata": {},
   "outputs": [],
   "source": [
    "# assigns 442 to x\n",
    "x = 442"
   ]
  },
  {
   "cell_type": "markdown",
   "metadata": {},
   "source": [
    "The assignment statement has three parts. On the left is the *name* (`x`). On the right is the *value* (442). The *equals sign* in the middle tells the computer to assign the value to the name.\n",
    "\n",
    "You'll notice that when you run the cell with the assignment, it doesn't print anything. But, if we try to access `x` again in the future, it will have the value we assigned it."
   ]
  },
  {
   "cell_type": "code",
   "execution_count": 8,
   "metadata": {},
   "outputs": [
    {
     "data": {
      "text/plain": [
       "442"
      ]
     },
     "execution_count": 8,
     "metadata": {},
     "output_type": "execute_result"
    }
   ],
   "source": [
    "# print the value of x\n",
    "x"
   ]
  },
  {
   "cell_type": "markdown",
   "metadata": {},
   "source": [
    "You can also assign names to expressions. The computer will compute the expression and assign the name to the result of the computation."
   ]
  },
  {
   "cell_type": "code",
   "execution_count": 9,
   "metadata": {},
   "outputs": [
    {
     "data": {
      "text/plain": [
       "101"
      ]
     },
     "execution_count": 9,
     "metadata": {},
     "output_type": "execute_result"
    }
   ],
   "source": [
    "y = 50 * 2 + 1\n",
    "y"
   ]
  },
  {
   "cell_type": "markdown",
   "metadata": {},
   "source": [
    "We can then use these name as if they were numbers."
   ]
  },
  {
   "cell_type": "code",
   "execution_count": 10,
   "metadata": {},
   "outputs": [
    {
     "data": {
      "text/plain": [
       "400"
      ]
     },
     "execution_count": 10,
     "metadata": {},
     "output_type": "execute_result"
    }
   ],
   "source": [
    "x - 42"
   ]
  },
  {
   "cell_type": "code",
   "execution_count": 11,
   "metadata": {},
   "outputs": [
    {
     "data": {
      "text/plain": [
       "543"
      ]
     },
     "execution_count": 11,
     "metadata": {},
     "output_type": "execute_result"
    }
   ],
   "source": [
    "x + y"
   ]
  },
  {
   "cell_type": "markdown",
   "metadata": {},
   "source": [
    "### D. Functions <a id='subsection 1d'></a>\n",
    "We've seen that values can have names (often called **variables**), but operations may also have names. A named operation is called a **function**. Python has some functions built into it."
   ]
  },
  {
   "cell_type": "code",
   "execution_count": 12,
   "metadata": {},
   "outputs": [
    {
     "data": {
      "text/plain": [
       "<function round(number, ndigits=None)>"
      ]
     },
     "execution_count": 12,
     "metadata": {},
     "output_type": "execute_result"
    }
   ],
   "source": [
    "# a built-in function \n",
    "round"
   ]
  },
  {
   "cell_type": "markdown",
   "metadata": {},
   "source": [
    "Functions get used in *call expressions*, where a function is named and given values to operate on inside a set of parentheses. The `round` function returns the number it was given, rounded to the nearest whole number."
   ]
  },
  {
   "cell_type": "code",
   "execution_count": 13,
   "metadata": {},
   "outputs": [
    {
     "data": {
      "text/plain": [
       "1989"
      ]
     },
     "execution_count": 13,
     "metadata": {},
     "output_type": "execute_result"
    }
   ],
   "source": [
    "# a call expression using round\n",
    "round(1988.74699)"
   ]
  },
  {
   "cell_type": "markdown",
   "metadata": {},
   "source": [
    "A function may also be called on more than one value (called *arguments*). For instance, the `min` function takes however many arguments you'd like and returns the smallest. Multiple arguments are separated by commas."
   ]
  },
  {
   "cell_type": "code",
   "execution_count": 14,
   "metadata": {},
   "outputs": [
    {
     "data": {
      "text/plain": [
       "-34"
      ]
     },
     "execution_count": 14,
     "metadata": {},
     "output_type": "execute_result"
    }
   ],
   "source": [
    "min(9, -34, 0, 99)"
   ]
  },
  {
   "cell_type": "markdown",
   "metadata": {},
   "source": [
    "#### Dot Notation\n",
    "Python has a lot of [built-in functions](https://docs.python.org/3/library/functions.html) (that is, functions that are already named and defined in Python), but even more functions are stored in collections called *modules*. Earlier, we imported the `math` module so we could use it later. Once a module is imported, you can use its functions by typing the name of the module, then the name of the function you want from it, separated with a `.`."
   ]
  },
  {
   "cell_type": "code",
   "execution_count": 17,
   "metadata": {},
   "outputs": [
    {
     "data": {
      "text/plain": [
       "120"
      ]
     },
     "execution_count": 17,
     "metadata": {},
     "output_type": "execute_result"
    }
   ],
   "source": [
    "# a call expression with the factorial function from the math module\n",
    "math.factorial(5)"
   ]
  },
  {
   "cell_type": "markdown",
   "metadata": {},
   "source": [
    "## III. Introduction to Tables\n",
    "\n",
    "If we have datasets there are multiple ways to represent it in the computer, notably the method we will be using is tables. A table in python works a lot like how a table would work in another program such as excel. In particular, you can think about a table in two ways: \n",
    "- a sequence of named columns that each describe a single attribute of all entries in a data set\n",
    "- a sequence of rows that each contain all information about a single individual in a data set\n",
    "\n",
    "Let's look at an example!"
   ]
  },
  {
   "cell_type": "code",
   "execution_count": 5,
   "metadata": {},
   "outputs": [
    {
     "data": {
      "text/html": [
       "<table border=\"1\" class=\"dataframe\">\n",
       "    <thead>\n",
       "        <tr>\n",
       "            <th>country</th> <th>1800</th> <th>1801</th> <th>1802</th> <th>1803</th> <th>1804</th> <th>1805</th> <th>1806</th> <th>1807</th> <th>1808</th> <th>1809</th> <th>1810</th> <th>1811</th> <th>1812</th> <th>1813</th> <th>1814</th> <th>1815</th> <th>1816</th> <th>1817</th> <th>1818</th> <th>1819</th> <th>1820</th> <th>1821</th> <th>1822</th> <th>1823</th> <th>1824</th> <th>1825</th> <th>1826</th> <th>1827</th> <th>1828</th> <th>1829</th> <th>1830</th> <th>1831</th> <th>1832</th> <th>1833</th> <th>1834</th> <th>1835</th> <th>1836</th> <th>1837</th> <th>1838</th> <th>1839</th> <th>1840</th> <th>1841</th> <th>1842</th> <th>1843</th> <th>1844</th> <th>1845</th> <th>1846</th> <th>1847</th> <th>1848</th> <th>1849</th> <th>1850</th> <th>1851</th> <th>1852</th> <th>1853</th> <th>1854</th> <th>1855</th> <th>1856</th> <th>1857</th> <th>1858</th> <th>1859</th> <th>1860</th> <th>1861</th> <th>1862</th> <th>1863</th> <th>1864</th> <th>1865</th> <th>1866</th> <th>1867</th> <th>1868</th> <th>1869</th> <th>1870</th> <th>1871</th> <th>1872</th> <th>1873</th> <th>1874</th> <th>1875</th> <th>1876</th> <th>1877</th> <th>1878</th> <th>1879</th> <th>1880</th> <th>1881</th> <th>1882</th> <th>1883</th> <th>1884</th> <th>1885</th> <th>1886</th> <th>1887</th> <th>1888</th> <th>1889</th> <th>1890</th> <th>1891</th> <th>1892</th> <th>1893</th> <th>1894</th> <th>1895</th> <th>1896</th> <th>1897</th> <th>1898</th> <th>1899</th> <th>1900</th> <th>1901</th> <th>1902</th> <th>1903</th> <th>1904</th> <th>1905</th> <th>1906</th> <th>1907</th> <th>1908</th> <th>1909</th> <th>1910</th> <th>1911</th> <th>1912</th> <th>1913</th> <th>1914</th> <th>1915</th> <th>1916</th> <th>1917</th> <th>1918</th> <th>1919</th> <th>1920</th> <th>1921</th> <th>1922</th> <th>1923</th> <th>1924</th> <th>1925</th> <th>1926</th> <th>1927</th> <th>1928</th> <th>1929</th> <th>1930</th> <th>1931</th> <th>1932</th> <th>1933</th> <th>1934</th> <th>1935</th> <th>1936</th> <th>1937</th> <th>1938</th> <th>1939</th> <th>1940</th> <th>1941</th> <th>1942</th> <th>1943</th> <th>1944</th> <th>1945</th> <th>1946</th> <th>1947</th> <th>1948</th> <th>1949</th> <th>1950</th> <th>1951</th> <th>1952</th> <th>1953</th> <th>1954</th> <th>1955</th> <th>1956</th> <th>1957</th> <th>1958</th> <th>1959</th> <th>1960</th> <th>1961</th> <th>1962</th> <th>1963</th> <th>1964</th> <th>1965</th> <th>1966</th> <th>1967</th> <th>1968</th> <th>1969</th> <th>1970</th> <th>1971</th> <th>1972</th> <th>1973</th> <th>1974</th> <th>1975</th> <th>1976</th> <th>1977</th> <th>1978</th> <th>1979</th> <th>1980</th> <th>1981</th> <th>1982</th> <th>1983</th> <th>1984</th> <th>1985</th> <th>1986</th> <th>1987</th> <th>1988</th> <th>1989</th> <th>1990</th> <th>1991</th> <th>1992</th> <th>1993</th> <th>1994</th> <th>1995</th> <th>1996</th> <th>1997</th> <th>1998</th> <th>1999</th> <th>2000</th> <th>2001</th> <th>2002</th> <th>2003</th> <th>2004</th> <th>2005</th> <th>2006</th> <th>2007</th> <th>2008</th> <th>2009</th> <th>2010</th> <th>2011</th> <th>2012</th> <th>2013</th> <th>2014</th> <th>2015</th> <th>2016</th> <th>2017</th> <th>2018</th>\n",
       "        </tr>\n",
       "    </thead>\n",
       "    <tbody>\n",
       "        <tr>\n",
       "            <td>Afghanistan        </td> <td>28.2</td> <td>28.2</td> <td>28.2</td> <td>28.2</td> <td>28.2</td> <td>28.2</td> <td>28.1</td> <td>28.1</td> <td>28.1</td> <td>28.1</td> <td>28.1</td> <td>28.1</td> <td>28.1</td> <td>28.1</td> <td>28.1</td> <td>28.1</td> <td>28.1</td> <td>28  </td> <td>28  </td> <td>28  </td> <td>28  </td> <td>28  </td> <td>28  </td> <td>28  </td> <td>28  </td> <td>27.9</td> <td>27.9</td> <td>27.9</td> <td>27.9</td> <td>27.9</td> <td>27.9</td> <td>27.9</td> <td>27.9</td> <td>27.9</td> <td>27.9</td> <td>27.9</td> <td>27.8</td> <td>27.8</td> <td>27.8</td> <td>27.8</td> <td>27.8</td> <td>27.8</td> <td>27.8</td> <td>27.8</td> <td>27.8</td> <td>27.8</td> <td>27.7</td> <td>27.7</td> <td>27.7</td> <td>27.7</td> <td>27.7</td> <td>27.7</td> <td>27.7</td> <td>27.7</td> <td>27.7</td> <td>27.6</td> <td>27.6</td> <td>27.6</td> <td>27.6</td> <td>27.6</td> <td>27.6</td> <td>27.6</td> <td>27.6</td> <td>27.6</td> <td>27.6</td> <td>27.5</td> <td>27.5</td> <td>27.5</td> <td>27.5</td> <td>27.5</td> <td>27.5</td> <td>27.6</td> <td>27.6</td> <td>27.7</td> <td>27.7</td> <td>27.8</td> <td>27.8</td> <td>27.9</td> <td>28  </td> <td>28  </td> <td>28.1</td> <td>28.1</td> <td>28.2</td> <td>28.2</td> <td>28.3</td> <td>28.4</td> <td>28.4</td> <td>28.5</td> <td>28.5</td> <td>28.6</td> <td>28.6</td> <td>28.7</td> <td>28.8</td> <td>28.8</td> <td>28.9</td> <td>28.9</td> <td>29  </td> <td>29.1</td> <td>29.1</td> <td>29.2</td> <td>29.2</td> <td>29.3</td> <td>29.3</td> <td>29.4</td> <td>29.4</td> <td>29.5</td> <td>29.6</td> <td>29.6</td> <td>29.7</td> <td>29.7</td> <td>29.8</td> <td>29.8</td> <td>29.9</td> <td>29.9</td> <td>30  </td> <td>30.1</td> <td>30.1</td> <td>30.2</td> <td>7.89</td> <td>30.3</td> <td>30.3</td> <td>30.4</td> <td>30.4</td> <td>30.5</td> <td>30.6</td> <td>30.6</td> <td>30.7</td> <td>30.7</td> <td>30.8</td> <td>30.8</td> <td>30.9</td> <td>30.9</td> <td>31  </td> <td>31.1</td> <td>31.1</td> <td>31.2</td> <td>31.2</td> <td>31.3</td> <td>31.3</td> <td>31.4</td> <td>31.4</td> <td>31.5</td> <td>31.6</td> <td>31.6</td> <td>31.7</td> <td>31.7</td> <td>31.8</td> <td>31.8</td> <td>31.9</td> <td>31.9</td> <td>32  </td> <td>32.4</td> <td>33  </td> <td>33.7</td> <td>34.4</td> <td>35.1</td> <td>35.8</td> <td>36.5</td> <td>37.2</td> <td>37.9</td> <td>38.6</td> <td>39.4</td> <td>40.1</td> <td>40.8</td> <td>41.5</td> <td>42.2</td> <td>42.9</td> <td>43.7</td> <td>44.4</td> <td>45.1</td> <td>45.8</td> <td>45.9</td> <td>45.9</td> <td>46  </td> <td>46.1</td> <td>46.3</td> <td>46.5</td> <td>46.6</td> <td>45  </td> <td>43.6</td> <td>43.3</td> <td>44.1</td> <td>43.8</td> <td>42  </td> <td>39.8</td> <td>41.6</td> <td>42.6</td> <td>44.7</td> <td>47  </td> <td>50.8</td> <td>51.6</td> <td>51.3</td> <td>51.4</td> <td>51.4</td> <td>50.7</td> <td>51.1</td> <td>51.4</td> <td>51.1</td> <td>50.1</td> <td>51.5</td> <td>51.6</td> <td>51.7</td> <td>52.4</td> <td>53  </td> <td>53.5</td> <td>53.9</td> <td>54.1</td> <td>54.6</td> <td>55.2</td> <td>55.7</td> <td>56.2</td> <td>56.7</td> <td>57.2</td> <td>57.7</td> <td>57.8</td> <td>57.9</td> <td>58  </td> <td>58.4</td> <td>58.7</td>\n",
       "        </tr>\n",
       "        <tr>\n",
       "            <td>Albania            </td> <td>35.4</td> <td>35.4</td> <td>35.4</td> <td>35.4</td> <td>35.4</td> <td>35.4</td> <td>35.4</td> <td>35.4</td> <td>35.4</td> <td>35.4</td> <td>35.4</td> <td>35.4</td> <td>35.4</td> <td>35.4</td> <td>35.4</td> <td>35.4</td> <td>35.4</td> <td>35.4</td> <td>35.4</td> <td>35.4</td> <td>35.4</td> <td>35.4</td> <td>35.4</td> <td>35.4</td> <td>35.4</td> <td>35.4</td> <td>35.4</td> <td>35.4</td> <td>35.4</td> <td>35.4</td> <td>35.4</td> <td>35.4</td> <td>35.4</td> <td>35.4</td> <td>35.4</td> <td>35.4</td> <td>35.4</td> <td>35.4</td> <td>35.4</td> <td>35.4</td> <td>35.4</td> <td>35.4</td> <td>35.4</td> <td>35.4</td> <td>35.4</td> <td>35.4</td> <td>35.4</td> <td>35.4</td> <td>35.4</td> <td>35.4</td> <td>35.4</td> <td>35.4</td> <td>35.4</td> <td>35.4</td> <td>35.4</td> <td>35.4</td> <td>35.4</td> <td>35.4</td> <td>35.4</td> <td>35.4</td> <td>35.4</td> <td>35.4</td> <td>35.4</td> <td>35.4</td> <td>35.4</td> <td>35.4</td> <td>35.4</td> <td>35.4</td> <td>35.4</td> <td>35.4</td> <td>35.4</td> <td>35.4</td> <td>35.4</td> <td>35.4</td> <td>35.4</td> <td>35.4</td> <td>35.4</td> <td>35.4</td> <td>35.4</td> <td>35.4</td> <td>35.4</td> <td>35.4</td> <td>35.4</td> <td>35.4</td> <td>35.4</td> <td>35.4</td> <td>35.4</td> <td>35.4</td> <td>35.4</td> <td>35.4</td> <td>35.5</td> <td>35.5</td> <td>35.5</td> <td>35.5</td> <td>35.5</td> <td>35.5</td> <td>35.5</td> <td>35.5</td> <td>35.5</td> <td>35.5</td> <td>35.5</td> <td>35.5</td> <td>35.5</td> <td>35.5</td> <td>35.5</td> <td>35.5</td> <td>35.5</td> <td>35.5</td> <td>35.5</td> <td>35.5</td> <td>35.5</td> <td>35.5</td> <td>35.5</td> <td>35.5</td> <td>35.5</td> <td>35.5</td> <td>35.5</td> <td>35.5</td> <td>19.5</td> <td>35.5</td> <td>35.5</td> <td>35.5</td> <td>35.5</td> <td>35.5</td> <td>35.5</td> <td>35.5</td> <td>35.5</td> <td>35.5</td> <td>35.5</td> <td>35.5</td> <td>36.4</td> <td>37.3</td> <td>38.2</td> <td>39.1</td> <td>40  </td> <td>40.9</td> <td>41.8</td> <td>42.8</td> <td>43.6</td> <td>43.2</td> <td>42.2</td> <td>41.7</td> <td>40.2</td> <td>37.2</td> <td>34.2</td> <td>47.2</td> <td>50.3</td> <td>51.8</td> <td>52.7</td> <td>53.6</td> <td>54.5</td> <td>54.7</td> <td>55.2</td> <td>55.8</td> <td>56.5</td> <td>57.3</td> <td>58.3</td> <td>59.3</td> <td>60.4</td> <td>61.6</td> <td>62.7</td> <td>63.7</td> <td>64.6</td> <td>65.3</td> <td>65.9</td> <td>66.3</td> <td>66.5</td> <td>66.7</td> <td>66.9</td> <td>67.1</td> <td>67.4</td> <td>68  </td> <td>68.6</td> <td>69.2</td> <td>69.8</td> <td>70.3</td> <td>70.8</td> <td>71.3</td> <td>71.7</td> <td>72  </td> <td>72.3</td> <td>72.4</td> <td>72.5</td> <td>72.6</td> <td>72.8</td> <td>73  </td> <td>73.2</td> <td>73.2</td> <td>73.4</td> <td>73.7</td> <td>73.9</td> <td>73.9</td> <td>73.9</td> <td>73.9</td> <td>74  </td> <td>74.1</td> <td>74.3</td> <td>72.5</td> <td>74.3</td> <td>74.4</td> <td>74.4</td> <td>74.5</td> <td>74.5</td> <td>74.6</td> <td>74.7</td> <td>74.9</td> <td>75.2</td> <td>75.4</td> <td>75.6</td> <td>75.9</td> <td>76.3</td> <td>76.7</td> <td>77  </td> <td>77.2</td> <td>77.4</td> <td>77.6</td> <td>77.7</td> <td>77.9</td> <td>78  </td>\n",
       "        </tr>\n",
       "        <tr>\n",
       "            <td>Algeria            </td> <td>28.8</td> <td>28.8</td> <td>28.8</td> <td>28.8</td> <td>28.8</td> <td>28.8</td> <td>28.8</td> <td>28.8</td> <td>28.8</td> <td>28.8</td> <td>28.8</td> <td>28.8</td> <td>28.8</td> <td>28.8</td> <td>28.8</td> <td>28.8</td> <td>28.8</td> <td>28.8</td> <td>28.8</td> <td>28.8</td> <td>28.8</td> <td>28.8</td> <td>28.8</td> <td>28.8</td> <td>28.8</td> <td>28.8</td> <td>28.8</td> <td>28.8</td> <td>28.8</td> <td>28.8</td> <td>28.8</td> <td>28.8</td> <td>28.8</td> <td>28.8</td> <td>28.8</td> <td>28.8</td> <td>28.8</td> <td>28.8</td> <td>28.8</td> <td>28.8</td> <td>28.8</td> <td>28.8</td> <td>28.8</td> <td>28.8</td> <td>28.8</td> <td>28.8</td> <td>28.8</td> <td>28.8</td> <td>28.8</td> <td>20  </td> <td>15  </td> <td>22  </td> <td>28.8</td> <td>28.8</td> <td>28.8</td> <td>28.8</td> <td>28.8</td> <td>28.8</td> <td>28.8</td> <td>28.8</td> <td>28.8</td> <td>28.8</td> <td>28.8</td> <td>28.8</td> <td>28.8</td> <td>28.8</td> <td>28.8</td> <td>21  </td> <td>11  </td> <td>15  </td> <td>22  </td> <td>28.9</td> <td>28.9</td> <td>28.9</td> <td>29  </td> <td>29  </td> <td>29.1</td> <td>29.1</td> <td>29.1</td> <td>29.2</td> <td>29.2</td> <td>29.3</td> <td>29.3</td> <td>29.4</td> <td>29.4</td> <td>29.4</td> <td>29.5</td> <td>29.5</td> <td>29.6</td> <td>29.6</td> <td>29.6</td> <td>29.7</td> <td>29.7</td> <td>29.8</td> <td>29.8</td> <td>29.8</td> <td>29.9</td> <td>29.9</td> <td>30  </td> <td>30  </td> <td>30.1</td> <td>30.2</td> <td>30.3</td> <td>31.3</td> <td>25.3</td> <td>28  </td> <td>29.5</td> <td>29.4</td> <td>29.3</td> <td>30.9</td> <td>32.5</td> <td>32.3</td> <td>33.7</td> <td>31.5</td> <td>31  </td> <td>30.5</td> <td>30.1</td> <td>30.2</td> <td>23.6</td> <td>30.3</td> <td>29.4</td> <td>29.5</td> <td>29.2</td> <td>31.8</td> <td>33.3</td> <td>34.1</td> <td>33.4</td> <td>28.6</td> <td>32.2</td> <td>32.5</td> <td>33.8</td> <td>31.7</td> <td>33.1</td> <td>34.3</td> <td>33.7</td> <td>35.6</td> <td>36.8</td> <td>34.9</td> <td>34.3</td> <td>36.6</td> <td>37.1</td> <td>35.3</td> <td>34.7</td> <td>30  </td> <td>35.5</td> <td>33.2</td> <td>35.4</td> <td>38.8</td> <td>42  </td> <td>44.4</td> <td>46.9</td> <td>47.1</td> <td>47.6</td> <td>48.1</td> <td>48.6</td> <td>49.2</td> <td>49.7</td> <td>50.3</td> <td>50.9</td> <td>51.4</td> <td>52  </td> <td>52.6</td> <td>53.2</td> <td>53.8</td> <td>54.3</td> <td>54.9</td> <td>55.4</td> <td>56  </td> <td>56.5</td> <td>57  </td> <td>57.5</td> <td>57.8</td> <td>58.2</td> <td>58.5</td> <td>59.1</td> <td>59.5</td> <td>60  </td> <td>60.6</td> <td>61.2</td> <td>61.9</td> <td>62.1</td> <td>63.4</td> <td>64.4</td> <td>65.7</td> <td>66.9</td> <td>68  </td> <td>68.7</td> <td>69.4</td> <td>70  </td> <td>70.5</td> <td>71  </td> <td>71.4</td> <td>71.7</td> <td>72  </td> <td>72.1</td> <td>72.3</td> <td>72.8</td> <td>73  </td> <td>73.1</td> <td>73.5</td> <td>73.9</td> <td>74.1</td> <td>74.4</td> <td>74.5</td> <td>75.1</td> <td>75.4</td> <td>75.6</td> <td>75.9</td> <td>76.1</td> <td>76.3</td> <td>76.5</td> <td>76.7</td> <td>76.8</td> <td>77  </td> <td>77.1</td> <td>77.3</td> <td>77.4</td> <td>77.6</td> <td>77.9</td>\n",
       "        </tr>\n",
       "        <tr>\n",
       "            <td>Angola             </td> <td>27  </td> <td>27  </td> <td>27  </td> <td>27  </td> <td>27  </td> <td>27  </td> <td>27  </td> <td>27  </td> <td>27  </td> <td>27  </td> <td>27  </td> <td>27  </td> <td>27  </td> <td>27  </td> <td>27  </td> <td>27  </td> <td>27  </td> <td>27  </td> <td>27  </td> <td>27  </td> <td>27  </td> <td>27  </td> <td>27  </td> <td>27  </td> <td>27  </td> <td>27  </td> <td>27  </td> <td>27  </td> <td>27  </td> <td>27  </td> <td>27  </td> <td>27  </td> <td>27  </td> <td>27  </td> <td>27  </td> <td>27  </td> <td>27  </td> <td>27  </td> <td>27  </td> <td>27  </td> <td>27  </td> <td>27  </td> <td>27  </td> <td>27  </td> <td>27  </td> <td>27  </td> <td>27  </td> <td>27  </td> <td>27  </td> <td>27  </td> <td>27  </td> <td>27  </td> <td>27  </td> <td>27  </td> <td>27  </td> <td>27  </td> <td>27  </td> <td>27  </td> <td>27  </td> <td>27  </td> <td>27  </td> <td>27  </td> <td>27  </td> <td>27  </td> <td>27  </td> <td>27  </td> <td>27  </td> <td>27  </td> <td>27  </td> <td>27  </td> <td>27  </td> <td>27.1</td> <td>27.1</td> <td>27.2</td> <td>27.3</td> <td>27.4</td> <td>27.5</td> <td>27.6</td> <td>27.7</td> <td>27.8</td> <td>27.8</td> <td>27.9</td> <td>28  </td> <td>28.1</td> <td>28.2</td> <td>28.3</td> <td>28.3</td> <td>28.4</td> <td>28.5</td> <td>28.6</td> <td>28.7</td> <td>28.8</td> <td>28.9</td> <td>28.9</td> <td>29  </td> <td>29.1</td> <td>29.2</td> <td>29.3</td> <td>29.4</td> <td>29.4</td> <td>29.5</td> <td>29.6</td> <td>29.7</td> <td>29.8</td> <td>29.9</td> <td>30  </td> <td>30.1</td> <td>30.1</td> <td>30.2</td> <td>30.3</td> <td>30.4</td> <td>30.5</td> <td>30.6</td> <td>30.6</td> <td>30.7</td> <td>30.8</td> <td>30.9</td> <td>31  </td> <td>12  </td> <td>31.2</td> <td>31.2</td> <td>31.3</td> <td>31.4</td> <td>31.5</td> <td>31.6</td> <td>31.7</td> <td>31.8</td> <td>31.8</td> <td>31.9</td> <td>32  </td> <td>32.1</td> <td>32.2</td> <td>32.3</td> <td>32.4</td> <td>32.4</td> <td>32.5</td> <td>32.6</td> <td>32.7</td> <td>32.8</td> <td>32.9</td> <td>33  </td> <td>33.3</td> <td>33.7</td> <td>34  </td> <td>34.4</td> <td>34.8</td> <td>35.1</td> <td>35.5</td> <td>35.9</td> <td>36.2</td> <td>36.6</td> <td>36.9</td> <td>37.5</td> <td>38.1</td> <td>38.7</td> <td>39.3</td> <td>39.9</td> <td>40.5</td> <td>41.2</td> <td>41.8</td> <td>42.4</td> <td>43  </td> <td>43.6</td> <td>44.3</td> <td>44.9</td> <td>45.5</td> <td>46.2</td> <td>46.8</td> <td>47.4</td> <td>48.1</td> <td>48.7</td> <td>49  </td> <td>49.2</td> <td>49.4</td> <td>49.6</td> <td>49.5</td> <td>49.5</td> <td>49.6</td> <td>49.7</td> <td>49.8</td> <td>49.9</td> <td>50  </td> <td>50  </td> <td>50.1</td> <td>50.2</td> <td>50.3</td> <td>50.2</td> <td>50  </td> <td>49.8</td> <td>50.2</td> <td>50.2</td> <td>50.8</td> <td>51  </td> <td>49.7</td> <td>51.1</td> <td>52  </td> <td>52.3</td> <td>52.7</td> <td>52.8</td> <td>52.9</td> <td>53.4</td> <td>53.6</td> <td>54.5</td> <td>55.1</td> <td>55.7</td> <td>56.5</td> <td>57  </td> <td>57.8</td> <td>58.6</td> <td>59.3</td> <td>60.1</td> <td>60.9</td> <td>61.7</td> <td>62.5</td> <td>63.3</td> <td>64  </td> <td>64.7</td> <td>64.9</td> <td>65.2</td>\n",
       "        </tr>\n",
       "        <tr>\n",
       "            <td>Antigua and Barbuda</td> <td>33.5</td> <td>33.5</td> <td>33.5</td> <td>33.5</td> <td>33.5</td> <td>33.5</td> <td>33.5</td> <td>33.5</td> <td>33.5</td> <td>33.5</td> <td>33.5</td> <td>33.5</td> <td>33.5</td> <td>33.5</td> <td>33.5</td> <td>33.5</td> <td>33.5</td> <td>33.5</td> <td>33.5</td> <td>33.5</td> <td>33.5</td> <td>33.5</td> <td>33.5</td> <td>33.5</td> <td>33.5</td> <td>33.5</td> <td>33.5</td> <td>33.5</td> <td>33.5</td> <td>33.5</td> <td>33.5</td> <td>33.5</td> <td>33.5</td> <td>33.5</td> <td>33.5</td> <td>33.5</td> <td>33.5</td> <td>33.5</td> <td>33.5</td> <td>33.5</td> <td>33.5</td> <td>33.5</td> <td>33.5</td> <td>33.5</td> <td>33.5</td> <td>33.5</td> <td>33.5</td> <td>33.5</td> <td>33.5</td> <td>33.5</td> <td>33.5</td> <td>33.5</td> <td>33.5</td> <td>33.5</td> <td>33.5</td> <td>33.5</td> <td>33.5</td> <td>33.5</td> <td>33.5</td> <td>33.5</td> <td>33.5</td> <td>33.5</td> <td>33.5</td> <td>33.5</td> <td>33.5</td> <td>33.5</td> <td>33.5</td> <td>33.5</td> <td>33.5</td> <td>33.5</td> <td>33.5</td> <td>33.5</td> <td>33.5</td> <td>33.5</td> <td>33.6</td> <td>33.6</td> <td>33.6</td> <td>33.6</td> <td>33.6</td> <td>33.6</td> <td>33.6</td> <td>33.6</td> <td>33.6</td> <td>33.6</td> <td>33.6</td> <td>33.6</td> <td>33.6</td> <td>33.6</td> <td>33.6</td> <td>33.6</td> <td>33.6</td> <td>33.6</td> <td>33.6</td> <td>33.6</td> <td>33.6</td> <td>33.7</td> <td>33.7</td> <td>33.7</td> <td>33.7</td> <td>33.7</td> <td>33.7</td> <td>33.7</td> <td>33.7</td> <td>33.7</td> <td>33.7</td> <td>33.7</td> <td>33.7</td> <td>33.7</td> <td>33.7</td> <td>33.7</td> <td>33.7</td> <td>33.7</td> <td>33.7</td> <td>33.8</td> <td>33.8</td> <td>33.8</td> <td>33.8</td> <td>33.8</td> <td>21.9</td> <td>33.8</td> <td>33.8</td> <td>33.8</td> <td>34.6</td> <td>35.5</td> <td>36.3</td> <td>37.1</td> <td>38  </td> <td>38.8</td> <td>39.7</td> <td>40.5</td> <td>41.3</td> <td>42.2</td> <td>43  </td> <td>43.9</td> <td>44.7</td> <td>45.5</td> <td>46.4</td> <td>47.2</td> <td>48.1</td> <td>48.9</td> <td>49.8</td> <td>50.6</td> <td>51.4</td> <td>52.3</td> <td>53.1</td> <td>54  </td> <td>54.8</td> <td>55.6</td> <td>56.5</td> <td>57.4</td> <td>58.2</td> <td>58.5</td> <td>59  </td> <td>59.5</td> <td>60  </td> <td>60.5</td> <td>61  </td> <td>61.5</td> <td>62  </td> <td>62.4</td> <td>62.9</td> <td>63.4</td> <td>63.8</td> <td>64.2</td> <td>64.6</td> <td>65  </td> <td>65.4</td> <td>65.8</td> <td>66.1</td> <td>66.5</td> <td>66.8</td> <td>67.2</td> <td>67.6</td> <td>68  </td> <td>68.3</td> <td>68.4</td> <td>68.6</td> <td>69  </td> <td>69.3</td> <td>70  </td> <td>70.6</td> <td>71.1</td> <td>71.5</td> <td>72.1</td> <td>72.3</td> <td>72.5</td> <td>72.8</td> <td>73.1</td> <td>73.3</td> <td>73.5</td> <td>73.8</td> <td>74  </td> <td>74.1</td> <td>74.2</td> <td>74.3</td> <td>74.4</td> <td>74.4</td> <td>74.8</td> <td>75  </td> <td>74.9</td> <td>74.7</td> <td>75.1</td> <td>75.3</td> <td>75.5</td> <td>75.7</td> <td>75.9</td> <td>76  </td> <td>76.4</td> <td>76.6</td> <td>76.9</td> <td>76.8</td> <td>76.9</td> <td>77  </td> <td>77.3</td> <td>77.1</td> <td>77.2</td> <td>77.3</td> <td>77.4</td> <td>77.6</td>\n",
       "        </tr>\n",
       "        <tr>\n",
       "            <td>Argentina          </td> <td>33.2</td> <td>33.2</td> <td>33.2</td> <td>33.2</td> <td>33.2</td> <td>33.2</td> <td>33.2</td> <td>33.2</td> <td>33.2</td> <td>33.2</td> <td>33.2</td> <td>33.2</td> <td>33.2</td> <td>33.2</td> <td>33.2</td> <td>33.2</td> <td>33.2</td> <td>33.2</td> <td>33.2</td> <td>33.2</td> <td>33.2</td> <td>33.2</td> <td>33.2</td> <td>33.2</td> <td>33.2</td> <td>33.2</td> <td>33.2</td> <td>33.2</td> <td>33.2</td> <td>33.2</td> <td>33.2</td> <td>33.2</td> <td>33.2</td> <td>33.2</td> <td>33.2</td> <td>33.2</td> <td>33.2</td> <td>33.2</td> <td>33.2</td> <td>33.2</td> <td>33.2</td> <td>33.2</td> <td>33.2</td> <td>33.2</td> <td>33.2</td> <td>33.2</td> <td>33.2</td> <td>33.2</td> <td>33.2</td> <td>33.2</td> <td>33.2</td> <td>33.2</td> <td>33.2</td> <td>33.2</td> <td>33.2</td> <td>33.2</td> <td>33.2</td> <td>33.2</td> <td>33.2</td> <td>33.2</td> <td>33.2</td> <td>33.2</td> <td>33.2</td> <td>33.2</td> <td>33.2</td> <td>33.2</td> <td>33.2</td> <td>33.2</td> <td>33.2</td> <td>33.2</td> <td>33.2</td> <td>33.2</td> <td>33.2</td> <td>33.2</td> <td>33.2</td> <td>33.2</td> <td>33.1</td> <td>33.1</td> <td>33.1</td> <td>33.1</td> <td>33  </td> <td>32.9</td> <td>32.8</td> <td>32.7</td> <td>32.6</td> <td>32.5</td> <td>32.8</td> <td>33.1</td> <td>33.3</td> <td>33.6</td> <td>33.9</td> <td>33.7</td> <td>33.6</td> <td>33.5</td> <td>33.3</td> <td>33.2</td> <td>33.9</td> <td>34.5</td> <td>35.2</td> <td>35.9</td> <td>36.6</td> <td>37.2</td> <td>37.8</td> <td>38.3</td> <td>38.9</td> <td>39.5</td> <td>40.2</td> <td>41  </td> <td>41.7</td> <td>42.5</td> <td>43.2</td> <td>43.7</td> <td>44.3</td> <td>44.8</td> <td>45.3</td> <td>45.9</td> <td>46.6</td> <td>47.4</td> <td>41.4</td> <td>49  </td> <td>49.8</td> <td>50.3</td> <td>50.7</td> <td>51.2</td> <td>51.7</td> <td>52.1</td> <td>52.5</td> <td>52.8</td> <td>53.1</td> <td>53.4</td> <td>53.8</td> <td>53.8</td> <td>53.8</td> <td>53.7</td> <td>53.7</td> <td>53.7</td> <td>54.7</td> <td>55.6</td> <td>56.5</td> <td>57.5</td> <td>58.4</td> <td>59  </td> <td>59.5</td> <td>60.1</td> <td>60.7</td> <td>61.2</td> <td>61.1</td> <td>61  </td> <td>60.9</td> <td>60.7</td> <td>60.6</td> <td>60.9</td> <td>61.5</td> <td>62  </td> <td>62.5</td> <td>62.9</td> <td>63.2</td> <td>63.5</td> <td>63.7</td> <td>63.9</td> <td>64.1</td> <td>64.2</td> <td>64.3</td> <td>64.3</td> <td>64.4</td> <td>64.5</td> <td>64.6</td> <td>64.7</td> <td>64.9</td> <td>65.1</td> <td>65.4</td> <td>65.7</td> <td>66  </td> <td>66.4</td> <td>66.8</td> <td>67.3</td> <td>67.8</td> <td>68.2</td> <td>68.8</td> <td>69.4</td> <td>69.8</td> <td>70.2</td> <td>70.5</td> <td>70.6</td> <td>70.9</td> <td>71.3</td> <td>71.6</td> <td>71.8</td> <td>71.9</td> <td>72  </td> <td>72.1</td> <td>72.3</td> <td>72.5</td> <td>72.7</td> <td>73  </td> <td>73.1</td> <td>73.3</td> <td>73.5</td> <td>73.7</td> <td>73.9</td> <td>74.2</td> <td>74.4</td> <td>74.5</td> <td>74.6</td> <td>74.9</td> <td>75.2</td> <td>75.3</td> <td>75.3</td> <td>75.5</td> <td>75.7</td> <td>75.8</td> <td>76  </td> <td>76.1</td> <td>76.2</td> <td>76.4</td> <td>76.5</td> <td>76.7</td> <td>76.8</td> <td>77  </td>\n",
       "        </tr>\n",
       "        <tr>\n",
       "            <td>Armenia            </td> <td>34  </td> <td>34  </td> <td>34  </td> <td>34  </td> <td>34  </td> <td>34  </td> <td>34  </td> <td>34  </td> <td>34  </td> <td>34  </td> <td>34  </td> <td>34  </td> <td>34  </td> <td>34  </td> <td>34  </td> <td>34  </td> <td>34  </td> <td>34  </td> <td>34  </td> <td>34  </td> <td>34  </td> <td>34  </td> <td>34  </td> <td>34  </td> <td>34  </td> <td>34  </td> <td>34  </td> <td>34  </td> <td>34  </td> <td>34  </td> <td>34  </td> <td>34  </td> <td>34  </td> <td>34  </td> <td>34  </td> <td>34  </td> <td>34  </td> <td>34  </td> <td>34  </td> <td>34  </td> <td>34  </td> <td>34  </td> <td>34  </td> <td>34  </td> <td>34  </td> <td>34  </td> <td>34  </td> <td>34  </td> <td>34  </td> <td>34  </td> <td>34  </td> <td>34  </td> <td>34  </td> <td>34  </td> <td>34  </td> <td>34  </td> <td>34  </td> <td>34  </td> <td>34  </td> <td>34  </td> <td>34  </td> <td>34  </td> <td>34  </td> <td>34  </td> <td>33.5</td> <td>33  </td> <td>32.4</td> <td>31.9</td> <td>31.4</td> <td>31.4</td> <td>31.5</td> <td>31.5</td> <td>31.5</td> <td>31.5</td> <td>31.7</td> <td>31.9</td> <td>32.1</td> <td>32.3</td> <td>32.4</td> <td>32.6</td> <td>32.8</td> <td>33  </td> <td>33.1</td> <td>33.3</td> <td>33.5</td> <td>33.7</td> <td>33.8</td> <td>34  </td> <td>34.2</td> <td>34.4</td> <td>34.5</td> <td>34.7</td> <td>34.9</td> <td>35  </td> <td>35.2</td> <td>35.4</td> <td>35.6</td> <td>35.7</td> <td>35.5</td> <td>35.4</td> <td>35.2</td> <td>35.4</td> <td>35.6</td> <td>35.8</td> <td>36.1</td> <td>36.3</td> <td>36.5</td> <td>36.7</td> <td>36.9</td> <td>37.2</td> <td>37.4</td> <td>40.2</td> <td>40.6</td> <td>38.5</td> <td>38  </td> <td>37.6</td> <td>37.6</td> <td>34.7</td> <td>26.1</td> <td>35.8</td> <td>27.1</td> <td>36.7</td> <td>37.6</td> <td>38.5</td> <td>40.8</td> <td>40  </td> <td>43  </td> <td>42.3</td> <td>43.8</td> <td>42.5</td> <td>41.8</td> <td>40.3</td> <td>37.9</td> <td>31.6</td> <td>44  </td> <td>45.4</td> <td>47  </td> <td>46  </td> <td>47.6</td> <td>49.9</td> <td>47.5</td> <td>26.7</td> <td>23.3</td> <td>21.4</td> <td>28.5</td> <td>37.5</td> <td>53.9</td> <td>46.3</td> <td>53.9</td> <td>56.5</td> <td>58.7</td> <td>58.8</td> <td>59.2</td> <td>59.5</td> <td>59.9</td> <td>60.3</td> <td>60.6</td> <td>60.9</td> <td>61.3</td> <td>61.7</td> <td>62  </td> <td>62.4</td> <td>62.7</td> <td>63.1</td> <td>63.5</td> <td>63.8</td> <td>64.2</td> <td>64.5</td> <td>64.9</td> <td>65.2</td> <td>65.5</td> <td>66  </td> <td>66.5</td> <td>67.1</td> <td>67.6</td> <td>68  </td> <td>68.4</td> <td>68.8</td> <td>69.2</td> <td>69.4</td> <td>69.6</td> <td>69.9</td> <td>70.4</td> <td>70.3</td> <td>70.6</td> <td>70.7</td> <td>71.2</td> <td>71.4</td> <td>55  </td> <td>70.6</td> <td>70.2</td> <td>70  </td> <td>69  </td> <td>68.7</td> <td>68.9</td> <td>69.3</td> <td>69.5</td> <td>70.3</td> <td>70.7</td> <td>71.2</td> <td>71.8</td> <td>72.1</td> <td>72.5</td> <td>72.5</td> <td>72.7</td> <td>72.5</td> <td>72.5</td> <td>72.9</td> <td>72.8</td> <td>73  </td> <td>73.3</td> <td>73.8</td> <td>74.3</td> <td>75  </td> <td>75.4</td> <td>75.4</td> <td>75.7</td> <td>75.8</td> <td>76  </td>\n",
       "        </tr>\n",
       "        <tr>\n",
       "            <td>Australia          </td> <td>34  </td> <td>34  </td> <td>34  </td> <td>34  </td> <td>34  </td> <td>34  </td> <td>34  </td> <td>34  </td> <td>34  </td> <td>34  </td> <td>34  </td> <td>34  </td> <td>34  </td> <td>34  </td> <td>34  </td> <td>34  </td> <td>34  </td> <td>34  </td> <td>34  </td> <td>34  </td> <td>34  </td> <td>34  </td> <td>34  </td> <td>34  </td> <td>34  </td> <td>34  </td> <td>34  </td> <td>34  </td> <td>34  </td> <td>34  </td> <td>34  </td> <td>34  </td> <td>34  </td> <td>34  </td> <td>34  </td> <td>34  </td> <td>34  </td> <td>34  </td> <td>34  </td> <td>34  </td> <td>34  </td> <td>34  </td> <td>34  </td> <td>34  </td> <td>34  </td> <td>34  </td> <td>34  </td> <td>34  </td> <td>34  </td> <td>34  </td> <td>34  </td> <td>34  </td> <td>34  </td> <td>34  </td> <td>34  </td> <td>34  </td> <td>34  </td> <td>34  </td> <td>34  </td> <td>34  </td> <td>34  </td> <td>34  </td> <td>34  </td> <td>34  </td> <td>34  </td> <td>34  </td> <td>34  </td> <td>34  </td> <td>34  </td> <td>34  </td> <td>34  </td> <td>34.6</td> <td>35.1</td> <td>35.6</td> <td>36.2</td> <td>36.7</td> <td>37.2</td> <td>37.8</td> <td>38.3</td> <td>38.8</td> <td>39.4</td> <td>39.9</td> <td>40.4</td> <td>41  </td> <td>41.5</td> <td>42  </td> <td>42.6</td> <td>43.1</td> <td>43.6</td> <td>44.2</td> <td>44.7</td> <td>45.2</td> <td>45.8</td> <td>46.3</td> <td>46.8</td> <td>47.4</td> <td>47.9</td> <td>48.4</td> <td>49  </td> <td>49.5</td> <td>50  </td> <td>50.5</td> <td>51.1</td> <td>51.6</td> <td>52.1</td> <td>52.7</td> <td>53.2</td> <td>53.7</td> <td>54.3</td> <td>54.8</td> <td>55.4</td> <td>55.9</td> <td>56.4</td> <td>57  </td> <td>57.5</td> <td>58  </td> <td>58.5</td> <td>59.1</td> <td>55  </td> <td>60.1</td> <td>60.7</td> <td>61.2</td> <td>63.1</td> <td>61.9</td> <td>62.7</td> <td>63.4</td> <td>63.1</td> <td>63.1</td> <td>63.2</td> <td>63.4</td> <td>65.2</td> <td>65.6</td> <td>65.9</td> <td>65.8</td> <td>65.1</td> <td>65.4</td> <td>65.5</td> <td>66.1</td> <td>66.1</td> <td>66.1</td> <td>66.5</td> <td>66.4</td> <td>66.2</td> <td>66.7</td> <td>68.3</td> <td>68.8</td> <td>68.3</td> <td>68.9</td> <td>68.8</td> <td>69.4</td> <td>69.3</td> <td>69  </td> <td>69.4</td> <td>70  </td> <td>70.2</td> <td>70.5</td> <td>70.4</td> <td>70.7</td> <td>71.2</td> <td>70.8</td> <td>71.3</td> <td>71.5</td> <td>71.3</td> <td>71.4</td> <td>71  </td> <td>71.4</td> <td>71.2</td> <td>71.5</td> <td>71.1</td> <td>71.5</td> <td>71.2</td> <td>71.5</td> <td>71.8</td> <td>72  </td> <td>72.2</td> <td>72.7</td> <td>73  </td> <td>73.5</td> <td>73.9</td> <td>74.3</td> <td>74.6</td> <td>74.9</td> <td>75  </td> <td>75.3</td> <td>75.5</td> <td>75.7</td> <td>76  </td> <td>76.2</td> <td>76.4</td> <td>76.6</td> <td>77  </td> <td>77.4</td> <td>77.6</td> <td>77.9</td> <td>78.1</td> <td>78.3</td> <td>78.5</td> <td>78.8</td> <td>79.1</td> <td>79.4</td> <td>79.7</td> <td>80  </td> <td>80.2</td> <td>80.5</td> <td>80.8</td> <td>81.1</td> <td>81.3</td> <td>81.4</td> <td>81.6</td> <td>81.8</td> <td>82  </td> <td>82.2</td> <td>82.3</td> <td>82.5</td> <td>82.6</td> <td>82.6</td> <td>82.5</td> <td>82.7</td> <td>82.9</td>\n",
       "        </tr>\n",
       "        <tr>\n",
       "            <td>Austria            </td> <td>34.4</td> <td>34.4</td> <td>34.4</td> <td>34.4</td> <td>34.4</td> <td>34.4</td> <td>34.4</td> <td>34.4</td> <td>34.4</td> <td>34.4</td> <td>34.4</td> <td>34.4</td> <td>34.4</td> <td>34.4</td> <td>34.4</td> <td>34.4</td> <td>34.4</td> <td>34.4</td> <td>34.4</td> <td>34.4</td> <td>34.4</td> <td>34.4</td> <td>34.4</td> <td>34.4</td> <td>34.4</td> <td>34.4</td> <td>34.4</td> <td>34.4</td> <td>34.4</td> <td>34.4</td> <td>34.4</td> <td>34.4</td> <td>34.4</td> <td>34.4</td> <td>34.4</td> <td>34.4</td> <td>34.4</td> <td>34.4</td> <td>34.4</td> <td>34.4</td> <td>34.4</td> <td>34.4</td> <td>34.4</td> <td>34.4</td> <td>34.4</td> <td>34.4</td> <td>34.4</td> <td>34.4</td> <td>34.4</td> <td>34.4</td> <td>34.4</td> <td>34.4</td> <td>34.4</td> <td>34.4</td> <td>34.4</td> <td>34.4</td> <td>34.4</td> <td>34.4</td> <td>34.4</td> <td>34.4</td> <td>34.4</td> <td>34.4</td> <td>34.4</td> <td>34.4</td> <td>34.4</td> <td>34.4</td> <td>34.4</td> <td>34.4</td> <td>34.4</td> <td>34.4</td> <td>34.4</td> <td>34.5</td> <td>34.5</td> <td>34.6</td> <td>34.6</td> <td>34.7</td> <td>34.7</td> <td>34.8</td> <td>34.8</td> <td>34.9</td> <td>35  </td> <td>35  </td> <td>35.2</td> <td>35.5</td> <td>35.7</td> <td>35.9</td> <td>36.1</td> <td>36.4</td> <td>36.6</td> <td>36.8</td> <td>37.1</td> <td>37.3</td> <td>37.8</td> <td>38.2</td> <td>38.7</td> <td>39.2</td> <td>39.6</td> <td>40.1</td> <td>40.6</td> <td>41  </td> <td>41.5</td> <td>42  </td> <td>41  </td> <td>40.1</td> <td>40.7</td> <td>41.3</td> <td>42  </td> <td>42.6</td> <td>43.2</td> <td>43.8</td> <td>44.5</td> <td>45.1</td> <td>45.6</td> <td>46.2</td> <td>46.8</td> <td>47.4</td> <td>47.9</td> <td>48.5</td> <td>32.4</td> <td>49.6</td> <td>50.2</td> <td>50.8</td> <td>51.3</td> <td>51.9</td> <td>52.5</td> <td>53  </td> <td>53.6</td> <td>54.1</td> <td>54.7</td> <td>55.3</td> <td>55.9</td> <td>56.4</td> <td>56.7</td> <td>57  </td> <td>57.3</td> <td>57.6</td> <td>57.9</td> <td>58.2</td> <td>58.5</td> <td>58.1</td> <td>57.8</td> <td>56.5</td> <td>54.1</td> <td>50.2</td> <td>39.1</td> <td>31.4</td> <td>56  </td> <td>61.3</td> <td>63.2</td> <td>63.4</td> <td>64.8</td> <td>65.2</td> <td>66.8</td> <td>67.2</td> <td>67.3</td> <td>67.5</td> <td>67.7</td> <td>67.4</td> <td>68.4</td> <td>68.4</td> <td>68.7</td> <td>69.7</td> <td>69.5</td> <td>69.6</td> <td>70.1</td> <td>69.9</td> <td>70.2</td> <td>70.1</td> <td>70.2</td> <td>70  </td> <td>70  </td> <td>70.2</td> <td>70.4</td> <td>70.8</td> <td>71  </td> <td>71.2</td> <td>71.6</td> <td>72  </td> <td>72.1</td> <td>72.3</td> <td>72.5</td> <td>72.8</td> <td>73  </td> <td>73.2</td> <td>73.5</td> <td>73.9</td> <td>74.3</td> <td>74.6</td> <td>75  </td> <td>75.2</td> <td>75.5</td> <td>75.7</td> <td>75.9</td> <td>76.1</td> <td>76.4</td> <td>76.7</td> <td>77  </td> <td>77.3</td> <td>77.5</td> <td>77.8</td> <td>78.1</td> <td>78.5</td> <td>78.7</td> <td>78.9</td> <td>79.2</td> <td>79.5</td> <td>79.8</td> <td>80  </td> <td>80.2</td> <td>80.3</td> <td>80.5</td> <td>80.7</td> <td>80.9</td> <td>81.1</td> <td>81.3</td> <td>81.4</td> <td>81.5</td> <td>81.7</td> <td>81.8</td>\n",
       "        </tr>\n",
       "        <tr>\n",
       "            <td>Azerbaijan         </td> <td>29.2</td> <td>29.2</td> <td>29.2</td> <td>29.2</td> <td>29.2</td> <td>29.2</td> <td>29.2</td> <td>29.2</td> <td>29.2</td> <td>29.2</td> <td>29.2</td> <td>29.2</td> <td>29.2</td> <td>29.2</td> <td>29.2</td> <td>29.2</td> <td>29.2</td> <td>29.2</td> <td>29.2</td> <td>29.2</td> <td>29.2</td> <td>29.2</td> <td>29.2</td> <td>29.2</td> <td>29.2</td> <td>29.2</td> <td>29.2</td> <td>29.2</td> <td>29.2</td> <td>29.2</td> <td>29.2</td> <td>29.2</td> <td>29.2</td> <td>29.2</td> <td>29.2</td> <td>29.2</td> <td>29.2</td> <td>29.2</td> <td>29.2</td> <td>29.2</td> <td>29.2</td> <td>29.2</td> <td>29.2</td> <td>29.2</td> <td>29.2</td> <td>29.2</td> <td>29.2</td> <td>29.2</td> <td>29.2</td> <td>29.2</td> <td>29.2</td> <td>29.2</td> <td>29.2</td> <td>29.2</td> <td>29.2</td> <td>29.2</td> <td>29.2</td> <td>29.2</td> <td>29.2</td> <td>29.2</td> <td>29.2</td> <td>29.2</td> <td>29.2</td> <td>29.2</td> <td>28.6</td> <td>28.1</td> <td>27.6</td> <td>27.1</td> <td>26.6</td> <td>26.6</td> <td>26.6</td> <td>26.7</td> <td>26.7</td> <td>26.7</td> <td>26.9</td> <td>27.1</td> <td>27.3</td> <td>27.5</td> <td>27.6</td> <td>27.8</td> <td>28  </td> <td>28.2</td> <td>28.4</td> <td>28.6</td> <td>28.7</td> <td>28.9</td> <td>29.1</td> <td>29.3</td> <td>29.4</td> <td>29.6</td> <td>29.8</td> <td>30  </td> <td>30.2</td> <td>30.4</td> <td>30.5</td> <td>30.7</td> <td>30.9</td> <td>31.1</td> <td>30.9</td> <td>30.7</td> <td>30.5</td> <td>30.8</td> <td>31  </td> <td>31.2</td> <td>31.4</td> <td>31.6</td> <td>31.9</td> <td>32.1</td> <td>32.3</td> <td>32.5</td> <td>32.8</td> <td>35.6</td> <td>36  </td> <td>33.9</td> <td>33.5</td> <td>33.1</td> <td>33  </td> <td>30.1</td> <td>21.4</td> <td>31.1</td> <td>29.1</td> <td>32  </td> <td>33  </td> <td>34  </td> <td>36.4</td> <td>35.5</td> <td>38.5</td> <td>37.9</td> <td>39.3</td> <td>38.1</td> <td>37.4</td> <td>35.7</td> <td>33.2</td> <td>26  </td> <td>39.6</td> <td>41  </td> <td>42.6</td> <td>41.6</td> <td>43.2</td> <td>45.5</td> <td>43.1</td> <td>29  </td> <td>25.7</td> <td>23.7</td> <td>30.6</td> <td>40.1</td> <td>49.6</td> <td>42  </td> <td>49.6</td> <td>52.3</td> <td>54.5</td> <td>54.6</td> <td>55  </td> <td>55.3</td> <td>55.7</td> <td>56  </td> <td>56.4</td> <td>56.7</td> <td>57.1</td> <td>57.4</td> <td>57.8</td> <td>58.1</td> <td>58.5</td> <td>58.9</td> <td>59.2</td> <td>59.6</td> <td>59.9</td> <td>60.3</td> <td>60.6</td> <td>60.9</td> <td>61.2</td> <td>61.9</td> <td>62.5</td> <td>63.2</td> <td>63.8</td> <td>64.3</td> <td>64.9</td> <td>65.2</td> <td>65.4</td> <td>65.5</td> <td>65.5</td> <td>65.5</td> <td>65.7</td> <td>65.8</td> <td>65.6</td> <td>65.9</td> <td>65.9</td> <td>66  </td> <td>65.9</td> <td>66.3</td> <td>66.2</td> <td>65.9</td> <td>64.3</td> <td>64.4</td> <td>63.9</td> <td>64.9</td> <td>65.3</td> <td>65.6</td> <td>65.8</td> <td>66.1</td> <td>66.6</td> <td>67.2</td> <td>67.5</td> <td>67.3</td> <td>67.4</td> <td>67.6</td> <td>68  </td> <td>68.3</td> <td>68.4</td> <td>68.8</td> <td>69.1</td> <td>69.9</td> <td>70.2</td> <td>71  </td> <td>71.5</td> <td>71.8</td> <td>72.1</td> <td>72.2</td> <td>72.3</td>\n",
       "        </tr>\n",
       "    </tbody>\n",
       "</table>\n",
       "<p>... (174 rows omitted)</p>"
      ],
      "text/plain": [
       "country             | 1800 | 1801 | 1802 | 1803 | 1804 | 1805 | 1806 | 1807 | 1808 | 1809 | 1810 | 1811 | 1812 | 1813 | 1814 | 1815 | 1816 | 1817 | 1818 | 1819 | 1820 | 1821 | 1822 | 1823 | 1824 | 1825 | 1826 | 1827 | 1828 | 1829 | 1830 | 1831 | 1832 | 1833 | 1834 | 1835 | 1836 | 1837 | 1838 | 1839 | 1840 | 1841 | 1842 | 1843 | 1844 | 1845 | 1846 | 1847 | 1848 | 1849 | 1850 | 1851 | 1852 | 1853 | 1854 | 1855 | 1856 | 1857 | 1858 | 1859 | 1860 | 1861 | 1862 | 1863 | 1864 | 1865 | 1866 | 1867 | 1868 | 1869 | 1870 | 1871 | 1872 | 1873 | 1874 | 1875 | 1876 | 1877 | 1878 | 1879 | 1880 | 1881 | 1882 | 1883 | 1884 | 1885 | 1886 | 1887 | 1888 | 1889 | 1890 | 1891 | 1892 | 1893 | 1894 | 1895 | 1896 | 1897 | 1898 | 1899 | 1900 | 1901 | 1902 | 1903 | 1904 | 1905 | 1906 | 1907 | 1908 | 1909 | 1910 | 1911 | 1912 | 1913 | 1914 | 1915 | 1916 | 1917 | 1918 | 1919 | 1920 | 1921 | 1922 | 1923 | 1924 | 1925 | 1926 | 1927 | 1928 | 1929 | 1930 | 1931 | 1932 | 1933 | 1934 | 1935 | 1936 | 1937 | 1938 | 1939 | 1940 | 1941 | 1942 | 1943 | 1944 | 1945 | 1946 | 1947 | 1948 | 1949 | 1950 | 1951 | 1952 | 1953 | 1954 | 1955 | 1956 | 1957 | 1958 | 1959 | 1960 | 1961 | 1962 | 1963 | 1964 | 1965 | 1966 | 1967 | 1968 | 1969 | 1970 | 1971 | 1972 | 1973 | 1974 | 1975 | 1976 | 1977 | 1978 | 1979 | 1980 | 1981 | 1982 | 1983 | 1984 | 1985 | 1986 | 1987 | 1988 | 1989 | 1990 | 1991 | 1992 | 1993 | 1994 | 1995 | 1996 | 1997 | 1998 | 1999 | 2000 | 2001 | 2002 | 2003 | 2004 | 2005 | 2006 | 2007 | 2008 | 2009 | 2010 | 2011 | 2012 | 2013 | 2014 | 2015 | 2016 | 2017 | 2018\n",
       "Afghanistan         | 28.2 | 28.2 | 28.2 | 28.2 | 28.2 | 28.2 | 28.1 | 28.1 | 28.1 | 28.1 | 28.1 | 28.1 | 28.1 | 28.1 | 28.1 | 28.1 | 28.1 | 28   | 28   | 28   | 28   | 28   | 28   | 28   | 28   | 27.9 | 27.9 | 27.9 | 27.9 | 27.9 | 27.9 | 27.9 | 27.9 | 27.9 | 27.9 | 27.9 | 27.8 | 27.8 | 27.8 | 27.8 | 27.8 | 27.8 | 27.8 | 27.8 | 27.8 | 27.8 | 27.7 | 27.7 | 27.7 | 27.7 | 27.7 | 27.7 | 27.7 | 27.7 | 27.7 | 27.6 | 27.6 | 27.6 | 27.6 | 27.6 | 27.6 | 27.6 | 27.6 | 27.6 | 27.6 | 27.5 | 27.5 | 27.5 | 27.5 | 27.5 | 27.5 | 27.6 | 27.6 | 27.7 | 27.7 | 27.8 | 27.8 | 27.9 | 28   | 28   | 28.1 | 28.1 | 28.2 | 28.2 | 28.3 | 28.4 | 28.4 | 28.5 | 28.5 | 28.6 | 28.6 | 28.7 | 28.8 | 28.8 | 28.9 | 28.9 | 29   | 29.1 | 29.1 | 29.2 | 29.2 | 29.3 | 29.3 | 29.4 | 29.4 | 29.5 | 29.6 | 29.6 | 29.7 | 29.7 | 29.8 | 29.8 | 29.9 | 29.9 | 30   | 30.1 | 30.1 | 30.2 | 7.89 | 30.3 | 30.3 | 30.4 | 30.4 | 30.5 | 30.6 | 30.6 | 30.7 | 30.7 | 30.8 | 30.8 | 30.9 | 30.9 | 31   | 31.1 | 31.1 | 31.2 | 31.2 | 31.3 | 31.3 | 31.4 | 31.4 | 31.5 | 31.6 | 31.6 | 31.7 | 31.7 | 31.8 | 31.8 | 31.9 | 31.9 | 32   | 32.4 | 33   | 33.7 | 34.4 | 35.1 | 35.8 | 36.5 | 37.2 | 37.9 | 38.6 | 39.4 | 40.1 | 40.8 | 41.5 | 42.2 | 42.9 | 43.7 | 44.4 | 45.1 | 45.8 | 45.9 | 45.9 | 46   | 46.1 | 46.3 | 46.5 | 46.6 | 45   | 43.6 | 43.3 | 44.1 | 43.8 | 42   | 39.8 | 41.6 | 42.6 | 44.7 | 47   | 50.8 | 51.6 | 51.3 | 51.4 | 51.4 | 50.7 | 51.1 | 51.4 | 51.1 | 50.1 | 51.5 | 51.6 | 51.7 | 52.4 | 53   | 53.5 | 53.9 | 54.1 | 54.6 | 55.2 | 55.7 | 56.2 | 56.7 | 57.2 | 57.7 | 57.8 | 57.9 | 58   | 58.4 | 58.7\n",
       "Albania             | 35.4 | 35.4 | 35.4 | 35.4 | 35.4 | 35.4 | 35.4 | 35.4 | 35.4 | 35.4 | 35.4 | 35.4 | 35.4 | 35.4 | 35.4 | 35.4 | 35.4 | 35.4 | 35.4 | 35.4 | 35.4 | 35.4 | 35.4 | 35.4 | 35.4 | 35.4 | 35.4 | 35.4 | 35.4 | 35.4 | 35.4 | 35.4 | 35.4 | 35.4 | 35.4 | 35.4 | 35.4 | 35.4 | 35.4 | 35.4 | 35.4 | 35.4 | 35.4 | 35.4 | 35.4 | 35.4 | 35.4 | 35.4 | 35.4 | 35.4 | 35.4 | 35.4 | 35.4 | 35.4 | 35.4 | 35.4 | 35.4 | 35.4 | 35.4 | 35.4 | 35.4 | 35.4 | 35.4 | 35.4 | 35.4 | 35.4 | 35.4 | 35.4 | 35.4 | 35.4 | 35.4 | 35.4 | 35.4 | 35.4 | 35.4 | 35.4 | 35.4 | 35.4 | 35.4 | 35.4 | 35.4 | 35.4 | 35.4 | 35.4 | 35.4 | 35.4 | 35.4 | 35.4 | 35.4 | 35.4 | 35.5 | 35.5 | 35.5 | 35.5 | 35.5 | 35.5 | 35.5 | 35.5 | 35.5 | 35.5 | 35.5 | 35.5 | 35.5 | 35.5 | 35.5 | 35.5 | 35.5 | 35.5 | 35.5 | 35.5 | 35.5 | 35.5 | 35.5 | 35.5 | 35.5 | 35.5 | 35.5 | 35.5 | 19.5 | 35.5 | 35.5 | 35.5 | 35.5 | 35.5 | 35.5 | 35.5 | 35.5 | 35.5 | 35.5 | 35.5 | 36.4 | 37.3 | 38.2 | 39.1 | 40   | 40.9 | 41.8 | 42.8 | 43.6 | 43.2 | 42.2 | 41.7 | 40.2 | 37.2 | 34.2 | 47.2 | 50.3 | 51.8 | 52.7 | 53.6 | 54.5 | 54.7 | 55.2 | 55.8 | 56.5 | 57.3 | 58.3 | 59.3 | 60.4 | 61.6 | 62.7 | 63.7 | 64.6 | 65.3 | 65.9 | 66.3 | 66.5 | 66.7 | 66.9 | 67.1 | 67.4 | 68   | 68.6 | 69.2 | 69.8 | 70.3 | 70.8 | 71.3 | 71.7 | 72   | 72.3 | 72.4 | 72.5 | 72.6 | 72.8 | 73   | 73.2 | 73.2 | 73.4 | 73.7 | 73.9 | 73.9 | 73.9 | 73.9 | 74   | 74.1 | 74.3 | 72.5 | 74.3 | 74.4 | 74.4 | 74.5 | 74.5 | 74.6 | 74.7 | 74.9 | 75.2 | 75.4 | 75.6 | 75.9 | 76.3 | 76.7 | 77   | 77.2 | 77.4 | 77.6 | 77.7 | 77.9 | 78\n",
       "Algeria             | 28.8 | 28.8 | 28.8 | 28.8 | 28.8 | 28.8 | 28.8 | 28.8 | 28.8 | 28.8 | 28.8 | 28.8 | 28.8 | 28.8 | 28.8 | 28.8 | 28.8 | 28.8 | 28.8 | 28.8 | 28.8 | 28.8 | 28.8 | 28.8 | 28.8 | 28.8 | 28.8 | 28.8 | 28.8 | 28.8 | 28.8 | 28.8 | 28.8 | 28.8 | 28.8 | 28.8 | 28.8 | 28.8 | 28.8 | 28.8 | 28.8 | 28.8 | 28.8 | 28.8 | 28.8 | 28.8 | 28.8 | 28.8 | 28.8 | 20   | 15   | 22   | 28.8 | 28.8 | 28.8 | 28.8 | 28.8 | 28.8 | 28.8 | 28.8 | 28.8 | 28.8 | 28.8 | 28.8 | 28.8 | 28.8 | 28.8 | 21   | 11   | 15   | 22   | 28.9 | 28.9 | 28.9 | 29   | 29   | 29.1 | 29.1 | 29.1 | 29.2 | 29.2 | 29.3 | 29.3 | 29.4 | 29.4 | 29.4 | 29.5 | 29.5 | 29.6 | 29.6 | 29.6 | 29.7 | 29.7 | 29.8 | 29.8 | 29.8 | 29.9 | 29.9 | 30   | 30   | 30.1 | 30.2 | 30.3 | 31.3 | 25.3 | 28   | 29.5 | 29.4 | 29.3 | 30.9 | 32.5 | 32.3 | 33.7 | 31.5 | 31   | 30.5 | 30.1 | 30.2 | 23.6 | 30.3 | 29.4 | 29.5 | 29.2 | 31.8 | 33.3 | 34.1 | 33.4 | 28.6 | 32.2 | 32.5 | 33.8 | 31.7 | 33.1 | 34.3 | 33.7 | 35.6 | 36.8 | 34.9 | 34.3 | 36.6 | 37.1 | 35.3 | 34.7 | 30   | 35.5 | 33.2 | 35.4 | 38.8 | 42   | 44.4 | 46.9 | 47.1 | 47.6 | 48.1 | 48.6 | 49.2 | 49.7 | 50.3 | 50.9 | 51.4 | 52   | 52.6 | 53.2 | 53.8 | 54.3 | 54.9 | 55.4 | 56   | 56.5 | 57   | 57.5 | 57.8 | 58.2 | 58.5 | 59.1 | 59.5 | 60   | 60.6 | 61.2 | 61.9 | 62.1 | 63.4 | 64.4 | 65.7 | 66.9 | 68   | 68.7 | 69.4 | 70   | 70.5 | 71   | 71.4 | 71.7 | 72   | 72.1 | 72.3 | 72.8 | 73   | 73.1 | 73.5 | 73.9 | 74.1 | 74.4 | 74.5 | 75.1 | 75.4 | 75.6 | 75.9 | 76.1 | 76.3 | 76.5 | 76.7 | 76.8 | 77   | 77.1 | 77.3 | 77.4 | 77.6 | 77.9\n",
       "Angola              | 27   | 27   | 27   | 27   | 27   | 27   | 27   | 27   | 27   | 27   | 27   | 27   | 27   | 27   | 27   | 27   | 27   | 27   | 27   | 27   | 27   | 27   | 27   | 27   | 27   | 27   | 27   | 27   | 27   | 27   | 27   | 27   | 27   | 27   | 27   | 27   | 27   | 27   | 27   | 27   | 27   | 27   | 27   | 27   | 27   | 27   | 27   | 27   | 27   | 27   | 27   | 27   | 27   | 27   | 27   | 27   | 27   | 27   | 27   | 27   | 27   | 27   | 27   | 27   | 27   | 27   | 27   | 27   | 27   | 27   | 27   | 27.1 | 27.1 | 27.2 | 27.3 | 27.4 | 27.5 | 27.6 | 27.7 | 27.8 | 27.8 | 27.9 | 28   | 28.1 | 28.2 | 28.3 | 28.3 | 28.4 | 28.5 | 28.6 | 28.7 | 28.8 | 28.9 | 28.9 | 29   | 29.1 | 29.2 | 29.3 | 29.4 | 29.4 | 29.5 | 29.6 | 29.7 | 29.8 | 29.9 | 30   | 30.1 | 30.1 | 30.2 | 30.3 | 30.4 | 30.5 | 30.6 | 30.6 | 30.7 | 30.8 | 30.9 | 31   | 12   | 31.2 | 31.2 | 31.3 | 31.4 | 31.5 | 31.6 | 31.7 | 31.8 | 31.8 | 31.9 | 32   | 32.1 | 32.2 | 32.3 | 32.4 | 32.4 | 32.5 | 32.6 | 32.7 | 32.8 | 32.9 | 33   | 33.3 | 33.7 | 34   | 34.4 | 34.8 | 35.1 | 35.5 | 35.9 | 36.2 | 36.6 | 36.9 | 37.5 | 38.1 | 38.7 | 39.3 | 39.9 | 40.5 | 41.2 | 41.8 | 42.4 | 43   | 43.6 | 44.3 | 44.9 | 45.5 | 46.2 | 46.8 | 47.4 | 48.1 | 48.7 | 49   | 49.2 | 49.4 | 49.6 | 49.5 | 49.5 | 49.6 | 49.7 | 49.8 | 49.9 | 50   | 50   | 50.1 | 50.2 | 50.3 | 50.2 | 50   | 49.8 | 50.2 | 50.2 | 50.8 | 51   | 49.7 | 51.1 | 52   | 52.3 | 52.7 | 52.8 | 52.9 | 53.4 | 53.6 | 54.5 | 55.1 | 55.7 | 56.5 | 57   | 57.8 | 58.6 | 59.3 | 60.1 | 60.9 | 61.7 | 62.5 | 63.3 | 64   | 64.7 | 64.9 | 65.2\n",
       "Antigua and Barbuda | 33.5 | 33.5 | 33.5 | 33.5 | 33.5 | 33.5 | 33.5 | 33.5 | 33.5 | 33.5 | 33.5 | 33.5 | 33.5 | 33.5 | 33.5 | 33.5 | 33.5 | 33.5 | 33.5 | 33.5 | 33.5 | 33.5 | 33.5 | 33.5 | 33.5 | 33.5 | 33.5 | 33.5 | 33.5 | 33.5 | 33.5 | 33.5 | 33.5 | 33.5 | 33.5 | 33.5 | 33.5 | 33.5 | 33.5 | 33.5 | 33.5 | 33.5 | 33.5 | 33.5 | 33.5 | 33.5 | 33.5 | 33.5 | 33.5 | 33.5 | 33.5 | 33.5 | 33.5 | 33.5 | 33.5 | 33.5 | 33.5 | 33.5 | 33.5 | 33.5 | 33.5 | 33.5 | 33.5 | 33.5 | 33.5 | 33.5 | 33.5 | 33.5 | 33.5 | 33.5 | 33.5 | 33.5 | 33.5 | 33.5 | 33.6 | 33.6 | 33.6 | 33.6 | 33.6 | 33.6 | 33.6 | 33.6 | 33.6 | 33.6 | 33.6 | 33.6 | 33.6 | 33.6 | 33.6 | 33.6 | 33.6 | 33.6 | 33.6 | 33.6 | 33.6 | 33.7 | 33.7 | 33.7 | 33.7 | 33.7 | 33.7 | 33.7 | 33.7 | 33.7 | 33.7 | 33.7 | 33.7 | 33.7 | 33.7 | 33.7 | 33.7 | 33.7 | 33.7 | 33.8 | 33.8 | 33.8 | 33.8 | 33.8 | 21.9 | 33.8 | 33.8 | 33.8 | 34.6 | 35.5 | 36.3 | 37.1 | 38   | 38.8 | 39.7 | 40.5 | 41.3 | 42.2 | 43   | 43.9 | 44.7 | 45.5 | 46.4 | 47.2 | 48.1 | 48.9 | 49.8 | 50.6 | 51.4 | 52.3 | 53.1 | 54   | 54.8 | 55.6 | 56.5 | 57.4 | 58.2 | 58.5 | 59   | 59.5 | 60   | 60.5 | 61   | 61.5 | 62   | 62.4 | 62.9 | 63.4 | 63.8 | 64.2 | 64.6 | 65   | 65.4 | 65.8 | 66.1 | 66.5 | 66.8 | 67.2 | 67.6 | 68   | 68.3 | 68.4 | 68.6 | 69   | 69.3 | 70   | 70.6 | 71.1 | 71.5 | 72.1 | 72.3 | 72.5 | 72.8 | 73.1 | 73.3 | 73.5 | 73.8 | 74   | 74.1 | 74.2 | 74.3 | 74.4 | 74.4 | 74.8 | 75   | 74.9 | 74.7 | 75.1 | 75.3 | 75.5 | 75.7 | 75.9 | 76   | 76.4 | 76.6 | 76.9 | 76.8 | 76.9 | 77   | 77.3 | 77.1 | 77.2 | 77.3 | 77.4 | 77.6\n",
       "Argentina           | 33.2 | 33.2 | 33.2 | 33.2 | 33.2 | 33.2 | 33.2 | 33.2 | 33.2 | 33.2 | 33.2 | 33.2 | 33.2 | 33.2 | 33.2 | 33.2 | 33.2 | 33.2 | 33.2 | 33.2 | 33.2 | 33.2 | 33.2 | 33.2 | 33.2 | 33.2 | 33.2 | 33.2 | 33.2 | 33.2 | 33.2 | 33.2 | 33.2 | 33.2 | 33.2 | 33.2 | 33.2 | 33.2 | 33.2 | 33.2 | 33.2 | 33.2 | 33.2 | 33.2 | 33.2 | 33.2 | 33.2 | 33.2 | 33.2 | 33.2 | 33.2 | 33.2 | 33.2 | 33.2 | 33.2 | 33.2 | 33.2 | 33.2 | 33.2 | 33.2 | 33.2 | 33.2 | 33.2 | 33.2 | 33.2 | 33.2 | 33.2 | 33.2 | 33.2 | 33.2 | 33.2 | 33.2 | 33.2 | 33.2 | 33.2 | 33.2 | 33.1 | 33.1 | 33.1 | 33.1 | 33   | 32.9 | 32.8 | 32.7 | 32.6 | 32.5 | 32.8 | 33.1 | 33.3 | 33.6 | 33.9 | 33.7 | 33.6 | 33.5 | 33.3 | 33.2 | 33.9 | 34.5 | 35.2 | 35.9 | 36.6 | 37.2 | 37.8 | 38.3 | 38.9 | 39.5 | 40.2 | 41   | 41.7 | 42.5 | 43.2 | 43.7 | 44.3 | 44.8 | 45.3 | 45.9 | 46.6 | 47.4 | 41.4 | 49   | 49.8 | 50.3 | 50.7 | 51.2 | 51.7 | 52.1 | 52.5 | 52.8 | 53.1 | 53.4 | 53.8 | 53.8 | 53.8 | 53.7 | 53.7 | 53.7 | 54.7 | 55.6 | 56.5 | 57.5 | 58.4 | 59   | 59.5 | 60.1 | 60.7 | 61.2 | 61.1 | 61   | 60.9 | 60.7 | 60.6 | 60.9 | 61.5 | 62   | 62.5 | 62.9 | 63.2 | 63.5 | 63.7 | 63.9 | 64.1 | 64.2 | 64.3 | 64.3 | 64.4 | 64.5 | 64.6 | 64.7 | 64.9 | 65.1 | 65.4 | 65.7 | 66   | 66.4 | 66.8 | 67.3 | 67.8 | 68.2 | 68.8 | 69.4 | 69.8 | 70.2 | 70.5 | 70.6 | 70.9 | 71.3 | 71.6 | 71.8 | 71.9 | 72   | 72.1 | 72.3 | 72.5 | 72.7 | 73   | 73.1 | 73.3 | 73.5 | 73.7 | 73.9 | 74.2 | 74.4 | 74.5 | 74.6 | 74.9 | 75.2 | 75.3 | 75.3 | 75.5 | 75.7 | 75.8 | 76   | 76.1 | 76.2 | 76.4 | 76.5 | 76.7 | 76.8 | 77\n",
       "Armenia             | 34   | 34   | 34   | 34   | 34   | 34   | 34   | 34   | 34   | 34   | 34   | 34   | 34   | 34   | 34   | 34   | 34   | 34   | 34   | 34   | 34   | 34   | 34   | 34   | 34   | 34   | 34   | 34   | 34   | 34   | 34   | 34   | 34   | 34   | 34   | 34   | 34   | 34   | 34   | 34   | 34   | 34   | 34   | 34   | 34   | 34   | 34   | 34   | 34   | 34   | 34   | 34   | 34   | 34   | 34   | 34   | 34   | 34   | 34   | 34   | 34   | 34   | 34   | 34   | 33.5 | 33   | 32.4 | 31.9 | 31.4 | 31.4 | 31.5 | 31.5 | 31.5 | 31.5 | 31.7 | 31.9 | 32.1 | 32.3 | 32.4 | 32.6 | 32.8 | 33   | 33.1 | 33.3 | 33.5 | 33.7 | 33.8 | 34   | 34.2 | 34.4 | 34.5 | 34.7 | 34.9 | 35   | 35.2 | 35.4 | 35.6 | 35.7 | 35.5 | 35.4 | 35.2 | 35.4 | 35.6 | 35.8 | 36.1 | 36.3 | 36.5 | 36.7 | 36.9 | 37.2 | 37.4 | 40.2 | 40.6 | 38.5 | 38   | 37.6 | 37.6 | 34.7 | 26.1 | 35.8 | 27.1 | 36.7 | 37.6 | 38.5 | 40.8 | 40   | 43   | 42.3 | 43.8 | 42.5 | 41.8 | 40.3 | 37.9 | 31.6 | 44   | 45.4 | 47   | 46   | 47.6 | 49.9 | 47.5 | 26.7 | 23.3 | 21.4 | 28.5 | 37.5 | 53.9 | 46.3 | 53.9 | 56.5 | 58.7 | 58.8 | 59.2 | 59.5 | 59.9 | 60.3 | 60.6 | 60.9 | 61.3 | 61.7 | 62   | 62.4 | 62.7 | 63.1 | 63.5 | 63.8 | 64.2 | 64.5 | 64.9 | 65.2 | 65.5 | 66   | 66.5 | 67.1 | 67.6 | 68   | 68.4 | 68.8 | 69.2 | 69.4 | 69.6 | 69.9 | 70.4 | 70.3 | 70.6 | 70.7 | 71.2 | 71.4 | 55   | 70.6 | 70.2 | 70   | 69   | 68.7 | 68.9 | 69.3 | 69.5 | 70.3 | 70.7 | 71.2 | 71.8 | 72.1 | 72.5 | 72.5 | 72.7 | 72.5 | 72.5 | 72.9 | 72.8 | 73   | 73.3 | 73.8 | 74.3 | 75   | 75.4 | 75.4 | 75.7 | 75.8 | 76\n",
       "Australia           | 34   | 34   | 34   | 34   | 34   | 34   | 34   | 34   | 34   | 34   | 34   | 34   | 34   | 34   | 34   | 34   | 34   | 34   | 34   | 34   | 34   | 34   | 34   | 34   | 34   | 34   | 34   | 34   | 34   | 34   | 34   | 34   | 34   | 34   | 34   | 34   | 34   | 34   | 34   | 34   | 34   | 34   | 34   | 34   | 34   | 34   | 34   | 34   | 34   | 34   | 34   | 34   | 34   | 34   | 34   | 34   | 34   | 34   | 34   | 34   | 34   | 34   | 34   | 34   | 34   | 34   | 34   | 34   | 34   | 34   | 34   | 34.6 | 35.1 | 35.6 | 36.2 | 36.7 | 37.2 | 37.8 | 38.3 | 38.8 | 39.4 | 39.9 | 40.4 | 41   | 41.5 | 42   | 42.6 | 43.1 | 43.6 | 44.2 | 44.7 | 45.2 | 45.8 | 46.3 | 46.8 | 47.4 | 47.9 | 48.4 | 49   | 49.5 | 50   | 50.5 | 51.1 | 51.6 | 52.1 | 52.7 | 53.2 | 53.7 | 54.3 | 54.8 | 55.4 | 55.9 | 56.4 | 57   | 57.5 | 58   | 58.5 | 59.1 | 55   | 60.1 | 60.7 | 61.2 | 63.1 | 61.9 | 62.7 | 63.4 | 63.1 | 63.1 | 63.2 | 63.4 | 65.2 | 65.6 | 65.9 | 65.8 | 65.1 | 65.4 | 65.5 | 66.1 | 66.1 | 66.1 | 66.5 | 66.4 | 66.2 | 66.7 | 68.3 | 68.8 | 68.3 | 68.9 | 68.8 | 69.4 | 69.3 | 69   | 69.4 | 70   | 70.2 | 70.5 | 70.4 | 70.7 | 71.2 | 70.8 | 71.3 | 71.5 | 71.3 | 71.4 | 71   | 71.4 | 71.2 | 71.5 | 71.1 | 71.5 | 71.2 | 71.5 | 71.8 | 72   | 72.2 | 72.7 | 73   | 73.5 | 73.9 | 74.3 | 74.6 | 74.9 | 75   | 75.3 | 75.5 | 75.7 | 76   | 76.2 | 76.4 | 76.6 | 77   | 77.4 | 77.6 | 77.9 | 78.1 | 78.3 | 78.5 | 78.8 | 79.1 | 79.4 | 79.7 | 80   | 80.2 | 80.5 | 80.8 | 81.1 | 81.3 | 81.4 | 81.6 | 81.8 | 82   | 82.2 | 82.3 | 82.5 | 82.6 | 82.6 | 82.5 | 82.7 | 82.9\n",
       "Austria             | 34.4 | 34.4 | 34.4 | 34.4 | 34.4 | 34.4 | 34.4 | 34.4 | 34.4 | 34.4 | 34.4 | 34.4 | 34.4 | 34.4 | 34.4 | 34.4 | 34.4 | 34.4 | 34.4 | 34.4 | 34.4 | 34.4 | 34.4 | 34.4 | 34.4 | 34.4 | 34.4 | 34.4 | 34.4 | 34.4 | 34.4 | 34.4 | 34.4 | 34.4 | 34.4 | 34.4 | 34.4 | 34.4 | 34.4 | 34.4 | 34.4 | 34.4 | 34.4 | 34.4 | 34.4 | 34.4 | 34.4 | 34.4 | 34.4 | 34.4 | 34.4 | 34.4 | 34.4 | 34.4 | 34.4 | 34.4 | 34.4 | 34.4 | 34.4 | 34.4 | 34.4 | 34.4 | 34.4 | 34.4 | 34.4 | 34.4 | 34.4 | 34.4 | 34.4 | 34.4 | 34.4 | 34.5 | 34.5 | 34.6 | 34.6 | 34.7 | 34.7 | 34.8 | 34.8 | 34.9 | 35   | 35   | 35.2 | 35.5 | 35.7 | 35.9 | 36.1 | 36.4 | 36.6 | 36.8 | 37.1 | 37.3 | 37.8 | 38.2 | 38.7 | 39.2 | 39.6 | 40.1 | 40.6 | 41   | 41.5 | 42   | 41   | 40.1 | 40.7 | 41.3 | 42   | 42.6 | 43.2 | 43.8 | 44.5 | 45.1 | 45.6 | 46.2 | 46.8 | 47.4 | 47.9 | 48.5 | 32.4 | 49.6 | 50.2 | 50.8 | 51.3 | 51.9 | 52.5 | 53   | 53.6 | 54.1 | 54.7 | 55.3 | 55.9 | 56.4 | 56.7 | 57   | 57.3 | 57.6 | 57.9 | 58.2 | 58.5 | 58.1 | 57.8 | 56.5 | 54.1 | 50.2 | 39.1 | 31.4 | 56   | 61.3 | 63.2 | 63.4 | 64.8 | 65.2 | 66.8 | 67.2 | 67.3 | 67.5 | 67.7 | 67.4 | 68.4 | 68.4 | 68.7 | 69.7 | 69.5 | 69.6 | 70.1 | 69.9 | 70.2 | 70.1 | 70.2 | 70   | 70   | 70.2 | 70.4 | 70.8 | 71   | 71.2 | 71.6 | 72   | 72.1 | 72.3 | 72.5 | 72.8 | 73   | 73.2 | 73.5 | 73.9 | 74.3 | 74.6 | 75   | 75.2 | 75.5 | 75.7 | 75.9 | 76.1 | 76.4 | 76.7 | 77   | 77.3 | 77.5 | 77.8 | 78.1 | 78.5 | 78.7 | 78.9 | 79.2 | 79.5 | 79.8 | 80   | 80.2 | 80.3 | 80.5 | 80.7 | 80.9 | 81.1 | 81.3 | 81.4 | 81.5 | 81.7 | 81.8\n",
       "Azerbaijan          | 29.2 | 29.2 | 29.2 | 29.2 | 29.2 | 29.2 | 29.2 | 29.2 | 29.2 | 29.2 | 29.2 | 29.2 | 29.2 | 29.2 | 29.2 | 29.2 | 29.2 | 29.2 | 29.2 | 29.2 | 29.2 | 29.2 | 29.2 | 29.2 | 29.2 | 29.2 | 29.2 | 29.2 | 29.2 | 29.2 | 29.2 | 29.2 | 29.2 | 29.2 | 29.2 | 29.2 | 29.2 | 29.2 | 29.2 | 29.2 | 29.2 | 29.2 | 29.2 | 29.2 | 29.2 | 29.2 | 29.2 | 29.2 | 29.2 | 29.2 | 29.2 | 29.2 | 29.2 | 29.2 | 29.2 | 29.2 | 29.2 | 29.2 | 29.2 | 29.2 | 29.2 | 29.2 | 29.2 | 29.2 | 28.6 | 28.1 | 27.6 | 27.1 | 26.6 | 26.6 | 26.6 | 26.7 | 26.7 | 26.7 | 26.9 | 27.1 | 27.3 | 27.5 | 27.6 | 27.8 | 28   | 28.2 | 28.4 | 28.6 | 28.7 | 28.9 | 29.1 | 29.3 | 29.4 | 29.6 | 29.8 | 30   | 30.2 | 30.4 | 30.5 | 30.7 | 30.9 | 31.1 | 30.9 | 30.7 | 30.5 | 30.8 | 31   | 31.2 | 31.4 | 31.6 | 31.9 | 32.1 | 32.3 | 32.5 | 32.8 | 35.6 | 36   | 33.9 | 33.5 | 33.1 | 33   | 30.1 | 21.4 | 31.1 | 29.1 | 32   | 33   | 34   | 36.4 | 35.5 | 38.5 | 37.9 | 39.3 | 38.1 | 37.4 | 35.7 | 33.2 | 26   | 39.6 | 41   | 42.6 | 41.6 | 43.2 | 45.5 | 43.1 | 29   | 25.7 | 23.7 | 30.6 | 40.1 | 49.6 | 42   | 49.6 | 52.3 | 54.5 | 54.6 | 55   | 55.3 | 55.7 | 56   | 56.4 | 56.7 | 57.1 | 57.4 | 57.8 | 58.1 | 58.5 | 58.9 | 59.2 | 59.6 | 59.9 | 60.3 | 60.6 | 60.9 | 61.2 | 61.9 | 62.5 | 63.2 | 63.8 | 64.3 | 64.9 | 65.2 | 65.4 | 65.5 | 65.5 | 65.5 | 65.7 | 65.8 | 65.6 | 65.9 | 65.9 | 66   | 65.9 | 66.3 | 66.2 | 65.9 | 64.3 | 64.4 | 63.9 | 64.9 | 65.3 | 65.6 | 65.8 | 66.1 | 66.6 | 67.2 | 67.5 | 67.3 | 67.4 | 67.6 | 68   | 68.3 | 68.4 | 68.8 | 69.1 | 69.9 | 70.2 | 71   | 71.5 | 71.8 | 72.1 | 72.2 | 72.3\n",
       "... (174 rows omitted)"
      ]
     },
     "execution_count": 5,
     "metadata": {},
     "output_type": "execute_result"
    }
   ],
   "source": [
    "life_expectancy = Table.from_df(life_exp)\n",
    "life_expectancy"
   ]
  },
  {
   "cell_type": "markdown",
   "metadata": {},
   "source": [
    "This table has a lot of rows (187!), and each row represents a country. This can be identifiable in the column titled country. Sometimes tables will have this information in the ***index*** of the table, which in this case is the numbering for each country (Afghanistan as 0 onwards). We can see in this case that this table in particular will probably match our second interpretation, so each row has all the information for that specific country. \n",
    "\n",
    "In essence, [todo: look up the actual meaning of this table lmao]\n",
    "\n",
    "*But what can we do with tables?* \n",
    "\n",
    "There are some functions we might find helpful in looking through some data. (You can find some more at  http://data8.org/datascience/tables.html#tables-overview)"
   ]
  },
  {
   "cell_type": "markdown",
   "metadata": {},
   "source": [
    "First is the \"where\" table function, which allows us to select certain rows to look at. It works a little like this!"
   ]
  },
  {
   "cell_type": "code",
   "execution_count": 6,
   "metadata": {},
   "outputs": [
    {
     "data": {
      "text/html": [
       "<table border=\"1\" class=\"dataframe\">\n",
       "    <thead>\n",
       "        <tr>\n",
       "            <th>country</th> <th>1800</th> <th>1801</th> <th>1802</th> <th>1803</th> <th>1804</th> <th>1805</th> <th>1806</th> <th>1807</th> <th>1808</th> <th>1809</th> <th>1810</th> <th>1811</th> <th>1812</th> <th>1813</th> <th>1814</th> <th>1815</th> <th>1816</th> <th>1817</th> <th>1818</th> <th>1819</th> <th>1820</th> <th>1821</th> <th>1822</th> <th>1823</th> <th>1824</th> <th>1825</th> <th>1826</th> <th>1827</th> <th>1828</th> <th>1829</th> <th>1830</th> <th>1831</th> <th>1832</th> <th>1833</th> <th>1834</th> <th>1835</th> <th>1836</th> <th>1837</th> <th>1838</th> <th>1839</th> <th>1840</th> <th>1841</th> <th>1842</th> <th>1843</th> <th>1844</th> <th>1845</th> <th>1846</th> <th>1847</th> <th>1848</th> <th>1849</th> <th>1850</th> <th>1851</th> <th>1852</th> <th>1853</th> <th>1854</th> <th>1855</th> <th>1856</th> <th>1857</th> <th>1858</th> <th>1859</th> <th>1860</th> <th>1861</th> <th>1862</th> <th>1863</th> <th>1864</th> <th>1865</th> <th>1866</th> <th>1867</th> <th>1868</th> <th>1869</th> <th>1870</th> <th>1871</th> <th>1872</th> <th>1873</th> <th>1874</th> <th>1875</th> <th>1876</th> <th>1877</th> <th>1878</th> <th>1879</th> <th>1880</th> <th>1881</th> <th>1882</th> <th>1883</th> <th>1884</th> <th>1885</th> <th>1886</th> <th>1887</th> <th>1888</th> <th>1889</th> <th>1890</th> <th>1891</th> <th>1892</th> <th>1893</th> <th>1894</th> <th>1895</th> <th>1896</th> <th>1897</th> <th>1898</th> <th>1899</th> <th>1900</th> <th>1901</th> <th>1902</th> <th>1903</th> <th>1904</th> <th>1905</th> <th>1906</th> <th>1907</th> <th>1908</th> <th>1909</th> <th>1910</th> <th>1911</th> <th>1912</th> <th>1913</th> <th>1914</th> <th>1915</th> <th>1916</th> <th>1917</th> <th>1918</th> <th>1919</th> <th>1920</th> <th>1921</th> <th>1922</th> <th>1923</th> <th>1924</th> <th>1925</th> <th>1926</th> <th>1927</th> <th>1928</th> <th>1929</th> <th>1930</th> <th>1931</th> <th>1932</th> <th>1933</th> <th>1934</th> <th>1935</th> <th>1936</th> <th>1937</th> <th>1938</th> <th>1939</th> <th>1940</th> <th>1941</th> <th>1942</th> <th>1943</th> <th>1944</th> <th>1945</th> <th>1946</th> <th>1947</th> <th>1948</th> <th>1949</th> <th>1950</th> <th>1951</th> <th>1952</th> <th>1953</th> <th>1954</th> <th>1955</th> <th>1956</th> <th>1957</th> <th>1958</th> <th>1959</th> <th>1960</th> <th>1961</th> <th>1962</th> <th>1963</th> <th>1964</th> <th>1965</th> <th>1966</th> <th>1967</th> <th>1968</th> <th>1969</th> <th>1970</th> <th>1971</th> <th>1972</th> <th>1973</th> <th>1974</th> <th>1975</th> <th>1976</th> <th>1977</th> <th>1978</th> <th>1979</th> <th>1980</th> <th>1981</th> <th>1982</th> <th>1983</th> <th>1984</th> <th>1985</th> <th>1986</th> <th>1987</th> <th>1988</th> <th>1989</th> <th>1990</th> <th>1991</th> <th>1992</th> <th>1993</th> <th>1994</th> <th>1995</th> <th>1996</th> <th>1997</th> <th>1998</th> <th>1999</th> <th>2000</th> <th>2001</th> <th>2002</th> <th>2003</th> <th>2004</th> <th>2005</th> <th>2006</th> <th>2007</th> <th>2008</th> <th>2009</th> <th>2010</th> <th>2011</th> <th>2012</th> <th>2013</th> <th>2014</th> <th>2015</th> <th>2016</th> <th>2017</th> <th>2018</th>\n",
       "        </tr>\n",
       "    </thead>\n",
       "    <tbody>\n",
       "        <tr>\n",
       "            <td>Algeria</td> <td>28.8</td> <td>28.8</td> <td>28.8</td> <td>28.8</td> <td>28.8</td> <td>28.8</td> <td>28.8</td> <td>28.8</td> <td>28.8</td> <td>28.8</td> <td>28.8</td> <td>28.8</td> <td>28.8</td> <td>28.8</td> <td>28.8</td> <td>28.8</td> <td>28.8</td> <td>28.8</td> <td>28.8</td> <td>28.8</td> <td>28.8</td> <td>28.8</td> <td>28.8</td> <td>28.8</td> <td>28.8</td> <td>28.8</td> <td>28.8</td> <td>28.8</td> <td>28.8</td> <td>28.8</td> <td>28.8</td> <td>28.8</td> <td>28.8</td> <td>28.8</td> <td>28.8</td> <td>28.8</td> <td>28.8</td> <td>28.8</td> <td>28.8</td> <td>28.8</td> <td>28.8</td> <td>28.8</td> <td>28.8</td> <td>28.8</td> <td>28.8</td> <td>28.8</td> <td>28.8</td> <td>28.8</td> <td>28.8</td> <td>20  </td> <td>15  </td> <td>22  </td> <td>28.8</td> <td>28.8</td> <td>28.8</td> <td>28.8</td> <td>28.8</td> <td>28.8</td> <td>28.8</td> <td>28.8</td> <td>28.8</td> <td>28.8</td> <td>28.8</td> <td>28.8</td> <td>28.8</td> <td>28.8</td> <td>28.8</td> <td>21  </td> <td>11  </td> <td>15  </td> <td>22  </td> <td>28.9</td> <td>28.9</td> <td>28.9</td> <td>29  </td> <td>29  </td> <td>29.1</td> <td>29.1</td> <td>29.1</td> <td>29.2</td> <td>29.2</td> <td>29.3</td> <td>29.3</td> <td>29.4</td> <td>29.4</td> <td>29.4</td> <td>29.5</td> <td>29.5</td> <td>29.6</td> <td>29.6</td> <td>29.6</td> <td>29.7</td> <td>29.7</td> <td>29.8</td> <td>29.8</td> <td>29.8</td> <td>29.9</td> <td>29.9</td> <td>30  </td> <td>30  </td> <td>30.1</td> <td>30.2</td> <td>30.3</td> <td>31.3</td> <td>25.3</td> <td>28  </td> <td>29.5</td> <td>29.4</td> <td>29.3</td> <td>30.9</td> <td>32.5</td> <td>32.3</td> <td>33.7</td> <td>31.5</td> <td>31  </td> <td>30.5</td> <td>30.1</td> <td>30.2</td> <td>23.6</td> <td>30.3</td> <td>29.4</td> <td>29.5</td> <td>29.2</td> <td>31.8</td> <td>33.3</td> <td>34.1</td> <td>33.4</td> <td>28.6</td> <td>32.2</td> <td>32.5</td> <td>33.8</td> <td>31.7</td> <td>33.1</td> <td>34.3</td> <td>33.7</td> <td>35.6</td> <td>36.8</td> <td>34.9</td> <td>34.3</td> <td>36.6</td> <td>37.1</td> <td>35.3</td> <td>34.7</td> <td>30  </td> <td>35.5</td> <td>33.2</td> <td>35.4</td> <td>38.8</td> <td>42  </td> <td>44.4</td> <td>46.9</td> <td>47.1</td> <td>47.6</td> <td>48.1</td> <td>48.6</td> <td>49.2</td> <td>49.7</td> <td>50.3</td> <td>50.9</td> <td>51.4</td> <td>52  </td> <td>52.6</td> <td>53.2</td> <td>53.8</td> <td>54.3</td> <td>54.9</td> <td>55.4</td> <td>56  </td> <td>56.5</td> <td>57  </td> <td>57.5</td> <td>57.8</td> <td>58.2</td> <td>58.5</td> <td>59.1</td> <td>59.5</td> <td>60  </td> <td>60.6</td> <td>61.2</td> <td>61.9</td> <td>62.1</td> <td>63.4</td> <td>64.4</td> <td>65.7</td> <td>66.9</td> <td>68  </td> <td>68.7</td> <td>69.4</td> <td>70  </td> <td>70.5</td> <td>71  </td> <td>71.4</td> <td>71.7</td> <td>72  </td> <td>72.1</td> <td>72.3</td> <td>72.8</td> <td>73  </td> <td>73.1</td> <td>73.5</td> <td>73.9</td> <td>74.1</td> <td>74.4</td> <td>74.5</td> <td>75.1</td> <td>75.4</td> <td>75.6</td> <td>75.9</td> <td>76.1</td> <td>76.3</td> <td>76.5</td> <td>76.7</td> <td>76.8</td> <td>77  </td> <td>77.1</td> <td>77.3</td> <td>77.4</td> <td>77.6</td> <td>77.9</td>\n",
       "        </tr>\n",
       "    </tbody>\n",
       "</table>"
      ],
      "text/plain": [
       "country | 1800 | 1801 | 1802 | 1803 | 1804 | 1805 | 1806 | 1807 | 1808 | 1809 | 1810 | 1811 | 1812 | 1813 | 1814 | 1815 | 1816 | 1817 | 1818 | 1819 | 1820 | 1821 | 1822 | 1823 | 1824 | 1825 | 1826 | 1827 | 1828 | 1829 | 1830 | 1831 | 1832 | 1833 | 1834 | 1835 | 1836 | 1837 | 1838 | 1839 | 1840 | 1841 | 1842 | 1843 | 1844 | 1845 | 1846 | 1847 | 1848 | 1849 | 1850 | 1851 | 1852 | 1853 | 1854 | 1855 | 1856 | 1857 | 1858 | 1859 | 1860 | 1861 | 1862 | 1863 | 1864 | 1865 | 1866 | 1867 | 1868 | 1869 | 1870 | 1871 | 1872 | 1873 | 1874 | 1875 | 1876 | 1877 | 1878 | 1879 | 1880 | 1881 | 1882 | 1883 | 1884 | 1885 | 1886 | 1887 | 1888 | 1889 | 1890 | 1891 | 1892 | 1893 | 1894 | 1895 | 1896 | 1897 | 1898 | 1899 | 1900 | 1901 | 1902 | 1903 | 1904 | 1905 | 1906 | 1907 | 1908 | 1909 | 1910 | 1911 | 1912 | 1913 | 1914 | 1915 | 1916 | 1917 | 1918 | 1919 | 1920 | 1921 | 1922 | 1923 | 1924 | 1925 | 1926 | 1927 | 1928 | 1929 | 1930 | 1931 | 1932 | 1933 | 1934 | 1935 | 1936 | 1937 | 1938 | 1939 | 1940 | 1941 | 1942 | 1943 | 1944 | 1945 | 1946 | 1947 | 1948 | 1949 | 1950 | 1951 | 1952 | 1953 | 1954 | 1955 | 1956 | 1957 | 1958 | 1959 | 1960 | 1961 | 1962 | 1963 | 1964 | 1965 | 1966 | 1967 | 1968 | 1969 | 1970 | 1971 | 1972 | 1973 | 1974 | 1975 | 1976 | 1977 | 1978 | 1979 | 1980 | 1981 | 1982 | 1983 | 1984 | 1985 | 1986 | 1987 | 1988 | 1989 | 1990 | 1991 | 1992 | 1993 | 1994 | 1995 | 1996 | 1997 | 1998 | 1999 | 2000 | 2001 | 2002 | 2003 | 2004 | 2005 | 2006 | 2007 | 2008 | 2009 | 2010 | 2011 | 2012 | 2013 | 2014 | 2015 | 2016 | 2017 | 2018\n",
       "Algeria | 28.8 | 28.8 | 28.8 | 28.8 | 28.8 | 28.8 | 28.8 | 28.8 | 28.8 | 28.8 | 28.8 | 28.8 | 28.8 | 28.8 | 28.8 | 28.8 | 28.8 | 28.8 | 28.8 | 28.8 | 28.8 | 28.8 | 28.8 | 28.8 | 28.8 | 28.8 | 28.8 | 28.8 | 28.8 | 28.8 | 28.8 | 28.8 | 28.8 | 28.8 | 28.8 | 28.8 | 28.8 | 28.8 | 28.8 | 28.8 | 28.8 | 28.8 | 28.8 | 28.8 | 28.8 | 28.8 | 28.8 | 28.8 | 28.8 | 20   | 15   | 22   | 28.8 | 28.8 | 28.8 | 28.8 | 28.8 | 28.8 | 28.8 | 28.8 | 28.8 | 28.8 | 28.8 | 28.8 | 28.8 | 28.8 | 28.8 | 21   | 11   | 15   | 22   | 28.9 | 28.9 | 28.9 | 29   | 29   | 29.1 | 29.1 | 29.1 | 29.2 | 29.2 | 29.3 | 29.3 | 29.4 | 29.4 | 29.4 | 29.5 | 29.5 | 29.6 | 29.6 | 29.6 | 29.7 | 29.7 | 29.8 | 29.8 | 29.8 | 29.9 | 29.9 | 30   | 30   | 30.1 | 30.2 | 30.3 | 31.3 | 25.3 | 28   | 29.5 | 29.4 | 29.3 | 30.9 | 32.5 | 32.3 | 33.7 | 31.5 | 31   | 30.5 | 30.1 | 30.2 | 23.6 | 30.3 | 29.4 | 29.5 | 29.2 | 31.8 | 33.3 | 34.1 | 33.4 | 28.6 | 32.2 | 32.5 | 33.8 | 31.7 | 33.1 | 34.3 | 33.7 | 35.6 | 36.8 | 34.9 | 34.3 | 36.6 | 37.1 | 35.3 | 34.7 | 30   | 35.5 | 33.2 | 35.4 | 38.8 | 42   | 44.4 | 46.9 | 47.1 | 47.6 | 48.1 | 48.6 | 49.2 | 49.7 | 50.3 | 50.9 | 51.4 | 52   | 52.6 | 53.2 | 53.8 | 54.3 | 54.9 | 55.4 | 56   | 56.5 | 57   | 57.5 | 57.8 | 58.2 | 58.5 | 59.1 | 59.5 | 60   | 60.6 | 61.2 | 61.9 | 62.1 | 63.4 | 64.4 | 65.7 | 66.9 | 68   | 68.7 | 69.4 | 70   | 70.5 | 71   | 71.4 | 71.7 | 72   | 72.1 | 72.3 | 72.8 | 73   | 73.1 | 73.5 | 73.9 | 74.1 | 74.4 | 74.5 | 75.1 | 75.4 | 75.6 | 75.9 | 76.1 | 76.3 | 76.5 | 76.7 | 76.8 | 77   | 77.1 | 77.3 | 77.4 | 77.6 | 77.9"
      ]
     },
     "execution_count": 6,
     "metadata": {},
     "output_type": "execute_result"
    }
   ],
   "source": [
    "life_expectancy.where(\"country\", \"Algeria\")"
   ]
  },
  {
   "cell_type": "markdown",
   "metadata": {},
   "source": [
    "There are other things we can do with our data, so let's take a look at some other tables we will be looking at in this notebook. The following is a couple rows of the gini coefficients for several countries through the years. "
   ]
  },
  {
   "cell_type": "code",
   "execution_count": 7,
   "metadata": {},
   "outputs": [
    {
     "data": {
      "text/html": [
       "<table border=\"1\" class=\"dataframe\">\n",
       "    <thead>\n",
       "        <tr>\n",
       "            <th>country</th> <th>1800</th> <th>1801</th> <th>1802</th> <th>1803</th> <th>1804</th> <th>1805</th> <th>1806</th> <th>1807</th> <th>1808</th> <th>1809</th> <th>1810</th> <th>1811</th> <th>1812</th> <th>1813</th> <th>1814</th> <th>1815</th> <th>1816</th> <th>1817</th> <th>1818</th> <th>1819</th> <th>1820</th> <th>1821</th> <th>1822</th> <th>1823</th> <th>1824</th> <th>1825</th> <th>1826</th> <th>1827</th> <th>1828</th> <th>1829</th> <th>1830</th> <th>1831</th> <th>1832</th> <th>1833</th> <th>1834</th> <th>1835</th> <th>1836</th> <th>1837</th> <th>1838</th> <th>1839</th> <th>1840</th> <th>1841</th> <th>1842</th> <th>1843</th> <th>1844</th> <th>1845</th> <th>1846</th> <th>1847</th> <th>1848</th> <th>1849</th> <th>1850</th> <th>1851</th> <th>1852</th> <th>1853</th> <th>1854</th> <th>1855</th> <th>1856</th> <th>1857</th> <th>1858</th> <th>1859</th> <th>1860</th> <th>1861</th> <th>1862</th> <th>1863</th> <th>1864</th> <th>1865</th> <th>1866</th> <th>1867</th> <th>1868</th> <th>1869</th> <th>1870</th> <th>1871</th> <th>1872</th> <th>1873</th> <th>1874</th> <th>1875</th> <th>1876</th> <th>1877</th> <th>1878</th> <th>1879</th> <th>1880</th> <th>1881</th> <th>1882</th> <th>1883</th> <th>1884</th> <th>1885</th> <th>1886</th> <th>1887</th> <th>1888</th> <th>1889</th> <th>1890</th> <th>1891</th> <th>1892</th> <th>1893</th> <th>1894</th> <th>1895</th> <th>1896</th> <th>1897</th> <th>1898</th> <th>1899</th> <th>1900</th> <th>1901</th> <th>1902</th> <th>1903</th> <th>1904</th> <th>1905</th> <th>1906</th> <th>1907</th> <th>1908</th> <th>1909</th> <th>1910</th> <th>1911</th> <th>1912</th> <th>1913</th> <th>1914</th> <th>1915</th> <th>1916</th> <th>1917</th> <th>1918</th> <th>1919</th> <th>1920</th> <th>1921</th> <th>1922</th> <th>1923</th> <th>1924</th> <th>1925</th> <th>1926</th> <th>1927</th> <th>1928</th> <th>1929</th> <th>1930</th> <th>1931</th> <th>1932</th> <th>1933</th> <th>1934</th> <th>1935</th> <th>1936</th> <th>1937</th> <th>1938</th> <th>1939</th> <th>1940</th> <th>1941</th> <th>1942</th> <th>1943</th> <th>1944</th> <th>1945</th> <th>1946</th> <th>1947</th> <th>1948</th> <th>1949</th> <th>1950</th> <th>1951</th> <th>1952</th> <th>1953</th> <th>1954</th> <th>1955</th> <th>1956</th> <th>1957</th> <th>1958</th> <th>1959</th> <th>1960</th> <th>1961</th> <th>1962</th> <th>1963</th> <th>1964</th> <th>1965</th> <th>1966</th> <th>1967</th> <th>1968</th> <th>1969</th> <th>1970</th> <th>1971</th> <th>1972</th> <th>1973</th> <th>1974</th> <th>1975</th> <th>1976</th> <th>1977</th> <th>1978</th> <th>1979</th> <th>1980</th> <th>1981</th> <th>1982</th> <th>1983</th> <th>1984</th> <th>1985</th> <th>1986</th> <th>1987</th> <th>1988</th> <th>1989</th> <th>1990</th> <th>1991</th> <th>1992</th> <th>1993</th> <th>1994</th> <th>1995</th> <th>1996</th> <th>1997</th> <th>1998</th> <th>1999</th> <th>2000</th> <th>2001</th> <th>2002</th> <th>2003</th> <th>2004</th> <th>2005</th> <th>2006</th> <th>2007</th> <th>2008</th> <th>2009</th> <th>2010</th> <th>2011</th> <th>2012</th> <th>2013</th> <th>2014</th> <th>2015</th> <th>2016</th> <th>2017</th> <th>2018</th> <th>2019</th> <th>2020</th> <th>2021</th> <th>2022</th> <th>2023</th> <th>2024</th> <th>2025</th> <th>2026</th> <th>2027</th> <th>2028</th> <th>2029</th> <th>2030</th> <th>2031</th> <th>2032</th> <th>2033</th> <th>2034</th> <th>2035</th> <th>2036</th> <th>2037</th> <th>2038</th> <th>2039</th> <th>2040</th>\n",
       "        </tr>\n",
       "    </thead>\n",
       "    <tbody>\n",
       "        <tr>\n",
       "            <td>Afghanistan        </td> <td>30.5</td> <td>30.5</td> <td>30.5</td> <td>30.5</td> <td>30.5</td> <td>30.5</td> <td>30.5</td> <td>30.5</td> <td>30.5</td> <td>30.5</td> <td>30.5</td> <td>30.5</td> <td>30.5</td> <td>30.5</td> <td>30.5</td> <td>30.5</td> <td>30.5</td> <td>30.5</td> <td>30.5</td> <td>30.5</td> <td>30.5</td> <td>30.5</td> <td>30.5</td> <td>30.5</td> <td>30.5</td> <td>30.5</td> <td>30.5</td> <td>30.5</td> <td>30.5</td> <td>30.5</td> <td>30.5</td> <td>30.5</td> <td>30.5</td> <td>30.5</td> <td>30.5</td> <td>30.5</td> <td>30.5</td> <td>30.5</td> <td>30.5</td> <td>30.5</td> <td>30.5</td> <td>30.5</td> <td>30.5</td> <td>30.5</td> <td>30.6</td> <td>30.7</td> <td>30.9</td> <td>31.2</td> <td>31.5</td> <td>31.9</td> <td>32.4</td> <td>33  </td> <td>33.6</td> <td>34.3</td> <td>35  </td> <td>35.8</td> <td>36.7</td> <td>37.7</td> <td>38.6</td> <td>39.6</td> <td>40.5</td> <td>41.5</td> <td>42.4</td> <td>43.4</td> <td>44.3</td> <td>45  </td> <td>45.7</td> <td>46.2</td> <td>46.7</td> <td>47  </td> <td>47.2</td> <td>47.3</td> <td>47.2</td> <td>47.1</td> <td>46.8</td> <td>46.4</td> <td>45.9</td> <td>45.3</td> <td>44.7</td> <td>44  </td> <td>43.4</td> <td>42.7</td> <td>42.1</td> <td>41.4</td> <td>40.8</td> <td>40.2</td> <td>39.7</td> <td>39.2</td> <td>38.8</td> <td>38.5</td> <td>38.3</td> <td>38.1</td> <td>38  </td> <td>38  </td> <td>38  </td> <td>38.1</td> <td>38.2</td> <td>38.5</td> <td>38.8</td> <td>39.1</td> <td>39.4</td> <td>39.7</td> <td>39.9</td> <td>40.2</td> <td>40.5</td> <td>40.8</td> <td>41  </td> <td>41.2</td> <td>41.3</td> <td>41.5</td> <td>41.5</td> <td>41.5</td> <td>41.5</td> <td>41.5</td> <td>41.4</td> <td>41.3</td> <td>41.1</td> <td>40.9</td> <td>40.6</td> <td>40.4</td> <td>40.2</td> <td>39.9</td> <td>39.7</td> <td>39.4</td> <td>39.2</td> <td>39  </td> <td>38.7</td> <td>38.5</td> <td>38.3</td> <td>38  </td> <td>37.8</td> <td>37.6</td> <td>37.4</td> <td>37.1</td> <td>36.9</td> <td>36.7</td> <td>36.5</td> <td>36.3</td> <td>36.1</td> <td>35.9</td> <td>35.7</td> <td>35.5</td> <td>35.2</td> <td>35  </td> <td>34.8</td> <td>34.6</td> <td>34.4</td> <td>34.3</td> <td>34.2</td> <td>34.1</td> <td>34  </td> <td>34  </td> <td>34  </td> <td>34.1</td> <td>34.3</td> <td>34.4</td> <td>34.5</td> <td>34.6</td> <td>34.6</td> <td>34.5</td> <td>34.4</td> <td>34.1</td> <td>33.7</td> <td>33.2</td> <td>32.7</td> <td>32.2</td> <td>31.7</td> <td>31.2</td> <td>30.8</td> <td>30.5</td> <td>30.5</td> <td>30.8</td> <td>31.2</td> <td>31.6</td> <td>31.9</td> <td>32.1</td> <td>32.2</td> <td>32.2</td> <td>32.2</td> <td>32.2</td> <td>32.2</td> <td>32.1</td> <td>32  </td> <td>32.1</td> <td>32.5</td> <td>33  </td> <td>33.7</td> <td>34.7</td> <td>35.4</td> <td>36  </td> <td>36.4</td> <td>36.7</td> <td>36.7</td> <td>36.8</td> <td>36.8</td> <td>36.8</td> <td>36.8</td> <td>36.8</td> <td>36.8</td> <td>36.8</td> <td>36.8</td> <td>36.8</td> <td>36.8</td> <td>36.8</td> <td>36.8</td> <td>36.8</td> <td>36.8</td> <td>36.8</td> <td>36.8</td> <td>36.8</td> <td>36.8</td> <td>36.8</td> <td>36.8</td> <td>36.8</td> <td>36.8</td> <td>36.8</td> <td>36.8</td> <td>36.8</td> <td>36.8</td> <td>36.8</td> <td>36.8</td> <td>36.8</td> <td>36.8</td> <td>36.8</td> <td>36.8</td> <td>36.8</td> <td>36.8</td> <td>36.8</td> <td>36.8</td> <td>36.8</td> <td>36.8</td> <td>36.8</td> <td>36.8</td> <td>36.8</td> <td>36.8</td> <td>36.8</td> <td>36.8</td> <td>36.8</td> <td>36.8</td> <td>36.8</td> <td>36.8</td>\n",
       "        </tr>\n",
       "        <tr>\n",
       "            <td>Albania            </td> <td>38.9</td> <td>38.9</td> <td>38.9</td> <td>38.9</td> <td>38.9</td> <td>38.9</td> <td>38.9</td> <td>38.9</td> <td>38.9</td> <td>38.9</td> <td>38.9</td> <td>38.9</td> <td>38.9</td> <td>38.9</td> <td>38.9</td> <td>38.9</td> <td>38.9</td> <td>38.9</td> <td>38.9</td> <td>38.9</td> <td>38.9</td> <td>38.9</td> <td>38.9</td> <td>38.9</td> <td>38.9</td> <td>38.9</td> <td>38.9</td> <td>38.9</td> <td>38.9</td> <td>38.9</td> <td>38.9</td> <td>38.9</td> <td>38.9</td> <td>38.9</td> <td>38.9</td> <td>38.9</td> <td>38.9</td> <td>38.9</td> <td>38.9</td> <td>38.9</td> <td>38.9</td> <td>38.9</td> <td>38.9</td> <td>38.9</td> <td>38.9</td> <td>38.9</td> <td>38.9</td> <td>38.9</td> <td>38.9</td> <td>38.9</td> <td>38.9</td> <td>38.9</td> <td>38.9</td> <td>38.9</td> <td>38.9</td> <td>38.9</td> <td>38.9</td> <td>38.9</td> <td>38.9</td> <td>38.9</td> <td>38.9</td> <td>38.9</td> <td>38.9</td> <td>38.9</td> <td>38.9</td> <td>38.9</td> <td>38.8</td> <td>38.7</td> <td>38.5</td> <td>38.3</td> <td>38  </td> <td>37.7</td> <td>37.4</td> <td>37  </td> <td>36.6</td> <td>36.1</td> <td>35.6</td> <td>35  </td> <td>34.4</td> <td>33.8</td> <td>33.2</td> <td>32.6</td> <td>31.9</td> <td>31.3</td> <td>30.7</td> <td>30.2</td> <td>29.6</td> <td>29.2</td> <td>28.7</td> <td>28.3</td> <td>28  </td> <td>27.6</td> <td>27.4</td> <td>27.1</td> <td>26.9</td> <td>26.8</td> <td>26.7</td> <td>26.6</td> <td>26.6</td> <td>26.5</td> <td>26.5</td> <td>26.5</td> <td>26.4</td> <td>26.4</td> <td>26.4</td> <td>26.3</td> <td>26.3</td> <td>26.3</td> <td>26.3</td> <td>26.3</td> <td>26.2</td> <td>26.2</td> <td>26.2</td> <td>26.2</td> <td>26.2</td> <td>26.2</td> <td>26.2</td> <td>26.2</td> <td>26.2</td> <td>26.2</td> <td>26.3</td> <td>26.3</td> <td>26.3</td> <td>26.3</td> <td>26.3</td> <td>26.3</td> <td>26.3</td> <td>26.3</td> <td>26.3</td> <td>26.3</td> <td>26.4</td> <td>26.4</td> <td>26.4</td> <td>26.4</td> <td>26.4</td> <td>26.4</td> <td>26.4</td> <td>26.4</td> <td>26.4</td> <td>26.4</td> <td>26.5</td> <td>26.5</td> <td>26.5</td> <td>26.5</td> <td>26.5</td> <td>26.5</td> <td>26.5</td> <td>26.5</td> <td>26.5</td> <td>26.5</td> <td>26.6</td> <td>26.6</td> <td>26.6</td> <td>26.6</td> <td>26.6</td> <td>26.6</td> <td>26.6</td> <td>26.6</td> <td>26.6</td> <td>26.6</td> <td>26.7</td> <td>26.7</td> <td>26.7</td> <td>26.7</td> <td>26.7</td> <td>26.7</td> <td>26.7</td> <td>26.7</td> <td>26.7</td> <td>26.7</td> <td>26.8</td> <td>26.8</td> <td>26.8</td> <td>26.8</td> <td>26.8</td> <td>26.8</td> <td>26.8</td> <td>26.8</td> <td>26.8</td> <td>26.8</td> <td>26.9</td> <td>26.9</td> <td>26.9</td> <td>26.9</td> <td>26.9</td> <td>26.9</td> <td>26.9</td> <td>26.9</td> <td>26.9</td> <td>26.9</td> <td>27  </td> <td>27  </td> <td>27  </td> <td>27  </td> <td>27  </td> <td>27.2</td> <td>27.5</td> <td>28  </td> <td>28.6</td> <td>29.4</td> <td>30.2</td> <td>30.7</td> <td>31  </td> <td>31.1</td> <td>31  </td> <td>30.7</td> <td>30.4</td> <td>30.2</td> <td>30  </td> <td>29.7</td> <td>29.5</td> <td>29.3</td> <td>29.1</td> <td>29  </td> <td>29  </td> <td>29  </td> <td>29  </td> <td>29  </td> <td>29  </td> <td>29  </td> <td>29  </td> <td>29  </td> <td>29  </td> <td>29  </td> <td>29  </td> <td>29  </td> <td>29  </td> <td>29  </td> <td>29  </td> <td>29  </td> <td>29  </td> <td>29  </td> <td>29  </td> <td>29  </td> <td>29  </td> <td>29  </td> <td>29  </td> <td>29  </td> <td>29  </td> <td>29  </td> <td>29  </td>\n",
       "        </tr>\n",
       "        <tr>\n",
       "            <td>Algeria            </td> <td>56.2</td> <td>56.2</td> <td>56.2</td> <td>56.2</td> <td>56.2</td> <td>56.2</td> <td>56.2</td> <td>56.2</td> <td>56.2</td> <td>56.2</td> <td>56.2</td> <td>56.2</td> <td>56.2</td> <td>56.2</td> <td>56.2</td> <td>56.2</td> <td>56.2</td> <td>56.2</td> <td>56.3</td> <td>56.4</td> <td>56.5</td> <td>56.6</td> <td>56.7</td> <td>56.8</td> <td>56.9</td> <td>57  </td> <td>57.2</td> <td>57.4</td> <td>57.5</td> <td>57.7</td> <td>57.9</td> <td>58.1</td> <td>58.2</td> <td>58.4</td> <td>58.6</td> <td>58.8</td> <td>58.9</td> <td>59.1</td> <td>59.3</td> <td>59.5</td> <td>59.6</td> <td>59.8</td> <td>60  </td> <td>60.2</td> <td>60.3</td> <td>60.4</td> <td>60.5</td> <td>60.4</td> <td>60.3</td> <td>60.1</td> <td>59.8</td> <td>59.4</td> <td>59  </td> <td>58.5</td> <td>57.9</td> <td>57.2</td> <td>56.5</td> <td>55.7</td> <td>54.8</td> <td>53.9</td> <td>53  </td> <td>52.1</td> <td>51.2</td> <td>50.3</td> <td>49.4</td> <td>48.5</td> <td>47.7</td> <td>46.9</td> <td>46.1</td> <td>45.3</td> <td>44.5</td> <td>43.8</td> <td>43.1</td> <td>42.4</td> <td>41.8</td> <td>41.1</td> <td>40.5</td> <td>39.9</td> <td>39.4</td> <td>38.8</td> <td>38.2</td> <td>37.7</td> <td>37.1</td> <td>36.6</td> <td>36  </td> <td>35.5</td> <td>35  </td> <td>34.6</td> <td>34.3</td> <td>34  </td> <td>33.7</td> <td>33.5</td> <td>33.3</td> <td>33.2</td> <td>33.2</td> <td>33.2</td> <td>33.3</td> <td>33.4</td> <td>33.5</td> <td>33.7</td> <td>33.8</td> <td>34  </td> <td>34.2</td> <td>34.3</td> <td>34.5</td> <td>34.6</td> <td>34.8</td> <td>35  </td> <td>35.2</td> <td>35.3</td> <td>35.5</td> <td>35.7</td> <td>35.9</td> <td>36  </td> <td>36.2</td> <td>36.4</td> <td>36.6</td> <td>36.8</td> <td>37  </td> <td>37.2</td> <td>37.4</td> <td>37.6</td> <td>37.8</td> <td>38  </td> <td>38.2</td> <td>38.3</td> <td>38.5</td> <td>38.7</td> <td>38.8</td> <td>38.9</td> <td>39  </td> <td>39.1</td> <td>39.2</td> <td>39.3</td> <td>39.3</td> <td>39.4</td> <td>39.4</td> <td>39.4</td> <td>39.4</td> <td>39.4</td> <td>39.4</td> <td>39.5</td> <td>39.5</td> <td>39.5</td> <td>39.5</td> <td>39.5</td> <td>39.5</td> <td>39.5</td> <td>39.6</td> <td>39.6</td> <td>39.6</td> <td>39.6</td> <td>39.6</td> <td>39.6</td> <td>39.7</td> <td>39.7</td> <td>39.7</td> <td>39.7</td> <td>39.7</td> <td>39.7</td> <td>39.7</td> <td>39.8</td> <td>39.8</td> <td>39.8</td> <td>39.8</td> <td>39.8</td> <td>39.8</td> <td>39.9</td> <td>39.9</td> <td>39.9</td> <td>39.9</td> <td>39.9</td> <td>39.9</td> <td>40  </td> <td>40  </td> <td>40  </td> <td>40  </td> <td>40  </td> <td>40  </td> <td>40.1</td> <td>40.1</td> <td>40.1</td> <td>40.1</td> <td>40.1</td> <td>40.1</td> <td>40.1</td> <td>40.2</td> <td>40  </td> <td>39.8</td> <td>39.4</td> <td>38.8</td> <td>38.1</td> <td>37.4</td> <td>36.7</td> <td>36.1</td> <td>35.5</td> <td>34.9</td> <td>34.4</td> <td>34  </td> <td>33.5</td> <td>33.1</td> <td>32.6</td> <td>32.2</td> <td>31.7</td> <td>31.2</td> <td>30.8</td> <td>30.3</td> <td>29.9</td> <td>29.4</td> <td>29  </td> <td>28.5</td> <td>28.2</td> <td>27.9</td> <td>27.7</td> <td>27.6</td> <td>27.6</td> <td>27.6</td> <td>27.6</td> <td>27.6</td> <td>27.6</td> <td>27.6</td> <td>27.6</td> <td>27.6</td> <td>27.6</td> <td>27.6</td> <td>27.6</td> <td>27.6</td> <td>27.6</td> <td>27.6</td> <td>27.6</td> <td>27.6</td> <td>27.6</td> <td>27.6</td> <td>27.6</td> <td>27.6</td> <td>27.6</td> <td>27.6</td> <td>27.6</td> <td>27.6</td> <td>27.6</td> <td>27.6</td>\n",
       "        </tr>\n",
       "        <tr>\n",
       "            <td>Andorra            </td> <td>40  </td> <td>40  </td> <td>40  </td> <td>40  </td> <td>40  </td> <td>40  </td> <td>40  </td> <td>40  </td> <td>40  </td> <td>40  </td> <td>40  </td> <td>40  </td> <td>40  </td> <td>40  </td> <td>40  </td> <td>40  </td> <td>40  </td> <td>40  </td> <td>40  </td> <td>40  </td> <td>40  </td> <td>40  </td> <td>40  </td> <td>40  </td> <td>40  </td> <td>40  </td> <td>40  </td> <td>40  </td> <td>40  </td> <td>40  </td> <td>40  </td> <td>40  </td> <td>40  </td> <td>40  </td> <td>40  </td> <td>40  </td> <td>40  </td> <td>40  </td> <td>40  </td> <td>40  </td> <td>40  </td> <td>40  </td> <td>40  </td> <td>40  </td> <td>40  </td> <td>40  </td> <td>40  </td> <td>40  </td> <td>40  </td> <td>40  </td> <td>40  </td> <td>40  </td> <td>40  </td> <td>40  </td> <td>40  </td> <td>40  </td> <td>40  </td> <td>40  </td> <td>40  </td> <td>40  </td> <td>40  </td> <td>40  </td> <td>40  </td> <td>40  </td> <td>40  </td> <td>40  </td> <td>40  </td> <td>40  </td> <td>40  </td> <td>40  </td> <td>40  </td> <td>40  </td> <td>40  </td> <td>40  </td> <td>40  </td> <td>40  </td> <td>40  </td> <td>40  </td> <td>40  </td> <td>40  </td> <td>40  </td> <td>40  </td> <td>40  </td> <td>40  </td> <td>40  </td> <td>40  </td> <td>40  </td> <td>40  </td> <td>40  </td> <td>40  </td> <td>40  </td> <td>40  </td> <td>40  </td> <td>40  </td> <td>40  </td> <td>40  </td> <td>40  </td> <td>40  </td> <td>40  </td> <td>40  </td> <td>40  </td> <td>40  </td> <td>40  </td> <td>40  </td> <td>40  </td> <td>40  </td> <td>40  </td> <td>40  </td> <td>40  </td> <td>40  </td> <td>40  </td> <td>40  </td> <td>40  </td> <td>40  </td> <td>40  </td> <td>40  </td> <td>40  </td> <td>40  </td> <td>40  </td> <td>40  </td> <td>40  </td> <td>40  </td> <td>40  </td> <td>40  </td> <td>40  </td> <td>40  </td> <td>40  </td> <td>40  </td> <td>40  </td> <td>40  </td> <td>40  </td> <td>40  </td> <td>40  </td> <td>40  </td> <td>40  </td> <td>40  </td> <td>40  </td> <td>40  </td> <td>40  </td> <td>40  </td> <td>40  </td> <td>40  </td> <td>40  </td> <td>40  </td> <td>40  </td> <td>40  </td> <td>40  </td> <td>40  </td> <td>40  </td> <td>40  </td> <td>40  </td> <td>40  </td> <td>40  </td> <td>40  </td> <td>40  </td> <td>40  </td> <td>40  </td> <td>40  </td> <td>40  </td> <td>40  </td> <td>40  </td> <td>40  </td> <td>40  </td> <td>40  </td> <td>40  </td> <td>40  </td> <td>40  </td> <td>40  </td> <td>40  </td> <td>40  </td> <td>40  </td> <td>40  </td> <td>40  </td> <td>40  </td> <td>40  </td> <td>40  </td> <td>40  </td> <td>40  </td> <td>40  </td> <td>40  </td> <td>40  </td> <td>40  </td> <td>40  </td> <td>40  </td> <td>40  </td> <td>40  </td> <td>40  </td> <td>40  </td> <td>40  </td> <td>40  </td> <td>40  </td> <td>40  </td> <td>40  </td> <td>40  </td> <td>40  </td> <td>40  </td> <td>40  </td> <td>40  </td> <td>40  </td> <td>40  </td> <td>40  </td> <td>40  </td> <td>40  </td> <td>40  </td> <td>40  </td> <td>40  </td> <td>40  </td> <td>40  </td> <td>40  </td> <td>40  </td> <td>40  </td> <td>40  </td> <td>40  </td> <td>40  </td> <td>40  </td> <td>40  </td> <td>40  </td> <td>40  </td> <td>40  </td> <td>40  </td> <td>40  </td> <td>40  </td> <td>40  </td> <td>40  </td> <td>40  </td> <td>40  </td> <td>40  </td> <td>40  </td> <td>40  </td> <td>40  </td> <td>40  </td> <td>40  </td> <td>40  </td> <td>40  </td> <td>40  </td> <td>40  </td> <td>40  </td> <td>40  </td> <td>40  </td> <td>40  </td> <td>40  </td>\n",
       "        </tr>\n",
       "        <tr>\n",
       "            <td>Angola             </td> <td>57.2</td> <td>57.2</td> <td>57.2</td> <td>57.2</td> <td>57.2</td> <td>57.2</td> <td>57.2</td> <td>57.2</td> <td>57.2</td> <td>57.2</td> <td>57.2</td> <td>57.2</td> <td>57.2</td> <td>57.2</td> <td>57.2</td> <td>57.2</td> <td>57.2</td> <td>57.2</td> <td>57.1</td> <td>56.9</td> <td>56.8</td> <td>56.6</td> <td>56.4</td> <td>56.1</td> <td>55.9</td> <td>55.7</td> <td>55.4</td> <td>55.1</td> <td>54.7</td> <td>54.4</td> <td>54.1</td> <td>53.7</td> <td>53.4</td> <td>53.1</td> <td>52.7</td> <td>52.4</td> <td>52.1</td> <td>51.7</td> <td>51.4</td> <td>51.1</td> <td>50.7</td> <td>50.4</td> <td>50.1</td> <td>49.7</td> <td>49.4</td> <td>49.1</td> <td>48.7</td> <td>48.4</td> <td>48.1</td> <td>47.7</td> <td>47.4</td> <td>47.1</td> <td>46.7</td> <td>46.4</td> <td>46.1</td> <td>45.7</td> <td>45.4</td> <td>45.1</td> <td>44.7</td> <td>44.4</td> <td>44.1</td> <td>43.7</td> <td>43.4</td> <td>43.1</td> <td>42.7</td> <td>42.4</td> <td>42.1</td> <td>41.7</td> <td>41.4</td> <td>41.1</td> <td>40.7</td> <td>40.4</td> <td>40.1</td> <td>39.7</td> <td>39.4</td> <td>39.1</td> <td>38.7</td> <td>38.4</td> <td>38.1</td> <td>37.7</td> <td>37.4</td> <td>37.1</td> <td>36.7</td> <td>36.4</td> <td>36.1</td> <td>35.8</td> <td>35.6</td> <td>35.5</td> <td>35.5</td> <td>35.5</td> <td>35.6</td> <td>35.8</td> <td>36  </td> <td>36.4</td> <td>36.8</td> <td>37.2</td> <td>37.8</td> <td>38.4</td> <td>39.1</td> <td>39.8</td> <td>40.5</td> <td>41.2</td> <td>41.9</td> <td>42.6</td> <td>43.3</td> <td>44  </td> <td>44.7</td> <td>45.4</td> <td>46.1</td> <td>46.8</td> <td>47.5</td> <td>48.3</td> <td>49  </td> <td>49.7</td> <td>50.4</td> <td>51.2</td> <td>51.9</td> <td>52.7</td> <td>53.4</td> <td>54.2</td> <td>54.9</td> <td>55.7</td> <td>56.4</td> <td>57.2</td> <td>57.9</td> <td>58.5</td> <td>59  </td> <td>59.5</td> <td>59.9</td> <td>60.2</td> <td>60.4</td> <td>60.6</td> <td>60.7</td> <td>60.7</td> <td>60.7</td> <td>60.7</td> <td>60.4</td> <td>60.1</td> <td>59.9</td> <td>59.6</td> <td>59.4</td> <td>59.1</td> <td>58.9</td> <td>58.6</td> <td>58.4</td> <td>58.1</td> <td>57.9</td> <td>57.6</td> <td>57.4</td> <td>57.2</td> <td>57  </td> <td>56.8</td> <td>56.6</td> <td>56.5</td> <td>56.4</td> <td>56.3</td> <td>56.2</td> <td>56.1</td> <td>56  </td> <td>55.9</td> <td>55.8</td> <td>55.7</td> <td>55.6</td> <td>55.5</td> <td>55.4</td> <td>55.3</td> <td>55.2</td> <td>55.2</td> <td>55.1</td> <td>54.9</td> <td>54.8</td> <td>54.7</td> <td>54.6</td> <td>54.5</td> <td>54.4</td> <td>54.4</td> <td>54.3</td> <td>54.2</td> <td>54.1</td> <td>54  </td> <td>53.9</td> <td>53.8</td> <td>53.7</td> <td>53.6</td> <td>53.5</td> <td>53.4</td> <td>53.3</td> <td>53.2</td> <td>53.1</td> <td>53  </td> <td>52.9</td> <td>52.8</td> <td>52.8</td> <td>52.7</td> <td>52.6</td> <td>52.5</td> <td>52.4</td> <td>52.3</td> <td>52.2</td> <td>52.1</td> <td>51.8</td> <td>51.3</td> <td>50.6</td> <td>49.7</td> <td>48.5</td> <td>47.3</td> <td>46.2</td> <td>45  </td> <td>44.1</td> <td>43.4</td> <td>42.9</td> <td>42.7</td> <td>42.6</td> <td>42.6</td> <td>42.6</td> <td>42.6</td> <td>42.6</td> <td>42.6</td> <td>42.6</td> <td>42.6</td> <td>42.6</td> <td>42.6</td> <td>42.6</td> <td>42.6</td> <td>42.6</td> <td>42.6</td> <td>42.6</td> <td>42.6</td> <td>42.6</td> <td>42.6</td> <td>42.6</td> <td>42.6</td> <td>42.6</td> <td>42.6</td> <td>42.6</td> <td>42.6</td> <td>42.6</td> <td>42.6</td> <td>42.6</td> <td>42.6</td> <td>42.6</td>\n",
       "        </tr>\n",
       "        <tr>\n",
       "            <td>Antigua and Barbuda</td> <td>40  </td> <td>40  </td> <td>40  </td> <td>40  </td> <td>40  </td> <td>40  </td> <td>40  </td> <td>40  </td> <td>40  </td> <td>40  </td> <td>40  </td> <td>40  </td> <td>40  </td> <td>40  </td> <td>40  </td> <td>40  </td> <td>40  </td> <td>40  </td> <td>40  </td> <td>40  </td> <td>40  </td> <td>40  </td> <td>40  </td> <td>40  </td> <td>40  </td> <td>40  </td> <td>40  </td> <td>40  </td> <td>40  </td> <td>40  </td> <td>40  </td> <td>40  </td> <td>40  </td> <td>40  </td> <td>40  </td> <td>40  </td> <td>40  </td> <td>40  </td> <td>40  </td> <td>40  </td> <td>40  </td> <td>40  </td> <td>40  </td> <td>40  </td> <td>40  </td> <td>40  </td> <td>40  </td> <td>40  </td> <td>40  </td> <td>40  </td> <td>40  </td> <td>40  </td> <td>40  </td> <td>40  </td> <td>40  </td> <td>40  </td> <td>40  </td> <td>40  </td> <td>40  </td> <td>40  </td> <td>40  </td> <td>40  </td> <td>40  </td> <td>40  </td> <td>40  </td> <td>40  </td> <td>40  </td> <td>40  </td> <td>40  </td> <td>40  </td> <td>40  </td> <td>40  </td> <td>40  </td> <td>40  </td> <td>40  </td> <td>40  </td> <td>40  </td> <td>40  </td> <td>40  </td> <td>40  </td> <td>40  </td> <td>40  </td> <td>40  </td> <td>40  </td> <td>40  </td> <td>40  </td> <td>40  </td> <td>40  </td> <td>40  </td> <td>40  </td> <td>40  </td> <td>40  </td> <td>40  </td> <td>40  </td> <td>40  </td> <td>40  </td> <td>40  </td> <td>40  </td> <td>40  </td> <td>40  </td> <td>40  </td> <td>40  </td> <td>40  </td> <td>40  </td> <td>40  </td> <td>40  </td> <td>40  </td> <td>40  </td> <td>40  </td> <td>40  </td> <td>40  </td> <td>40  </td> <td>40  </td> <td>40  </td> <td>40  </td> <td>40  </td> <td>40  </td> <td>40  </td> <td>40  </td> <td>40  </td> <td>40  </td> <td>40  </td> <td>40  </td> <td>40  </td> <td>40  </td> <td>40  </td> <td>40  </td> <td>40  </td> <td>40  </td> <td>40  </td> <td>40  </td> <td>40  </td> <td>40  </td> <td>40  </td> <td>40  </td> <td>40  </td> <td>40  </td> <td>40  </td> <td>40  </td> <td>40  </td> <td>40  </td> <td>40  </td> <td>40  </td> <td>40  </td> <td>40  </td> <td>40  </td> <td>40  </td> <td>40  </td> <td>40  </td> <td>40  </td> <td>40  </td> <td>40  </td> <td>40  </td> <td>40  </td> <td>40  </td> <td>40  </td> <td>40  </td> <td>40  </td> <td>40  </td> <td>40  </td> <td>40  </td> <td>40  </td> <td>40  </td> <td>40  </td> <td>40  </td> <td>40  </td> <td>40  </td> <td>40  </td> <td>40  </td> <td>40  </td> <td>40  </td> <td>40  </td> <td>40  </td> <td>40  </td> <td>40  </td> <td>40  </td> <td>40  </td> <td>40  </td> <td>40  </td> <td>40  </td> <td>40  </td> <td>40  </td> <td>40  </td> <td>40  </td> <td>40  </td> <td>40  </td> <td>40  </td> <td>40  </td> <td>40  </td> <td>40  </td> <td>40  </td> <td>40  </td> <td>40  </td> <td>40  </td> <td>40  </td> <td>40  </td> <td>40  </td> <td>40  </td> <td>40  </td> <td>40  </td> <td>40  </td> <td>40  </td> <td>40  </td> <td>40  </td> <td>40  </td> <td>40  </td> <td>40  </td> <td>40  </td> <td>40  </td> <td>40  </td> <td>40  </td> <td>40  </td> <td>40  </td> <td>40  </td> <td>40  </td> <td>40  </td> <td>40  </td> <td>40  </td> <td>40  </td> <td>40  </td> <td>40  </td> <td>40  </td> <td>40  </td> <td>40  </td> <td>40  </td> <td>40  </td> <td>40  </td> <td>40  </td> <td>40  </td> <td>40  </td> <td>40  </td> <td>40  </td> <td>40  </td> <td>40  </td> <td>40  </td> <td>40  </td> <td>40  </td> <td>40  </td> <td>40  </td> <td>40  </td> <td>40  </td>\n",
       "        </tr>\n",
       "        <tr>\n",
       "            <td>Argentina          </td> <td>47.7</td> <td>47.7</td> <td>47.7</td> <td>47.7</td> <td>47.7</td> <td>47.7</td> <td>47.7</td> <td>47.7</td> <td>47.7</td> <td>47.7</td> <td>47.7</td> <td>47.7</td> <td>47.7</td> <td>47.7</td> <td>47.7</td> <td>47.7</td> <td>47.7</td> <td>47.6</td> <td>47.5</td> <td>47.3</td> <td>47.1</td> <td>46.8</td> <td>46.5</td> <td>46.2</td> <td>45.8</td> <td>45.6</td> <td>45.2</td> <td>44.8</td> <td>44.3</td> <td>43.9</td> <td>43.4</td> <td>42.9</td> <td>42.5</td> <td>42  </td> <td>41.6</td> <td>41.1</td> <td>40.7</td> <td>40.2</td> <td>39.8</td> <td>39.3</td> <td>38.9</td> <td>38.4</td> <td>38  </td> <td>37.5</td> <td>37.1</td> <td>36.7</td> <td>36.5</td> <td>36.3</td> <td>36.2</td> <td>36.3</td> <td>36.4</td> <td>36.7</td> <td>37  </td> <td>37.5</td> <td>38  </td> <td>38.6</td> <td>39.4</td> <td>40.2</td> <td>41.1</td> <td>42.1</td> <td>43  </td> <td>44  </td> <td>44.9</td> <td>45.8</td> <td>46.8</td> <td>47.6</td> <td>48.4</td> <td>49  </td> <td>49.6</td> <td>50  </td> <td>50.4</td> <td>50.7</td> <td>50.9</td> <td>51  </td> <td>50.9</td> <td>50.8</td> <td>50.7</td> <td>50.4</td> <td>50  </td> <td>49.6</td> <td>49.2</td> <td>48.8</td> <td>48.4</td> <td>48.1</td> <td>47.7</td> <td>47.3</td> <td>47  </td> <td>46.8</td> <td>46.6</td> <td>46.5</td> <td>46.4</td> <td>46.4</td> <td>46.4</td> <td>46.4</td> <td>46.5</td> <td>46.7</td> <td>46.9</td> <td>47.1</td> <td>47.5</td> <td>47.8</td> <td>48.1</td> <td>48.4</td> <td>48.7</td> <td>49  </td> <td>49.3</td> <td>49.5</td> <td>49.8</td> <td>49.9</td> <td>50.1</td> <td>50.2</td> <td>50.2</td> <td>50.2</td> <td>50.2</td> <td>50.2</td> <td>50  </td> <td>49.9</td> <td>49.7</td> <td>49.5</td> <td>49.2</td> <td>48.9</td> <td>48.6</td> <td>48.3</td> <td>48.1</td> <td>47.8</td> <td>47.5</td> <td>47.2</td> <td>47  </td> <td>46.6</td> <td>46.3</td> <td>46.1</td> <td>46  </td> <td>46  </td> <td>46.1</td> <td>46.1</td> <td>46.2</td> <td>46  </td> <td>46.2</td> <td>46.7</td> <td>47.3</td> <td>48.5</td> <td>49.5</td> <td>50.1</td> <td>50.4</td> <td>50.9</td> <td>51.3</td> <td>51.1</td> <td>51  </td> <td>50.3</td> <td>49.2</td> <td>47.7</td> <td>46.4</td> <td>45.7</td> <td>44.7</td> <td>43.6</td> <td>42.9</td> <td>41.9</td> <td>42  </td> <td>42.2</td> <td>42.4</td> <td>41.9</td> <td>41.4</td> <td>41.4</td> <td>41.5</td> <td>40.7</td> <td>40  </td> <td>39.4</td> <td>38.8</td> <td>38.2</td> <td>37.6</td> <td>36.7</td> <td>36.1</td> <td>35.6</td> <td>35.3</td> <td>35.2</td> <td>35.5</td> <td>36.1</td> <td>36.9</td> <td>37.9</td> <td>38.8</td> <td>39.7</td> <td>40.4</td> <td>41  </td> <td>41.5</td> <td>41.8</td> <td>42.1</td> <td>42.9</td> <td>43.7</td> <td>44.5</td> <td>45.3</td> <td>46.1</td> <td>46.1</td> <td>45.9</td> <td>45.9</td> <td>46.4</td> <td>46.9</td> <td>47.7</td> <td>48.8</td> <td>49.6</td> <td>50  </td> <td>50.8</td> <td>51.7</td> <td>51.7</td> <td>51.4</td> <td>50.8</td> <td>49.4</td> <td>47.9</td> <td>46.7</td> <td>45.8</td> <td>44.9</td> <td>44  </td> <td>43  </td> <td>42.3</td> <td>41.8</td> <td>41.6</td> <td>41.6</td> <td>41.8</td> <td>42.1</td> <td>42.3</td> <td>42.4</td> <td>42.4</td> <td>42.4</td> <td>42.4</td> <td>42.4</td> <td>42.4</td> <td>42.4</td> <td>42.4</td> <td>42.4</td> <td>42.4</td> <td>42.4</td> <td>42.4</td> <td>42.4</td> <td>42.4</td> <td>42.4</td> <td>42.4</td> <td>42.4</td> <td>42.4</td> <td>42.4</td> <td>42.4</td> <td>42.4</td> <td>42.4</td> <td>42.4</td>\n",
       "        </tr>\n",
       "        <tr>\n",
       "            <td>Armenia            </td> <td>31.5</td> <td>31.5</td> <td>31.5</td> <td>31.5</td> <td>31.5</td> <td>31.5</td> <td>31.5</td> <td>31.5</td> <td>31.5</td> <td>31.5</td> <td>31.5</td> <td>31.5</td> <td>31.5</td> <td>31.5</td> <td>31.5</td> <td>31.5</td> <td>31.5</td> <td>31.5</td> <td>31.5</td> <td>31.5</td> <td>31.5</td> <td>31.5</td> <td>31.5</td> <td>31.5</td> <td>31.5</td> <td>31.5</td> <td>31.5</td> <td>31.5</td> <td>31.5</td> <td>31.5</td> <td>31.5</td> <td>31.5</td> <td>31.5</td> <td>31.5</td> <td>31.5</td> <td>31.5</td> <td>31.5</td> <td>31.5</td> <td>31.5</td> <td>31.5</td> <td>31.5</td> <td>31.5</td> <td>31.5</td> <td>31.5</td> <td>31.5</td> <td>31.7</td> <td>31.9</td> <td>32.3</td> <td>32.7</td> <td>33.3</td> <td>34  </td> <td>34.8</td> <td>35.8</td> <td>36.8</td> <td>38  </td> <td>39.3</td> <td>40.7</td> <td>42.3</td> <td>43.9</td> <td>45.5</td> <td>47.2</td> <td>48.8</td> <td>50.5</td> <td>52.1</td> <td>53.8</td> <td>55.2</td> <td>56.4</td> <td>57.4</td> <td>58.2</td> <td>58.7</td> <td>59  </td> <td>59.1</td> <td>59  </td> <td>58.7</td> <td>58.1</td> <td>57.3</td> <td>56.3</td> <td>55.1</td> <td>53.6</td> <td>52.2</td> <td>50.7</td> <td>49.3</td> <td>47.8</td> <td>46.4</td> <td>44.9</td> <td>43.6</td> <td>42.4</td> <td>41.3</td> <td>40.3</td> <td>39.5</td> <td>38.7</td> <td>38.1</td> <td>37.6</td> <td>37.2</td> <td>37  </td> <td>36.8</td> <td>36.8</td> <td>36.9</td> <td>37.1</td> <td>37.4</td> <td>37.6</td> <td>37.8</td> <td>38  </td> <td>38.3</td> <td>38.5</td> <td>38.7</td> <td>38.9</td> <td>39.1</td> <td>39.2</td> <td>39.4</td> <td>39.5</td> <td>39.6</td> <td>39.7</td> <td>39.8</td> <td>39.9</td> <td>40  </td> <td>40  </td> <td>40.1</td> <td>40.1</td> <td>40.1</td> <td>40.1</td> <td>40.1</td> <td>40.2</td> <td>40.2</td> <td>40.2</td> <td>40.2</td> <td>40.3</td> <td>40.3</td> <td>40.3</td> <td>40.3</td> <td>40.3</td> <td>40.4</td> <td>40.4</td> <td>40.4</td> <td>40.4</td> <td>40.4</td> <td>40.5</td> <td>40.5</td> <td>40.5</td> <td>40.5</td> <td>40.6</td> <td>40.6</td> <td>40.6</td> <td>40.6</td> <td>40.6</td> <td>40.7</td> <td>40.7</td> <td>40.7</td> <td>40.7</td> <td>40.7</td> <td>40.8</td> <td>40.8</td> <td>40.8</td> <td>40.8</td> <td>40.9</td> <td>40.9</td> <td>40.9</td> <td>40.9</td> <td>40.9</td> <td>41  </td> <td>41  </td> <td>41  </td> <td>41  </td> <td>41.1</td> <td>41.1</td> <td>41.1</td> <td>41.1</td> <td>41.1</td> <td>41.2</td> <td>41.2</td> <td>41.2</td> <td>41.2</td> <td>41.3</td> <td>41.3</td> <td>41.3</td> <td>41.3</td> <td>41.3</td> <td>41.4</td> <td>41.4</td> <td>41.4</td> <td>41.4</td> <td>41.5</td> <td>41.5</td> <td>41.5</td> <td>41.5</td> <td>41.5</td> <td>41.6</td> <td>41.6</td> <td>41.6</td> <td>41.7</td> <td>41.9</td> <td>42.2</td> <td>42.6</td> <td>43  </td> <td>43.5</td> <td>43.3</td> <td>42.5</td> <td>41  </td> <td>39.4</td> <td>37.6</td> <td>36.2</td> <td>35  </td> <td>35.3</td> <td>35.3</td> <td>34.2</td> <td>33.5</td> <td>32.7</td> <td>30.8</td> <td>29.6</td> <td>29.6</td> <td>29.2</td> <td>29.5</td> <td>30.2</td> <td>30.7</td> <td>31.3</td> <td>31.9</td> <td>32.3</td> <td>32.5</td> <td>32.6</td> <td>32.6</td> <td>32.6</td> <td>32.6</td> <td>32.6</td> <td>32.6</td> <td>32.6</td> <td>32.6</td> <td>32.6</td> <td>32.6</td> <td>32.6</td> <td>32.6</td> <td>32.6</td> <td>32.6</td> <td>32.6</td> <td>32.6</td> <td>32.6</td> <td>32.6</td> <td>32.6</td> <td>32.6</td> <td>32.6</td> <td>32.6</td> <td>32.6</td>\n",
       "        </tr>\n",
       "        <tr>\n",
       "            <td>Australia          </td> <td>38.7</td> <td>38.7</td> <td>38.7</td> <td>38.7</td> <td>38.7</td> <td>38.7</td> <td>38.7</td> <td>38.7</td> <td>38.7</td> <td>38.7</td> <td>38.7</td> <td>38.7</td> <td>38.7</td> <td>38.7</td> <td>38.7</td> <td>38.7</td> <td>38.7</td> <td>38.7</td> <td>38.7</td> <td>38.7</td> <td>38.7</td> <td>38.7</td> <td>38.7</td> <td>38.7</td> <td>38.7</td> <td>38.7</td> <td>38.7</td> <td>38.7</td> <td>38.7</td> <td>38.7</td> <td>38.7</td> <td>38.7</td> <td>38.7</td> <td>38.7</td> <td>38.7</td> <td>38.7</td> <td>38.7</td> <td>38.7</td> <td>38.7</td> <td>38.7</td> <td>38.7</td> <td>38.7</td> <td>38.7</td> <td>38.7</td> <td>38.7</td> <td>38.7</td> <td>38.8</td> <td>38.8</td> <td>38.9</td> <td>39  </td> <td>39.1</td> <td>39.3</td> <td>39.5</td> <td>39.6</td> <td>39.8</td> <td>40.1</td> <td>40.3</td> <td>40.6</td> <td>40.9</td> <td>41.2</td> <td>41.5</td> <td>41.8</td> <td>42.1</td> <td>42.4</td> <td>42.6</td> <td>42.9</td> <td>43.1</td> <td>43.2</td> <td>43.3</td> <td>43.4</td> <td>43.4</td> <td>43.3</td> <td>43.2</td> <td>43.1</td> <td>42.9</td> <td>42.7</td> <td>42.4</td> <td>42  </td> <td>41.7</td> <td>41.3</td> <td>40.9</td> <td>40.5</td> <td>40.1</td> <td>39.7</td> <td>39.4</td> <td>39  </td> <td>38.7</td> <td>38.4</td> <td>38.1</td> <td>37.9</td> <td>37.7</td> <td>37.6</td> <td>37.4</td> <td>37.3</td> <td>37.3</td> <td>37.3</td> <td>37.3</td> <td>37.3</td> <td>37.4</td> <td>37.4</td> <td>37.5</td> <td>37.5</td> <td>37.6</td> <td>37.7</td> <td>37.7</td> <td>37.8</td> <td>37.8</td> <td>37.8</td> <td>37.8</td> <td>37.8</td> <td>37.7</td> <td>37.6</td> <td>37.5</td> <td>37.4</td> <td>37.3</td> <td>37.1</td> <td>36.7</td> <td>36.6</td> <td>36.4</td> <td>36.2</td> <td>35.9</td> <td>35.8</td> <td>35.8</td> <td>35.5</td> <td>35  </td> <td>34.4</td> <td>33.8</td> <td>33.5</td> <td>33.2</td> <td>33  </td> <td>33.1</td> <td>32.7</td> <td>32.4</td> <td>32.3</td> <td>32.1</td> <td>31.3</td> <td>31.5</td> <td>31.9</td> <td>32.2</td> <td>32.3</td> <td>31.9</td> <td>31.2</td> <td>30.7</td> <td>30.9</td> <td>31.1</td> <td>31.2</td> <td>32.4</td> <td>32.7</td> <td>33.1</td> <td>33.4</td> <td>35.1</td> <td>35.8</td> <td>36.2</td> <td>36.5</td> <td>36.5</td> <td>35.4</td> <td>35.2</td> <td>35.2</td> <td>35.2</td> <td>35.3</td> <td>35.2</td> <td>35.3</td> <td>35.4</td> <td>35.2</td> <td>35.1</td> <td>35.1</td> <td>34.8</td> <td>34.7</td> <td>34.5</td> <td>34.2</td> <td>33.8</td> <td>33.6</td> <td>33.4</td> <td>33.3</td> <td>33.2</td> <td>33.1</td> <td>33.1</td> <td>33  </td> <td>32.8</td> <td>32.5</td> <td>32.2</td> <td>32  </td> <td>31.9</td> <td>31.9</td> <td>32.2</td> <td>32.4</td> <td>32.6</td> <td>32.8</td> <td>32.9</td> <td>33  </td> <td>33  </td> <td>33  </td> <td>32.9</td> <td>32.8</td> <td>32.7</td> <td>32.7</td> <td>32.8</td> <td>32.9</td> <td>33  </td> <td>33.2</td> <td>33.3</td> <td>33.4</td> <td>33.5</td> <td>33.7</td> <td>34  </td> <td>34.3</td> <td>34.7</td> <td>34.9</td> <td>35  </td> <td>34.2</td> <td>33.6</td> <td>32.9</td> <td>32.4</td> <td>31.9</td> <td>32.2</td> <td>32.3</td> <td>32.3</td> <td>32.3</td> <td>32.3</td> <td>32.3</td> <td>32.3</td> <td>32.3</td> <td>32.3</td> <td>32.3</td> <td>32.3</td> <td>32.3</td> <td>32.3</td> <td>32.3</td> <td>32.3</td> <td>32.3</td> <td>32.3</td> <td>32.3</td> <td>32.3</td> <td>32.3</td> <td>32.3</td> <td>32.3</td> <td>32.3</td> <td>32.3</td> <td>32.3</td> <td>32.3</td> <td>32.3</td>\n",
       "        </tr>\n",
       "        <tr>\n",
       "            <td>Austria            </td> <td>33.4</td> <td>33.4</td> <td>33.4</td> <td>33.4</td> <td>33.4</td> <td>33.4</td> <td>33.4</td> <td>33.4</td> <td>33.4</td> <td>33.4</td> <td>33.4</td> <td>33.4</td> <td>33.4</td> <td>33.4</td> <td>33.4</td> <td>33.4</td> <td>33.4</td> <td>33.3</td> <td>33.3</td> <td>33  </td> <td>32.9</td> <td>32.7</td> <td>32.5</td> <td>32.2</td> <td>31.9</td> <td>31.7</td> <td>31.4</td> <td>31  </td> <td>30.7</td> <td>30.3</td> <td>29.9</td> <td>29.6</td> <td>29.2</td> <td>28.9</td> <td>28.5</td> <td>28.1</td> <td>27.8</td> <td>27.4</td> <td>27.1</td> <td>26.7</td> <td>26.3</td> <td>26  </td> <td>25.6</td> <td>25.3</td> <td>24.9</td> <td>24.6</td> <td>24.3</td> <td>24  </td> <td>23.7</td> <td>23.5</td> <td>23.3</td> <td>23.1</td> <td>23  </td> <td>22.9</td> <td>22.8</td> <td>22.7</td> <td>22.6</td> <td>22.6</td> <td>22.6</td> <td>22.6</td> <td>22.7</td> <td>22.7</td> <td>22.7</td> <td>22.7</td> <td>22.7</td> <td>22.7</td> <td>22.7</td> <td>22.7</td> <td>22.7</td> <td>22.8</td> <td>22.8</td> <td>22.8</td> <td>22.8</td> <td>22.8</td> <td>22.8</td> <td>22.8</td> <td>22.8</td> <td>22.8</td> <td>22.8</td> <td>22.9</td> <td>22.9</td> <td>22.9</td> <td>22.9</td> <td>22.9</td> <td>22.9</td> <td>22.9</td> <td>22.9</td> <td>22.9</td> <td>22.9</td> <td>23  </td> <td>23  </td> <td>23  </td> <td>23  </td> <td>23  </td> <td>23  </td> <td>23  </td> <td>23  </td> <td>23  </td> <td>23  </td> <td>23.1</td> <td>23.1</td> <td>23.1</td> <td>23.1</td> <td>23.1</td> <td>23.1</td> <td>23.1</td> <td>23.1</td> <td>23.1</td> <td>23.2</td> <td>23.2</td> <td>23.2</td> <td>23.2</td> <td>23.2</td> <td>23.2</td> <td>23.2</td> <td>23.2</td> <td>23.2</td> <td>23.2</td> <td>23.3</td> <td>23.3</td> <td>23.3</td> <td>23.3</td> <td>23.3</td> <td>23.3</td> <td>23.3</td> <td>23.3</td> <td>23.3</td> <td>23.3</td> <td>23.4</td> <td>23.4</td> <td>23.4</td> <td>23.4</td> <td>23.4</td> <td>23.4</td> <td>23.4</td> <td>23.4</td> <td>23.4</td> <td>23.4</td> <td>23.5</td> <td>23.5</td> <td>23.5</td> <td>23.5</td> <td>23.5</td> <td>23.5</td> <td>23.5</td> <td>23.5</td> <td>23.5</td> <td>23.6</td> <td>23.7</td> <td>23.9</td> <td>24  </td> <td>24.4</td> <td>24.8</td> <td>25.2</td> <td>25.8</td> <td>26.4</td> <td>27  </td> <td>27.6</td> <td>28.2</td> <td>28.6</td> <td>29.2</td> <td>29.5</td> <td>29.7</td> <td>29.8</td> <td>29.8</td> <td>29.8</td> <td>29.8</td> <td>29.7</td> <td>29.7</td> <td>29.6</td> <td>29.4</td> <td>29.1</td> <td>28.7</td> <td>28.2</td> <td>27.7</td> <td>27.2</td> <td>26.7</td> <td>26.2</td> <td>25.7</td> <td>25.2</td> <td>24.7</td> <td>24.4</td> <td>24.5</td> <td>24.7</td> <td>25.3</td> <td>26.1</td> <td>26.8</td> <td>27.6</td> <td>28.2</td> <td>28.5</td> <td>28.5</td> <td>28.3</td> <td>27.9</td> <td>27.5</td> <td>27.3</td> <td>27.2</td> <td>27.3</td> <td>27.4</td> <td>27.8</td> <td>28.2</td> <td>28.6</td> <td>29  </td> <td>29.3</td> <td>29.3</td> <td>29.4</td> <td>29.6</td> <td>29.8</td> <td>30.2</td> <td>30.5</td> <td>30.7</td> <td>30.7</td> <td>30.8</td> <td>30.6</td> <td>30.6</td> <td>30.6</td> <td>30.6</td> <td>30.5</td> <td>30.5</td> <td>30.5</td> <td>30.5</td> <td>30.5</td> <td>30.5</td> <td>30.5</td> <td>30.5</td> <td>30.5</td> <td>30.5</td> <td>30.5</td> <td>30.5</td> <td>30.5</td> <td>30.5</td> <td>30.5</td> <td>30.5</td> <td>30.5</td> <td>30.5</td> <td>30.5</td> <td>30.5</td> <td>30.5</td> <td>30.5</td> <td>30.5</td> <td>30.5</td> <td>30.5</td>\n",
       "        </tr>\n",
       "    </tbody>\n",
       "</table>\n",
       "<p>... (185 rows omitted)</p>"
      ],
      "text/plain": [
       "country             | 1800 | 1801 | 1802 | 1803 | 1804 | 1805 | 1806 | 1807 | 1808 | 1809 | 1810 | 1811 | 1812 | 1813 | 1814 | 1815 | 1816 | 1817 | 1818 | 1819 | 1820 | 1821 | 1822 | 1823 | 1824 | 1825 | 1826 | 1827 | 1828 | 1829 | 1830 | 1831 | 1832 | 1833 | 1834 | 1835 | 1836 | 1837 | 1838 | 1839 | 1840 | 1841 | 1842 | 1843 | 1844 | 1845 | 1846 | 1847 | 1848 | 1849 | 1850 | 1851 | 1852 | 1853 | 1854 | 1855 | 1856 | 1857 | 1858 | 1859 | 1860 | 1861 | 1862 | 1863 | 1864 | 1865 | 1866 | 1867 | 1868 | 1869 | 1870 | 1871 | 1872 | 1873 | 1874 | 1875 | 1876 | 1877 | 1878 | 1879 | 1880 | 1881 | 1882 | 1883 | 1884 | 1885 | 1886 | 1887 | 1888 | 1889 | 1890 | 1891 | 1892 | 1893 | 1894 | 1895 | 1896 | 1897 | 1898 | 1899 | 1900 | 1901 | 1902 | 1903 | 1904 | 1905 | 1906 | 1907 | 1908 | 1909 | 1910 | 1911 | 1912 | 1913 | 1914 | 1915 | 1916 | 1917 | 1918 | 1919 | 1920 | 1921 | 1922 | 1923 | 1924 | 1925 | 1926 | 1927 | 1928 | 1929 | 1930 | 1931 | 1932 | 1933 | 1934 | 1935 | 1936 | 1937 | 1938 | 1939 | 1940 | 1941 | 1942 | 1943 | 1944 | 1945 | 1946 | 1947 | 1948 | 1949 | 1950 | 1951 | 1952 | 1953 | 1954 | 1955 | 1956 | 1957 | 1958 | 1959 | 1960 | 1961 | 1962 | 1963 | 1964 | 1965 | 1966 | 1967 | 1968 | 1969 | 1970 | 1971 | 1972 | 1973 | 1974 | 1975 | 1976 | 1977 | 1978 | 1979 | 1980 | 1981 | 1982 | 1983 | 1984 | 1985 | 1986 | 1987 | 1988 | 1989 | 1990 | 1991 | 1992 | 1993 | 1994 | 1995 | 1996 | 1997 | 1998 | 1999 | 2000 | 2001 | 2002 | 2003 | 2004 | 2005 | 2006 | 2007 | 2008 | 2009 | 2010 | 2011 | 2012 | 2013 | 2014 | 2015 | 2016 | 2017 | 2018 | 2019 | 2020 | 2021 | 2022 | 2023 | 2024 | 2025 | 2026 | 2027 | 2028 | 2029 | 2030 | 2031 | 2032 | 2033 | 2034 | 2035 | 2036 | 2037 | 2038 | 2039 | 2040\n",
       "Afghanistan         | 30.5 | 30.5 | 30.5 | 30.5 | 30.5 | 30.5 | 30.5 | 30.5 | 30.5 | 30.5 | 30.5 | 30.5 | 30.5 | 30.5 | 30.5 | 30.5 | 30.5 | 30.5 | 30.5 | 30.5 | 30.5 | 30.5 | 30.5 | 30.5 | 30.5 | 30.5 | 30.5 | 30.5 | 30.5 | 30.5 | 30.5 | 30.5 | 30.5 | 30.5 | 30.5 | 30.5 | 30.5 | 30.5 | 30.5 | 30.5 | 30.5 | 30.5 | 30.5 | 30.5 | 30.6 | 30.7 | 30.9 | 31.2 | 31.5 | 31.9 | 32.4 | 33   | 33.6 | 34.3 | 35   | 35.8 | 36.7 | 37.7 | 38.6 | 39.6 | 40.5 | 41.5 | 42.4 | 43.4 | 44.3 | 45   | 45.7 | 46.2 | 46.7 | 47   | 47.2 | 47.3 | 47.2 | 47.1 | 46.8 | 46.4 | 45.9 | 45.3 | 44.7 | 44   | 43.4 | 42.7 | 42.1 | 41.4 | 40.8 | 40.2 | 39.7 | 39.2 | 38.8 | 38.5 | 38.3 | 38.1 | 38   | 38   | 38   | 38.1 | 38.2 | 38.5 | 38.8 | 39.1 | 39.4 | 39.7 | 39.9 | 40.2 | 40.5 | 40.8 | 41   | 41.2 | 41.3 | 41.5 | 41.5 | 41.5 | 41.5 | 41.5 | 41.4 | 41.3 | 41.1 | 40.9 | 40.6 | 40.4 | 40.2 | 39.9 | 39.7 | 39.4 | 39.2 | 39   | 38.7 | 38.5 | 38.3 | 38   | 37.8 | 37.6 | 37.4 | 37.1 | 36.9 | 36.7 | 36.5 | 36.3 | 36.1 | 35.9 | 35.7 | 35.5 | 35.2 | 35   | 34.8 | 34.6 | 34.4 | 34.3 | 34.2 | 34.1 | 34   | 34   | 34   | 34.1 | 34.3 | 34.4 | 34.5 | 34.6 | 34.6 | 34.5 | 34.4 | 34.1 | 33.7 | 33.2 | 32.7 | 32.2 | 31.7 | 31.2 | 30.8 | 30.5 | 30.5 | 30.8 | 31.2 | 31.6 | 31.9 | 32.1 | 32.2 | 32.2 | 32.2 | 32.2 | 32.2 | 32.1 | 32   | 32.1 | 32.5 | 33   | 33.7 | 34.7 | 35.4 | 36   | 36.4 | 36.7 | 36.7 | 36.8 | 36.8 | 36.8 | 36.8 | 36.8 | 36.8 | 36.8 | 36.8 | 36.8 | 36.8 | 36.8 | 36.8 | 36.8 | 36.8 | 36.8 | 36.8 | 36.8 | 36.8 | 36.8 | 36.8 | 36.8 | 36.8 | 36.8 | 36.8 | 36.8 | 36.8 | 36.8 | 36.8 | 36.8 | 36.8 | 36.8 | 36.8 | 36.8 | 36.8 | 36.8 | 36.8 | 36.8 | 36.8 | 36.8 | 36.8 | 36.8 | 36.8 | 36.8 | 36.8 | 36.8 | 36.8 | 36.8 | 36.8\n",
       "Albania             | 38.9 | 38.9 | 38.9 | 38.9 | 38.9 | 38.9 | 38.9 | 38.9 | 38.9 | 38.9 | 38.9 | 38.9 | 38.9 | 38.9 | 38.9 | 38.9 | 38.9 | 38.9 | 38.9 | 38.9 | 38.9 | 38.9 | 38.9 | 38.9 | 38.9 | 38.9 | 38.9 | 38.9 | 38.9 | 38.9 | 38.9 | 38.9 | 38.9 | 38.9 | 38.9 | 38.9 | 38.9 | 38.9 | 38.9 | 38.9 | 38.9 | 38.9 | 38.9 | 38.9 | 38.9 | 38.9 | 38.9 | 38.9 | 38.9 | 38.9 | 38.9 | 38.9 | 38.9 | 38.9 | 38.9 | 38.9 | 38.9 | 38.9 | 38.9 | 38.9 | 38.9 | 38.9 | 38.9 | 38.9 | 38.9 | 38.9 | 38.8 | 38.7 | 38.5 | 38.3 | 38   | 37.7 | 37.4 | 37   | 36.6 | 36.1 | 35.6 | 35   | 34.4 | 33.8 | 33.2 | 32.6 | 31.9 | 31.3 | 30.7 | 30.2 | 29.6 | 29.2 | 28.7 | 28.3 | 28   | 27.6 | 27.4 | 27.1 | 26.9 | 26.8 | 26.7 | 26.6 | 26.6 | 26.5 | 26.5 | 26.5 | 26.4 | 26.4 | 26.4 | 26.3 | 26.3 | 26.3 | 26.3 | 26.3 | 26.2 | 26.2 | 26.2 | 26.2 | 26.2 | 26.2 | 26.2 | 26.2 | 26.2 | 26.2 | 26.3 | 26.3 | 26.3 | 26.3 | 26.3 | 26.3 | 26.3 | 26.3 | 26.3 | 26.3 | 26.4 | 26.4 | 26.4 | 26.4 | 26.4 | 26.4 | 26.4 | 26.4 | 26.4 | 26.4 | 26.5 | 26.5 | 26.5 | 26.5 | 26.5 | 26.5 | 26.5 | 26.5 | 26.5 | 26.5 | 26.6 | 26.6 | 26.6 | 26.6 | 26.6 | 26.6 | 26.6 | 26.6 | 26.6 | 26.6 | 26.7 | 26.7 | 26.7 | 26.7 | 26.7 | 26.7 | 26.7 | 26.7 | 26.7 | 26.7 | 26.8 | 26.8 | 26.8 | 26.8 | 26.8 | 26.8 | 26.8 | 26.8 | 26.8 | 26.8 | 26.9 | 26.9 | 26.9 | 26.9 | 26.9 | 26.9 | 26.9 | 26.9 | 26.9 | 26.9 | 27   | 27   | 27   | 27   | 27   | 27.2 | 27.5 | 28   | 28.6 | 29.4 | 30.2 | 30.7 | 31   | 31.1 | 31   | 30.7 | 30.4 | 30.2 | 30   | 29.7 | 29.5 | 29.3 | 29.1 | 29   | 29   | 29   | 29   | 29   | 29   | 29   | 29   | 29   | 29   | 29   | 29   | 29   | 29   | 29   | 29   | 29   | 29   | 29   | 29   | 29   | 29   | 29   | 29   | 29   | 29   | 29   | 29\n",
       "Algeria             | 56.2 | 56.2 | 56.2 | 56.2 | 56.2 | 56.2 | 56.2 | 56.2 | 56.2 | 56.2 | 56.2 | 56.2 | 56.2 | 56.2 | 56.2 | 56.2 | 56.2 | 56.2 | 56.3 | 56.4 | 56.5 | 56.6 | 56.7 | 56.8 | 56.9 | 57   | 57.2 | 57.4 | 57.5 | 57.7 | 57.9 | 58.1 | 58.2 | 58.4 | 58.6 | 58.8 | 58.9 | 59.1 | 59.3 | 59.5 | 59.6 | 59.8 | 60   | 60.2 | 60.3 | 60.4 | 60.5 | 60.4 | 60.3 | 60.1 | 59.8 | 59.4 | 59   | 58.5 | 57.9 | 57.2 | 56.5 | 55.7 | 54.8 | 53.9 | 53   | 52.1 | 51.2 | 50.3 | 49.4 | 48.5 | 47.7 | 46.9 | 46.1 | 45.3 | 44.5 | 43.8 | 43.1 | 42.4 | 41.8 | 41.1 | 40.5 | 39.9 | 39.4 | 38.8 | 38.2 | 37.7 | 37.1 | 36.6 | 36   | 35.5 | 35   | 34.6 | 34.3 | 34   | 33.7 | 33.5 | 33.3 | 33.2 | 33.2 | 33.2 | 33.3 | 33.4 | 33.5 | 33.7 | 33.8 | 34   | 34.2 | 34.3 | 34.5 | 34.6 | 34.8 | 35   | 35.2 | 35.3 | 35.5 | 35.7 | 35.9 | 36   | 36.2 | 36.4 | 36.6 | 36.8 | 37   | 37.2 | 37.4 | 37.6 | 37.8 | 38   | 38.2 | 38.3 | 38.5 | 38.7 | 38.8 | 38.9 | 39   | 39.1 | 39.2 | 39.3 | 39.3 | 39.4 | 39.4 | 39.4 | 39.4 | 39.4 | 39.4 | 39.5 | 39.5 | 39.5 | 39.5 | 39.5 | 39.5 | 39.5 | 39.6 | 39.6 | 39.6 | 39.6 | 39.6 | 39.6 | 39.7 | 39.7 | 39.7 | 39.7 | 39.7 | 39.7 | 39.7 | 39.8 | 39.8 | 39.8 | 39.8 | 39.8 | 39.8 | 39.9 | 39.9 | 39.9 | 39.9 | 39.9 | 39.9 | 40   | 40   | 40   | 40   | 40   | 40   | 40.1 | 40.1 | 40.1 | 40.1 | 40.1 | 40.1 | 40.1 | 40.2 | 40   | 39.8 | 39.4 | 38.8 | 38.1 | 37.4 | 36.7 | 36.1 | 35.5 | 34.9 | 34.4 | 34   | 33.5 | 33.1 | 32.6 | 32.2 | 31.7 | 31.2 | 30.8 | 30.3 | 29.9 | 29.4 | 29   | 28.5 | 28.2 | 27.9 | 27.7 | 27.6 | 27.6 | 27.6 | 27.6 | 27.6 | 27.6 | 27.6 | 27.6 | 27.6 | 27.6 | 27.6 | 27.6 | 27.6 | 27.6 | 27.6 | 27.6 | 27.6 | 27.6 | 27.6 | 27.6 | 27.6 | 27.6 | 27.6 | 27.6 | 27.6 | 27.6 | 27.6\n",
       "Andorra             | 40   | 40   | 40   | 40   | 40   | 40   | 40   | 40   | 40   | 40   | 40   | 40   | 40   | 40   | 40   | 40   | 40   | 40   | 40   | 40   | 40   | 40   | 40   | 40   | 40   | 40   | 40   | 40   | 40   | 40   | 40   | 40   | 40   | 40   | 40   | 40   | 40   | 40   | 40   | 40   | 40   | 40   | 40   | 40   | 40   | 40   | 40   | 40   | 40   | 40   | 40   | 40   | 40   | 40   | 40   | 40   | 40   | 40   | 40   | 40   | 40   | 40   | 40   | 40   | 40   | 40   | 40   | 40   | 40   | 40   | 40   | 40   | 40   | 40   | 40   | 40   | 40   | 40   | 40   | 40   | 40   | 40   | 40   | 40   | 40   | 40   | 40   | 40   | 40   | 40   | 40   | 40   | 40   | 40   | 40   | 40   | 40   | 40   | 40   | 40   | 40   | 40   | 40   | 40   | 40   | 40   | 40   | 40   | 40   | 40   | 40   | 40   | 40   | 40   | 40   | 40   | 40   | 40   | 40   | 40   | 40   | 40   | 40   | 40   | 40   | 40   | 40   | 40   | 40   | 40   | 40   | 40   | 40   | 40   | 40   | 40   | 40   | 40   | 40   | 40   | 40   | 40   | 40   | 40   | 40   | 40   | 40   | 40   | 40   | 40   | 40   | 40   | 40   | 40   | 40   | 40   | 40   | 40   | 40   | 40   | 40   | 40   | 40   | 40   | 40   | 40   | 40   | 40   | 40   | 40   | 40   | 40   | 40   | 40   | 40   | 40   | 40   | 40   | 40   | 40   | 40   | 40   | 40   | 40   | 40   | 40   | 40   | 40   | 40   | 40   | 40   | 40   | 40   | 40   | 40   | 40   | 40   | 40   | 40   | 40   | 40   | 40   | 40   | 40   | 40   | 40   | 40   | 40   | 40   | 40   | 40   | 40   | 40   | 40   | 40   | 40   | 40   | 40   | 40   | 40   | 40   | 40   | 40   | 40   | 40   | 40   | 40   | 40   | 40   | 40   | 40   | 40   | 40   | 40   | 40   | 40   | 40   | 40   | 40   | 40   | 40\n",
       "Angola              | 57.2 | 57.2 | 57.2 | 57.2 | 57.2 | 57.2 | 57.2 | 57.2 | 57.2 | 57.2 | 57.2 | 57.2 | 57.2 | 57.2 | 57.2 | 57.2 | 57.2 | 57.2 | 57.1 | 56.9 | 56.8 | 56.6 | 56.4 | 56.1 | 55.9 | 55.7 | 55.4 | 55.1 | 54.7 | 54.4 | 54.1 | 53.7 | 53.4 | 53.1 | 52.7 | 52.4 | 52.1 | 51.7 | 51.4 | 51.1 | 50.7 | 50.4 | 50.1 | 49.7 | 49.4 | 49.1 | 48.7 | 48.4 | 48.1 | 47.7 | 47.4 | 47.1 | 46.7 | 46.4 | 46.1 | 45.7 | 45.4 | 45.1 | 44.7 | 44.4 | 44.1 | 43.7 | 43.4 | 43.1 | 42.7 | 42.4 | 42.1 | 41.7 | 41.4 | 41.1 | 40.7 | 40.4 | 40.1 | 39.7 | 39.4 | 39.1 | 38.7 | 38.4 | 38.1 | 37.7 | 37.4 | 37.1 | 36.7 | 36.4 | 36.1 | 35.8 | 35.6 | 35.5 | 35.5 | 35.5 | 35.6 | 35.8 | 36   | 36.4 | 36.8 | 37.2 | 37.8 | 38.4 | 39.1 | 39.8 | 40.5 | 41.2 | 41.9 | 42.6 | 43.3 | 44   | 44.7 | 45.4 | 46.1 | 46.8 | 47.5 | 48.3 | 49   | 49.7 | 50.4 | 51.2 | 51.9 | 52.7 | 53.4 | 54.2 | 54.9 | 55.7 | 56.4 | 57.2 | 57.9 | 58.5 | 59   | 59.5 | 59.9 | 60.2 | 60.4 | 60.6 | 60.7 | 60.7 | 60.7 | 60.7 | 60.4 | 60.1 | 59.9 | 59.6 | 59.4 | 59.1 | 58.9 | 58.6 | 58.4 | 58.1 | 57.9 | 57.6 | 57.4 | 57.2 | 57   | 56.8 | 56.6 | 56.5 | 56.4 | 56.3 | 56.2 | 56.1 | 56   | 55.9 | 55.8 | 55.7 | 55.6 | 55.5 | 55.4 | 55.3 | 55.2 | 55.2 | 55.1 | 54.9 | 54.8 | 54.7 | 54.6 | 54.5 | 54.4 | 54.4 | 54.3 | 54.2 | 54.1 | 54   | 53.9 | 53.8 | 53.7 | 53.6 | 53.5 | 53.4 | 53.3 | 53.2 | 53.1 | 53   | 52.9 | 52.8 | 52.8 | 52.7 | 52.6 | 52.5 | 52.4 | 52.3 | 52.2 | 52.1 | 51.8 | 51.3 | 50.6 | 49.7 | 48.5 | 47.3 | 46.2 | 45   | 44.1 | 43.4 | 42.9 | 42.7 | 42.6 | 42.6 | 42.6 | 42.6 | 42.6 | 42.6 | 42.6 | 42.6 | 42.6 | 42.6 | 42.6 | 42.6 | 42.6 | 42.6 | 42.6 | 42.6 | 42.6 | 42.6 | 42.6 | 42.6 | 42.6 | 42.6 | 42.6 | 42.6 | 42.6 | 42.6 | 42.6 | 42.6 | 42.6\n",
       "Antigua and Barbuda | 40   | 40   | 40   | 40   | 40   | 40   | 40   | 40   | 40   | 40   | 40   | 40   | 40   | 40   | 40   | 40   | 40   | 40   | 40   | 40   | 40   | 40   | 40   | 40   | 40   | 40   | 40   | 40   | 40   | 40   | 40   | 40   | 40   | 40   | 40   | 40   | 40   | 40   | 40   | 40   | 40   | 40   | 40   | 40   | 40   | 40   | 40   | 40   | 40   | 40   | 40   | 40   | 40   | 40   | 40   | 40   | 40   | 40   | 40   | 40   | 40   | 40   | 40   | 40   | 40   | 40   | 40   | 40   | 40   | 40   | 40   | 40   | 40   | 40   | 40   | 40   | 40   | 40   | 40   | 40   | 40   | 40   | 40   | 40   | 40   | 40   | 40   | 40   | 40   | 40   | 40   | 40   | 40   | 40   | 40   | 40   | 40   | 40   | 40   | 40   | 40   | 40   | 40   | 40   | 40   | 40   | 40   | 40   | 40   | 40   | 40   | 40   | 40   | 40   | 40   | 40   | 40   | 40   | 40   | 40   | 40   | 40   | 40   | 40   | 40   | 40   | 40   | 40   | 40   | 40   | 40   | 40   | 40   | 40   | 40   | 40   | 40   | 40   | 40   | 40   | 40   | 40   | 40   | 40   | 40   | 40   | 40   | 40   | 40   | 40   | 40   | 40   | 40   | 40   | 40   | 40   | 40   | 40   | 40   | 40   | 40   | 40   | 40   | 40   | 40   | 40   | 40   | 40   | 40   | 40   | 40   | 40   | 40   | 40   | 40   | 40   | 40   | 40   | 40   | 40   | 40   | 40   | 40   | 40   | 40   | 40   | 40   | 40   | 40   | 40   | 40   | 40   | 40   | 40   | 40   | 40   | 40   | 40   | 40   | 40   | 40   | 40   | 40   | 40   | 40   | 40   | 40   | 40   | 40   | 40   | 40   | 40   | 40   | 40   | 40   | 40   | 40   | 40   | 40   | 40   | 40   | 40   | 40   | 40   | 40   | 40   | 40   | 40   | 40   | 40   | 40   | 40   | 40   | 40   | 40   | 40   | 40   | 40   | 40   | 40   | 40\n",
       "Argentina           | 47.7 | 47.7 | 47.7 | 47.7 | 47.7 | 47.7 | 47.7 | 47.7 | 47.7 | 47.7 | 47.7 | 47.7 | 47.7 | 47.7 | 47.7 | 47.7 | 47.7 | 47.6 | 47.5 | 47.3 | 47.1 | 46.8 | 46.5 | 46.2 | 45.8 | 45.6 | 45.2 | 44.8 | 44.3 | 43.9 | 43.4 | 42.9 | 42.5 | 42   | 41.6 | 41.1 | 40.7 | 40.2 | 39.8 | 39.3 | 38.9 | 38.4 | 38   | 37.5 | 37.1 | 36.7 | 36.5 | 36.3 | 36.2 | 36.3 | 36.4 | 36.7 | 37   | 37.5 | 38   | 38.6 | 39.4 | 40.2 | 41.1 | 42.1 | 43   | 44   | 44.9 | 45.8 | 46.8 | 47.6 | 48.4 | 49   | 49.6 | 50   | 50.4 | 50.7 | 50.9 | 51   | 50.9 | 50.8 | 50.7 | 50.4 | 50   | 49.6 | 49.2 | 48.8 | 48.4 | 48.1 | 47.7 | 47.3 | 47   | 46.8 | 46.6 | 46.5 | 46.4 | 46.4 | 46.4 | 46.4 | 46.5 | 46.7 | 46.9 | 47.1 | 47.5 | 47.8 | 48.1 | 48.4 | 48.7 | 49   | 49.3 | 49.5 | 49.8 | 49.9 | 50.1 | 50.2 | 50.2 | 50.2 | 50.2 | 50.2 | 50   | 49.9 | 49.7 | 49.5 | 49.2 | 48.9 | 48.6 | 48.3 | 48.1 | 47.8 | 47.5 | 47.2 | 47   | 46.6 | 46.3 | 46.1 | 46   | 46   | 46.1 | 46.1 | 46.2 | 46   | 46.2 | 46.7 | 47.3 | 48.5 | 49.5 | 50.1 | 50.4 | 50.9 | 51.3 | 51.1 | 51   | 50.3 | 49.2 | 47.7 | 46.4 | 45.7 | 44.7 | 43.6 | 42.9 | 41.9 | 42   | 42.2 | 42.4 | 41.9 | 41.4 | 41.4 | 41.5 | 40.7 | 40   | 39.4 | 38.8 | 38.2 | 37.6 | 36.7 | 36.1 | 35.6 | 35.3 | 35.2 | 35.5 | 36.1 | 36.9 | 37.9 | 38.8 | 39.7 | 40.4 | 41   | 41.5 | 41.8 | 42.1 | 42.9 | 43.7 | 44.5 | 45.3 | 46.1 | 46.1 | 45.9 | 45.9 | 46.4 | 46.9 | 47.7 | 48.8 | 49.6 | 50   | 50.8 | 51.7 | 51.7 | 51.4 | 50.8 | 49.4 | 47.9 | 46.7 | 45.8 | 44.9 | 44   | 43   | 42.3 | 41.8 | 41.6 | 41.6 | 41.8 | 42.1 | 42.3 | 42.4 | 42.4 | 42.4 | 42.4 | 42.4 | 42.4 | 42.4 | 42.4 | 42.4 | 42.4 | 42.4 | 42.4 | 42.4 | 42.4 | 42.4 | 42.4 | 42.4 | 42.4 | 42.4 | 42.4 | 42.4 | 42.4 | 42.4\n",
       "Armenia             | 31.5 | 31.5 | 31.5 | 31.5 | 31.5 | 31.5 | 31.5 | 31.5 | 31.5 | 31.5 | 31.5 | 31.5 | 31.5 | 31.5 | 31.5 | 31.5 | 31.5 | 31.5 | 31.5 | 31.5 | 31.5 | 31.5 | 31.5 | 31.5 | 31.5 | 31.5 | 31.5 | 31.5 | 31.5 | 31.5 | 31.5 | 31.5 | 31.5 | 31.5 | 31.5 | 31.5 | 31.5 | 31.5 | 31.5 | 31.5 | 31.5 | 31.5 | 31.5 | 31.5 | 31.5 | 31.7 | 31.9 | 32.3 | 32.7 | 33.3 | 34   | 34.8 | 35.8 | 36.8 | 38   | 39.3 | 40.7 | 42.3 | 43.9 | 45.5 | 47.2 | 48.8 | 50.5 | 52.1 | 53.8 | 55.2 | 56.4 | 57.4 | 58.2 | 58.7 | 59   | 59.1 | 59   | 58.7 | 58.1 | 57.3 | 56.3 | 55.1 | 53.6 | 52.2 | 50.7 | 49.3 | 47.8 | 46.4 | 44.9 | 43.6 | 42.4 | 41.3 | 40.3 | 39.5 | 38.7 | 38.1 | 37.6 | 37.2 | 37   | 36.8 | 36.8 | 36.9 | 37.1 | 37.4 | 37.6 | 37.8 | 38   | 38.3 | 38.5 | 38.7 | 38.9 | 39.1 | 39.2 | 39.4 | 39.5 | 39.6 | 39.7 | 39.8 | 39.9 | 40   | 40   | 40.1 | 40.1 | 40.1 | 40.1 | 40.1 | 40.2 | 40.2 | 40.2 | 40.2 | 40.3 | 40.3 | 40.3 | 40.3 | 40.3 | 40.4 | 40.4 | 40.4 | 40.4 | 40.4 | 40.5 | 40.5 | 40.5 | 40.5 | 40.6 | 40.6 | 40.6 | 40.6 | 40.6 | 40.7 | 40.7 | 40.7 | 40.7 | 40.7 | 40.8 | 40.8 | 40.8 | 40.8 | 40.9 | 40.9 | 40.9 | 40.9 | 40.9 | 41   | 41   | 41   | 41   | 41.1 | 41.1 | 41.1 | 41.1 | 41.1 | 41.2 | 41.2 | 41.2 | 41.2 | 41.3 | 41.3 | 41.3 | 41.3 | 41.3 | 41.4 | 41.4 | 41.4 | 41.4 | 41.5 | 41.5 | 41.5 | 41.5 | 41.5 | 41.6 | 41.6 | 41.6 | 41.7 | 41.9 | 42.2 | 42.6 | 43   | 43.5 | 43.3 | 42.5 | 41   | 39.4 | 37.6 | 36.2 | 35   | 35.3 | 35.3 | 34.2 | 33.5 | 32.7 | 30.8 | 29.6 | 29.6 | 29.2 | 29.5 | 30.2 | 30.7 | 31.3 | 31.9 | 32.3 | 32.5 | 32.6 | 32.6 | 32.6 | 32.6 | 32.6 | 32.6 | 32.6 | 32.6 | 32.6 | 32.6 | 32.6 | 32.6 | 32.6 | 32.6 | 32.6 | 32.6 | 32.6 | 32.6 | 32.6 | 32.6 | 32.6 | 32.6 | 32.6\n",
       "Australia           | 38.7 | 38.7 | 38.7 | 38.7 | 38.7 | 38.7 | 38.7 | 38.7 | 38.7 | 38.7 | 38.7 | 38.7 | 38.7 | 38.7 | 38.7 | 38.7 | 38.7 | 38.7 | 38.7 | 38.7 | 38.7 | 38.7 | 38.7 | 38.7 | 38.7 | 38.7 | 38.7 | 38.7 | 38.7 | 38.7 | 38.7 | 38.7 | 38.7 | 38.7 | 38.7 | 38.7 | 38.7 | 38.7 | 38.7 | 38.7 | 38.7 | 38.7 | 38.7 | 38.7 | 38.7 | 38.7 | 38.8 | 38.8 | 38.9 | 39   | 39.1 | 39.3 | 39.5 | 39.6 | 39.8 | 40.1 | 40.3 | 40.6 | 40.9 | 41.2 | 41.5 | 41.8 | 42.1 | 42.4 | 42.6 | 42.9 | 43.1 | 43.2 | 43.3 | 43.4 | 43.4 | 43.3 | 43.2 | 43.1 | 42.9 | 42.7 | 42.4 | 42   | 41.7 | 41.3 | 40.9 | 40.5 | 40.1 | 39.7 | 39.4 | 39   | 38.7 | 38.4 | 38.1 | 37.9 | 37.7 | 37.6 | 37.4 | 37.3 | 37.3 | 37.3 | 37.3 | 37.3 | 37.4 | 37.4 | 37.5 | 37.5 | 37.6 | 37.7 | 37.7 | 37.8 | 37.8 | 37.8 | 37.8 | 37.8 | 37.7 | 37.6 | 37.5 | 37.4 | 37.3 | 37.1 | 36.7 | 36.6 | 36.4 | 36.2 | 35.9 | 35.8 | 35.8 | 35.5 | 35   | 34.4 | 33.8 | 33.5 | 33.2 | 33   | 33.1 | 32.7 | 32.4 | 32.3 | 32.1 | 31.3 | 31.5 | 31.9 | 32.2 | 32.3 | 31.9 | 31.2 | 30.7 | 30.9 | 31.1 | 31.2 | 32.4 | 32.7 | 33.1 | 33.4 | 35.1 | 35.8 | 36.2 | 36.5 | 36.5 | 35.4 | 35.2 | 35.2 | 35.2 | 35.3 | 35.2 | 35.3 | 35.4 | 35.2 | 35.1 | 35.1 | 34.8 | 34.7 | 34.5 | 34.2 | 33.8 | 33.6 | 33.4 | 33.3 | 33.2 | 33.1 | 33.1 | 33   | 32.8 | 32.5 | 32.2 | 32   | 31.9 | 31.9 | 32.2 | 32.4 | 32.6 | 32.8 | 32.9 | 33   | 33   | 33   | 32.9 | 32.8 | 32.7 | 32.7 | 32.8 | 32.9 | 33   | 33.2 | 33.3 | 33.4 | 33.5 | 33.7 | 34   | 34.3 | 34.7 | 34.9 | 35   | 34.2 | 33.6 | 32.9 | 32.4 | 31.9 | 32.2 | 32.3 | 32.3 | 32.3 | 32.3 | 32.3 | 32.3 | 32.3 | 32.3 | 32.3 | 32.3 | 32.3 | 32.3 | 32.3 | 32.3 | 32.3 | 32.3 | 32.3 | 32.3 | 32.3 | 32.3 | 32.3 | 32.3 | 32.3 | 32.3 | 32.3 | 32.3\n",
       "Austria             | 33.4 | 33.4 | 33.4 | 33.4 | 33.4 | 33.4 | 33.4 | 33.4 | 33.4 | 33.4 | 33.4 | 33.4 | 33.4 | 33.4 | 33.4 | 33.4 | 33.4 | 33.3 | 33.3 | 33   | 32.9 | 32.7 | 32.5 | 32.2 | 31.9 | 31.7 | 31.4 | 31   | 30.7 | 30.3 | 29.9 | 29.6 | 29.2 | 28.9 | 28.5 | 28.1 | 27.8 | 27.4 | 27.1 | 26.7 | 26.3 | 26   | 25.6 | 25.3 | 24.9 | 24.6 | 24.3 | 24   | 23.7 | 23.5 | 23.3 | 23.1 | 23   | 22.9 | 22.8 | 22.7 | 22.6 | 22.6 | 22.6 | 22.6 | 22.7 | 22.7 | 22.7 | 22.7 | 22.7 | 22.7 | 22.7 | 22.7 | 22.7 | 22.8 | 22.8 | 22.8 | 22.8 | 22.8 | 22.8 | 22.8 | 22.8 | 22.8 | 22.8 | 22.9 | 22.9 | 22.9 | 22.9 | 22.9 | 22.9 | 22.9 | 22.9 | 22.9 | 22.9 | 23   | 23   | 23   | 23   | 23   | 23   | 23   | 23   | 23   | 23   | 23.1 | 23.1 | 23.1 | 23.1 | 23.1 | 23.1 | 23.1 | 23.1 | 23.1 | 23.2 | 23.2 | 23.2 | 23.2 | 23.2 | 23.2 | 23.2 | 23.2 | 23.2 | 23.2 | 23.3 | 23.3 | 23.3 | 23.3 | 23.3 | 23.3 | 23.3 | 23.3 | 23.3 | 23.3 | 23.4 | 23.4 | 23.4 | 23.4 | 23.4 | 23.4 | 23.4 | 23.4 | 23.4 | 23.4 | 23.5 | 23.5 | 23.5 | 23.5 | 23.5 | 23.5 | 23.5 | 23.5 | 23.5 | 23.6 | 23.7 | 23.9 | 24   | 24.4 | 24.8 | 25.2 | 25.8 | 26.4 | 27   | 27.6 | 28.2 | 28.6 | 29.2 | 29.5 | 29.7 | 29.8 | 29.8 | 29.8 | 29.8 | 29.7 | 29.7 | 29.6 | 29.4 | 29.1 | 28.7 | 28.2 | 27.7 | 27.2 | 26.7 | 26.2 | 25.7 | 25.2 | 24.7 | 24.4 | 24.5 | 24.7 | 25.3 | 26.1 | 26.8 | 27.6 | 28.2 | 28.5 | 28.5 | 28.3 | 27.9 | 27.5 | 27.3 | 27.2 | 27.3 | 27.4 | 27.8 | 28.2 | 28.6 | 29   | 29.3 | 29.3 | 29.4 | 29.6 | 29.8 | 30.2 | 30.5 | 30.7 | 30.7 | 30.8 | 30.6 | 30.6 | 30.6 | 30.6 | 30.5 | 30.5 | 30.5 | 30.5 | 30.5 | 30.5 | 30.5 | 30.5 | 30.5 | 30.5 | 30.5 | 30.5 | 30.5 | 30.5 | 30.5 | 30.5 | 30.5 | 30.5 | 30.5 | 30.5 | 30.5 | 30.5 | 30.5 | 30.5 | 30.5\n",
       "... (185 rows omitted)"
      ]
     },
     "execution_count": 7,
     "metadata": {},
     "output_type": "execute_result"
    }
   ],
   "source": [
    "gini = Table.from_df(gini)\n",
    "gini"
   ]
  },
  {
   "cell_type": "markdown",
   "metadata": {},
   "source": [
    "If you're confused about what this table means or what the Gini coefficient is, then don't worry we'll be going over a little more in depth later on. However, broadly this table has each column as a year (which might be very similar to the life expectancy we just saw), and a value for each year. If we look at the data at hand, we might be able to see some trends if we look year to year. There are more useful methods of looking at this data though, through things like graphs and other visualizations. "
   ]
  },
  {
   "cell_type": "markdown",
   "metadata": {},
   "source": [
    "## IV. A (Brief) Overview: Correlation\n",
    "\n",
    "A correlation is a way to see how \"related\" two variables might be. We can test the relationships of both categorical and quantitative data, to see if they have an association. \n",
    "\n",
    "Some examples of things that might have a high correlation: \n",
    "\n",
    "    1. Number of toilet paper rolls used vs. amount of people living in an apartment\n",
    "    2. Number of eye bags vs. number of hours of sleep received\n",
    "    \n",
    "    \n",
    "Some examples of things that might have a lower correlation:\n",
    "\n",
    "    Eye color vs sexuality\n",
    "\n",
    "\n",
    "The **correlation coefficient (r)** measures the strength of the relationship between two variables. Graphically, it measures how clustered the scatter diagram is around a straight line. \n",
    "\n",
    "When  $𝑟=1$  the scatter plot is perfectly linear and slopes upward. When  $𝑟=−1$, the scatter plot is perfectly linear and slopes downward. When  $𝑟=0$, the scatter plot is a formless cloud around the horizontal axis, and the variables are said to be uncorrelated.\n",
    "\n",
    "The following graphic demonstrates different $r$ values.\n",
    "\n",
    "<img src=\"./images/correlation.png\" width=\"600px\" height=\"500px\"/> *Credit: Statistics Guru Online*"
   ]
  },
  {
   "cell_type": "markdown",
   "metadata": {},
   "source": [
    "### An Even Brief(er) Note: Correlation does not equal causation! \n",
    "We can have a positive association, but do not be fooled by nice looking $r$ values. For example, the number of firefighters on sight at a fire is correlated with the size of the fire however the firefighters themselves do not cause the fire itself. \n",
    "\n",
    "*Did you catch that?* Often, even though two variables may be correlated to each other, this correlation is not enough to conclude that one variable causes the other to occur."
   ]
  },
  {
   "cell_type": "markdown",
   "metadata": {},
   "source": [
    "## V. The Problem <a id='section 1'></a>\n",
    "\n",
    "As income and health outcomes differ around the world, we will be exploring the relationship between the two - comparing measures of income against measures of health. \n"
   ]
  },
  {
   "cell_type": "markdown",
   "metadata": {},
   "source": [
    "### A. Measures of Income <a id='section 1'></a>\n",
    "\n",
    "The following are widely used measures of income for review: \n"
   ]
  },
  {
   "cell_type": "markdown",
   "metadata": {},
   "source": [
    "<img src=\"./images/GINI.png\" width=\"850px\" height=\"835px\"/> *Credit: 2017 Gini Coefficient via Wikipedia*"
   ]
  },
  {
   "cell_type": "markdown",
   "metadata": {},
   "source": [
    "### GDP per capita <a id='section 1'></a>\n",
    "\n",
    "**GDP per capita** is a measure of a country's economic output **(total income)** that accounts for its number of people. It divides the country's gross domestic product by its total population, making it a good measurement of a country's standard of living. \n"
   ]
  },
  {
   "cell_type": "markdown",
   "metadata": {},
   "source": [
    "### Gini Coefficient <a id='section 1'></a>\n",
    "\n",
    "**Gini Coefficient** is the most commonly used measure of a country's **income inequality**, intended to represent the income or wealth distribution of a nation's residents.\n",
    "For more information: https://en.wikipedia.org/wiki/Gini_coefficient "
   ]
  },
  {
   "cell_type": "markdown",
   "metadata": {},
   "source": [
    "### Thoughts? <a id='section 1'></a>\n",
    "\n",
    "What prior expectations do you have for how income might correlate with different health outcomes over time, or how the correlations may or may not differ for different countries? What are these expectations based on?\n"
   ]
  },
  {
   "cell_type": "markdown",
   "metadata": {},
   "source": [
    "< Your answer here >"
   ]
  },
  {
   "cell_type": "markdown",
   "metadata": {},
   "source": [
    "### B. Relationship between GDP per capita and Health Outcomes\n",
    " <a id='section 1'></a>\n",
    "\n",
    "In the following exercise, we will explore if and how GDP per capita correlates with health outcomes, such as child mortality or life expectancy."
   ]
  },
  {
   "cell_type": "markdown",
   "metadata": {},
   "source": [
    "#### GDP per capita vs Child Mortality\n",
    " <a id='section 1'></a>\n",
    "\n",
    "To start, we will explore the relationship between GDP per capita and child mortality rates in a single year by generating a **scatter plot**. For example, we will focus on comparing the two measures in the year 2000. "
   ]
  },
  {
   "cell_type": "code",
   "execution_count": 154,
   "metadata": {},
   "outputs": [
    {
     "data": {
      "text/html": [
       "<table border=\"1\" class=\"dataframe\">\n",
       "    <thead>\n",
       "        <tr>\n",
       "            <th>country</th> <th>1800</th> <th>1801</th> <th>1802</th> <th>1803</th> <th>1804</th> <th>1805</th> <th>1806</th> <th>1807</th> <th>1808</th> <th>1809</th> <th>1810</th> <th>1811</th> <th>1812</th> <th>1813</th> <th>1814</th> <th>1815</th> <th>1816</th> <th>1817</th> <th>1818</th> <th>1819</th> <th>1820</th> <th>1821</th> <th>1822</th> <th>1823</th> <th>1824</th> <th>1825</th> <th>1826</th> <th>1827</th> <th>1828</th> <th>1829</th> <th>1830</th> <th>1831</th> <th>1832</th> <th>1833</th> <th>1834</th> <th>1835</th> <th>1836</th> <th>1837</th> <th>1838</th> <th>1839</th> <th>1840</th> <th>1841</th> <th>1842</th> <th>1843</th> <th>1844</th> <th>1845</th> <th>1846</th> <th>1847</th> <th>1848</th> <th>1849</th> <th>1850</th> <th>1851</th> <th>1852</th> <th>1853</th> <th>1854</th> <th>1855</th> <th>1856</th> <th>1857</th> <th>1858</th> <th>1859</th> <th>1860</th> <th>1861</th> <th>1862</th> <th>1863</th> <th>1864</th> <th>1865</th> <th>1866</th> <th>1867</th> <th>1868</th> <th>1869</th> <th>1870</th> <th>1871</th> <th>1872</th> <th>1873</th> <th>1874</th> <th>1875</th> <th>1876</th> <th>1877</th> <th>1878</th> <th>1879</th> <th>1880</th> <th>1881</th> <th>1882</th> <th>1883</th> <th>1884</th> <th>1885</th> <th>1886</th> <th>1887</th> <th>1888</th> <th>1889</th> <th>1890</th> <th>1891</th> <th>1892</th> <th>1893</th> <th>1894</th> <th>1895</th> <th>1896</th> <th>1897</th> <th>1898</th> <th>1899</th> <th>1900</th> <th>1901</th> <th>1902</th> <th>1903</th> <th>1904</th> <th>1905</th> <th>1906</th> <th>1907</th> <th>1908</th> <th>1909</th> <th>1910</th> <th>1911</th> <th>1912</th> <th>1913</th> <th>1914</th> <th>1915</th> <th>1916</th> <th>1917</th> <th>1918</th> <th>1919</th> <th>1920</th> <th>1921</th> <th>1922</th> <th>1923</th> <th>1924</th> <th>1925</th> <th>1926</th> <th>1927</th> <th>1928</th> <th>1929</th> <th>1930</th> <th>1931</th> <th>1932</th> <th>1933</th> <th>1934</th> <th>1935</th> <th>1936</th> <th>1937</th> <th>1938</th> <th>1939</th> <th>1940</th> <th>1941</th> <th>1942</th> <th>1943</th> <th>1944</th> <th>1945</th> <th>1946</th> <th>1947</th> <th>1948</th> <th>1949</th> <th>1950</th> <th>1951</th> <th>1952</th> <th>1953</th> <th>1954</th> <th>1955</th> <th>1956</th> <th>1957</th> <th>1958</th> <th>1959</th> <th>1960</th> <th>1961</th> <th>1962</th> <th>1963</th> <th>1964</th> <th>1965</th> <th>1966</th> <th>1967</th> <th>1968</th> <th>1969</th> <th>1970</th> <th>1971</th> <th>1972</th> <th>1973</th> <th>1974</th> <th>1975</th> <th>1976</th> <th>1977</th> <th>1978</th> <th>1979</th> <th>1980</th> <th>1981</th> <th>1982</th> <th>1983</th> <th>1984</th> <th>1985</th> <th>1986</th> <th>1987</th> <th>1988</th> <th>1989</th> <th>1990</th> <th>1991</th> <th>1992</th> <th>1993</th> <th>1994</th> <th>1995</th> <th>1996</th> <th>1997</th> <th>1998</th> <th>1999</th> <th>2000</th> <th>2001</th> <th>2002</th> <th>2003</th> <th>2004</th> <th>2005</th> <th>2006</th> <th>2007</th> <th>2008</th> <th>2009</th> <th>2010</th> <th>2011</th> <th>2012</th> <th>2013</th> <th>2014</th> <th>2015</th> <th>2016</th> <th>2017</th> <th>2018</th> <th>2019</th> <th>2020</th> <th>2021</th> <th>2022</th> <th>2023</th> <th>2024</th> <th>2025</th> <th>2026</th> <th>2027</th> <th>2028</th> <th>2029</th> <th>2030</th> <th>2031</th> <th>2032</th> <th>2033</th> <th>2034</th> <th>2035</th> <th>2036</th> <th>2037</th> <th>2038</th> <th>2039</th> <th>2040</th>\n",
       "        </tr>\n",
       "    </thead>\n",
       "    <tbody>\n",
       "        <tr>\n",
       "            <td>Afghanistan        </td> <td>603 </td> <td>603 </td> <td>603 </td> <td>603 </td> <td>603 </td> <td>603 </td> <td>603 </td> <td>603 </td> <td>603 </td> <td>603 </td> <td>604 </td> <td>604 </td> <td>604 </td> <td>604 </td> <td>604 </td> <td>604 </td> <td>604 </td> <td>604 </td> <td>604 </td> <td>604 </td> <td>604 </td> <td>607 </td> <td>609 </td> <td>611 </td> <td>613 </td> <td>615 </td> <td>617 </td> <td>619 </td> <td>621 </td> <td>623 </td> <td>625 </td> <td>627 </td> <td>630 </td> <td>632 </td> <td>634 </td> <td>636 </td> <td>638 </td> <td>640 </td> <td>643 </td> <td>645 </td> <td>647 </td> <td>649 </td> <td>651 </td> <td>654 </td> <td>656 </td> <td>658 </td> <td>660 </td> <td>663 </td> <td>665 </td> <td>667 </td> <td>669 </td> <td>672 </td> <td>674 </td> <td>676 </td> <td>678 </td> <td>681 </td> <td>683 </td> <td>685 </td> <td>688 </td> <td>690 </td> <td>692 </td> <td>695 </td> <td>697 </td> <td>699 </td> <td>702 </td> <td>704 </td> <td>707 </td> <td>709 </td> <td>711 </td> <td>714 </td> <td>716 </td> <td>719 </td> <td>721 </td> <td>724 </td> <td>726 </td> <td>729 </td> <td>731 </td> <td>734 </td> <td>736 </td> <td>739 </td> <td>741 </td> <td>744 </td> <td>746 </td> <td>749 </td> <td>751 </td> <td>754 </td> <td>756 </td> <td>759 </td> <td>761 </td> <td>764 </td> <td>767 </td> <td>769 </td> <td>772 </td> <td>774 </td> <td>777 </td> <td>780 </td> <td>782 </td> <td>785 </td> <td>788 </td> <td>790 </td> <td>793 </td> <td>796 </td> <td>798 </td> <td>801 </td> <td>804 </td> <td>807 </td> <td>809 </td> <td>812 </td> <td>815 </td> <td>818 </td> <td>820 </td> <td>823 </td> <td>826 </td> <td>829 </td> <td>833 </td> <td>837 </td> <td>841 </td> <td>845 </td> <td>849 </td> <td>853 </td> <td>857 </td> <td>863 </td> <td>868 </td> <td>874 </td> <td>880 </td> <td>885 </td> <td>891 </td> <td>897 </td> <td>903 </td> <td>909 </td> <td>915 </td> <td>921 </td> <td>927 </td> <td>933 </td> <td>939 </td> <td>945 </td> <td>951 </td> <td>957 </td> <td>963 </td> <td>969 </td> <td>976  </td> <td>982  </td> <td>988  </td> <td>995  </td> <td>1000 </td> <td>1010 </td> <td>1010 </td> <td>1020 </td> <td>1030 </td> <td>1030 </td> <td>1040 </td> <td>1060 </td> <td>1070 </td> <td>1120 </td> <td>1130 </td> <td>1130 </td> <td>1160 </td> <td>1140 </td> <td>1180 </td> <td>1190 </td> <td>1210 </td> <td>1200 </td> <td>1200 </td> <td>1190 </td> <td>1190 </td> <td>1190 </td> <td>1180 </td> <td>1180 </td> <td>1200 </td> <td>1190 </td> <td>1180 </td> <td>1100 </td> <td>1050 </td> <td>1150 </td> <td>1180 </td> <td>1210 </td> <td>1240 </td> <td>1130 </td> <td>1190 </td> <td>1160 </td> <td>1170 </td> <td>1300 </td> <td>1410 </td> <td>1470 </td> <td>1440 </td> <td>1400 </td> <td>1500 </td> <td>1240 </td> <td>1120 </td> <td>1100 </td> <td>1040 </td> <td>1030 </td> <td>950  </td> <td>818  </td> <td>732  </td> <td>881  </td> <td>904  </td> <td>930  </td> <td>956  </td> <td>982  </td> <td>972  </td> <td>871  </td> <td>1060 </td> <td>1100 </td> <td>1060 </td> <td>1140 </td> <td>1160 </td> <td>1280 </td> <td>1300 </td> <td>1530 </td> <td>1610 </td> <td>1660 </td> <td>1840 </td> <td>1810 </td> <td>1780 </td> <td>1750 </td> <td>1740 </td> <td>1800 </td> <td>1870 </td> <td>1950 </td> <td>1970 </td> <td>2000 </td> <td>2020 </td> <td>2060 </td> <td>2090 </td> <td>2130 </td> <td>2170 </td> <td>2220 </td> <td>2260 </td> <td>2310 </td> <td>2360 </td> <td>2420 </td> <td>2470 </td> <td>2520 </td> <td>2580 </td> <td>2640 </td> <td>2700 </td> <td>2760 </td> <td>2820 </td> <td>2880 </td> <td>2940 </td>\n",
       "        </tr>\n",
       "        <tr>\n",
       "            <td>Albania            </td> <td>667 </td> <td>667 </td> <td>667 </td> <td>667 </td> <td>667 </td> <td>668 </td> <td>668 </td> <td>668 </td> <td>668 </td> <td>668 </td> <td>668 </td> <td>668 </td> <td>668 </td> <td>668 </td> <td>668 </td> <td>669 </td> <td>669 </td> <td>669 </td> <td>669 </td> <td>669 </td> <td>669 </td> <td>671 </td> <td>672 </td> <td>674 </td> <td>675 </td> <td>677 </td> <td>678 </td> <td>680 </td> <td>681 </td> <td>683 </td> <td>684 </td> <td>686 </td> <td>688 </td> <td>689 </td> <td>691 </td> <td>692 </td> <td>694 </td> <td>695 </td> <td>697 </td> <td>699 </td> <td>700 </td> <td>702 </td> <td>703 </td> <td>705 </td> <td>707 </td> <td>708 </td> <td>710 </td> <td>711 </td> <td>713 </td> <td>715 </td> <td>716 </td> <td>718 </td> <td>720 </td> <td>721 </td> <td>723 </td> <td>724 </td> <td>726 </td> <td>728 </td> <td>729 </td> <td>731 </td> <td>733 </td> <td>734 </td> <td>736 </td> <td>738 </td> <td>739 </td> <td>741 </td> <td>743 </td> <td>745 </td> <td>746 </td> <td>748 </td> <td>750 </td> <td>761 </td> <td>772 </td> <td>784 </td> <td>795 </td> <td>807 </td> <td>819 </td> <td>831 </td> <td>844 </td> <td>856 </td> <td>869 </td> <td>882 </td> <td>895 </td> <td>908 </td> <td>922 </td> <td>936 </td> <td>950 </td> <td>964 </td> <td>978 </td> <td>993 </td> <td>1010</td> <td>1020</td> <td>1040</td> <td>1050</td> <td>1060</td> <td>1080</td> <td>1090</td> <td>1110</td> <td>1120</td> <td>1140</td> <td>1160</td> <td>1170</td> <td>1190</td> <td>1200</td> <td>1220</td> <td>1240</td> <td>1250</td> <td>1270</td> <td>1280</td> <td>1300</td> <td>1320</td> <td>1340</td> <td>1360</td> <td>1390</td> <td>1410</td> <td>1420</td> <td>1440</td> <td>1460</td> <td>1480</td> <td>1500</td> <td>1520</td> <td>1540</td> <td>1560</td> <td>1580</td> <td>1600</td> <td>1620</td> <td>1640</td> <td>1650</td> <td>1670</td> <td>1690</td> <td>1710</td> <td>1720</td> <td>1730</td> <td>1740</td> <td>1750</td> <td>1760</td> <td>1780</td> <td>1790</td> <td>1800</td> <td>1810</td> <td>1820 </td> <td>1830 </td> <td>1840 </td> <td>1850 </td> <td>1860 </td> <td>1870 </td> <td>1880 </td> <td>1890 </td> <td>1900 </td> <td>1910 </td> <td>1920 </td> <td>2000 </td> <td>2010 </td> <td>2090 </td> <td>2150 </td> <td>2270 </td> <td>2290 </td> <td>2440 </td> <td>2550 </td> <td>2660 </td> <td>2790 </td> <td>2820 </td> <td>2910 </td> <td>3010 </td> <td>3110 </td> <td>3220 </td> <td>3340 </td> <td>3460 </td> <td>3580 </td> <td>3700 </td> <td>3830 </td> <td>3980 </td> <td>4120 </td> <td>4320 </td> <td>4320 </td> <td>4330 </td> <td>4340 </td> <td>4340 </td> <td>4350 </td> <td>4360 </td> <td>4380 </td> <td>4400 </td> <td>4410 </td> <td>4430 </td> <td>4440 </td> <td>4450 </td> <td>4470 </td> <td>4490 </td> <td>4500 </td> <td>4530 </td> <td>4560 </td> <td>3230 </td> <td>3010 </td> <td>3320 </td> <td>3620 </td> <td>4130 </td> <td>4530 </td> <td>4070 </td> <td>4460 </td> <td>5100 </td> <td>5470 </td> <td>5960 </td> <td>6230 </td> <td>6620 </td> <td>7020 </td> <td>7460 </td> <td>7920 </td> <td>8450 </td> <td>9150 </td> <td>9520 </td> <td>9930 </td> <td>10200</td> <td>10400</td> <td>10500</td> <td>10700</td> <td>11000</td> <td>11400</td> <td>11900</td> <td>12400</td> <td>13000</td> <td>13500</td> <td>14000</td> <td>14600</td> <td>15100</td> <td>15600</td> <td>16000</td> <td>16500</td> <td>16900</td> <td>17300</td> <td>17700</td> <td>18100</td> <td>18500</td> <td>18900</td> <td>19300</td> <td>19700</td> <td>20200</td> <td>20600</td> <td>21100</td> <td>21500</td> <td>22000</td> <td>22500</td>\n",
       "        </tr>\n",
       "        <tr>\n",
       "            <td>Algeria            </td> <td>715 </td> <td>716 </td> <td>717 </td> <td>718 </td> <td>719 </td> <td>720 </td> <td>721 </td> <td>722 </td> <td>723 </td> <td>724 </td> <td>725 </td> <td>726 </td> <td>727 </td> <td>728 </td> <td>729 </td> <td>730 </td> <td>731 </td> <td>732 </td> <td>733 </td> <td>734 </td> <td>735 </td> <td>743 </td> <td>751 </td> <td>759 </td> <td>767 </td> <td>775 </td> <td>784 </td> <td>792 </td> <td>801 </td> <td>810 </td> <td>819 </td> <td>828 </td> <td>837 </td> <td>846 </td> <td>855 </td> <td>864 </td> <td>874 </td> <td>883 </td> <td>893 </td> <td>903 </td> <td>912 </td> <td>922 </td> <td>932 </td> <td>943 </td> <td>953 </td> <td>963 </td> <td>974 </td> <td>984 </td> <td>995 </td> <td>1010</td> <td>1020</td> <td>1030</td> <td>1040</td> <td>1050</td> <td>1060</td> <td>1070</td> <td>1080</td> <td>1100</td> <td>1110</td> <td>1120</td> <td>1130</td> <td>1150</td> <td>1160</td> <td>1170</td> <td>1180</td> <td>1200</td> <td>1210</td> <td>1220</td> <td>1240</td> <td>1250</td> <td>1260</td> <td>1280</td> <td>1290</td> <td>1300</td> <td>1320</td> <td>1330</td> <td>1350</td> <td>1360</td> <td>1380</td> <td>1390</td> <td>1410</td> <td>1420</td> <td>1440</td> <td>1450</td> <td>1470</td> <td>1490</td> <td>1500</td> <td>1520</td> <td>1540</td> <td>1550</td> <td>1570</td> <td>1590</td> <td>1600</td> <td>1620</td> <td>1640</td> <td>1660</td> <td>1680</td> <td>1690</td> <td>1710</td> <td>1730</td> <td>1750</td> <td>1770</td> <td>1790</td> <td>1810</td> <td>1830</td> <td>1850</td> <td>1870</td> <td>1890</td> <td>1910</td> <td>1930</td> <td>1950</td> <td>2000</td> <td>2040</td> <td>2100</td> <td>2130</td> <td>2170</td> <td>2200</td> <td>2240</td> <td>2280</td> <td>2320</td> <td>2360</td> <td>2420</td> <td>2480</td> <td>2540</td> <td>2600</td> <td>2660</td> <td>2720</td> <td>2780</td> <td>2830</td> <td>2890</td> <td>2950</td> <td>3010</td> <td>3060</td> <td>3120</td> <td>3180</td> <td>3230</td> <td>3280</td> <td>3340</td> <td>3390</td> <td>3450</td> <td>3500 </td> <td>3550 </td> <td>3600 </td> <td>3660 </td> <td>3710 </td> <td>3760 </td> <td>3810 </td> <td>3860 </td> <td>3910 </td> <td>3960 </td> <td>4000 </td> <td>3980 </td> <td>4100 </td> <td>4100 </td> <td>4340 </td> <td>4390 </td> <td>4740 </td> <td>5200 </td> <td>5310 </td> <td>6190 </td> <td>6520 </td> <td>5640 </td> <td>4520 </td> <td>5590 </td> <td>5740 </td> <td>5960 </td> <td>5520 </td> <td>5860 </td> <td>6370 </td> <td>6810 </td> <td>7290 </td> <td>6480 </td> <td>7620 </td> <td>7650 </td> <td>7890 </td> <td>8200 </td> <td>8480 </td> <td>8980 </td> <td>9830 </td> <td>10400</td> <td>10300</td> <td>10300</td> <td>10600</td> <td>10800</td> <td>11100</td> <td>11200</td> <td>10800</td> <td>10500</td> <td>10000</td> <td>10200</td> <td>10200</td> <td>9870 </td> <td>9820 </td> <td>9400 </td> <td>9130 </td> <td>9300 </td> <td>9510 </td> <td>9460 </td> <td>9800 </td> <td>9970 </td> <td>10200</td> <td>10400</td> <td>10800</td> <td>11500</td> <td>11800</td> <td>12300</td> <td>12300</td> <td>12600</td> <td>12700</td> <td>12600</td> <td>12900</td> <td>13000</td> <td>13200</td> <td>13300</td> <td>13500</td> <td>13700</td> <td>14000</td> <td>13800</td> <td>13700</td> <td>13700</td> <td>13600</td> <td>13600</td> <td>13600</td> <td>13600</td> <td>13700</td> <td>13900</td> <td>14100</td> <td>14300</td> <td>14600</td> <td>14900</td> <td>15300</td> <td>15600</td> <td>15900</td> <td>16300</td> <td>16700</td> <td>17000</td> <td>17400</td> <td>17800</td> <td>18200</td> <td>18600</td> <td>19000</td>\n",
       "        </tr>\n",
       "        <tr>\n",
       "            <td>Andorra            </td> <td>1200</td> <td>1200</td> <td>1200</td> <td>1200</td> <td>1210</td> <td>1210</td> <td>1210</td> <td>1210</td> <td>1220</td> <td>1220</td> <td>1220</td> <td>1220</td> <td>1220</td> <td>1230</td> <td>1230</td> <td>1230</td> <td>1230</td> <td>1240</td> <td>1240</td> <td>1240</td> <td>1240</td> <td>1260</td> <td>1270</td> <td>1290</td> <td>1300</td> <td>1320</td> <td>1330</td> <td>1350</td> <td>1360</td> <td>1380</td> <td>1400</td> <td>1410</td> <td>1430</td> <td>1450</td> <td>1460</td> <td>1480</td> <td>1500</td> <td>1520</td> <td>1540</td> <td>1550</td> <td>1570</td> <td>1590</td> <td>1610</td> <td>1630</td> <td>1650</td> <td>1670</td> <td>1690</td> <td>1710</td> <td>1730</td> <td>1750</td> <td>1770</td> <td>1790</td> <td>1810</td> <td>1830</td> <td>1860</td> <td>1880</td> <td>1900</td> <td>1920</td> <td>1940</td> <td>1970</td> <td>1990</td> <td>2020</td> <td>2040</td> <td>2060</td> <td>2090</td> <td>2110</td> <td>2140</td> <td>2160</td> <td>2190</td> <td>2220</td> <td>2240</td> <td>2270</td> <td>2300</td> <td>2320</td> <td>2350</td> <td>2380</td> <td>2410</td> <td>2440</td> <td>2460</td> <td>2490</td> <td>2520</td> <td>2550</td> <td>2580</td> <td>2610</td> <td>2640</td> <td>2680</td> <td>2710</td> <td>2740</td> <td>2770</td> <td>2810</td> <td>2840</td> <td>2870</td> <td>2910</td> <td>2940</td> <td>2980</td> <td>3010</td> <td>3050</td> <td>3080</td> <td>3120</td> <td>3160</td> <td>3200</td> <td>3230</td> <td>3270</td> <td>3310</td> <td>3350</td> <td>3390</td> <td>3430</td> <td>3470</td> <td>3510</td> <td>3550</td> <td>3600</td> <td>3640</td> <td>3680</td> <td>3730</td> <td>3790</td> <td>3850</td> <td>3920</td> <td>3980</td> <td>4050</td> <td>4120</td> <td>4190</td> <td>4260</td> <td>4330</td> <td>4410</td> <td>4480</td> <td>4560</td> <td>4640</td> <td>4720</td> <td>4800</td> <td>4880</td> <td>4970</td> <td>5050</td> <td>5140</td> <td>5230</td> <td>5320</td> <td>5410</td> <td>5500</td> <td>5600</td> <td>5690</td> <td>5790</td> <td>5890 </td> <td>5990 </td> <td>6100 </td> <td>6200 </td> <td>6310 </td> <td>6410 </td> <td>6520 </td> <td>6640 </td> <td>6750 </td> <td>6870 </td> <td>6980 </td> <td>7550 </td> <td>8160 </td> <td>8820 </td> <td>9540 </td> <td>10300</td> <td>11200</td> <td>12100</td> <td>13000</td> <td>14100</td> <td>15200</td> <td>16500</td> <td>17800</td> <td>19200</td> <td>20800</td> <td>22500</td> <td>24300</td> <td>26300</td> <td>28400</td> <td>30700</td> <td>33200</td> <td>33000</td> <td>34000</td> <td>34900</td> <td>35300</td> <td>34100</td> <td>34000</td> <td>34000</td> <td>33500</td> <td>32500</td> <td>32100</td> <td>30800</td> <td>29900</td> <td>29100</td> <td>28400</td> <td>27800</td> <td>27600</td> <td>27900</td> <td>28200</td> <td>28400</td> <td>28400</td> <td>28000</td> <td>27200</td> <td>26000</td> <td>25900</td> <td>26100</td> <td>27200</td> <td>29700</td> <td>30800</td> <td>31900</td> <td>31700</td> <td>31800</td> <td>31900</td> <td>34500</td> <td>36300</td> <td>39800</td> <td>42700</td> <td>43400</td> <td>41400</td> <td>41700</td> <td>39000</td> <td>42000</td> <td>41900</td> <td>43700</td> <td>44900</td> <td>46600</td> <td>48200</td> <td>49800</td> <td>51500</td> <td>53200</td> <td>55000</td> <td>56900</td> <td>58700</td> <td>60400</td> <td>62100</td> <td>63800</td> <td>65400</td> <td>66900</td> <td>68500</td> <td>70000</td> <td>71600</td> <td>73200</td> <td>74800</td> <td>76400</td> <td>78100</td> <td>79900</td> <td>81600</td> <td>83400</td> <td>85300</td> <td>87200</td> <td>89100</td>\n",
       "        </tr>\n",
       "        <tr>\n",
       "            <td>Angola             </td> <td>618 </td> <td>620 </td> <td>623 </td> <td>626 </td> <td>628 </td> <td>631 </td> <td>634 </td> <td>637 </td> <td>640 </td> <td>642 </td> <td>645 </td> <td>648 </td> <td>651 </td> <td>654 </td> <td>657 </td> <td>660 </td> <td>662 </td> <td>665 </td> <td>668 </td> <td>671 </td> <td>674 </td> <td>677 </td> <td>680 </td> <td>683 </td> <td>686 </td> <td>689 </td> <td>692 </td> <td>695 </td> <td>698 </td> <td>701 </td> <td>704 </td> <td>708 </td> <td>711 </td> <td>714 </td> <td>717 </td> <td>720 </td> <td>723 </td> <td>726 </td> <td>730 </td> <td>733 </td> <td>736 </td> <td>739 </td> <td>743 </td> <td>746 </td> <td>749 </td> <td>752 </td> <td>756 </td> <td>759 </td> <td>762 </td> <td>766 </td> <td>769 </td> <td>773 </td> <td>776 </td> <td>779 </td> <td>783 </td> <td>786 </td> <td>790 </td> <td>793 </td> <td>797 </td> <td>800 </td> <td>804 </td> <td>807 </td> <td>811 </td> <td>814 </td> <td>818 </td> <td>822 </td> <td>825 </td> <td>829 </td> <td>832 </td> <td>836 </td> <td>840 </td> <td>844 </td> <td>847 </td> <td>851 </td> <td>855 </td> <td>858 </td> <td>862 </td> <td>866 </td> <td>870 </td> <td>874 </td> <td>878 </td> <td>881 </td> <td>885 </td> <td>889 </td> <td>893 </td> <td>897 </td> <td>901 </td> <td>905 </td> <td>909 </td> <td>913 </td> <td>917 </td> <td>921 </td> <td>925 </td> <td>929 </td> <td>933 </td> <td>937 </td> <td>941 </td> <td>946 </td> <td>950 </td> <td>954 </td> <td>958 </td> <td>962 </td> <td>967 </td> <td>971 </td> <td>975 </td> <td>979 </td> <td>984 </td> <td>988 </td> <td>992 </td> <td>997 </td> <td>1000</td> <td>1010</td> <td>1010</td> <td>1010</td> <td>1040</td> <td>1080</td> <td>1110</td> <td>1140</td> <td>1170</td> <td>1210</td> <td>1240</td> <td>1280</td> <td>1330</td> <td>1370</td> <td>1410</td> <td>1460</td> <td>1500</td> <td>1550</td> <td>1600</td> <td>1650</td> <td>1700</td> <td>1760</td> <td>1810</td> <td>1870</td> <td>1930</td> <td>1990</td> <td>2060</td> <td>2120</td> <td>2190</td> <td>2260</td> <td>2330 </td> <td>2400 </td> <td>2480 </td> <td>2560 </td> <td>2640 </td> <td>2720 </td> <td>2810 </td> <td>2900 </td> <td>2990 </td> <td>3080 </td> <td>3180 </td> <td>3260 </td> <td>3340 </td> <td>3420 </td> <td>3290 </td> <td>3510 </td> <td>3400 </td> <td>3670 </td> <td>3810 </td> <td>3770 </td> <td>3860 </td> <td>4310 </td> <td>4130 </td> <td>4280 </td> <td>4690 </td> <td>4960 </td> <td>5170 </td> <td>5390 </td> <td>5230 </td> <td>5300 </td> <td>5550 </td> <td>5780 </td> <td>5670 </td> <td>6000 </td> <td>6060 </td> <td>5620 </td> <td>5200 </td> <td>5110 </td> <td>4720 </td> <td>4600 </td> <td>4590 </td> <td>4250 </td> <td>4110 </td> <td>4140 </td> <td>4240 </td> <td>4260 </td> <td>4290 </td> <td>4480 </td> <td>4620 </td> <td>4530 </td> <td>4390 </td> <td>4210 </td> <td>3790 </td> <td>2760 </td> <td>2770 </td> <td>2970 </td> <td>3210 </td> <td>3370 </td> <td>3500 </td> <td>3510 </td> <td>3510 </td> <td>3540 </td> <td>3180 </td> <td>3240 </td> <td>3460 </td> <td>3950 </td> <td>4600 </td> <td>5440 </td> <td>5980 </td> <td>5910 </td> <td>5900 </td> <td>5910 </td> <td>6000 </td> <td>6180 </td> <td>6260 </td> <td>6230 </td> <td>6020 </td> <td>5940 </td> <td>5850 </td> <td>5760 </td> <td>5670 </td> <td>5600 </td> <td>5550 </td> <td>5530 </td> <td>5550 </td> <td>5600 </td> <td>5670 </td> <td>5770 </td> <td>5880 </td> <td>6010 </td> <td>6140 </td> <td>6270 </td> <td>6410 </td> <td>6550 </td> <td>6700 </td> <td>6850 </td> <td>7000 </td> <td>7150 </td> <td>7310 </td> <td>7470 </td> <td>7640 </td>\n",
       "        </tr>\n",
       "        <tr>\n",
       "            <td>Antigua and Barbuda</td> <td>757 </td> <td>757 </td> <td>757 </td> <td>757 </td> <td>757 </td> <td>757 </td> <td>757 </td> <td>758 </td> <td>758 </td> <td>758 </td> <td>758 </td> <td>758 </td> <td>758 </td> <td>758 </td> <td>758 </td> <td>758 </td> <td>759 </td> <td>759 </td> <td>759 </td> <td>759 </td> <td>759 </td> <td>764 </td> <td>769 </td> <td>775 </td> <td>780 </td> <td>785 </td> <td>790 </td> <td>796 </td> <td>801 </td> <td>806 </td> <td>812 </td> <td>817 </td> <td>823 </td> <td>828 </td> <td>834 </td> <td>840 </td> <td>845 </td> <td>851 </td> <td>857 </td> <td>863 </td> <td>868 </td> <td>874 </td> <td>880 </td> <td>886 </td> <td>892 </td> <td>898 </td> <td>904 </td> <td>910 </td> <td>917 </td> <td>923 </td> <td>929 </td> <td>935 </td> <td>942 </td> <td>948 </td> <td>954 </td> <td>961 </td> <td>967 </td> <td>974 </td> <td>980 </td> <td>987 </td> <td>994 </td> <td>1000</td> <td>1010</td> <td>1010</td> <td>1020</td> <td>1030</td> <td>1040</td> <td>1040</td> <td>1050</td> <td>1060</td> <td>1060</td> <td>1070</td> <td>1080</td> <td>1080</td> <td>1090</td> <td>1100</td> <td>1110</td> <td>1110</td> <td>1120</td> <td>1130</td> <td>1140</td> <td>1140</td> <td>1150</td> <td>1160</td> <td>1170</td> <td>1180</td> <td>1180</td> <td>1190</td> <td>1200</td> <td>1210</td> <td>1220</td> <td>1220</td> <td>1230</td> <td>1240</td> <td>1250</td> <td>1260</td> <td>1270</td> <td>1280</td> <td>1280</td> <td>1290</td> <td>1300</td> <td>1310</td> <td>1320</td> <td>1330</td> <td>1340</td> <td>1340</td> <td>1360</td> <td>1360</td> <td>1370</td> <td>1380</td> <td>1390</td> <td>1400</td> <td>1410</td> <td>1420</td> <td>1460</td> <td>1490</td> <td>1530</td> <td>1560</td> <td>1600</td> <td>1640</td> <td>1680</td> <td>1720</td> <td>1770</td> <td>1810</td> <td>1860</td> <td>1900</td> <td>1950</td> <td>2000</td> <td>2040</td> <td>2090</td> <td>2140</td> <td>2200</td> <td>2250</td> <td>2310</td> <td>2360</td> <td>2420</td> <td>2480</td> <td>2540</td> <td>2600</td> <td>2660</td> <td>2730 </td> <td>2800 </td> <td>2860 </td> <td>2940 </td> <td>3010 </td> <td>3080 </td> <td>3160 </td> <td>3230 </td> <td>3310 </td> <td>3390 </td> <td>3470 </td> <td>3560 </td> <td>3640 </td> <td>3730 </td> <td>3820 </td> <td>3920 </td> <td>4010 </td> <td>4110 </td> <td>4210 </td> <td>4310 </td> <td>4420 </td> <td>4530 </td> <td>4640 </td> <td>4750 </td> <td>4860 </td> <td>4980 </td> <td>5100 </td> <td>5230 </td> <td>5360 </td> <td>5480 </td> <td>5620 </td> <td>5890 </td> <td>6160 </td> <td>6540 </td> <td>6650 </td> <td>6230 </td> <td>5670 </td> <td>6140 </td> <td>6440 </td> <td>7250 </td> <td>7850 </td> <td>8350 </td> <td>8470 </td> <td>9150 </td> <td>9960 </td> <td>10900</td> <td>12100</td> <td>13400</td> <td>14800</td> <td>15900</td> <td>16400</td> <td>16600</td> <td>16500</td> <td>17000</td> <td>17700</td> <td>16500</td> <td>17100</td> <td>17500</td> <td>17900</td> <td>18100</td> <td>18800</td> <td>17500</td> <td>17500</td> <td>18300</td> <td>19200</td> <td>20100</td> <td>22400</td> <td>24200</td> <td>24000</td> <td>20800</td> <td>19100</td> <td>18600</td> <td>19100</td> <td>18900</td> <td>19500</td> <td>20100</td> <td>20800</td> <td>20900</td> <td>21000</td> <td>21200</td> <td>21300</td> <td>21500</td> <td>21700</td> <td>22000</td> <td>22300</td> <td>22700</td> <td>23100</td> <td>23600</td> <td>24100</td> <td>24600</td> <td>25100</td> <td>25700</td> <td>26200</td> <td>26800</td> <td>27400</td> <td>28000</td> <td>28600</td> <td>29300</td> <td>29900</td> <td>30600</td> <td>31300</td>\n",
       "        </tr>\n",
       "        <tr>\n",
       "            <td>Argentina          </td> <td>1510</td> <td>1510</td> <td>1510</td> <td>1510</td> <td>1510</td> <td>1510</td> <td>1510</td> <td>1510</td> <td>1510</td> <td>1510</td> <td>1510</td> <td>1510</td> <td>1510</td> <td>1510</td> <td>1510</td> <td>1510</td> <td>1510</td> <td>1510</td> <td>1510</td> <td>1510</td> <td>1510</td> <td>1530</td> <td>1560</td> <td>1580</td> <td>1600</td> <td>1620</td> <td>1640</td> <td>1670</td> <td>1690</td> <td>1720</td> <td>1740</td> <td>1770</td> <td>1790</td> <td>1820</td> <td>1840</td> <td>1870</td> <td>1900</td> <td>1920</td> <td>1950</td> <td>1980</td> <td>2010</td> <td>2040</td> <td>2060</td> <td>2090</td> <td>2120</td> <td>2150</td> <td>2180</td> <td>2220</td> <td>2250</td> <td>2280</td> <td>2310</td> <td>2340</td> <td>2380</td> <td>2410</td> <td>2450</td> <td>2480</td> <td>2520</td> <td>2550</td> <td>2590</td> <td>2630</td> <td>2660</td> <td>2700</td> <td>2740</td> <td>2780</td> <td>2820</td> <td>2860</td> <td>2900</td> <td>2940</td> <td>2980</td> <td>3030</td> <td>3070</td> <td>3110</td> <td>3160</td> <td>3200</td> <td>3250</td> <td>3300</td> <td>3260</td> <td>3500</td> <td>3220</td> <td>3260</td> <td>3100</td> <td>3050</td> <td>3750</td> <td>4080</td> <td>4250</td> <td>4850</td> <td>4720</td> <td>4890</td> <td>5530</td> <td>5890</td> <td>5220</td> <td>4780</td> <td>5570</td> <td>5720</td> <td>6420</td> <td>6920</td> <td>7440</td> <td>5820</td> <td>6140</td> <td>7040</td> <td>6000</td> <td>6340</td> <td>6030</td> <td>6720</td> <td>7250</td> <td>8010</td> <td>8040</td> <td>7840</td> <td>8240</td> <td>8270</td> <td>8490</td> <td>8250</td> <td>8540</td> <td>8230</td> <td>7000</td> <td>6710</td> <td>6360</td> <td>5700</td> <td>6600</td> <td>6680</td> <td>7000</td> <td>6900</td> <td>7180</td> <td>7680</td> <td>7970</td> <td>7630</td> <td>7720</td> <td>7990</td> <td>8190</td> <td>8280</td> <td>7650</td> <td>6920</td> <td>6510</td> <td>6640</td> <td>6990</td> <td>7110</td> <td>7010</td> <td>7360</td> <td>7220</td> <td>7330</td> <td>7290 </td> <td>7510 </td> <td>7430 </td> <td>7220 </td> <td>7880 </td> <td>7460 </td> <td>7920 </td> <td>8570 </td> <td>8800 </td> <td>8440 </td> <td>8320 </td> <td>8430 </td> <td>7800 </td> <td>8030 </td> <td>8180 </td> <td>8580 </td> <td>8640 </td> <td>8910 </td> <td>9280 </td> <td>8510 </td> <td>9020 </td> <td>9500 </td> <td>9190 </td> <td>8820 </td> <td>9590 </td> <td>10300</td> <td>10200</td> <td>10400</td> <td>10700</td> <td>11400</td> <td>11900</td> <td>12200</td> <td>12200</td> <td>12500</td> <td>13000</td> <td>12800</td> <td>12600</td> <td>13300</td> <td>12700</td> <td>13500</td> <td>13500</td> <td>12600</td> <td>12100</td> <td>12400</td> <td>12600</td> <td>11600</td> <td>12300</td> <td>12500</td> <td>12100</td> <td>11100</td> <td>10800</td> <td>12000</td> <td>13300</td> <td>13900</td> <td>14500</td> <td>13900</td> <td>14500</td> <td>15500</td> <td>15900</td> <td>15200</td> <td>14900</td> <td>14100</td> <td>12400</td> <td>13400</td> <td>14400</td> <td>15500</td> <td>16600</td> <td>17900</td> <td>18400</td> <td>17200</td> <td>18700</td> <td>19600</td> <td>19200</td> <td>19500</td> <td>18800</td> <td>19100</td> <td>18500</td> <td>18700</td> <td>18900</td> <td>19300</td> <td>19500</td> <td>19800</td> <td>20100</td> <td>20400</td> <td>20800</td> <td>21200</td> <td>21600</td> <td>22100</td> <td>22600</td> <td>23000</td> <td>23600</td> <td>24100</td> <td>24600</td> <td>25200</td> <td>25700</td> <td>26300</td> <td>26900</td> <td>27500</td> <td>28100</td> <td>28700</td> <td>29300</td>\n",
       "        </tr>\n",
       "        <tr>\n",
       "            <td>Armenia            </td> <td>514 </td> <td>514 </td> <td>514 </td> <td>514 </td> <td>514 </td> <td>514 </td> <td>514 </td> <td>514 </td> <td>514 </td> <td>514 </td> <td>514 </td> <td>515 </td> <td>515 </td> <td>515 </td> <td>515 </td> <td>515 </td> <td>515 </td> <td>515 </td> <td>515 </td> <td>515 </td> <td>515 </td> <td>517 </td> <td>519 </td> <td>521 </td> <td>523 </td> <td>525 </td> <td>527 </td> <td>529 </td> <td>531 </td> <td>533 </td> <td>535 </td> <td>538 </td> <td>540 </td> <td>542 </td> <td>544 </td> <td>546 </td> <td>548 </td> <td>550 </td> <td>552 </td> <td>554 </td> <td>556 </td> <td>559 </td> <td>561 </td> <td>563 </td> <td>565 </td> <td>567 </td> <td>569 </td> <td>572 </td> <td>574 </td> <td>576 </td> <td>578 </td> <td>581 </td> <td>583 </td> <td>585 </td> <td>587 </td> <td>590 </td> <td>592 </td> <td>594 </td> <td>596 </td> <td>599 </td> <td>601 </td> <td>603 </td> <td>606 </td> <td>608 </td> <td>610 </td> <td>613 </td> <td>615 </td> <td>617 </td> <td>620 </td> <td>622 </td> <td>625 </td> <td>627 </td> <td>629 </td> <td>632 </td> <td>634 </td> <td>637 </td> <td>639 </td> <td>642 </td> <td>644 </td> <td>647 </td> <td>649 </td> <td>652 </td> <td>654 </td> <td>657 </td> <td>659 </td> <td>662 </td> <td>635 </td> <td>741 </td> <td>711 </td> <td>660 </td> <td>656 </td> <td>599 </td> <td>655 </td> <td>740 </td> <td>840 </td> <td>776 </td> <td>853 </td> <td>837 </td> <td>857 </td> <td>908 </td> <td>886 </td> <td>906 </td> <td>983 </td> <td>913 </td> <td>1010</td> <td>890 </td> <td>849 </td> <td>814 </td> <td>887 </td> <td>919 </td> <td>979 </td> <td>902 </td> <td>973 </td> <td>1020</td> <td>972 </td> <td>998 </td> <td>967 </td> <td>806 </td> <td>671 </td> <td>560 </td> <td>531 </td> <td>504 </td> <td>547 </td> <td>593 </td> <td>642 </td> <td>696 </td> <td>755 </td> <td>819 </td> <td>887 </td> <td>962 </td> <td>1000</td> <td>1010</td> <td>991 </td> <td>1020</td> <td>1120</td> <td>1270</td> <td>1360</td> <td>1460</td> <td>1460</td> <td>1510</td> <td>1440 </td> <td>1410 </td> <td>1380 </td> <td>1350 </td> <td>1320 </td> <td>1300 </td> <td>1270 </td> <td>1410 </td> <td>1580 </td> <td>1720 </td> <td>1860 </td> <td>1840 </td> <td>1920 </td> <td>1960 </td> <td>2020 </td> <td>2140 </td> <td>2300 </td> <td>2300 </td> <td>2420 </td> <td>2350 </td> <td>2520 </td> <td>2610 </td> <td>2640 </td> <td>2540 </td> <td>2830 </td> <td>2950 </td> <td>3060 </td> <td>3150 </td> <td>3300 </td> <td>3320 </td> <td>3540 </td> <td>3590 </td> <td>3580 </td> <td>3840 </td> <td>3880 </td> <td>3820 </td> <td>3920 </td> <td>3940 </td> <td>3970 </td> <td>3880 </td> <td>3820 </td> <td>3790 </td> <td>3820 </td> <td>3870 </td> <td>3850 </td> <td>3810 </td> <td>3900 </td> <td>3880 </td> <td>3890 </td> <td>3900 </td> <td>3740 </td> <td>3340 </td> <td>1980 </td> <td>1840 </td> <td>1990 </td> <td>2170 </td> <td>2340 </td> <td>2440 </td> <td>2640 </td> <td>2740 </td> <td>2920 </td> <td>3220 </td> <td>3670 </td> <td>4210 </td> <td>4670 </td> <td>5360 </td> <td>6110 </td> <td>7010 </td> <td>7560 </td> <td>6530 </td> <td>6700 </td> <td>7020 </td> <td>7510 </td> <td>7730 </td> <td>7970 </td> <td>8180 </td> <td>8170 </td> <td>8410 </td> <td>8660 </td> <td>8930 </td> <td>9200 </td> <td>9460 </td> <td>9730 </td> <td>10000</td> <td>10300</td> <td>10500</td> <td>10800</td> <td>11000</td> <td>11300</td> <td>11500</td> <td>11800</td> <td>12000</td> <td>12300</td> <td>12600</td> <td>12800</td> <td>13100</td> <td>13400</td> <td>13700</td> <td>14000</td> <td>14300</td> <td>14700</td>\n",
       "        </tr>\n",
       "        <tr>\n",
       "            <td>Australia          </td> <td>814 </td> <td>816 </td> <td>818 </td> <td>820 </td> <td>822 </td> <td>824 </td> <td>825 </td> <td>827 </td> <td>829 </td> <td>831 </td> <td>833 </td> <td>835 </td> <td>837 </td> <td>839 </td> <td>841 </td> <td>843 </td> <td>845 </td> <td>847 </td> <td>849 </td> <td>851 </td> <td>853 </td> <td>860 </td> <td>886 </td> <td>916 </td> <td>967 </td> <td>1010</td> <td>1030</td> <td>1060</td> <td>1090</td> <td>1150</td> <td>1400</td> <td>1450</td> <td>1480</td> <td>1480</td> <td>1560</td> <td>1890</td> <td>1860</td> <td>1950</td> <td>1920</td> <td>1790</td> <td>2270</td> <td>1940</td> <td>1760</td> <td>2050</td> <td>2330</td> <td>2400</td> <td>2650</td> <td>3060</td> <td>3500</td> <td>3460</td> <td>3270</td> <td>3880</td> <td>4550</td> <td>4980</td> <td>4360</td> <td>4140</td> <td>5050</td> <td>4460</td> <td>3800</td> <td>4910</td> <td>4790</td> <td>4720</td> <td>4540</td> <td>4520</td> <td>4800</td> <td>4580</td> <td>4710</td> <td>5150</td> <td>5230</td> <td>5130</td> <td>5430</td> <td>5470</td> <td>5890</td> <td>6340</td> <td>6360</td> <td>6870</td> <td>6650</td> <td>6700</td> <td>7100</td> <td>6980</td> <td>7120</td> <td>7400</td> <td>6750</td> <td>7440</td> <td>7150</td> <td>7350</td> <td>7200</td> <td>7700</td> <td>7490</td> <td>7890</td> <td>7410</td> <td>7760</td> <td>6650</td> <td>6170</td> <td>6270</td> <td>5800</td> <td>6130</td> <td>5690</td> <td>6480</td> <td>6390</td> <td>6680</td> <td>6400</td> <td>6370</td> <td>6790</td> <td>7160</td> <td>7140</td> <td>7510</td> <td>7700</td> <td>7830</td> <td>8310</td> <td>8690</td> <td>8500</td> <td>8490</td> <td>8570</td> <td>8350</td> <td>8120</td> <td>8080</td> <td>7930</td> <td>7610</td> <td>7790</td> <td>7860</td> <td>8100</td> <td>8340</td> <td>8550</td> <td>8910</td> <td>9120</td> <td>9150</td> <td>9100</td> <td>8940</td> <td>8620</td> <td>7710</td> <td>7130</td> <td>7470</td> <td>7920</td> <td>8270</td> <td>8690</td> <td>9010</td> <td>9380</td> <td>9600</td> <td>9530</td> <td>10100</td> <td>11100</td> <td>12200</td> <td>12500</td> <td>12000</td> <td>11300</td> <td>10700</td> <td>10900</td> <td>11300</td> <td>11800</td> <td>12100</td> <td>12200</td> <td>12100</td> <td>12200</td> <td>12700</td> <td>13100</td> <td>13200</td> <td>13200</td> <td>13500</td> <td>14100</td> <td>14300</td> <td>14100</td> <td>14700</td> <td>15400</td> <td>16100</td> <td>16600</td> <td>16700</td> <td>17600</td> <td>18300</td> <td>18900</td> <td>19700</td> <td>20200</td> <td>20400</td> <td>21200</td> <td>21400</td> <td>21700</td> <td>22400</td> <td>22400</td> <td>22700</td> <td>23700</td> <td>23900</td> <td>24300</td> <td>23900</td> <td>23600</td> <td>24900</td> <td>25900</td> <td>26000</td> <td>26900</td> <td>27700</td> <td>28500</td> <td>28600</td> <td>28100</td> <td>27900</td> <td>28700</td> <td>29600</td> <td>30400</td> <td>31200</td> <td>32000</td> <td>33100</td> <td>34400</td> <td>35300</td> <td>35500</td> <td>36400</td> <td>37100</td> <td>38100</td> <td>38900</td> <td>39400</td> <td>40600</td> <td>41300</td> <td>41200</td> <td>41400</td> <td>41800</td> <td>42600</td> <td>42900</td> <td>43400</td> <td>43800</td> <td>44400</td> <td>45100</td> <td>45800</td> <td>46400</td> <td>47100</td> <td>47900</td> <td>48700</td> <td>49500</td> <td>50400</td> <td>51400</td> <td>52500</td> <td>53600</td> <td>54800</td> <td>56000</td> <td>57200</td> <td>58500</td> <td>59800</td> <td>61100</td> <td>62400</td> <td>63800</td> <td>65200</td> <td>66700</td> <td>68200</td> <td>69700</td> <td>71200</td>\n",
       "        </tr>\n",
       "        <tr>\n",
       "            <td>Austria            </td> <td>1850</td> <td>1850</td> <td>1860</td> <td>1870</td> <td>1880</td> <td>1880</td> <td>1890</td> <td>1900</td> <td>1910</td> <td>1920</td> <td>1920</td> <td>1930</td> <td>1940</td> <td>1950</td> <td>1950</td> <td>1960</td> <td>1970</td> <td>1980</td> <td>1990</td> <td>1990</td> <td>2000</td> <td>2030</td> <td>2070</td> <td>2100</td> <td>2140</td> <td>2170</td> <td>2200</td> <td>2240</td> <td>2280</td> <td>2310</td> <td>2350</td> <td>2380</td> <td>2400</td> <td>2430</td> <td>2450</td> <td>2480</td> <td>2500</td> <td>2530</td> <td>2550</td> <td>2580</td> <td>2610</td> <td>2640</td> <td>2660</td> <td>2690</td> <td>2720</td> <td>2750</td> <td>2780</td> <td>2810</td> <td>2840</td> <td>2880</td> <td>2910</td> <td>2940</td> <td>2960</td> <td>2990</td> <td>3020</td> <td>3050</td> <td>3080</td> <td>3110</td> <td>3140</td> <td>3170</td> <td>3200</td> <td>3230</td> <td>3250</td> <td>3270</td> <td>3300</td> <td>3320</td> <td>3340</td> <td>3370</td> <td>3390</td> <td>3410</td> <td>3440</td> <td>3660</td> <td>3660</td> <td>3560</td> <td>3690</td> <td>3680</td> <td>3740</td> <td>3840</td> <td>3950</td> <td>3900</td> <td>3930</td> <td>4060</td> <td>4060</td> <td>4200</td> <td>4290</td> <td>4230</td> <td>4340</td> <td>4620</td> <td>4580</td> <td>4510</td> <td>4720</td> <td>4860</td> <td>4920</td> <td>4920</td> <td>5160</td> <td>5260</td> <td>5290</td> <td>5360</td> <td>5620</td> <td>5700</td> <td>5700</td> <td>5680</td> <td>5850</td> <td>5860</td> <td>5900</td> <td>6180</td> <td>6370</td> <td>6710</td> <td>6690</td> <td>6620</td> <td>6660</td> <td>6800</td> <td>7070</td> <td>6980</td> <td>5780</td> <td>5330</td> <td>5270</td> <td>5180</td> <td>5100</td> <td>4500</td> <td>4800</td> <td>5260</td> <td>5700</td> <td>5610</td> <td>6230</td> <td>6620</td> <td>6690</td> <td>6850</td> <td>7130</td> <td>7200</td> <td>6960</td> <td>6370</td> <td>5680</td> <td>5460</td> <td>5490</td> <td>5580</td> <td>5740</td> <td>6040</td> <td>6800</td> <td>7800</td> <td>7530 </td> <td>8010 </td> <td>7550 </td> <td>7690 </td> <td>7190 </td> <td>3250 </td> <td>3680 </td> <td>4070 </td> <td>5190 </td> <td>6170 </td> <td>6940 </td> <td>7400 </td> <td>7410 </td> <td>7720 </td> <td>8490 </td> <td>9400 </td> <td>10000</td> <td>10600</td> <td>11000</td> <td>11200</td> <td>12100</td> <td>12600</td> <td>12900</td> <td>13300</td> <td>14000</td> <td>14300</td> <td>15000</td> <td>15300</td> <td>15900</td> <td>16800</td> <td>18000</td> <td>18800</td> <td>19800</td> <td>20700</td> <td>21500</td> <td>21500</td> <td>22500</td> <td>23600</td> <td>23500</td> <td>24800</td> <td>25400</td> <td>25300</td> <td>25800</td> <td>26600</td> <td>26700</td> <td>27300</td> <td>27900</td> <td>28300</td> <td>29100</td> <td>30300</td> <td>31300</td> <td>32000</td> <td>32300</td> <td>32200</td> <td>32900</td> <td>33700</td> <td>34500</td> <td>35200</td> <td>36400</td> <td>37600</td> <td>38800</td> <td>39200</td> <td>39600</td> <td>39700</td> <td>40600</td> <td>41200</td> <td>42300</td> <td>43700</td> <td>44300</td> <td>42500</td> <td>43200</td> <td>44200</td> <td>44400</td> <td>44200</td> <td>44100</td> <td>44100</td> <td>44100</td> <td>44400</td> <td>44600</td> <td>44900</td> <td>45100</td> <td>45400</td> <td>45800</td> <td>46300</td> <td>46900</td> <td>47700</td> <td>48500</td> <td>49500</td> <td>50500</td> <td>51600</td> <td>52800</td> <td>53900</td> <td>55100</td> <td>56300</td> <td>57600</td> <td>58900</td> <td>60200</td> <td>61500</td> <td>62900</td> <td>64300</td> <td>65700</td>\n",
       "        </tr>\n",
       "    </tbody>\n",
       "</table>\n",
       "<p>... (183 rows omitted)</p>"
      ],
      "text/plain": [
       "country             | 1800 | 1801 | 1802 | 1803 | 1804 | 1805 | 1806 | 1807 | 1808 | 1809 | 1810 | 1811 | 1812 | 1813 | 1814 | 1815 | 1816 | 1817 | 1818 | 1819 | 1820 | 1821 | 1822 | 1823 | 1824 | 1825 | 1826 | 1827 | 1828 | 1829 | 1830 | 1831 | 1832 | 1833 | 1834 | 1835 | 1836 | 1837 | 1838 | 1839 | 1840 | 1841 | 1842 | 1843 | 1844 | 1845 | 1846 | 1847 | 1848 | 1849 | 1850 | 1851 | 1852 | 1853 | 1854 | 1855 | 1856 | 1857 | 1858 | 1859 | 1860 | 1861 | 1862 | 1863 | 1864 | 1865 | 1866 | 1867 | 1868 | 1869 | 1870 | 1871 | 1872 | 1873 | 1874 | 1875 | 1876 | 1877 | 1878 | 1879 | 1880 | 1881 | 1882 | 1883 | 1884 | 1885 | 1886 | 1887 | 1888 | 1889 | 1890 | 1891 | 1892 | 1893 | 1894 | 1895 | 1896 | 1897 | 1898 | 1899 | 1900 | 1901 | 1902 | 1903 | 1904 | 1905 | 1906 | 1907 | 1908 | 1909 | 1910 | 1911 | 1912 | 1913 | 1914 | 1915 | 1916 | 1917 | 1918 | 1919 | 1920 | 1921 | 1922 | 1923 | 1924 | 1925 | 1926 | 1927 | 1928 | 1929 | 1930 | 1931 | 1932 | 1933 | 1934 | 1935 | 1936 | 1937 | 1938 | 1939 | 1940  | 1941  | 1942  | 1943  | 1944  | 1945  | 1946  | 1947  | 1948  | 1949  | 1950  | 1951  | 1952  | 1953  | 1954  | 1955  | 1956  | 1957  | 1958  | 1959  | 1960  | 1961  | 1962  | 1963  | 1964  | 1965  | 1966  | 1967  | 1968  | 1969  | 1970  | 1971  | 1972  | 1973  | 1974  | 1975  | 1976  | 1977  | 1978  | 1979  | 1980  | 1981  | 1982  | 1983  | 1984  | 1985  | 1986  | 1987  | 1988  | 1989  | 1990  | 1991  | 1992  | 1993  | 1994  | 1995  | 1996  | 1997  | 1998  | 1999  | 2000  | 2001  | 2002  | 2003  | 2004  | 2005  | 2006  | 2007  | 2008  | 2009  | 2010  | 2011  | 2012  | 2013  | 2014  | 2015  | 2016  | 2017  | 2018  | 2019  | 2020  | 2021  | 2022  | 2023  | 2024  | 2025  | 2026  | 2027  | 2028  | 2029  | 2030  | 2031  | 2032  | 2033  | 2034  | 2035  | 2036  | 2037  | 2038  | 2039  | 2040\n",
       "Afghanistan         | 603  | 603  | 603  | 603  | 603  | 603  | 603  | 603  | 603  | 603  | 604  | 604  | 604  | 604  | 604  | 604  | 604  | 604  | 604  | 604  | 604  | 607  | 609  | 611  | 613  | 615  | 617  | 619  | 621  | 623  | 625  | 627  | 630  | 632  | 634  | 636  | 638  | 640  | 643  | 645  | 647  | 649  | 651  | 654  | 656  | 658  | 660  | 663  | 665  | 667  | 669  | 672  | 674  | 676  | 678  | 681  | 683  | 685  | 688  | 690  | 692  | 695  | 697  | 699  | 702  | 704  | 707  | 709  | 711  | 714  | 716  | 719  | 721  | 724  | 726  | 729  | 731  | 734  | 736  | 739  | 741  | 744  | 746  | 749  | 751  | 754  | 756  | 759  | 761  | 764  | 767  | 769  | 772  | 774  | 777  | 780  | 782  | 785  | 788  | 790  | 793  | 796  | 798  | 801  | 804  | 807  | 809  | 812  | 815  | 818  | 820  | 823  | 826  | 829  | 833  | 837  | 841  | 845  | 849  | 853  | 857  | 863  | 868  | 874  | 880  | 885  | 891  | 897  | 903  | 909  | 915  | 921  | 927  | 933  | 939  | 945  | 951  | 957  | 963  | 969  | 976   | 982   | 988   | 995   | 1000  | 1010  | 1010  | 1020  | 1030  | 1030  | 1040  | 1060  | 1070  | 1120  | 1130  | 1130  | 1160  | 1140  | 1180  | 1190  | 1210  | 1200  | 1200  | 1190  | 1190  | 1190  | 1180  | 1180  | 1200  | 1190  | 1180  | 1100  | 1050  | 1150  | 1180  | 1210  | 1240  | 1130  | 1190  | 1160  | 1170  | 1300  | 1410  | 1470  | 1440  | 1400  | 1500  | 1240  | 1120  | 1100  | 1040  | 1030  | 950   | 818   | 732   | 881   | 904   | 930   | 956   | 982   | 972   | 871   | 1060  | 1100  | 1060  | 1140  | 1160  | 1280  | 1300  | 1530  | 1610  | 1660  | 1840  | 1810  | 1780  | 1750  | 1740  | 1800  | 1870  | 1950  | 1970  | 2000  | 2020  | 2060  | 2090  | 2130  | 2170  | 2220  | 2260  | 2310  | 2360  | 2420  | 2470  | 2520  | 2580  | 2640  | 2700  | 2760  | 2820  | 2880  | 2940\n",
       "Albania             | 667  | 667  | 667  | 667  | 667  | 668  | 668  | 668  | 668  | 668  | 668  | 668  | 668  | 668  | 668  | 669  | 669  | 669  | 669  | 669  | 669  | 671  | 672  | 674  | 675  | 677  | 678  | 680  | 681  | 683  | 684  | 686  | 688  | 689  | 691  | 692  | 694  | 695  | 697  | 699  | 700  | 702  | 703  | 705  | 707  | 708  | 710  | 711  | 713  | 715  | 716  | 718  | 720  | 721  | 723  | 724  | 726  | 728  | 729  | 731  | 733  | 734  | 736  | 738  | 739  | 741  | 743  | 745  | 746  | 748  | 750  | 761  | 772  | 784  | 795  | 807  | 819  | 831  | 844  | 856  | 869  | 882  | 895  | 908  | 922  | 936  | 950  | 964  | 978  | 993  | 1010 | 1020 | 1040 | 1050 | 1060 | 1080 | 1090 | 1110 | 1120 | 1140 | 1160 | 1170 | 1190 | 1200 | 1220 | 1240 | 1250 | 1270 | 1280 | 1300 | 1320 | 1340 | 1360 | 1390 | 1410 | 1420 | 1440 | 1460 | 1480 | 1500 | 1520 | 1540 | 1560 | 1580 | 1600 | 1620 | 1640 | 1650 | 1670 | 1690 | 1710 | 1720 | 1730 | 1740 | 1750 | 1760 | 1780 | 1790 | 1800 | 1810 | 1820  | 1830  | 1840  | 1850  | 1860  | 1870  | 1880  | 1890  | 1900  | 1910  | 1920  | 2000  | 2010  | 2090  | 2150  | 2270  | 2290  | 2440  | 2550  | 2660  | 2790  | 2820  | 2910  | 3010  | 3110  | 3220  | 3340  | 3460  | 3580  | 3700  | 3830  | 3980  | 4120  | 4320  | 4320  | 4330  | 4340  | 4340  | 4350  | 4360  | 4380  | 4400  | 4410  | 4430  | 4440  | 4450  | 4470  | 4490  | 4500  | 4530  | 4560  | 3230  | 3010  | 3320  | 3620  | 4130  | 4530  | 4070  | 4460  | 5100  | 5470  | 5960  | 6230  | 6620  | 7020  | 7460  | 7920  | 8450  | 9150  | 9520  | 9930  | 10200 | 10400 | 10500 | 10700 | 11000 | 11400 | 11900 | 12400 | 13000 | 13500 | 14000 | 14600 | 15100 | 15600 | 16000 | 16500 | 16900 | 17300 | 17700 | 18100 | 18500 | 18900 | 19300 | 19700 | 20200 | 20600 | 21100 | 21500 | 22000 | 22500\n",
       "Algeria             | 715  | 716  | 717  | 718  | 719  | 720  | 721  | 722  | 723  | 724  | 725  | 726  | 727  | 728  | 729  | 730  | 731  | 732  | 733  | 734  | 735  | 743  | 751  | 759  | 767  | 775  | 784  | 792  | 801  | 810  | 819  | 828  | 837  | 846  | 855  | 864  | 874  | 883  | 893  | 903  | 912  | 922  | 932  | 943  | 953  | 963  | 974  | 984  | 995  | 1010 | 1020 | 1030 | 1040 | 1050 | 1060 | 1070 | 1080 | 1100 | 1110 | 1120 | 1130 | 1150 | 1160 | 1170 | 1180 | 1200 | 1210 | 1220 | 1240 | 1250 | 1260 | 1280 | 1290 | 1300 | 1320 | 1330 | 1350 | 1360 | 1380 | 1390 | 1410 | 1420 | 1440 | 1450 | 1470 | 1490 | 1500 | 1520 | 1540 | 1550 | 1570 | 1590 | 1600 | 1620 | 1640 | 1660 | 1680 | 1690 | 1710 | 1730 | 1750 | 1770 | 1790 | 1810 | 1830 | 1850 | 1870 | 1890 | 1910 | 1930 | 1950 | 2000 | 2040 | 2100 | 2130 | 2170 | 2200 | 2240 | 2280 | 2320 | 2360 | 2420 | 2480 | 2540 | 2600 | 2660 | 2720 | 2780 | 2830 | 2890 | 2950 | 3010 | 3060 | 3120 | 3180 | 3230 | 3280 | 3340 | 3390 | 3450 | 3500  | 3550  | 3600  | 3660  | 3710  | 3760  | 3810  | 3860  | 3910  | 3960  | 4000  | 3980  | 4100  | 4100  | 4340  | 4390  | 4740  | 5200  | 5310  | 6190  | 6520  | 5640  | 4520  | 5590  | 5740  | 5960  | 5520  | 5860  | 6370  | 6810  | 7290  | 6480  | 7620  | 7650  | 7890  | 8200  | 8480  | 8980  | 9830  | 10400 | 10300 | 10300 | 10600 | 10800 | 11100 | 11200 | 10800 | 10500 | 10000 | 10200 | 10200 | 9870  | 9820  | 9400  | 9130  | 9300  | 9510  | 9460  | 9800  | 9970  | 10200 | 10400 | 10800 | 11500 | 11800 | 12300 | 12300 | 12600 | 12700 | 12600 | 12900 | 13000 | 13200 | 13300 | 13500 | 13700 | 14000 | 13800 | 13700 | 13700 | 13600 | 13600 | 13600 | 13600 | 13700 | 13900 | 14100 | 14300 | 14600 | 14900 | 15300 | 15600 | 15900 | 16300 | 16700 | 17000 | 17400 | 17800 | 18200 | 18600 | 19000\n",
       "Andorra             | 1200 | 1200 | 1200 | 1200 | 1210 | 1210 | 1210 | 1210 | 1220 | 1220 | 1220 | 1220 | 1220 | 1230 | 1230 | 1230 | 1230 | 1240 | 1240 | 1240 | 1240 | 1260 | 1270 | 1290 | 1300 | 1320 | 1330 | 1350 | 1360 | 1380 | 1400 | 1410 | 1430 | 1450 | 1460 | 1480 | 1500 | 1520 | 1540 | 1550 | 1570 | 1590 | 1610 | 1630 | 1650 | 1670 | 1690 | 1710 | 1730 | 1750 | 1770 | 1790 | 1810 | 1830 | 1860 | 1880 | 1900 | 1920 | 1940 | 1970 | 1990 | 2020 | 2040 | 2060 | 2090 | 2110 | 2140 | 2160 | 2190 | 2220 | 2240 | 2270 | 2300 | 2320 | 2350 | 2380 | 2410 | 2440 | 2460 | 2490 | 2520 | 2550 | 2580 | 2610 | 2640 | 2680 | 2710 | 2740 | 2770 | 2810 | 2840 | 2870 | 2910 | 2940 | 2980 | 3010 | 3050 | 3080 | 3120 | 3160 | 3200 | 3230 | 3270 | 3310 | 3350 | 3390 | 3430 | 3470 | 3510 | 3550 | 3600 | 3640 | 3680 | 3730 | 3790 | 3850 | 3920 | 3980 | 4050 | 4120 | 4190 | 4260 | 4330 | 4410 | 4480 | 4560 | 4640 | 4720 | 4800 | 4880 | 4970 | 5050 | 5140 | 5230 | 5320 | 5410 | 5500 | 5600 | 5690 | 5790 | 5890  | 5990  | 6100  | 6200  | 6310  | 6410  | 6520  | 6640  | 6750  | 6870  | 6980  | 7550  | 8160  | 8820  | 9540  | 10300 | 11200 | 12100 | 13000 | 14100 | 15200 | 16500 | 17800 | 19200 | 20800 | 22500 | 24300 | 26300 | 28400 | 30700 | 33200 | 33000 | 34000 | 34900 | 35300 | 34100 | 34000 | 34000 | 33500 | 32500 | 32100 | 30800 | 29900 | 29100 | 28400 | 27800 | 27600 | 27900 | 28200 | 28400 | 28400 | 28000 | 27200 | 26000 | 25900 | 26100 | 27200 | 29700 | 30800 | 31900 | 31700 | 31800 | 31900 | 34500 | 36300 | 39800 | 42700 | 43400 | 41400 | 41700 | 39000 | 42000 | 41900 | 43700 | 44900 | 46600 | 48200 | 49800 | 51500 | 53200 | 55000 | 56900 | 58700 | 60400 | 62100 | 63800 | 65400 | 66900 | 68500 | 70000 | 71600 | 73200 | 74800 | 76400 | 78100 | 79900 | 81600 | 83400 | 85300 | 87200 | 89100\n",
       "Angola              | 618  | 620  | 623  | 626  | 628  | 631  | 634  | 637  | 640  | 642  | 645  | 648  | 651  | 654  | 657  | 660  | 662  | 665  | 668  | 671  | 674  | 677  | 680  | 683  | 686  | 689  | 692  | 695  | 698  | 701  | 704  | 708  | 711  | 714  | 717  | 720  | 723  | 726  | 730  | 733  | 736  | 739  | 743  | 746  | 749  | 752  | 756  | 759  | 762  | 766  | 769  | 773  | 776  | 779  | 783  | 786  | 790  | 793  | 797  | 800  | 804  | 807  | 811  | 814  | 818  | 822  | 825  | 829  | 832  | 836  | 840  | 844  | 847  | 851  | 855  | 858  | 862  | 866  | 870  | 874  | 878  | 881  | 885  | 889  | 893  | 897  | 901  | 905  | 909  | 913  | 917  | 921  | 925  | 929  | 933  | 937  | 941  | 946  | 950  | 954  | 958  | 962  | 967  | 971  | 975  | 979  | 984  | 988  | 992  | 997  | 1000 | 1010 | 1010 | 1010 | 1040 | 1080 | 1110 | 1140 | 1170 | 1210 | 1240 | 1280 | 1330 | 1370 | 1410 | 1460 | 1500 | 1550 | 1600 | 1650 | 1700 | 1760 | 1810 | 1870 | 1930 | 1990 | 2060 | 2120 | 2190 | 2260 | 2330  | 2400  | 2480  | 2560  | 2640  | 2720  | 2810  | 2900  | 2990  | 3080  | 3180  | 3260  | 3340  | 3420  | 3290  | 3510  | 3400  | 3670  | 3810  | 3770  | 3860  | 4310  | 4130  | 4280  | 4690  | 4960  | 5170  | 5390  | 5230  | 5300  | 5550  | 5780  | 5670  | 6000  | 6060  | 5620  | 5200  | 5110  | 4720  | 4600  | 4590  | 4250  | 4110  | 4140  | 4240  | 4260  | 4290  | 4480  | 4620  | 4530  | 4390  | 4210  | 3790  | 2760  | 2770  | 2970  | 3210  | 3370  | 3500  | 3510  | 3510  | 3540  | 3180  | 3240  | 3460  | 3950  | 4600  | 5440  | 5980  | 5910  | 5900  | 5910  | 6000  | 6180  | 6260  | 6230  | 6020  | 5940  | 5850  | 5760  | 5670  | 5600  | 5550  | 5530  | 5550  | 5600  | 5670  | 5770  | 5880  | 6010  | 6140  | 6270  | 6410  | 6550  | 6700  | 6850  | 7000  | 7150  | 7310  | 7470  | 7640\n",
       "Antigua and Barbuda | 757  | 757  | 757  | 757  | 757  | 757  | 757  | 758  | 758  | 758  | 758  | 758  | 758  | 758  | 758  | 758  | 759  | 759  | 759  | 759  | 759  | 764  | 769  | 775  | 780  | 785  | 790  | 796  | 801  | 806  | 812  | 817  | 823  | 828  | 834  | 840  | 845  | 851  | 857  | 863  | 868  | 874  | 880  | 886  | 892  | 898  | 904  | 910  | 917  | 923  | 929  | 935  | 942  | 948  | 954  | 961  | 967  | 974  | 980  | 987  | 994  | 1000 | 1010 | 1010 | 1020 | 1030 | 1040 | 1040 | 1050 | 1060 | 1060 | 1070 | 1080 | 1080 | 1090 | 1100 | 1110 | 1110 | 1120 | 1130 | 1140 | 1140 | 1150 | 1160 | 1170 | 1180 | 1180 | 1190 | 1200 | 1210 | 1220 | 1220 | 1230 | 1240 | 1250 | 1260 | 1270 | 1280 | 1280 | 1290 | 1300 | 1310 | 1320 | 1330 | 1340 | 1340 | 1360 | 1360 | 1370 | 1380 | 1390 | 1400 | 1410 | 1420 | 1460 | 1490 | 1530 | 1560 | 1600 | 1640 | 1680 | 1720 | 1770 | 1810 | 1860 | 1900 | 1950 | 2000 | 2040 | 2090 | 2140 | 2200 | 2250 | 2310 | 2360 | 2420 | 2480 | 2540 | 2600 | 2660 | 2730  | 2800  | 2860  | 2940  | 3010  | 3080  | 3160  | 3230  | 3310  | 3390  | 3470  | 3560  | 3640  | 3730  | 3820  | 3920  | 4010  | 4110  | 4210  | 4310  | 4420  | 4530  | 4640  | 4750  | 4860  | 4980  | 5100  | 5230  | 5360  | 5480  | 5620  | 5890  | 6160  | 6540  | 6650  | 6230  | 5670  | 6140  | 6440  | 7250  | 7850  | 8350  | 8470  | 9150  | 9960  | 10900 | 12100 | 13400 | 14800 | 15900 | 16400 | 16600 | 16500 | 17000 | 17700 | 16500 | 17100 | 17500 | 17900 | 18100 | 18800 | 17500 | 17500 | 18300 | 19200 | 20100 | 22400 | 24200 | 24000 | 20800 | 19100 | 18600 | 19100 | 18900 | 19500 | 20100 | 20800 | 20900 | 21000 | 21200 | 21300 | 21500 | 21700 | 22000 | 22300 | 22700 | 23100 | 23600 | 24100 | 24600 | 25100 | 25700 | 26200 | 26800 | 27400 | 28000 | 28600 | 29300 | 29900 | 30600 | 31300\n",
       "Argentina           | 1510 | 1510 | 1510 | 1510 | 1510 | 1510 | 1510 | 1510 | 1510 | 1510 | 1510 | 1510 | 1510 | 1510 | 1510 | 1510 | 1510 | 1510 | 1510 | 1510 | 1510 | 1530 | 1560 | 1580 | 1600 | 1620 | 1640 | 1670 | 1690 | 1720 | 1740 | 1770 | 1790 | 1820 | 1840 | 1870 | 1900 | 1920 | 1950 | 1980 | 2010 | 2040 | 2060 | 2090 | 2120 | 2150 | 2180 | 2220 | 2250 | 2280 | 2310 | 2340 | 2380 | 2410 | 2450 | 2480 | 2520 | 2550 | 2590 | 2630 | 2660 | 2700 | 2740 | 2780 | 2820 | 2860 | 2900 | 2940 | 2980 | 3030 | 3070 | 3110 | 3160 | 3200 | 3250 | 3300 | 3260 | 3500 | 3220 | 3260 | 3100 | 3050 | 3750 | 4080 | 4250 | 4850 | 4720 | 4890 | 5530 | 5890 | 5220 | 4780 | 5570 | 5720 | 6420 | 6920 | 7440 | 5820 | 6140 | 7040 | 6000 | 6340 | 6030 | 6720 | 7250 | 8010 | 8040 | 7840 | 8240 | 8270 | 8490 | 8250 | 8540 | 8230 | 7000 | 6710 | 6360 | 5700 | 6600 | 6680 | 7000 | 6900 | 7180 | 7680 | 7970 | 7630 | 7720 | 7990 | 8190 | 8280 | 7650 | 6920 | 6510 | 6640 | 6990 | 7110 | 7010 | 7360 | 7220 | 7330 | 7290  | 7510  | 7430  | 7220  | 7880  | 7460  | 7920  | 8570  | 8800  | 8440  | 8320  | 8430  | 7800  | 8030  | 8180  | 8580  | 8640  | 8910  | 9280  | 8510  | 9020  | 9500  | 9190  | 8820  | 9590  | 10300 | 10200 | 10400 | 10700 | 11400 | 11900 | 12200 | 12200 | 12500 | 13000 | 12800 | 12600 | 13300 | 12700 | 13500 | 13500 | 12600 | 12100 | 12400 | 12600 | 11600 | 12300 | 12500 | 12100 | 11100 | 10800 | 12000 | 13300 | 13900 | 14500 | 13900 | 14500 | 15500 | 15900 | 15200 | 14900 | 14100 | 12400 | 13400 | 14400 | 15500 | 16600 | 17900 | 18400 | 17200 | 18700 | 19600 | 19200 | 19500 | 18800 | 19100 | 18500 | 18700 | 18900 | 19300 | 19500 | 19800 | 20100 | 20400 | 20800 | 21200 | 21600 | 22100 | 22600 | 23000 | 23600 | 24100 | 24600 | 25200 | 25700 | 26300 | 26900 | 27500 | 28100 | 28700 | 29300\n",
       "Armenia             | 514  | 514  | 514  | 514  | 514  | 514  | 514  | 514  | 514  | 514  | 514  | 515  | 515  | 515  | 515  | 515  | 515  | 515  | 515  | 515  | 515  | 517  | 519  | 521  | 523  | 525  | 527  | 529  | 531  | 533  | 535  | 538  | 540  | 542  | 544  | 546  | 548  | 550  | 552  | 554  | 556  | 559  | 561  | 563  | 565  | 567  | 569  | 572  | 574  | 576  | 578  | 581  | 583  | 585  | 587  | 590  | 592  | 594  | 596  | 599  | 601  | 603  | 606  | 608  | 610  | 613  | 615  | 617  | 620  | 622  | 625  | 627  | 629  | 632  | 634  | 637  | 639  | 642  | 644  | 647  | 649  | 652  | 654  | 657  | 659  | 662  | 635  | 741  | 711  | 660  | 656  | 599  | 655  | 740  | 840  | 776  | 853  | 837  | 857  | 908  | 886  | 906  | 983  | 913  | 1010 | 890  | 849  | 814  | 887  | 919  | 979  | 902  | 973  | 1020 | 972  | 998  | 967  | 806  | 671  | 560  | 531  | 504  | 547  | 593  | 642  | 696  | 755  | 819  | 887  | 962  | 1000 | 1010 | 991  | 1020 | 1120 | 1270 | 1360 | 1460 | 1460 | 1510 | 1440  | 1410  | 1380  | 1350  | 1320  | 1300  | 1270  | 1410  | 1580  | 1720  | 1860  | 1840  | 1920  | 1960  | 2020  | 2140  | 2300  | 2300  | 2420  | 2350  | 2520  | 2610  | 2640  | 2540  | 2830  | 2950  | 3060  | 3150  | 3300  | 3320  | 3540  | 3590  | 3580  | 3840  | 3880  | 3820  | 3920  | 3940  | 3970  | 3880  | 3820  | 3790  | 3820  | 3870  | 3850  | 3810  | 3900  | 3880  | 3890  | 3900  | 3740  | 3340  | 1980  | 1840  | 1990  | 2170  | 2340  | 2440  | 2640  | 2740  | 2920  | 3220  | 3670  | 4210  | 4670  | 5360  | 6110  | 7010  | 7560  | 6530  | 6700  | 7020  | 7510  | 7730  | 7970  | 8180  | 8170  | 8410  | 8660  | 8930  | 9200  | 9460  | 9730  | 10000 | 10300 | 10500 | 10800 | 11000 | 11300 | 11500 | 11800 | 12000 | 12300 | 12600 | 12800 | 13100 | 13400 | 13700 | 14000 | 14300 | 14700\n",
       "Australia           | 814  | 816  | 818  | 820  | 822  | 824  | 825  | 827  | 829  | 831  | 833  | 835  | 837  | 839  | 841  | 843  | 845  | 847  | 849  | 851  | 853  | 860  | 886  | 916  | 967  | 1010 | 1030 | 1060 | 1090 | 1150 | 1400 | 1450 | 1480 | 1480 | 1560 | 1890 | 1860 | 1950 | 1920 | 1790 | 2270 | 1940 | 1760 | 2050 | 2330 | 2400 | 2650 | 3060 | 3500 | 3460 | 3270 | 3880 | 4550 | 4980 | 4360 | 4140 | 5050 | 4460 | 3800 | 4910 | 4790 | 4720 | 4540 | 4520 | 4800 | 4580 | 4710 | 5150 | 5230 | 5130 | 5430 | 5470 | 5890 | 6340 | 6360 | 6870 | 6650 | 6700 | 7100 | 6980 | 7120 | 7400 | 6750 | 7440 | 7150 | 7350 | 7200 | 7700 | 7490 | 7890 | 7410 | 7760 | 6650 | 6170 | 6270 | 5800 | 6130 | 5690 | 6480 | 6390 | 6680 | 6400 | 6370 | 6790 | 7160 | 7140 | 7510 | 7700 | 7830 | 8310 | 8690 | 8500 | 8490 | 8570 | 8350 | 8120 | 8080 | 7930 | 7610 | 7790 | 7860 | 8100 | 8340 | 8550 | 8910 | 9120 | 9150 | 9100 | 8940 | 8620 | 7710 | 7130 | 7470 | 7920 | 8270 | 8690 | 9010 | 9380 | 9600 | 9530 | 10100 | 11100 | 12200 | 12500 | 12000 | 11300 | 10700 | 10900 | 11300 | 11800 | 12100 | 12200 | 12100 | 12200 | 12700 | 13100 | 13200 | 13200 | 13500 | 14100 | 14300 | 14100 | 14700 | 15400 | 16100 | 16600 | 16700 | 17600 | 18300 | 18900 | 19700 | 20200 | 20400 | 21200 | 21400 | 21700 | 22400 | 22400 | 22700 | 23700 | 23900 | 24300 | 23900 | 23600 | 24900 | 25900 | 26000 | 26900 | 27700 | 28500 | 28600 | 28100 | 27900 | 28700 | 29600 | 30400 | 31200 | 32000 | 33100 | 34400 | 35300 | 35500 | 36400 | 37100 | 38100 | 38900 | 39400 | 40600 | 41300 | 41200 | 41400 | 41800 | 42600 | 42900 | 43400 | 43800 | 44400 | 45100 | 45800 | 46400 | 47100 | 47900 | 48700 | 49500 | 50400 | 51400 | 52500 | 53600 | 54800 | 56000 | 57200 | 58500 | 59800 | 61100 | 62400 | 63800 | 65200 | 66700 | 68200 | 69700 | 71200\n",
       "Austria             | 1850 | 1850 | 1860 | 1870 | 1880 | 1880 | 1890 | 1900 | 1910 | 1920 | 1920 | 1930 | 1940 | 1950 | 1950 | 1960 | 1970 | 1980 | 1990 | 1990 | 2000 | 2030 | 2070 | 2100 | 2140 | 2170 | 2200 | 2240 | 2280 | 2310 | 2350 | 2380 | 2400 | 2430 | 2450 | 2480 | 2500 | 2530 | 2550 | 2580 | 2610 | 2640 | 2660 | 2690 | 2720 | 2750 | 2780 | 2810 | 2840 | 2880 | 2910 | 2940 | 2960 | 2990 | 3020 | 3050 | 3080 | 3110 | 3140 | 3170 | 3200 | 3230 | 3250 | 3270 | 3300 | 3320 | 3340 | 3370 | 3390 | 3410 | 3440 | 3660 | 3660 | 3560 | 3690 | 3680 | 3740 | 3840 | 3950 | 3900 | 3930 | 4060 | 4060 | 4200 | 4290 | 4230 | 4340 | 4620 | 4580 | 4510 | 4720 | 4860 | 4920 | 4920 | 5160 | 5260 | 5290 | 5360 | 5620 | 5700 | 5700 | 5680 | 5850 | 5860 | 5900 | 6180 | 6370 | 6710 | 6690 | 6620 | 6660 | 6800 | 7070 | 6980 | 5780 | 5330 | 5270 | 5180 | 5100 | 4500 | 4800 | 5260 | 5700 | 5610 | 6230 | 6620 | 6690 | 6850 | 7130 | 7200 | 6960 | 6370 | 5680 | 5460 | 5490 | 5580 | 5740 | 6040 | 6800 | 7800 | 7530  | 8010  | 7550  | 7690  | 7190  | 3250  | 3680  | 4070  | 5190  | 6170  | 6940  | 7400  | 7410  | 7720  | 8490  | 9400  | 10000 | 10600 | 11000 | 11200 | 12100 | 12600 | 12900 | 13300 | 14000 | 14300 | 15000 | 15300 | 15900 | 16800 | 18000 | 18800 | 19800 | 20700 | 21500 | 21500 | 22500 | 23600 | 23500 | 24800 | 25400 | 25300 | 25800 | 26600 | 26700 | 27300 | 27900 | 28300 | 29100 | 30300 | 31300 | 32000 | 32300 | 32200 | 32900 | 33700 | 34500 | 35200 | 36400 | 37600 | 38800 | 39200 | 39600 | 39700 | 40600 | 41200 | 42300 | 43700 | 44300 | 42500 | 43200 | 44200 | 44400 | 44200 | 44100 | 44100 | 44100 | 44400 | 44600 | 44900 | 45100 | 45400 | 45800 | 46300 | 46900 | 47700 | 48500 | 49500 | 50500 | 51600 | 52800 | 53900 | 55100 | 56300 | 57600 | 58900 | 60200 | 61500 | 62900 | 64300 | 65700\n",
       "... (183 rows omitted)"
      ]
     },
     "execution_count": 154,
     "metadata": {},
     "output_type": "execute_result"
    }
   ],
   "source": [
    "gdppc = Table.from_df(gdppc)\n",
    "gdppc"
   ]
  },
  {
   "cell_type": "code",
   "execution_count": 161,
   "metadata": {},
   "outputs": [
    {
     "data": {
      "text/html": [
       "<table border=\"1\" class=\"dataframe\">\n",
       "    <thead>\n",
       "        <tr>\n",
       "            <th>country</th> <th>2000</th>\n",
       "        </tr>\n",
       "    </thead>\n",
       "    <tbody>\n",
       "        <tr>\n",
       "            <td>Afghanistan        </td> <td>972  </td>\n",
       "        </tr>\n",
       "        <tr>\n",
       "            <td>Albania            </td> <td>5470 </td>\n",
       "        </tr>\n",
       "        <tr>\n",
       "            <td>Algeria            </td> <td>10200</td>\n",
       "        </tr>\n",
       "        <tr>\n",
       "            <td>Andorra            </td> <td>31700</td>\n",
       "        </tr>\n",
       "        <tr>\n",
       "            <td>Angola             </td> <td>3510 </td>\n",
       "        </tr>\n",
       "        <tr>\n",
       "            <td>Antigua and Barbuda</td> <td>18800</td>\n",
       "        </tr>\n",
       "        <tr>\n",
       "            <td>Argentina          </td> <td>14900</td>\n",
       "        </tr>\n",
       "        <tr>\n",
       "            <td>Armenia            </td> <td>2920 </td>\n",
       "        </tr>\n",
       "        <tr>\n",
       "            <td>Australia          </td> <td>35300</td>\n",
       "        </tr>\n",
       "        <tr>\n",
       "            <td>Austria            </td> <td>38800</td>\n",
       "        </tr>\n",
       "    </tbody>\n",
       "</table>\n",
       "<p>... (183 rows omitted)</p>"
      ],
      "text/plain": [
       "country             | 2000\n",
       "Afghanistan         | 972\n",
       "Albania             | 5470\n",
       "Algeria             | 10200\n",
       "Andorra             | 31700\n",
       "Angola              | 3510\n",
       "Antigua and Barbuda | 18800\n",
       "Argentina           | 14900\n",
       "Armenia             | 2920\n",
       "Australia           | 35300\n",
       "Austria             | 38800\n",
       "... (183 rows omitted)"
      ]
     },
     "execution_count": 161,
     "metadata": {},
     "output_type": "execute_result"
    }
   ],
   "source": [
    "#GDP per capita in the year 2000\n",
    "gdppc.select([\"country\", \"2000\"])"
   ]
  },
  {
   "cell_type": "code",
   "execution_count": 163,
   "metadata": {},
   "outputs": [
    {
     "data": {
      "text/html": [
       "<table border=\"1\" class=\"dataframe\">\n",
       "    <thead>\n",
       "        <tr>\n",
       "            <th>country</th> <th>2000</th>\n",
       "        </tr>\n",
       "    </thead>\n",
       "    <tbody>\n",
       "        <tr>\n",
       "            <td>Afghanistan        </td> <td>130 </td>\n",
       "        </tr>\n",
       "        <tr>\n",
       "            <td>Albania            </td> <td>26  </td>\n",
       "        </tr>\n",
       "        <tr>\n",
       "            <td>Algeria            </td> <td>39.7</td>\n",
       "        </tr>\n",
       "        <tr>\n",
       "            <td>Andorra            </td> <td>4.6 </td>\n",
       "        </tr>\n",
       "        <tr>\n",
       "            <td>Angola             </td> <td>207 </td>\n",
       "        </tr>\n",
       "        <tr>\n",
       "            <td>Antigua and Barbuda</td> <td>14.9</td>\n",
       "        </tr>\n",
       "        <tr>\n",
       "            <td>Argentina          </td> <td>19.4</td>\n",
       "        </tr>\n",
       "        <tr>\n",
       "            <td>Armenia            </td> <td>30.1</td>\n",
       "        </tr>\n",
       "        <tr>\n",
       "            <td>Australia          </td> <td>6.2 </td>\n",
       "        </tr>\n",
       "        <tr>\n",
       "            <td>Austria            </td> <td>5.5 </td>\n",
       "        </tr>\n",
       "    </tbody>\n",
       "</table>\n",
       "<p>... (183 rows omitted)</p>"
      ],
      "text/plain": [
       "country             | 2000\n",
       "Afghanistan         | 130\n",
       "Albania             | 26\n",
       "Algeria             | 39.7\n",
       "Andorra             | 4.6\n",
       "Angola              | 207\n",
       "Antigua and Barbuda | 14.9\n",
       "Argentina           | 19.4\n",
       "Armenia             | 30.1\n",
       "Australia           | 6.2\n",
       "Austria             | 5.5\n",
       "... (183 rows omitted)"
      ]
     },
     "execution_count": 163,
     "metadata": {},
     "output_type": "execute_result"
    }
   ],
   "source": [
    "#Child mortality rate in the year 2000\n",
    "cmortality = Table.from_df(cmortality)\n",
    "cmortality.select([\"country\", \"2000\"])"
   ]
  },
  {
   "cell_type": "code",
   "execution_count": 13,
   "metadata": {},
   "outputs": [],
   "source": [
    "#This function generates a scatter plot by taking in 2 datasets, a year of comparison, and axis labels.\n",
    "\n",
    "def scatter_plot(x_data, y_data, year, x_label, y_label):\n",
    "    x_data.rename(columns={year: \"x_new\"}, inplace=True)\n",
    "    y_data.rename(columns={year: \"y_new\"}, inplace=True)\n",
    "    new = pd.concat([x_data['x_new'].reset_index(drop=True), y_data['y_new']], axis=1)\n",
    "    ax = sns.scatterplot(x=\"x_new\", y=\"y_new\", data = new)\n",
    "    ax.set(xlabel=x_label, ylabel=y_label)"
   ]
  },
  {
   "cell_type": "code",
   "execution_count": 14,
   "metadata": {},
   "outputs": [
    {
     "data": {
      "image/png": "[encoded data removed]",
      "text/plain": [
       "<Figure size 432x288 with 1 Axes>"
      ]
     },
     "metadata": {
      "needs_background": "light"
     },
     "output_type": "display_data"
    }
   ],
   "source": [
    "#Generating a scatter plot, comparing GDP per capita in the x-axis and child mortality in the y-axis for the year 2000\n",
    "\n",
    "scatter_plot(gdppc, cmortality, \"2000\", 'GDP per capita - 2000', 'Child Mortality - 2000')"
   ]
  },
  {
   "cell_type": "markdown",
   "metadata": {},
   "source": [
    "## Thoughts? <a id='section 1'></a>\n",
    "\n",
    "What kind of correlation do you see in the plot? Is it linear/non-linear? Positive/negative? What can or can’t you say about the relationship between per capita GDP and life expectancy?"
   ]
  },
  {
   "cell_type": "markdown",
   "metadata": {},
   "source": [
    "< Your answer here >"
   ]
  },
  {
   "cell_type": "markdown",
   "metadata": {},
   "source": [
    "## Try it yourself! <a id='section 1'></a>\n",
    "\n",
    "Recreate the scatter plot above, this time plotting **life expectancy** against GDP per capita.\n"
   ]
  },
  {
   "cell_type": "code",
   "execution_count": null,
   "metadata": {},
   "outputs": [],
   "source": [
    "#Fill in the blanks to create a scatter plot comparing GDP per capita in the x-axis \n",
    "#and life expectancy in the y-axis for the year 2000 \n",
    "\n",
    "scatter_plot(gdppc, ..., ..., ..., ...)"
   ]
  },
  {
   "cell_type": "markdown",
   "metadata": {},
   "source": [
    "## Thoughts? <a id='section 1'></a>\n",
    "\n",
    "What kind of correlation do you see in the plot? What can or can’t you say about the relationship between the two variables? Compare it to what you saw for the earlier plot using life expectancy.\n"
   ]
  },
  {
   "cell_type": "markdown",
   "metadata": {},
   "source": [
    "< Your answer here >"
   ]
  },
  {
   "cell_type": "markdown",
   "metadata": {},
   "source": [
    "## Problem 2 \n",
    "<Writeup on gini coefficient> We just looked at GDP per capita vs mortality. Now we are going to compare "
   ]
  },
  {
   "cell_type": "markdown",
   "metadata": {},
   "source": [
    "Similarly to the last section, let's look at some associations between the gini coefficient and the life expectancy. What's the difference from the GDP vs life expectancy? "
   ]
  },
  {
   "cell_type": "code",
   "execution_count": 37,
   "metadata": {},
   "outputs": [
    {
     "ename": "ValueError",
     "evalue": "arrays must all be same length",
     "output_type": "error",
     "traceback": [
      "\u001b[0;31m---------------------------------------------------------------------------\u001b[0m",
      "\u001b[0;31mValueError\u001b[0m                                Traceback (most recent call last)",
      "\u001b[0;32m<ipython-input-37-d31a72461bfb>\u001b[0m in \u001b[0;36m<module>\u001b[0;34m\u001b[0m\n\u001b[1;32m      1\u001b[0m \u001b[0;31m#yo this b wrong bc of the countries lol brb there b some stuff i can do to make it look better\u001b[0m\u001b[0;34m\u001b[0m\u001b[0;34m\u001b[0m\u001b[0;34m\u001b[0m\u001b[0m\n\u001b[1;32m      2\u001b[0m \u001b[0;34m\u001b[0m\u001b[0m\n\u001b[0;32m----> 3\u001b[0;31m \u001b[0msns\u001b[0m\u001b[0;34m.\u001b[0m\u001b[0mscatterplot\u001b[0m\u001b[0;34m(\u001b[0m\u001b[0mx\u001b[0m \u001b[0;34m=\u001b[0m \u001b[0mgini\u001b[0m\u001b[0;34m[\u001b[0m\u001b[0;34m'2000'\u001b[0m\u001b[0;34m]\u001b[0m\u001b[0;34m,\u001b[0m \u001b[0my\u001b[0m \u001b[0;34m=\u001b[0m \u001b[0mlife_expectancy\u001b[0m\u001b[0;34m[\u001b[0m\u001b[0;34m'2000'\u001b[0m\u001b[0;34m]\u001b[0m\u001b[0;34m)\u001b[0m\u001b[0;34m\u001b[0m\u001b[0;34m\u001b[0m\u001b[0m\n\u001b[0m\u001b[1;32m      4\u001b[0m \u001b[0mplt\u001b[0m\u001b[0;34m.\u001b[0m\u001b[0mtitle\u001b[0m\u001b[0;34m(\u001b[0m\u001b[0;34m'Gini Coefficient vs Life Expectancy (2000)'\u001b[0m\u001b[0;34m)\u001b[0m\u001b[0;34m\u001b[0m\u001b[0;34m\u001b[0m\u001b[0m\n\u001b[1;32m      5\u001b[0m \u001b[0mplt\u001b[0m\u001b[0;34m.\u001b[0m\u001b[0mxlabel\u001b[0m\u001b[0;34m(\u001b[0m\u001b[0;34m'Gini Coefficient'\u001b[0m\u001b[0;34m)\u001b[0m\u001b[0;34m\u001b[0m\u001b[0;34m\u001b[0m\u001b[0m\n",
      "\u001b[0;32m/opt/anaconda3/lib/python3.7/site-packages/seaborn/relational.py\u001b[0m in \u001b[0;36mscatterplot\u001b[0;34m(x, y, hue, style, size, data, palette, hue_order, hue_norm, sizes, size_order, size_norm, markers, style_order, x_bins, y_bins, units, estimator, ci, n_boot, alpha, x_jitter, y_jitter, legend, ax, **kwargs)\u001b[0m\n\u001b[1;32m   1333\u001b[0m         \u001b[0mx_bins\u001b[0m\u001b[0;34m=\u001b[0m\u001b[0mx_bins\u001b[0m\u001b[0;34m,\u001b[0m \u001b[0my_bins\u001b[0m\u001b[0;34m=\u001b[0m\u001b[0my_bins\u001b[0m\u001b[0;34m,\u001b[0m\u001b[0;34m\u001b[0m\u001b[0;34m\u001b[0m\u001b[0m\n\u001b[1;32m   1334\u001b[0m         \u001b[0mestimator\u001b[0m\u001b[0;34m=\u001b[0m\u001b[0mestimator\u001b[0m\u001b[0;34m,\u001b[0m \u001b[0mci\u001b[0m\u001b[0;34m=\u001b[0m\u001b[0mci\u001b[0m\u001b[0;34m,\u001b[0m \u001b[0mn_boot\u001b[0m\u001b[0;34m=\u001b[0m\u001b[0mn_boot\u001b[0m\u001b[0;34m,\u001b[0m\u001b[0;34m\u001b[0m\u001b[0;34m\u001b[0m\u001b[0m\n\u001b[0;32m-> 1335\u001b[0;31m         \u001b[0malpha\u001b[0m\u001b[0;34m=\u001b[0m\u001b[0malpha\u001b[0m\u001b[0;34m,\u001b[0m \u001b[0mx_jitter\u001b[0m\u001b[0;34m=\u001b[0m\u001b[0mx_jitter\u001b[0m\u001b[0;34m,\u001b[0m \u001b[0my_jitter\u001b[0m\u001b[0;34m=\u001b[0m\u001b[0my_jitter\u001b[0m\u001b[0;34m,\u001b[0m \u001b[0mlegend\u001b[0m\u001b[0;34m=\u001b[0m\u001b[0mlegend\u001b[0m\u001b[0;34m,\u001b[0m\u001b[0;34m\u001b[0m\u001b[0;34m\u001b[0m\u001b[0m\n\u001b[0m\u001b[1;32m   1336\u001b[0m     )\n\u001b[1;32m   1337\u001b[0m \u001b[0;34m\u001b[0m\u001b[0m\n",
      "\u001b[0;32m/opt/anaconda3/lib/python3.7/site-packages/seaborn/relational.py\u001b[0m in \u001b[0;36m__init__\u001b[0;34m(self, x, y, hue, size, style, data, palette, hue_order, hue_norm, sizes, size_order, size_norm, dashes, markers, style_order, x_bins, y_bins, units, estimator, ci, n_boot, alpha, x_jitter, y_jitter, legend)\u001b[0m\n\u001b[1;32m    850\u001b[0m \u001b[0;34m\u001b[0m\u001b[0m\n\u001b[1;32m    851\u001b[0m         plot_data = self.establish_variables(\n\u001b[0;32m--> 852\u001b[0;31m             \u001b[0mx\u001b[0m\u001b[0;34m,\u001b[0m \u001b[0my\u001b[0m\u001b[0;34m,\u001b[0m \u001b[0mhue\u001b[0m\u001b[0;34m,\u001b[0m \u001b[0msize\u001b[0m\u001b[0;34m,\u001b[0m \u001b[0mstyle\u001b[0m\u001b[0;34m,\u001b[0m \u001b[0munits\u001b[0m\u001b[0;34m,\u001b[0m \u001b[0mdata\u001b[0m\u001b[0;34m\u001b[0m\u001b[0;34m\u001b[0m\u001b[0m\n\u001b[0m\u001b[1;32m    853\u001b[0m         )\n\u001b[1;32m    854\u001b[0m \u001b[0;34m\u001b[0m\u001b[0m\n",
      "\u001b[0;32m/opt/anaconda3/lib/python3.7/site-packages/seaborn/relational.py\u001b[0m in \u001b[0;36mestablish_variables\u001b[0;34m(self, x, y, hue, size, style, units, data)\u001b[0m\n\u001b[1;32m    155\u001b[0m                 \u001b[0munits\u001b[0m\u001b[0;34m=\u001b[0m\u001b[0munits\u001b[0m\u001b[0;34m\u001b[0m\u001b[0;34m\u001b[0m\u001b[0m\n\u001b[1;32m    156\u001b[0m             )\n\u001b[0;32m--> 157\u001b[0;31m             \u001b[0mplot_data\u001b[0m \u001b[0;34m=\u001b[0m \u001b[0mpd\u001b[0m\u001b[0;34m.\u001b[0m\u001b[0mDataFrame\u001b[0m\u001b[0;34m(\u001b[0m\u001b[0mplot_data\u001b[0m\u001b[0;34m)\u001b[0m\u001b[0;34m\u001b[0m\u001b[0;34m\u001b[0m\u001b[0m\n\u001b[0m\u001b[1;32m    158\u001b[0m \u001b[0;34m\u001b[0m\u001b[0m\n\u001b[1;32m    159\u001b[0m         \u001b[0;31m# Option 3:\u001b[0m\u001b[0;34m\u001b[0m\u001b[0;34m\u001b[0m\u001b[0;34m\u001b[0m\u001b[0m\n",
      "\u001b[0;32m/opt/anaconda3/lib/python3.7/site-packages/pandas/core/frame.py\u001b[0m in \u001b[0;36m__init__\u001b[0;34m(self, data, index, columns, dtype, copy)\u001b[0m\n\u001b[1;32m    409\u001b[0m             )\n\u001b[1;32m    410\u001b[0m         \u001b[0;32melif\u001b[0m \u001b[0misinstance\u001b[0m\u001b[0;34m(\u001b[0m\u001b[0mdata\u001b[0m\u001b[0;34m,\u001b[0m \u001b[0mdict\u001b[0m\u001b[0;34m)\u001b[0m\u001b[0;34m:\u001b[0m\u001b[0;34m\u001b[0m\u001b[0;34m\u001b[0m\u001b[0m\n\u001b[0;32m--> 411\u001b[0;31m             \u001b[0mmgr\u001b[0m \u001b[0;34m=\u001b[0m \u001b[0minit_dict\u001b[0m\u001b[0;34m(\u001b[0m\u001b[0mdata\u001b[0m\u001b[0;34m,\u001b[0m \u001b[0mindex\u001b[0m\u001b[0;34m,\u001b[0m \u001b[0mcolumns\u001b[0m\u001b[0;34m,\u001b[0m \u001b[0mdtype\u001b[0m\u001b[0;34m=\u001b[0m\u001b[0mdtype\u001b[0m\u001b[0;34m)\u001b[0m\u001b[0;34m\u001b[0m\u001b[0;34m\u001b[0m\u001b[0m\n\u001b[0m\u001b[1;32m    412\u001b[0m         \u001b[0;32melif\u001b[0m \u001b[0misinstance\u001b[0m\u001b[0;34m(\u001b[0m\u001b[0mdata\u001b[0m\u001b[0;34m,\u001b[0m \u001b[0mma\u001b[0m\u001b[0;34m.\u001b[0m\u001b[0mMaskedArray\u001b[0m\u001b[0;34m)\u001b[0m\u001b[0;34m:\u001b[0m\u001b[0;34m\u001b[0m\u001b[0;34m\u001b[0m\u001b[0m\n\u001b[1;32m    413\u001b[0m             \u001b[0;32mimport\u001b[0m \u001b[0mnumpy\u001b[0m\u001b[0;34m.\u001b[0m\u001b[0mma\u001b[0m\u001b[0;34m.\u001b[0m\u001b[0mmrecords\u001b[0m \u001b[0;32mas\u001b[0m \u001b[0mmrecords\u001b[0m\u001b[0;34m\u001b[0m\u001b[0;34m\u001b[0m\u001b[0m\n",
      "\u001b[0;32m/opt/anaconda3/lib/python3.7/site-packages/pandas/core/internals/construction.py\u001b[0m in \u001b[0;36minit_dict\u001b[0;34m(data, index, columns, dtype)\u001b[0m\n\u001b[1;32m    255\u001b[0m             \u001b[0marr\u001b[0m \u001b[0;32mif\u001b[0m \u001b[0;32mnot\u001b[0m \u001b[0mis_datetime64tz_dtype\u001b[0m\u001b[0;34m(\u001b[0m\u001b[0marr\u001b[0m\u001b[0;34m)\u001b[0m \u001b[0;32melse\u001b[0m \u001b[0marr\u001b[0m\u001b[0;34m.\u001b[0m\u001b[0mcopy\u001b[0m\u001b[0;34m(\u001b[0m\u001b[0;34m)\u001b[0m \u001b[0;32mfor\u001b[0m \u001b[0marr\u001b[0m \u001b[0;32min\u001b[0m \u001b[0marrays\u001b[0m\u001b[0;34m\u001b[0m\u001b[0;34m\u001b[0m\u001b[0m\n\u001b[1;32m    256\u001b[0m         ]\n\u001b[0;32m--> 257\u001b[0;31m     \u001b[0;32mreturn\u001b[0m \u001b[0marrays_to_mgr\u001b[0m\u001b[0;34m(\u001b[0m\u001b[0marrays\u001b[0m\u001b[0;34m,\u001b[0m \u001b[0mdata_names\u001b[0m\u001b[0;34m,\u001b[0m \u001b[0mindex\u001b[0m\u001b[0;34m,\u001b[0m \u001b[0mcolumns\u001b[0m\u001b[0;34m,\u001b[0m \u001b[0mdtype\u001b[0m\u001b[0;34m=\u001b[0m\u001b[0mdtype\u001b[0m\u001b[0;34m)\u001b[0m\u001b[0;34m\u001b[0m\u001b[0;34m\u001b[0m\u001b[0m\n\u001b[0m\u001b[1;32m    258\u001b[0m \u001b[0;34m\u001b[0m\u001b[0m\n\u001b[1;32m    259\u001b[0m \u001b[0;34m\u001b[0m\u001b[0m\n",
      "\u001b[0;32m/opt/anaconda3/lib/python3.7/site-packages/pandas/core/internals/construction.py\u001b[0m in \u001b[0;36marrays_to_mgr\u001b[0;34m(arrays, arr_names, index, columns, dtype)\u001b[0m\n\u001b[1;32m     75\u001b[0m     \u001b[0;31m# figure out the index, if necessary\u001b[0m\u001b[0;34m\u001b[0m\u001b[0;34m\u001b[0m\u001b[0;34m\u001b[0m\u001b[0m\n\u001b[1;32m     76\u001b[0m     \u001b[0;32mif\u001b[0m \u001b[0mindex\u001b[0m \u001b[0;32mis\u001b[0m \u001b[0;32mNone\u001b[0m\u001b[0;34m:\u001b[0m\u001b[0;34m\u001b[0m\u001b[0;34m\u001b[0m\u001b[0m\n\u001b[0;32m---> 77\u001b[0;31m         \u001b[0mindex\u001b[0m \u001b[0;34m=\u001b[0m \u001b[0mextract_index\u001b[0m\u001b[0;34m(\u001b[0m\u001b[0marrays\u001b[0m\u001b[0;34m)\u001b[0m\u001b[0;34m\u001b[0m\u001b[0;34m\u001b[0m\u001b[0m\n\u001b[0m\u001b[1;32m     78\u001b[0m     \u001b[0;32melse\u001b[0m\u001b[0;34m:\u001b[0m\u001b[0;34m\u001b[0m\u001b[0;34m\u001b[0m\u001b[0m\n\u001b[1;32m     79\u001b[0m         \u001b[0mindex\u001b[0m \u001b[0;34m=\u001b[0m \u001b[0mensure_index\u001b[0m\u001b[0;34m(\u001b[0m\u001b[0mindex\u001b[0m\u001b[0;34m)\u001b[0m\u001b[0;34m\u001b[0m\u001b[0;34m\u001b[0m\u001b[0m\n",
      "\u001b[0;32m/opt/anaconda3/lib/python3.7/site-packages/pandas/core/internals/construction.py\u001b[0m in \u001b[0;36mextract_index\u001b[0;34m(data)\u001b[0m\n\u001b[1;32m    366\u001b[0m             \u001b[0mlengths\u001b[0m \u001b[0;34m=\u001b[0m \u001b[0mlist\u001b[0m\u001b[0;34m(\u001b[0m\u001b[0mset\u001b[0m\u001b[0;34m(\u001b[0m\u001b[0mraw_lengths\u001b[0m\u001b[0;34m)\u001b[0m\u001b[0;34m)\u001b[0m\u001b[0;34m\u001b[0m\u001b[0;34m\u001b[0m\u001b[0m\n\u001b[1;32m    367\u001b[0m             \u001b[0;32mif\u001b[0m \u001b[0mlen\u001b[0m\u001b[0;34m(\u001b[0m\u001b[0mlengths\u001b[0m\u001b[0;34m)\u001b[0m \u001b[0;34m>\u001b[0m \u001b[0;36m1\u001b[0m\u001b[0;34m:\u001b[0m\u001b[0;34m\u001b[0m\u001b[0;34m\u001b[0m\u001b[0m\n\u001b[0;32m--> 368\u001b[0;31m                 \u001b[0;32mraise\u001b[0m \u001b[0mValueError\u001b[0m\u001b[0;34m(\u001b[0m\u001b[0;34m\"arrays must all be same length\"\u001b[0m\u001b[0;34m)\u001b[0m\u001b[0;34m\u001b[0m\u001b[0;34m\u001b[0m\u001b[0m\n\u001b[0m\u001b[1;32m    369\u001b[0m \u001b[0;34m\u001b[0m\u001b[0m\n\u001b[1;32m    370\u001b[0m             \u001b[0;32mif\u001b[0m \u001b[0mhave_dicts\u001b[0m\u001b[0;34m:\u001b[0m\u001b[0;34m\u001b[0m\u001b[0;34m\u001b[0m\u001b[0m\n",
      "\u001b[0;31mValueError\u001b[0m: arrays must all be same length"
     ]
    }
   ],
   "source": [
    "#yo this b wrong bc of the countries lol brb there b some stuff i can do to make it look better \n",
    "\n",
    "sns.scatterplot(x = gini['2000'], y = life_expectancy['2000'])\n",
    "plt.title('Gini Coefficient vs Life Expectancy (2000)')\n",
    "plt.xlabel('Gini Coefficient')\n",
    "plt.ylabel('Life Expectancy');"
   ]
  },
  {
   "cell_type": "code",
   "execution_count": 21,
   "metadata": {},
   "outputs": [
    {
     "data": {
      "text/plain": [
       "<matplotlib.axes._subplots.AxesSubplot at 0x1a1dbd86a0>"
      ]
     },
     "execution_count": 21,
     "metadata": {},
     "output_type": "execute_result"
    },
    {
     "data": {
      "image/png": "[encoded data removed]",
      "text/plain": [
       "<matplotlib.figure.Figure at 0x1a1dc03a90>"
      ]
     },
     "metadata": {},
     "output_type": "display_data"
    }
   ],
   "source": [
    "sns.scatterplot(x = gdppc['2000'], y = life_expectancy['2000']) #probs can remove this one if the students already are going to do it"
   ]
  },
  {
   "cell_type": "markdown",
   "metadata": {},
   "source": [
    "### Exploration\n",
    "Try it out using other years ## are we using the scatterplot fn ##. See if you can find something interesting! "
   ]
  },
  {
   "cell_type": "code",
   "execution_count": null,
   "metadata": {},
   "outputs": [],
   "source": []
  },
  {
   "cell_type": "markdown",
   "metadata": {},
   "source": [
    "### Thoughts?\n",
    "\n",
    "What kind of correlation(s) do you see here? Are there any similarities to what we saw previously? Can you say anything about the gini coefficient vs the life expectancy of a country? "
   ]
  },
  {
   "cell_type": "markdown",
   "metadata": {},
   "source": [
    "< Answer here>"
   ]
  }
 ],
 "metadata": {
  "kernelspec": {
   "display_name": "Python 3",
   "language": "python",
   "name": "python3"
  },
  "language_info": {
   "codemirror_mode": {
    "name": "ipython",
    "version": 3
   },
   "file_extension": ".py",
   "mimetype": "text/x-python",
   "name": "python",
   "nbconvert_exporter": "python",
   "pygments_lexer": "ipython3",
   "version": "3.7.4"
  }
 },
 "nbformat": 4,
 "nbformat_minor": 4
}
