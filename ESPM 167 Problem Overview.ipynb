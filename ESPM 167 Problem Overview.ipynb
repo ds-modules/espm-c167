{
 "cells": [
  {
   "cell_type": "markdown",
   "metadata": {},
   "source": [
    "# The Problem <a id='section 1'></a>\n",
    "\n",
    "As income and health outcomes differ around the world, we will be exploring the relationship between the two - comparing measures of income against measures of health. \n"
   ]
  },
  {
   "cell_type": "markdown",
   "metadata": {},
   "source": [
    "## Measures of Income <a id='section 1'></a>\n",
    "\n",
    "The following are widely used measures of income for review: \n"
   ]
  },
  {
   "cell_type": "markdown",
   "metadata": {},
   "source": [
    "### GDP per capita <a id='section 1'></a>\n",
    "\n",
    "**GDP per capita** is a measure of a country's economic output **(total income)** that accounts for its number of people. It divides the country's gross domestic product by its total population, making it a good measurement of a country's standard of living. \n"
   ]
  },
  {
   "cell_type": "markdown",
   "metadata": {},
   "source": [
    "### Gini Coefficient <a id='section 1'></a>\n",
    "\n",
    "**Gini Coefficient** is the most commonly used measure of a country's **income inequality**, intended to represent the income or wealth distribution of a nation's residents.\n"
   ]
  },
  {
   "cell_type": "markdown",
   "metadata": {},
   "source": [
    "## Thoughts? <a id='section 1'></a>\n",
    "\n",
    "What prior expectations do you have for how income might correlate with different health outcomes over time, or how the correlations may or may not differ for different countries? What are these expectations based on?\n"
   ]
  },
  {
   "cell_type": "markdown",
   "metadata": {},
   "source": [
    "< Your answer here >"
   ]
  }
 ],
 "metadata": {
  "kernelspec": {
   "display_name": "Python 3",
   "language": "python",
   "name": "python3"
  },
  "language_info": {
   "codemirror_mode": {
    "name": "ipython",
    "version": 3
   },
   "file_extension": ".py",
   "mimetype": "text/x-python",
   "name": "python",
   "nbconvert_exporter": "python",
   "pygments_lexer": "ipython3",
   "version": "3.7.4"
  }
 },
 "nbformat": 4,
 "nbformat_minor": 2
}
