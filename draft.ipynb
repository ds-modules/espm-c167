{
 "cells": [
  {
   "cell_type": "markdown",
   "metadata": {},
   "source": [
    "# [ESPM-C167/PH160] Income and Health Indicators \n",
    "\n",
    "### Professor Rachel Morello-Frosch\n",
    "\n",
    "_Estimated Time: XX minutes_\n",
    "\n",
    "---"
   ]
  },
  {
   "cell_type": "markdown",
   "metadata": {},
   "source": [
    "### Table of Contents\n",
    "\n",
    "1. <a href='#section 0'>Welcome to Jupyter Notebooks!</a>\n",
    "    - placeholder!\n",
    "<br>\n",
    "\n",
    "2.  <a href='#section 1'>The Python Programming Language</a>\n",
    "\n",
    "    a. <a href='#subsection 1a'>Expressions</a> and <a href='#subsection error'>Errors</a>\n",
    "    \n",
    "    b. <a href='#subsection 1b'>Names</a>\n",
    "    \n",
    "    c. <a href='#subsection 1c'>Functions</a>\n",
    "    \n",
    "    d. <a href='#subsection 1d'>Sequences</a>\n",
    "<br>\n",
    "\n",
    "3. The Data<br>\n",
    "    a. Introduction to Tables<br>\n",
    "    b. Defining the Problem<br>\n",
    "    c. Gapminder Data<br>\n"
   ]
  },
  {
   "cell_type": "code",
   "execution_count": null,
   "metadata": {},
   "outputs": [],
   "source": []
  }
 ],
 "metadata": {
  "kernelspec": {
   "display_name": "Python 3",
   "language": "python",
   "name": "python3"
  },
  "language_info": {
   "codemirror_mode": {
    "name": "ipython",
    "version": 3
   },
   "file_extension": ".py",
   "mimetype": "text/x-python",
   "name": "python",
   "nbconvert_exporter": "python",
   "pygments_lexer": "ipython3",
   "version": "3.7.3"
  }
 },
 "nbformat": 4,
 "nbformat_minor": 4
}
