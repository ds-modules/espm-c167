{
 "cells": [
  {
   "cell_type": "markdown",
   "metadata": {},
   "source": [
    "# The Problem <a id='section 1'></a>\n",
    "\n",
    "As income and health outcomes differ around the world, we will be exploring the relationship between the two - comparing measures of income against measures of health. \n"
   ]
  },
  {
   "cell_type": "markdown",
   "metadata": {},
   "source": [
    "## Measures of Income <a id='section 1'></a>\n",
    "\n",
    "The following are widely used measures of income for review: \n"
   ]
  },
  {
   "cell_type": "markdown",
   "metadata": {},
   "source": [
    "### GDP per capita <a id='section 1'></a>\n",
    "\n",
    "**GDP per capita** is a measure of a country's economic output **(total income)** that accounts for its number of people. It divides the country's gross domestic product by its total population, making it a good measurement of a country's standard of living. \n"
   ]
  },
  {
   "cell_type": "markdown",
   "metadata": {},
   "source": [
    "### Gini Coefficient <a id='section 1'></a>\n",
    "\n",
    "**Gini Coefficient** is the most commonly used measure of a country's **income inequality**, intended to represent the income or wealth distribution of a nation's residents.\n"
   ]
  },
  {
   "cell_type": "markdown",
   "metadata": {},
   "source": [
    "## Thoughts? <a id='section 1'></a>\n",
    "\n",
    "What prior expectations do you have for how income might correlate with different health outcomes over time, or how the correlations may or may not differ for different countries? What are these expectations based on?\n"
   ]
  },
  {
   "cell_type": "markdown",
   "metadata": {},
   "source": [
    "< Your answer here >"
   ]
  },
  {
   "cell_type": "markdown",
   "metadata": {},
   "source": []
  },
  {
   "cell_type": "code",
   "execution_count": 2,
   "metadata": {},
   "outputs": [],
   "source": [
    "import numpy as np\n",
    "import pandas as pd\n",
    "\n",
    "import seaborn as sns\n",
    "import matplotlib.pyplot as plt"
   ]
  },
  {
   "cell_type": "markdown",
   "metadata": {},
   "source": [
    "# Relationship between GDP per capita and Health Outcomes\n",
    " <a id='section 1'></a>\n",
    "\n",
    "In the following exercise, we will explore if and how GDP per capita correlates with health outcomes, such as child mortality or life expectancy."
   ]
  },
  {
   "cell_type": "code",
   "execution_count": 3,
   "metadata": {},
   "outputs": [],
   "source": [
    "cmortality = pd.read_csv(\"child_mortality_0_5_year_olds_dying_per_1000_born.csv\")\n",
    "gini = pd.read_csv('gini.csv')\n",
    "gdppc = pd.read_csv('income_per_person_gdppercapita_ppp_inflation_adjusted.csv')\n",
    "life_expectancy = pd.read_csv('life_expectancy_years.csv')"
   ]
  },
  {
   "cell_type": "markdown",
   "metadata": {},
   "source": [
    "### GDP per capita vs Child Mortality\n",
    " <a id='section 1'></a>\n",
    "\n",
    "To start, we will explore the relationship between GDP per capita and child mortality rates in a single year by generating a **scatter plot**. For example, we will focus on comparing the two measures in the year 2000. "
   ]
  },
  {
   "cell_type": "code",
   "execution_count": 4,
   "metadata": {},
   "outputs": [
    {
     "data": {
      "text/plain": [
       "0        972\n",
       "1       5470\n",
       "2      10200\n",
       "3      31700\n",
       "4       3510\n",
       "       ...  \n",
       "188    14400\n",
       "189     2650\n",
       "190     3890\n",
       "191     2100\n",
       "192     2570\n",
       "Name: 2000, Length: 193, dtype: int64"
      ]
     },
     "execution_count": 4,
     "metadata": {},
     "output_type": "execute_result"
    }
   ],
   "source": [
    "#GDP per capita in the year 2000\n",
    "gdppc['2000']"
   ]
  },
  {
   "cell_type": "code",
   "execution_count": 5,
   "metadata": {},
   "outputs": [
    {
     "data": {
      "text/plain": [
       "0      130.0\n",
       "1       26.0\n",
       "2       39.7\n",
       "3        4.6\n",
       "4      207.0\n",
       "       ...  \n",
       "188     21.7\n",
       "189     30.0\n",
       "190     95.1\n",
       "191    161.0\n",
       "192     96.8\n",
       "Name: 2000, Length: 193, dtype: float64"
      ]
     },
     "execution_count": 5,
     "metadata": {},
     "output_type": "execute_result"
    }
   ],
   "source": [
    "#Child mortality rate in the year 2000\n",
    "cmortality['2000']"
   ]
  },
  {
   "cell_type": "markdown",
   "metadata": {},
   "source": [
    "To generate a scatter plot, we will create a new dataframe - combining GDP per capita and child mortality in the year 2000 for 192 countries around the world. "
   ]
  },
  {
   "cell_type": "code",
   "execution_count": 7,
   "metadata": {},
   "outputs": [
    {
     "data": {
      "text/html": [
       "<div>\n",
       "<style scoped>\n",
       "    .dataframe tbody tr th:only-of-type {\n",
       "        vertical-align: middle;\n",
       "    }\n",
       "\n",
       "    .dataframe tbody tr th {\n",
       "        vertical-align: top;\n",
       "    }\n",
       "\n",
       "    .dataframe thead th {\n",
       "        text-align: right;\n",
       "    }\n",
       "</style>\n",
       "<table border=\"1\" class=\"dataframe\">\n",
       "  <thead>\n",
       "    <tr style=\"text-align: right;\">\n",
       "      <th></th>\n",
       "      <th>gdppc_2000</th>\n",
       "      <th>cmortality_2000</th>\n",
       "    </tr>\n",
       "  </thead>\n",
       "  <tbody>\n",
       "    <tr>\n",
       "      <th>0</th>\n",
       "      <td>972</td>\n",
       "      <td>130.0</td>\n",
       "    </tr>\n",
       "    <tr>\n",
       "      <th>1</th>\n",
       "      <td>5470</td>\n",
       "      <td>26.0</td>\n",
       "    </tr>\n",
       "    <tr>\n",
       "      <th>2</th>\n",
       "      <td>10200</td>\n",
       "      <td>39.7</td>\n",
       "    </tr>\n",
       "    <tr>\n",
       "      <th>3</th>\n",
       "      <td>31700</td>\n",
       "      <td>4.6</td>\n",
       "    </tr>\n",
       "    <tr>\n",
       "      <th>4</th>\n",
       "      <td>3510</td>\n",
       "      <td>207.0</td>\n",
       "    </tr>\n",
       "    <tr>\n",
       "      <th>...</th>\n",
       "      <td>...</td>\n",
       "      <td>...</td>\n",
       "    </tr>\n",
       "    <tr>\n",
       "      <th>188</th>\n",
       "      <td>14400</td>\n",
       "      <td>21.7</td>\n",
       "    </tr>\n",
       "    <tr>\n",
       "      <th>189</th>\n",
       "      <td>2650</td>\n",
       "      <td>30.0</td>\n",
       "    </tr>\n",
       "    <tr>\n",
       "      <th>190</th>\n",
       "      <td>3890</td>\n",
       "      <td>95.1</td>\n",
       "    </tr>\n",
       "    <tr>\n",
       "      <th>191</th>\n",
       "      <td>2100</td>\n",
       "      <td>161.0</td>\n",
       "    </tr>\n",
       "    <tr>\n",
       "      <th>192</th>\n",
       "      <td>2570</td>\n",
       "      <td>96.8</td>\n",
       "    </tr>\n",
       "  </tbody>\n",
       "</table>\n",
       "<p>193 rows × 2 columns</p>\n",
       "</div>"
      ],
      "text/plain": [
       "     gdppc_2000  cmortality_2000\n",
       "0           972            130.0\n",
       "1          5470             26.0\n",
       "2         10200             39.7\n",
       "3         31700              4.6\n",
       "4          3510            207.0\n",
       "..          ...              ...\n",
       "188       14400             21.7\n",
       "189        2650             30.0\n",
       "190        3890             95.1\n",
       "191        2100            161.0\n",
       "192        2570             96.8\n",
       "\n",
       "[193 rows x 2 columns]"
      ]
     },
     "execution_count": 7,
     "metadata": {},
     "output_type": "execute_result"
    }
   ],
   "source": [
    "gdppc.rename(columns={\"2000\": \"gdppc_2000\"}, inplace=True)\n",
    "cmortality.rename(columns={\"2000\": \"cmortality_2000\"}, inplace=True)\n",
    "\n",
    "year2000 = pd.concat([gdppc['gdppc_2000'].reset_index(drop=True), cmortality['cmortality_2000']], axis=1)\n",
    "year2000"
   ]
  },
  {
   "cell_type": "code",
   "execution_count": 10,
   "metadata": {},
   "outputs": [
    {
     "data": {
      "image/png": "[encoded data removed]",
      "text/plain": [
       "<Figure size 432x288 with 1 Axes>"
      ]
     },
     "metadata": {
      "needs_background": "light"
     },
     "output_type": "display_data"
    }
   ],
   "source": [
    "#generating a scatter plot, with GDP per capita in the x-axis and child mortality in the y-axis  \n",
    "ax = sns.scatterplot(x=\"gdppc_2000\", y=\"cmortality_2000\", data = year2000)"
   ]
  },
  {
   "cell_type": "markdown",
   "metadata": {},
   "source": [
    "## Thoughts? <a id='section 1'></a>\n",
    "\n",
    "What kind of correlation do you see in the plot? Is it linear/non-linear? Positive/negative? What can or can’t you say about the relationship between per capita GDP and life expectancy?"
   ]
  },
  {
   "cell_type": "markdown",
   "metadata": {},
   "source": [
    "< Your answer here >"
   ]
  },
  {
   "cell_type": "markdown",
   "metadata": {},
   "source": [
    "## Try it yourself! <a id='section 1'></a>\n",
    "\n",
    "Recreate the scatter plot above, this time plotting **life expectancy** against GDP per capita.\n"
   ]
  },
  {
   "cell_type": "code",
   "execution_count": null,
   "metadata": {},
   "outputs": [],
   "source": [
    "#Create a scatter plot, with GDP per capita in the x-axis and life expectancy in the y-axis  "
   ]
  },
  {
   "cell_type": "markdown",
   "metadata": {},
   "source": [
    "## Thoughts? <a id='section 1'></a>\n",
    "\n",
    "What kind of correlation do you see in the plot? What can or can’t you say about the relationship between the two variables? Compare it to what you saw for the earlier plot using life expectancy.\n"
   ]
  },
  {
   "cell_type": "markdown",
   "metadata": {},
   "source": [
    "< Your answer here >"
   ]
  }
 ],
 "metadata": {
  "kernelspec": {
   "display_name": "Python 3",
   "language": "python",
   "name": "python3"
  },
  "language_info": {
   "codemirror_mode": {
    "name": "ipython",
    "version": 3
   },
   "file_extension": ".py",
   "mimetype": "text/x-python",
   "name": "python",
   "nbconvert_exporter": "python",
   "pygments_lexer": "ipython3",
   "version": "3.7.4"
  }
 },
 "nbformat": 4,
 "nbformat_minor": 2
}
