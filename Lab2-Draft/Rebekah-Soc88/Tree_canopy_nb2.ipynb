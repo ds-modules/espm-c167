{
 "cells": [
  {
   "cell_type": "markdown",
   "metadata": {},
   "source": [
    "Now that we have a better understanding of HOLC areas and their histories, let's apply this knowledge to a dataset about tree canopy coverage to investigate disparities in these environments."
   ]
  },
  {
   "cell_type": "markdown",
   "metadata": {},
   "source": [
    "# Tree Canopy Coverage"
   ]
  },
  {
   "cell_type": "markdown",
   "metadata": {},
   "source": [
    "##### Please make sure to run the cell below. This will import the tools we need to create the maps in the coming activities. You must run this everytime you reopen the notebook."
   ]
  },
  {
   "cell_type": "code",
   "execution_count": 3,
   "metadata": {},
   "outputs": [],
   "source": [
    "# Libraries that this notebook will use:\n",
    "import numpy as np\n",
    "import pandas as pd\n",
    "pd.set_option('display.max_columns', None)  \n",
    "pd.set_option('display.max_rows', None)\n",
    "\n",
    "import matplotlib.pyplot as plt\n",
    "import geopandas as gpd\n",
    "from shapely.geometry import Point\n",
    "from datascience import *\n",
    "from matplotlib.colors import ListedColormap\n",
    "import re\n",
    "\n",
    "# Helps the maps display nicely in the notebook:\n",
    "%matplotlib inline\n",
    "plt.rcParams['figure.figsize'] = [30, 20]\n",
    "\n",
    "# Tells the notebook not to display warnings:\n",
    "import warnings\n",
    "warnings.filterwarnings('ignore')\n",
    "from IPython.display import IFrame"
   ]
  },
  {
   "cell_type": "markdown",
   "metadata": {},
   "source": [
    "The data we are using is from the [National Land Cover Database](https://www.mrlc.gov/data/nlcd-2016-usfs-tree-canopy-cover-conus). It contains the mean tree canopy rate in 2016 for 7 areas in California (San Francisco, Oakland, San Jose, Fresno, Stockton, Los Angeles, and San Diego). Each city is broken into different neighborhood based on HOLC areas.\n",
    "\n",
    "*Here is more information on what our dataset contains:*\n",
    "\n",
    "|Column Name| Meaning|\n",
    "|---|---|\n",
    "|holc_grade|HOLC letter grade for a certain neighborhood in a California area|\n",
    "|area| City corresponding to a row in the dataset\n",
    "|_count |number of parts in a neighborhood that are covered by a tree|\n",
    "|_sum | total size of the neighborhood|\n",
    "|_mean | Mean tree coverage for a specific neighborhood in a given area|\n",
    "|geometry| Shape of the neighborhood that we use to create our map|"
   ]
  },
  {
   "cell_type": "code",
   "execution_count": 4,
   "metadata": {},
   "outputs": [
    {
     "data": {
      "text/html": [
       "<div>\n",
       "<style scoped>\n",
       "    .dataframe tbody tr th:only-of-type {\n",
       "        vertical-align: middle;\n",
       "    }\n",
       "\n",
       "    .dataframe tbody tr th {\n",
       "        vertical-align: top;\n",
       "    }\n",
       "\n",
       "    .dataframe thead th {\n",
       "        text-align: right;\n",
       "    }\n",
       "</style>\n",
       "<table border=\"1\" class=\"dataframe\">\n",
       "  <thead>\n",
       "    <tr style=\"text-align: right;\">\n",
       "      <th></th>\n",
       "      <th>holc_grade</th>\n",
       "      <th>area</th>\n",
       "      <th>_count</th>\n",
       "      <th>_sum</th>\n",
       "      <th>_mean</th>\n",
       "      <th>geometry</th>\n",
       "    </tr>\n",
       "  </thead>\n",
       "  <tbody>\n",
       "    <tr>\n",
       "      <th>0</th>\n",
       "      <td>A</td>\n",
       "      <td>Oakland</td>\n",
       "      <td>7737.0</td>\n",
       "      <td>176517.0</td>\n",
       "      <td>22.814657</td>\n",
       "      <td>POLYGON ((-2256129.514 1954655.076, -2256108.7...</td>\n",
       "    </tr>\n",
       "    <tr>\n",
       "      <th>1</th>\n",
       "      <td>A</td>\n",
       "      <td>Berkeley</td>\n",
       "      <td>2130.0</td>\n",
       "      <td>17375.0</td>\n",
       "      <td>8.157277</td>\n",
       "      <td>POLYGON ((-2258485.837 1965737.749, -2258407.4...</td>\n",
       "    </tr>\n",
       "    <tr>\n",
       "      <th>2</th>\n",
       "      <td>A</td>\n",
       "      <td>Oakland</td>\n",
       "      <td>194.0</td>\n",
       "      <td>622.0</td>\n",
       "      <td>3.206186</td>\n",
       "      <td>POLYGON ((-2258903.873 1954942.364, -2258949.8...</td>\n",
       "    </tr>\n",
       "    <tr>\n",
       "      <th>3</th>\n",
       "      <td>A</td>\n",
       "      <td>Oakland</td>\n",
       "      <td>345.0</td>\n",
       "      <td>3700.0</td>\n",
       "      <td>10.724638</td>\n",
       "      <td>POLYGON ((-2256129.514 1954655.076, -2256191.2...</td>\n",
       "    </tr>\n",
       "    <tr>\n",
       "      <th>4</th>\n",
       "      <td>A</td>\n",
       "      <td>Berkeley</td>\n",
       "      <td>746.0</td>\n",
       "      <td>7629.0</td>\n",
       "      <td>10.226542</td>\n",
       "      <td>POLYGON ((-2259866.714 1965745.875, -2259877.5...</td>\n",
       "    </tr>\n",
       "  </tbody>\n",
       "</table>\n",
       "</div>"
      ],
      "text/plain": [
       "  holc_grade      area  _count      _sum      _mean  \\\n",
       "0          A   Oakland  7737.0  176517.0  22.814657   \n",
       "1          A  Berkeley  2130.0   17375.0   8.157277   \n",
       "2          A   Oakland   194.0     622.0   3.206186   \n",
       "3          A   Oakland   345.0    3700.0  10.724638   \n",
       "4          A  Berkeley   746.0    7629.0  10.226542   \n",
       "\n",
       "                                            geometry  \n",
       "0  POLYGON ((-2256129.514 1954655.076, -2256108.7...  \n",
       "1  POLYGON ((-2258485.837 1965737.749, -2258407.4...  \n",
       "2  POLYGON ((-2258903.873 1954942.364, -2258949.8...  \n",
       "3  POLYGON ((-2256129.514 1954655.076, -2256191.2...  \n",
       "4  POLYGON ((-2259866.714 1965745.875, -2259877.5...  "
      ]
     },
     "execution_count": 4,
     "metadata": {},
     "output_type": "execute_result"
    }
   ],
   "source": [
    "# Import data\n",
    "holc_5072 = gpd.read_file('holc_ca_epsg5072_treecov').drop(columns=['name', 'holc_id', 'area_descr'])\n",
    "holc_5072.head()"
   ]
  },
  {
   "cell_type": "markdown",
   "metadata": {},
   "source": [
    "<div class=\"alert alert-warning\">\n",
    "<b>Question: </b> Looking at the first row in the table. What does an average tree canopy of 22.814 mean for Oakland? Is it significant that it is in an A-HOLC grade area?\n",
    "</div>"
   ]
  },
  {
   "cell_type": "markdown",
   "metadata": {},
   "source": [
    "*Answer Here:*"
   ]
  },
  {
   "cell_type": "markdown",
   "metadata": {},
   "source": [
    "Let's compare these mean tree canopy scores across different HOLC grades. What possible relationship might there be?\n",
    "\n",
    "# HOLC & Tree Canopy Coverage"
   ]
  },
  {
   "cell_type": "markdown",
   "metadata": {},
   "source": [
    "We created groups where each represented a different HOLC grade. For each group, we calculated a new mean tree coverage score based on the total _count and _sum across all individual areas with the same HOLC grade."
   ]
  },
  {
   "cell_type": "code",
   "execution_count": 5,
   "metadata": {},
   "outputs": [
    {
     "data": {
      "text/html": [
       "<div>\n",
       "<style scoped>\n",
       "    .dataframe tbody tr th:only-of-type {\n",
       "        vertical-align: middle;\n",
       "    }\n",
       "\n",
       "    .dataframe tbody tr th {\n",
       "        vertical-align: top;\n",
       "    }\n",
       "\n",
       "    .dataframe thead th {\n",
       "        text-align: right;\n",
       "    }\n",
       "</style>\n",
       "<table border=\"1\" class=\"dataframe\">\n",
       "  <thead>\n",
       "    <tr style=\"text-align: right;\">\n",
       "      <th></th>\n",
       "      <th>_count</th>\n",
       "      <th>_sum</th>\n",
       "      <th>_mean</th>\n",
       "      <th>_new_mean</th>\n",
       "      <th>_holc_area</th>\n",
       "      <th>color</th>\n",
       "    </tr>\n",
       "    <tr>\n",
       "      <th>holc_grade</th>\n",
       "      <th></th>\n",
       "      <th></th>\n",
       "      <th></th>\n",
       "      <th></th>\n",
       "      <th></th>\n",
       "      <th></th>\n",
       "    </tr>\n",
       "  </thead>\n",
       "  <tbody>\n",
       "    <tr>\n",
       "      <th>A</th>\n",
       "      <td>158447.0</td>\n",
       "      <td>1949246.0</td>\n",
       "      <td>997.073556</td>\n",
       "      <td>12.302196</td>\n",
       "      <td>0.116667</td>\n",
       "      <td>green</td>\n",
       "    </tr>\n",
       "    <tr>\n",
       "      <th>B</th>\n",
       "      <td>278064.0</td>\n",
       "      <td>1660062.0</td>\n",
       "      <td>1227.833558</td>\n",
       "      <td>5.970072</td>\n",
       "      <td>0.204742</td>\n",
       "      <td>blue</td>\n",
       "    </tr>\n",
       "    <tr>\n",
       "      <th>C</th>\n",
       "      <td>575920.0</td>\n",
       "      <td>1537332.0</td>\n",
       "      <td>788.765300</td>\n",
       "      <td>2.669350</td>\n",
       "      <td>0.424057</td>\n",
       "      <td>yellow</td>\n",
       "    </tr>\n",
       "    <tr>\n",
       "      <th>D</th>\n",
       "      <td>345687.0</td>\n",
       "      <td>471935.0</td>\n",
       "      <td>257.113475</td>\n",
       "      <td>1.365209</td>\n",
       "      <td>0.254534</td>\n",
       "      <td>red</td>\n",
       "    </tr>\n",
       "  </tbody>\n",
       "</table>\n",
       "</div>"
      ],
      "text/plain": [
       "              _count       _sum        _mean  _new_mean  _holc_area   color\n",
       "holc_grade                                                                 \n",
       "A           158447.0  1949246.0   997.073556  12.302196    0.116667   green\n",
       "B           278064.0  1660062.0  1227.833558   5.970072    0.204742    blue\n",
       "C           575920.0  1537332.0   788.765300   2.669350    0.424057  yellow\n",
       "D           345687.0   471935.0   257.113475   1.365209    0.254534     red"
      ]
     },
     "execution_count": 5,
     "metadata": {},
     "output_type": "execute_result"
    }
   ],
   "source": [
    "summed = holc_5072.groupby('holc_grade').sum()\n",
    "summed['_new_mean'] = summed['_sum'] / summed['_count']\n",
    "summed['_holc_area'] = summed['_count'] / sum(summed['_count'])\n",
    "summed['color'] = ['green', 'blue', 'yellow', 'red']\n",
    "summed"
   ]
  },
  {
   "cell_type": "code",
   "execution_count": 7,
   "metadata": {},
   "outputs": [
    {
     "data": {
      "image/png": "[encoded data removed]",
      "text/plain": [
       "<Figure size 2160x1440 with 2 Axes>"
      ]
     },
     "metadata": {
      "needs_background": "light"
     },
     "output_type": "display_data"
    }
   ],
   "source": [
    "plt.rcParams.update({'font.size': 22})\n",
    "\n",
    "fig = plt.figure()\n",
    "\n",
    "ax1=plt.subplot(2, 2, 1)\n",
    "ax1.set_xlabel(\"Proportion of Area\")\n",
    "plt.barh(summed.index, summed[\"_holc_area\"], color = summed['color'])\n",
    "\n",
    "ax2=plt.subplot(2, 2, 2)\n",
    "ax2.set_xlabel(\"Mean Tree Coverage\")\n",
    "plt.barh(summed.index, summed['_new_mean'], color=summed['color']);\n",
    "\n",
    "ax1.set_ylabel('HOLC grade', fontsize='large');\n",
    "\n",
    "ax1.set_title(\"Proportion of Total Area by HOLC Grade\");\n",
    "ax2.set_title(\"Mean Tree Coverage by HOLC Grade\");"
   ]
  },
  {
   "cell_type": "markdown",
   "metadata": {},
   "source": [
    "Consider the following to answer the question below:\n",
    "- Which HOLC grade has the highest mean tree coverage? Which has the lowest?\n",
    "- Which HOLC grades cover the largest area?\n",
    "\n",
    "<div class=\"alert alert-warning\">\n",
    "<b>Question: </b> What are possible implications for neighborhoods in different HOLC areas in regards to mean tree canopy coverage?\n",
    "</div>"
   ]
  },
  {
   "cell_type": "markdown",
   "metadata": {},
   "source": [
    "*Answer Here:*"
   ]
  },
  {
   "cell_type": "markdown",
   "metadata": {},
   "source": [
    "We have seen how tree coverage varies across different HOLC grades, but how does this relationship hold for individual cities. Let's map HOLC areas and tree coverage for different cities in California. "
   ]
  },
  {
   "cell_type": "markdown",
   "metadata": {},
   "source": [
    "# Mapping\n",
    "\n",
    "Select a city in the dropdown menu. It will create side by side maps of the HOLC boundaries and the mean tree coverage for each of those areas."
   ]
  },
  {
   "cell_type": "code",
   "execution_count": 2,
   "metadata": {},
   "outputs": [
    {
     "data": {
      "application/vnd.jupyter.widget-view+json": {
       "model_id": "358a0d9a54df410a9fb9b13998216b15",
       "version_major": 2,
       "version_minor": 0
      },
      "text/plain": [
       "VBox(children=(VBox(children=(Dropdown(description='City:', options=('Los Angeles', 'Fresno', 'San Francisco',…"
      ]
     },
     "metadata": {},
     "output_type": "display_data"
    }
   ],
   "source": [
    "%matplotlib inline\n",
    "import ipywidgets as widgets\n",
    "\n",
    "%run -i widget_script.py\n",
    "widgets.VBox([widgets.VBox([inp]), out])"
   ]
  },
  {
   "cell_type": "markdown",
   "metadata": {},
   "source": [
    "<div class=\"alert alert-warning\">\n",
    "<b>Question: </b> Based on the city you selected, what patterns do you notice from your plot above?\n",
    "</div>"
   ]
  },
  {
   "cell_type": "markdown",
   "metadata": {},
   "source": [
    "*Answer Here*"
   ]
  },
  {
   "cell_type": "markdown",
   "metadata": {},
   "source": [
    "Credits:\n",
    "- [National Land Cover Database](https://www.mrlc.gov/data/nlcd-2016-usfs-tree-canopy-cover-conus)\n",
    "- Alexander Cui & Ashley Quiterio"
   ]
  }
 ],
 "metadata": {
  "kernelspec": {
   "display_name": "Python 3",
   "language": "python",
   "name": "python3"
  },
  "language_info": {
   "codemirror_mode": {
    "name": "ipython",
    "version": 3
   },
   "file_extension": ".py",
   "mimetype": "text/x-python",
   "name": "python",
   "nbconvert_exporter": "python",
   "pygments_lexer": "ipython3",
   "version": "3.7.4"
  }
 },
 "nbformat": 4,
 "nbformat_minor": 4
}
