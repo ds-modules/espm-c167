{
 "cells": [
  {
   "cell_type": "markdown",
   "metadata": {},
   "source": [
    "![Geospatial data graphic](https://www.geo-tel.com/wp-content/uploads/2018/03/esri-acquires-clearterra.png)\n",
    "# <center><font color=#5B5B5B>Geospatial Data and Mapping</font></center>\n",
    "***\n",
    "<center>In response to foreclosure risk during the Great Depression, the US Home Owners' Loan Corporation was founded in 1930 to map city-level perceived lending risk for home mortgage refinancing. In these \"residential security\" maps, black and other minority neighborhoods were often designated as higher risk neighborhoods. As minority homeownership was considered to threaten property values, these maps were used to maintain racial segregation. <br> Notably, homeowners in Class D (\"high risk\") areas were systematically denied mortgage bailouts. Residencial security maps were effectively used for \"redlining\" - the widespread, illegal practice of denying home loans based on race.<br> Home ownership tends to have long-lasting effects over many generations. In this notebook we will use what you have learned in class to explore the correlation between poverty rates and redlining, as well as ...</center>"
   ]
  },
  {
   "cell_type": "code",
   "execution_count": 3,
   "metadata": {},
   "outputs": [],
   "source": [
    "import pandas as pd\n",
    "import geopandas as gpd\n",
    "# import mapclassify\n",
    "import matplotlib.pyplot as plt\n",
    "from shapely.geometry import Point"
   ]
  },
  {
   "cell_type": "code",
   "execution_count": 4,
   "metadata": {},
   "outputs": [],
   "source": [
    "HOLC_data = gpd.read_file(\"./HOLC_Oakland/HOLC_Oakland.shp\")"
   ]
  },
  {
   "cell_type": "code",
   "execution_count": 5,
   "metadata": {},
   "outputs": [
    {
     "data": {
      "text/html": [
       "<div>\n",
       "<style scoped>\n",
       "    .dataframe tbody tr th:only-of-type {\n",
       "        vertical-align: middle;\n",
       "    }\n",
       "\n",
       "    .dataframe tbody tr th {\n",
       "        vertical-align: top;\n",
       "    }\n",
       "\n",
       "    .dataframe thead th {\n",
       "        text-align: right;\n",
       "    }\n",
       "</style>\n",
       "<table border=\"1\" class=\"dataframe\">\n",
       "  <thead>\n",
       "    <tr style=\"text-align: right;\">\n",
       "      <th></th>\n",
       "      <th>name</th>\n",
       "      <th>holc_id</th>\n",
       "      <th>holc_grade</th>\n",
       "      <th>area_descr</th>\n",
       "      <th>geometry</th>\n",
       "    </tr>\n",
       "  </thead>\n",
       "  <tbody>\n",
       "    <tr>\n",
       "      <th>0</th>\n",
       "      <td>None</td>\n",
       "      <td>A</td>\n",
       "      <td>A</td>\n",
       "      <td>{ \"\" : \"\" }</td>\n",
       "      <td>POLYGON ((-122.2025219245971 37.81098621368113...</td>\n",
       "    </tr>\n",
       "    <tr>\n",
       "      <th>1</th>\n",
       "      <td>None</td>\n",
       "      <td>A1</td>\n",
       "      <td>A</td>\n",
       "      <td>{ \"1\" : \"Berkeley Green A-1\", \"10a\" : \"fair\", ...</td>\n",
       "      <td>POLYGON ((-122.263194014919 37.9003948457167, ...</td>\n",
       "    </tr>\n",
       "    <tr>\n",
       "      <th>2</th>\n",
       "      <td>None</td>\n",
       "      <td>A10</td>\n",
       "      <td>A</td>\n",
       "      <td>{ \"1\" : \"Oakland, California Low Green A-10\", ...</td>\n",
       "      <td>POLYGON ((-122.2340298202495 37.80670967378922...</td>\n",
       "    </tr>\n",
       "    <tr>\n",
       "      <th>3</th>\n",
       "      <td>None</td>\n",
       "      <td>A11</td>\n",
       "      <td>A</td>\n",
       "      <td>{ \"1\" : \"Oakland, California Green A-11\", \"10a...</td>\n",
       "      <td>POLYGON ((-122.2025219245971 37.81098621368113...</td>\n",
       "    </tr>\n",
       "    <tr>\n",
       "      <th>4</th>\n",
       "      <td>None</td>\n",
       "      <td>A2</td>\n",
       "      <td>A</td>\n",
       "      <td>{ \"1\" : \"Berkeley, California Green A-2\", \"10a...</td>\n",
       "      <td>POLYGON ((-122.2784713548339 37.89710197965462...</td>\n",
       "    </tr>\n",
       "  </tbody>\n",
       "</table>\n",
       "</div>"
      ],
      "text/plain": [
       "   name holc_id holc_grade                                         area_descr  \\\n",
       "0  None       A          A                                        { \"\" : \"\" }   \n",
       "1  None      A1          A  { \"1\" : \"Berkeley Green A-1\", \"10a\" : \"fair\", ...   \n",
       "2  None     A10          A  { \"1\" : \"Oakland, California Low Green A-10\", ...   \n",
       "3  None     A11          A  { \"1\" : \"Oakland, California Green A-11\", \"10a...   \n",
       "4  None      A2          A  { \"1\" : \"Berkeley, California Green A-2\", \"10a...   \n",
       "\n",
       "                                            geometry  \n",
       "0  POLYGON ((-122.2025219245971 37.81098621368113...  \n",
       "1  POLYGON ((-122.263194014919 37.9003948457167, ...  \n",
       "2  POLYGON ((-122.2340298202495 37.80670967378922...  \n",
       "3  POLYGON ((-122.2025219245971 37.81098621368113...  \n",
       "4  POLYGON ((-122.2784713548339 37.89710197965462...  "
      ]
     },
     "execution_count": 5,
     "metadata": {},
     "output_type": "execute_result"
    }
   ],
   "source": [
    "HOLC_data.head()"
   ]
  },
  {
   "cell_type": "markdown",
   "metadata": {},
   "source": [
    "A = best\n",
    "B = still desirable\n",
    "C = definitely declining\n",
    "D = hazardous"
   ]
  },
  {
   "cell_type": "code",
   "execution_count": 6,
   "metadata": {},
   "outputs": [
    {
     "data": {
      "text/plain": [
       "{'MultiPolygon', 'Polygon'}"
      ]
     },
     "execution_count": 6,
     "metadata": {},
     "output_type": "execute_result"
    }
   ],
   "source": [
    "set(HOLC_data.geom_type)"
   ]
  },
  {
   "cell_type": "markdown",
   "metadata": {},
   "source": [
    "Use census data from Alameda county, possibly policymap data to show poverty rates."
   ]
  },
  {
   "cell_type": "code",
   "execution_count": null,
   "metadata": {},
   "outputs": [],
   "source": []
  }
 ],
 "metadata": {
  "kernelspec": {
   "display_name": "Python 3",
   "language": "python",
   "name": "python3"
  },
  "language_info": {
   "codemirror_mode": {
    "name": "ipython",
    "version": 3
   },
   "file_extension": ".py",
   "mimetype": "text/x-python",
   "name": "python",
   "nbconvert_exporter": "python",
   "pygments_lexer": "ipython3",
   "version": "3.6.3"
  }
 },
 "nbformat": 4,
 "nbformat_minor": 4
}
