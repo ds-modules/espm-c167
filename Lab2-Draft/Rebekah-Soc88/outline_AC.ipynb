{
 "cells": [
  {
   "cell_type": "markdown",
   "metadata": {},
   "source": [
    "## Lab 2: HOLC and Tree Canopy Mapping"
   ]
  },
  {
   "cell_type": "markdown",
   "metadata": {},
   "source": [
    "#### Welcome to *lab 2*! This lab will take approximately [XX] minutes and we hope that by the end of the lab, you will be able to:\n",
    "- Conceptualize HOLC data and understand its current social implications\n",
    "- Develop specific methods to help read maps and graphs\n",
    "- Become familiarized with tree coverage (tree canopy) data in California \n",
    "- Compare the similarities/differences between HOLC and Tree Canopy data"
   ]
  },
  {
   "cell_type": "markdown",
   "metadata": {},
   "source": [
    "### Background: *Richmond, Virginia*\n",
    "<img src=\"https://www.storybench.org/wp-content/uploads/2020/09/nyt-richmond-temp-h-1200x900.jpg\" width=\"550\"/>"
   ]
  },
  {
   "cell_type": "markdown",
   "metadata": {},
   "source": [
    "Let's explore the above photo, which details the neighborhoods of Richmond, Virginia and their average summer temperature. This photo is adapted from New York Times' recent article titled <a href=\"https://www.nytimes.com/interactive/2020/08/24/climate/racism-redlining-cities-global-warming.html\">*How Decades of Racist Housing Policy Left Neighborhoods Sweltering*</a>, published in August of 2020.  \n",
    "\n",
    "*What do you notice? Why do you think the warmer neighborhoods are referred to as redlined neighborhoods? What are redlined neighborhoods and how do they relate to racist housing policies and the environment?*\n",
    "\n",
    "To understand these questions, we need to investigate the source of redlining's history: **HOLC**."
   ]
  },
  {
   "cell_type": "markdown",
   "metadata": {},
   "source": [
    "### I. HOLC"
   ]
  },
  {
   "cell_type": "markdown",
   "metadata": {},
   "source": [
    "The *Home Owners' Loan Corporation*, otherwise known as **HOLC**, began in the 1930s as a government-financed by-product of Roosevelt's New Deal. Its original goals were to refinance property mortgages to prevent foreclosures while expanding buying opportunities for those looking for new homes. \n",
    "\n",
    "HOLC primarily operated by issuing loans to borrowers. Loans, otherwise known as IOU's, are contracts in which an individual is able to immediately borrow a determined amount of money while claiming the responsibility of paying off that amount plus interests and fees. In the context of HOLC, loans were distributed to homeowners who struggled to make consistent housing payments. In addition to distributing loans, HOLC also assessed credit-worthiness for different groups of people within a specific city. This so-called credit-worthiness created borders, which targeted minorities (African Americans specifically) and separated neighborhoods on the basis of a perceived financial risk. This process of separation became known as ***redlining*** and can be found throughout several *HOLC maps*, including the one from the NYT article as well as the one seen below for **Minneapolis**. "
   ]
  },
  {
   "cell_type": "markdown",
   "metadata": {},
   "source": [
    "<img src=\"http://s3.amazonaws.com/holc/tiles/MN/Minneapolis/19XX/holc-scan.jpg\" width=\"300\"/>"
   ]
  },
  {
   "cell_type": "code",
   "execution_count": null,
   "metadata": {},
   "outputs": [],
   "source": [
    "#transition into..."
   ]
  }
 ],
 "metadata": {
  "kernelspec": {
   "display_name": "Python 3",
   "language": "python",
   "name": "python3"
  },
  "language_info": {
   "codemirror_mode": {
    "name": "ipython",
    "version": 3
   },
   "file_extension": ".py",
   "mimetype": "text/x-python",
   "name": "python",
   "nbconvert_exporter": "python",
   "pygments_lexer": "ipython3",
   "version": "3.7.4"
  }
 },
 "nbformat": 4,
 "nbformat_minor": 2
}
